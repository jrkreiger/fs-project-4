{
 "cells": [
  {
   "cell_type": "markdown",
   "metadata": {
    "colab_type": "text",
    "id": "mt_4qLfiqke-"
   },
   "source": [
    "Project 4 Submission\n"
   ]
  },
  {
   "cell_type": "markdown",
   "metadata": {
    "colab_type": "text",
    "id": "fqRMGsZhSBCv"
   },
   "source": [
    "*   Student name: Jenny Kreiger\n",
    "*   Student pace: full time\n",
    "*   Scheduled project review date/time: Tuesday, Dec. 3, 2019, 08:00 PST\n",
    "*   Instructor name: Victor Geislinger\n",
    "*   Blog post URL:"
   ]
  },
  {
   "cell_type": "markdown",
   "metadata": {
    "colab_type": "text",
    "id": "N2gIANi6qkfA"
   },
   "source": [
    "# Introduction"
   ]
  },
  {
   "cell_type": "markdown",
   "metadata": {
    "colab_type": "text",
    "id": "8GmDpAL0qkfB"
   },
   "source": [
    "## Business case"
   ]
  },
  {
   "cell_type": "markdown",
   "metadata": {
    "colab_type": "text",
    "id": "kPsF0i6rqkfC"
   },
   "source": [
    "Throughout the western United States, there are large tracts of land that have seen little direct human intervention, at least since the US government displaced the native peoples of these areas. These lands contain a wealth of ecological information and natural resources, but it can be challenging to use or preserve these resources without detailed knowledge about what is there and how it may be evolving as local and global climates change. \n",
    "\n",
    "To access this data directly can be prohibitively difficult and expensive. Field surveys require time and personnel, and remote sensing can generate huge amounts of data that must be processed and stored.\n",
    "\n",
    "An alternative is to use machine learning to try to infer ecological information from data that we already have. In 1999, J. A. Blackard and D. J. Dean published an article in _Computers and Electronics in Agriculture_ demonstrating how two machine learning techniques (an artificial neural network and discriminant analysis) could be used to predict the type of tree cover on a 30 by 30 meter tract of land using only existing cartographic data such as elevation, horizontal distance to water, and soil type. The dataset comprised over half a million observations with 54 features representing tracts of land in four wilderness areas in Colorado, previously in the territories of the Sioux, Ute, Eastern Shoshone, Arapaho, and/or Cheyenne. Blackard and Dean were able to predict tree cover type with 70.58% accuracy using their artificial neural network. \n",
    "\n",
    "Twenty years after Blackard and Dean's study, computational efficiency has improved substantially. This project aims to match or exceed Blackard and Dean's accuracy using a Random Forest classifier, ensemble methods (XGBoost), Support Vector Machines, or a combination of these algorithms. \n",
    "\n",
    "The value of this analysis is that ecological features that would be difficult to measure directly can be predicted from existing data, and these predictions can later be validated with selective use of richer data (e.g., satellite imaging)--or the historic results can be compared to what we observe in the present and future.\n",
    "\n",
    "J. A. Blackard and D. J. Dean, \"Comparative accuracies of artificial neural networks and discriminant analysis in predicting forest cover types from cartographic variables,\" _Computers and Electronics in Agriculture_ 24 (1999), 131-51. (DOI: [10.1016/S0168-1699(99)00046-0](https://www.researchgate.net/publication/222499246_Comparative_Accuracies_of_Artificial_Neural_Networks_and_Discriminant_Analysis_in_Predicting_Forest_Cover_Types_from_Cartographic_Variables))\n"
   ]
  },
  {
   "cell_type": "markdown",
   "metadata": {
    "colab_type": "text",
    "id": "Y7nO8fqxqkfD"
   },
   "source": [
    "## Custom functions"
   ]
  },
  {
   "cell_type": "markdown",
   "metadata": {
    "colab_type": "text",
    "id": "ePvClt-ZSmUL"
   },
   "source": [
    "Below are several functions I created to help with repetitive tasks."
   ]
  },
  {
   "cell_type": "code",
   "execution_count": 1,
   "metadata": {
    "ExecuteTime": {
     "end_time": "2019-11-24T20:24:15.995468Z",
     "start_time": "2019-11-24T20:24:15.988336Z"
    },
    "colab": {},
    "colab_type": "code",
    "id": "kbl8hcbEqkfE"
   },
   "outputs": [],
   "source": [
    "# Define a function to print selected model metrics\n",
    "def print_metrics(y_true, y_pred):\n",
    "    '''Prints accuracy score, confusion matrix, and classification report given\n",
    "       arrays of ground-truth values and model predictions.'''\n",
    "    acc_score = accuracy_score(y_true, y_pred)\n",
    "    conf_matrix = confusion_matrix(y_true, y_pred)\n",
    "    class_report = classification_report(y_true, y_pred)\n",
    "    print('Accuracy:', acc_score)\n",
    "    print('-------')\n",
    "    print('Confusion matrix:')\n",
    "    print(conf_matrix)\n",
    "    print('-------')\n",
    "    print('Classification report:')\n",
    "    print(class_report)\n"
   ]
  },
  {
   "cell_type": "code",
   "execution_count": 52,
   "metadata": {
    "ExecuteTime": {
     "end_time": "2019-11-24T21:06:06.097408Z",
     "start_time": "2019-11-24T21:06:06.086754Z"
    },
    "colab": {},
    "colab_type": "code",
    "id": "bH89zaH1qkfJ"
   },
   "outputs": [],
   "source": [
    "# Define a function to visualize feature importances\n",
    "def plot_feature_importances(model, x):\n",
    "    '''Displays a bar chart representing a model's feature importances.'''\n",
    "    \n",
    "    n_features = x.shape[1]\n",
    "    plt.figure(figsize=(8,10))\n",
    "    plt.barh(range(n_features), model.feature_importances_, align='center') \n",
    "    plt.yticks(np.arange(n_features), range(1, n_features+1)) \n",
    "    plt.xlabel(\"Feature importance\")\n",
    "    plt.ylabel(\"Feature (Component)\")\n",
    "    plt.title('Feature Importances')\n"
   ]
  },
  {
   "cell_type": "code",
   "execution_count": 202,
   "metadata": {
    "ExecuteTime": {
     "end_time": "2019-11-25T22:01:05.889897Z",
     "start_time": "2019-11-25T22:01:05.852599Z"
    },
    "colab": {},
    "colab_type": "code",
    "id": "R2c2YL-oqkfM"
   },
   "outputs": [],
   "source": [
    "# Define a function to visualize a confusion matrix\n",
    "def pretty_confusion(y_true, y_pred, model_name):\n",
    "    '''Displays confusion matrix.'''\n",
    "    \n",
    "    # Calculate the confusion matrix\n",
    "    matrix = confusion_matrix(y_true, y_pred)\n",
    "    matrix = matrix.astype('float') / matrix.sum(axis=1)[:, np.newaxis]\n",
    "    \n",
    "    # Build the plot\n",
    "    plt.figure(figsize=(16,7))\n",
    "    sns.set(font_scale=1.4)\n",
    "    sns.heatmap(matrix, annot=True, annot_kws={'size':10},\n",
    "                cmap=plt.cm.Greens, linewidths=0.2)\n",
    "    \n",
    "    # Add labels to the plot\n",
    "    class_names = ['Spruce/Fir', 'Lodgepole Pine', 'Ponderosa Pine', \n",
    "                   'Cottonwood/Willow', 'Aspen', 'Douglas-fir', 'Krummholz']\n",
    "    tick_marks = np.arange(len(class_names))\n",
    "    tick_marks2 = tick_marks + 0.5\n",
    "    plt.xticks(tick_marks, class_names, rotation=25)\n",
    "    plt.yticks(tick_marks2, class_names, rotation=0)\n",
    "    plt.xlabel('Predicted label')\n",
    "    plt.ylabel('True label')\n",
    "    plt.title('Confusion Matrix for {}'.format(model_name)) \n",
    "    plt.tight_layout()\n",
    "    \n",
    "    \n",
    "# Define a function to save a confusion matrix visualization    \n",
    "def save_conf_matrix(y_true, y_pred, model_name):\n",
    "    '''Prints and saves a normalized confusion matrix visualization.'''\n",
    "    fig = pretty_confusion(y_true, y_pred, model_name)\n",
    "    filename = '_'.join(model_name.split()) + '_confmatrix.png'\n",
    "    plt.savefig(filename, pad_inches=0.5, dpi=300)"
   ]
  },
  {
   "cell_type": "markdown",
   "metadata": {
    "colab_type": "text",
    "id": "i4zMCNKNqkfO"
   },
   "source": [
    "## Load and clean data"
   ]
  },
  {
   "cell_type": "code",
   "execution_count": 4,
   "metadata": {
    "ExecuteTime": {
     "end_time": "2019-11-24T20:24:27.878664Z",
     "start_time": "2019-11-24T20:24:20.970695Z"
    },
    "colab": {
     "base_uri": "https://localhost:8080/",
     "height": 71
    },
    "colab_type": "code",
    "id": "WEXFtpI4qkfP",
    "outputId": "5b8ced54-610b-4673-d00d-f62db8633998"
   },
   "outputs": [
    {
     "name": "stderr",
     "output_type": "stream",
     "text": [
      "Using TensorFlow backend.\n"
     ]
    }
   ],
   "source": [
    "# Import packages\n",
    "import pandas as pd\n",
    "import numpy as np\n",
    "import matplotlib.pyplot as plt\n",
    "%matplotlib inline\n",
    "import seaborn as sns\n",
    "import itertools\n",
    "import pickle\n",
    "from joblib import dump, load\n",
    "\n",
    "from collections import Counter\n",
    "from imblearn.under_sampling import RandomUnderSampler\n",
    "from imblearn.over_sampling import SMOTE\n",
    "from sklearn.preprocessing import MinMaxScaler\n",
    "from sklearn.preprocessing import StandardScaler\n",
    "from sklearn.decomposition import PCA\n",
    "from sklearn.pipeline import Pipeline\n",
    "from sklearn.model_selection import train_test_split\n",
    "from sklearn.model_selection import GridSearchCV\n",
    "import xgboost as xgb\n",
    "from sklearn.svm import SVC\n",
    "from sklearn.ensemble import RandomForestClassifier\n",
    "from sklearn.model_selection import train_test_split\n",
    "from sklearn.metrics import accuracy_score, confusion_matrix, classification_report"
   ]
  },
  {
   "cell_type": "markdown",
   "metadata": {
    "colab_type": "text",
    "id": "3_Jysr3bVCiQ"
   },
   "source": [
    "The original dataset is about 75MB, and it can be found at http://kdd.ics.uci.edu/databases/covertype/. A description of the dataset, including a data dictionary, is here: http://kdd.ics.uci.edu/databases/covertype/covertype.data.html.\n",
    "\n",
    "Below I show two ways to get the data. The first is specific to me; when I'm running the notebook in Google Colab, I mount my Google Drive and access the copy of my data that lives there. The second is more generic; it assumes you have a copy of the dataset in the same folder as the Jupyter Notebook. If you're running this notebook on your own machine, you may want to download a copy of the dataset and use the second method."
   ]
  },
  {
   "cell_type": "code",
   "execution_count": 2,
   "metadata": {
    "colab": {
     "base_uri": "https://localhost:8080/",
     "height": 122
    },
    "colab_type": "code",
    "id": "59RtzDLaHdBj",
    "outputId": "dbfcf552-22c7-42cc-816b-7efc93f45435",
    "scrolled": true
   },
   "outputs": [
    {
     "name": "stdout",
     "output_type": "stream",
     "text": [
      "Go to this URL in a browser: https://accounts.google.com/o/oauth2/auth?client_id=947318989803-6bn6qk8qdgf4n4g3pfee6491hc0brc4i.apps.googleusercontent.com&redirect_uri=urn%3aietf%3awg%3aoauth%3a2.0%3aoob&response_type=code&scope=email%20https%3a%2f%2fwww.googleapis.com%2fauth%2fdocs.test%20https%3a%2f%2fwww.googleapis.com%2fauth%2fdrive%20https%3a%2f%2fwww.googleapis.com%2fauth%2fdrive.photos.readonly%20https%3a%2f%2fwww.googleapis.com%2fauth%2fpeopleapi.readonly\n",
      "\n",
      "Enter your authorization code:\n",
      "··········\n",
      "Mounted at /content/drive\n"
     ]
    }
   ],
   "source": [
    "# Import method 1: in Colab, mount Drive and then use Pandas\n",
    "from google.colab import drive\n",
    "drive.mount('/content/drive')"
   ]
  },
  {
   "cell_type": "code",
   "execution_count": 3,
   "metadata": {
    "colab": {
     "base_uri": "https://localhost:8080/",
     "height": 224
    },
    "colab_type": "code",
    "id": "t_n3kAh37jx-",
    "outputId": "054ba9f0-fb76-4fb7-c7cd-c3a83905853b"
   },
   "outputs": [
    {
     "data": {
      "text/html": [
       "<div>\n",
       "<style scoped>\n",
       "    .dataframe tbody tr th:only-of-type {\n",
       "        vertical-align: middle;\n",
       "    }\n",
       "\n",
       "    .dataframe tbody tr th {\n",
       "        vertical-align: top;\n",
       "    }\n",
       "\n",
       "    .dataframe thead th {\n",
       "        text-align: right;\n",
       "    }\n",
       "</style>\n",
       "<table border=\"1\" class=\"dataframe\">\n",
       "  <thead>\n",
       "    <tr style=\"text-align: right;\">\n",
       "      <th></th>\n",
       "      <th>0</th>\n",
       "      <th>1</th>\n",
       "      <th>2</th>\n",
       "      <th>3</th>\n",
       "      <th>4</th>\n",
       "      <th>5</th>\n",
       "      <th>6</th>\n",
       "      <th>7</th>\n",
       "      <th>8</th>\n",
       "      <th>9</th>\n",
       "      <th>10</th>\n",
       "      <th>11</th>\n",
       "      <th>12</th>\n",
       "      <th>13</th>\n",
       "      <th>14</th>\n",
       "      <th>15</th>\n",
       "      <th>16</th>\n",
       "      <th>17</th>\n",
       "      <th>18</th>\n",
       "      <th>19</th>\n",
       "      <th>20</th>\n",
       "      <th>21</th>\n",
       "      <th>22</th>\n",
       "      <th>23</th>\n",
       "      <th>24</th>\n",
       "      <th>25</th>\n",
       "      <th>26</th>\n",
       "      <th>27</th>\n",
       "      <th>28</th>\n",
       "      <th>29</th>\n",
       "      <th>30</th>\n",
       "      <th>31</th>\n",
       "      <th>32</th>\n",
       "      <th>33</th>\n",
       "      <th>34</th>\n",
       "      <th>35</th>\n",
       "      <th>36</th>\n",
       "      <th>37</th>\n",
       "      <th>38</th>\n",
       "      <th>39</th>\n",
       "      <th>40</th>\n",
       "      <th>41</th>\n",
       "      <th>42</th>\n",
       "      <th>43</th>\n",
       "      <th>44</th>\n",
       "      <th>45</th>\n",
       "      <th>46</th>\n",
       "      <th>47</th>\n",
       "      <th>48</th>\n",
       "      <th>49</th>\n",
       "      <th>50</th>\n",
       "      <th>51</th>\n",
       "      <th>52</th>\n",
       "      <th>53</th>\n",
       "      <th>54</th>\n",
       "    </tr>\n",
       "  </thead>\n",
       "  <tbody>\n",
       "    <tr>\n",
       "      <th>0</th>\n",
       "      <td>2596</td>\n",
       "      <td>51</td>\n",
       "      <td>3</td>\n",
       "      <td>258</td>\n",
       "      <td>0</td>\n",
       "      <td>510</td>\n",
       "      <td>221</td>\n",
       "      <td>232</td>\n",
       "      <td>148</td>\n",
       "      <td>6279</td>\n",
       "      <td>1</td>\n",
       "      <td>0</td>\n",
       "      <td>0</td>\n",
       "      <td>0</td>\n",
       "      <td>0</td>\n",
       "      <td>0</td>\n",
       "      <td>0</td>\n",
       "      <td>0</td>\n",
       "      <td>0</td>\n",
       "      <td>0</td>\n",
       "      <td>0</td>\n",
       "      <td>0</td>\n",
       "      <td>0</td>\n",
       "      <td>0</td>\n",
       "      <td>0</td>\n",
       "      <td>0</td>\n",
       "      <td>0</td>\n",
       "      <td>0</td>\n",
       "      <td>0</td>\n",
       "      <td>0</td>\n",
       "      <td>0</td>\n",
       "      <td>0</td>\n",
       "      <td>0</td>\n",
       "      <td>0</td>\n",
       "      <td>0</td>\n",
       "      <td>0</td>\n",
       "      <td>0</td>\n",
       "      <td>0</td>\n",
       "      <td>0</td>\n",
       "      <td>0</td>\n",
       "      <td>0</td>\n",
       "      <td>0</td>\n",
       "      <td>1</td>\n",
       "      <td>0</td>\n",
       "      <td>0</td>\n",
       "      <td>0</td>\n",
       "      <td>0</td>\n",
       "      <td>0</td>\n",
       "      <td>0</td>\n",
       "      <td>0</td>\n",
       "      <td>0</td>\n",
       "      <td>0</td>\n",
       "      <td>0</td>\n",
       "      <td>0</td>\n",
       "      <td>5</td>\n",
       "    </tr>\n",
       "    <tr>\n",
       "      <th>1</th>\n",
       "      <td>2590</td>\n",
       "      <td>56</td>\n",
       "      <td>2</td>\n",
       "      <td>212</td>\n",
       "      <td>-6</td>\n",
       "      <td>390</td>\n",
       "      <td>220</td>\n",
       "      <td>235</td>\n",
       "      <td>151</td>\n",
       "      <td>6225</td>\n",
       "      <td>1</td>\n",
       "      <td>0</td>\n",
       "      <td>0</td>\n",
       "      <td>0</td>\n",
       "      <td>0</td>\n",
       "      <td>0</td>\n",
       "      <td>0</td>\n",
       "      <td>0</td>\n",
       "      <td>0</td>\n",
       "      <td>0</td>\n",
       "      <td>0</td>\n",
       "      <td>0</td>\n",
       "      <td>0</td>\n",
       "      <td>0</td>\n",
       "      <td>0</td>\n",
       "      <td>0</td>\n",
       "      <td>0</td>\n",
       "      <td>0</td>\n",
       "      <td>0</td>\n",
       "      <td>0</td>\n",
       "      <td>0</td>\n",
       "      <td>0</td>\n",
       "      <td>0</td>\n",
       "      <td>0</td>\n",
       "      <td>0</td>\n",
       "      <td>0</td>\n",
       "      <td>0</td>\n",
       "      <td>0</td>\n",
       "      <td>0</td>\n",
       "      <td>0</td>\n",
       "      <td>0</td>\n",
       "      <td>0</td>\n",
       "      <td>1</td>\n",
       "      <td>0</td>\n",
       "      <td>0</td>\n",
       "      <td>0</td>\n",
       "      <td>0</td>\n",
       "      <td>0</td>\n",
       "      <td>0</td>\n",
       "      <td>0</td>\n",
       "      <td>0</td>\n",
       "      <td>0</td>\n",
       "      <td>0</td>\n",
       "      <td>0</td>\n",
       "      <td>5</td>\n",
       "    </tr>\n",
       "    <tr>\n",
       "      <th>2</th>\n",
       "      <td>2804</td>\n",
       "      <td>139</td>\n",
       "      <td>9</td>\n",
       "      <td>268</td>\n",
       "      <td>65</td>\n",
       "      <td>3180</td>\n",
       "      <td>234</td>\n",
       "      <td>238</td>\n",
       "      <td>135</td>\n",
       "      <td>6121</td>\n",
       "      <td>1</td>\n",
       "      <td>0</td>\n",
       "      <td>0</td>\n",
       "      <td>0</td>\n",
       "      <td>0</td>\n",
       "      <td>0</td>\n",
       "      <td>0</td>\n",
       "      <td>0</td>\n",
       "      <td>0</td>\n",
       "      <td>0</td>\n",
       "      <td>0</td>\n",
       "      <td>0</td>\n",
       "      <td>0</td>\n",
       "      <td>0</td>\n",
       "      <td>0</td>\n",
       "      <td>1</td>\n",
       "      <td>0</td>\n",
       "      <td>0</td>\n",
       "      <td>0</td>\n",
       "      <td>0</td>\n",
       "      <td>0</td>\n",
       "      <td>0</td>\n",
       "      <td>0</td>\n",
       "      <td>0</td>\n",
       "      <td>0</td>\n",
       "      <td>0</td>\n",
       "      <td>0</td>\n",
       "      <td>0</td>\n",
       "      <td>0</td>\n",
       "      <td>0</td>\n",
       "      <td>0</td>\n",
       "      <td>0</td>\n",
       "      <td>0</td>\n",
       "      <td>0</td>\n",
       "      <td>0</td>\n",
       "      <td>0</td>\n",
       "      <td>0</td>\n",
       "      <td>0</td>\n",
       "      <td>0</td>\n",
       "      <td>0</td>\n",
       "      <td>0</td>\n",
       "      <td>0</td>\n",
       "      <td>0</td>\n",
       "      <td>0</td>\n",
       "      <td>2</td>\n",
       "    </tr>\n",
       "    <tr>\n",
       "      <th>3</th>\n",
       "      <td>2785</td>\n",
       "      <td>155</td>\n",
       "      <td>18</td>\n",
       "      <td>242</td>\n",
       "      <td>118</td>\n",
       "      <td>3090</td>\n",
       "      <td>238</td>\n",
       "      <td>238</td>\n",
       "      <td>122</td>\n",
       "      <td>6211</td>\n",
       "      <td>1</td>\n",
       "      <td>0</td>\n",
       "      <td>0</td>\n",
       "      <td>0</td>\n",
       "      <td>0</td>\n",
       "      <td>0</td>\n",
       "      <td>0</td>\n",
       "      <td>0</td>\n",
       "      <td>0</td>\n",
       "      <td>0</td>\n",
       "      <td>0</td>\n",
       "      <td>0</td>\n",
       "      <td>0</td>\n",
       "      <td>0</td>\n",
       "      <td>0</td>\n",
       "      <td>0</td>\n",
       "      <td>0</td>\n",
       "      <td>0</td>\n",
       "      <td>0</td>\n",
       "      <td>0</td>\n",
       "      <td>0</td>\n",
       "      <td>0</td>\n",
       "      <td>0</td>\n",
       "      <td>0</td>\n",
       "      <td>0</td>\n",
       "      <td>0</td>\n",
       "      <td>0</td>\n",
       "      <td>0</td>\n",
       "      <td>0</td>\n",
       "      <td>0</td>\n",
       "      <td>0</td>\n",
       "      <td>0</td>\n",
       "      <td>0</td>\n",
       "      <td>1</td>\n",
       "      <td>0</td>\n",
       "      <td>0</td>\n",
       "      <td>0</td>\n",
       "      <td>0</td>\n",
       "      <td>0</td>\n",
       "      <td>0</td>\n",
       "      <td>0</td>\n",
       "      <td>0</td>\n",
       "      <td>0</td>\n",
       "      <td>0</td>\n",
       "      <td>2</td>\n",
       "    </tr>\n",
       "    <tr>\n",
       "      <th>4</th>\n",
       "      <td>2595</td>\n",
       "      <td>45</td>\n",
       "      <td>2</td>\n",
       "      <td>153</td>\n",
       "      <td>-1</td>\n",
       "      <td>391</td>\n",
       "      <td>220</td>\n",
       "      <td>234</td>\n",
       "      <td>150</td>\n",
       "      <td>6172</td>\n",
       "      <td>1</td>\n",
       "      <td>0</td>\n",
       "      <td>0</td>\n",
       "      <td>0</td>\n",
       "      <td>0</td>\n",
       "      <td>0</td>\n",
       "      <td>0</td>\n",
       "      <td>0</td>\n",
       "      <td>0</td>\n",
       "      <td>0</td>\n",
       "      <td>0</td>\n",
       "      <td>0</td>\n",
       "      <td>0</td>\n",
       "      <td>0</td>\n",
       "      <td>0</td>\n",
       "      <td>0</td>\n",
       "      <td>0</td>\n",
       "      <td>0</td>\n",
       "      <td>0</td>\n",
       "      <td>0</td>\n",
       "      <td>0</td>\n",
       "      <td>0</td>\n",
       "      <td>0</td>\n",
       "      <td>0</td>\n",
       "      <td>0</td>\n",
       "      <td>0</td>\n",
       "      <td>0</td>\n",
       "      <td>0</td>\n",
       "      <td>0</td>\n",
       "      <td>0</td>\n",
       "      <td>0</td>\n",
       "      <td>0</td>\n",
       "      <td>1</td>\n",
       "      <td>0</td>\n",
       "      <td>0</td>\n",
       "      <td>0</td>\n",
       "      <td>0</td>\n",
       "      <td>0</td>\n",
       "      <td>0</td>\n",
       "      <td>0</td>\n",
       "      <td>0</td>\n",
       "      <td>0</td>\n",
       "      <td>0</td>\n",
       "      <td>0</td>\n",
       "      <td>5</td>\n",
       "    </tr>\n",
       "  </tbody>\n",
       "</table>\n",
       "</div>"
      ],
      "text/plain": [
       "     0    1   2    3    4     5    6    7   ...  47  48  49  50  51  52  53  54\n",
       "0  2596   51   3  258    0   510  221  232  ...   0   0   0   0   0   0   0   5\n",
       "1  2590   56   2  212   -6   390  220  235  ...   0   0   0   0   0   0   0   5\n",
       "2  2804  139   9  268   65  3180  234  238  ...   0   0   0   0   0   0   0   2\n",
       "3  2785  155  18  242  118  3090  238  238  ...   0   0   0   0   0   0   0   2\n",
       "4  2595   45   2  153   -1   391  220  234  ...   0   0   0   0   0   0   0   5\n",
       "\n",
       "[5 rows x 55 columns]"
      ]
     },
     "execution_count": 3,
     "metadata": {
      "tags": []
     },
     "output_type": "execute_result"
    }
   ],
   "source": [
    "# Import method 1 cont'd: read in the data\n",
    "df = pd.read_table(\"/content/drive/My Drive/fs-project-4/covtype.data\", sep=',', header=None)\n",
    "df.head()"
   ]
  },
  {
   "cell_type": "code",
   "execution_count": 5,
   "metadata": {
    "ExecuteTime": {
     "end_time": "2019-11-24T20:24:47.921007Z",
     "start_time": "2019-11-24T20:24:44.952297Z"
    },
    "colab": {},
    "colab_type": "code",
    "id": "1rZ4WrOtqkfU",
    "scrolled": true
   },
   "outputs": [
    {
     "data": {
      "text/html": [
       "<div>\n",
       "<style scoped>\n",
       "    .dataframe tbody tr th:only-of-type {\n",
       "        vertical-align: middle;\n",
       "    }\n",
       "\n",
       "    .dataframe tbody tr th {\n",
       "        vertical-align: top;\n",
       "    }\n",
       "\n",
       "    .dataframe thead th {\n",
       "        text-align: right;\n",
       "    }\n",
       "</style>\n",
       "<table border=\"1\" class=\"dataframe\">\n",
       "  <thead>\n",
       "    <tr style=\"text-align: right;\">\n",
       "      <th></th>\n",
       "      <th>0</th>\n",
       "      <th>1</th>\n",
       "      <th>2</th>\n",
       "      <th>3</th>\n",
       "      <th>4</th>\n",
       "      <th>5</th>\n",
       "      <th>6</th>\n",
       "      <th>7</th>\n",
       "      <th>8</th>\n",
       "      <th>9</th>\n",
       "      <th>...</th>\n",
       "      <th>45</th>\n",
       "      <th>46</th>\n",
       "      <th>47</th>\n",
       "      <th>48</th>\n",
       "      <th>49</th>\n",
       "      <th>50</th>\n",
       "      <th>51</th>\n",
       "      <th>52</th>\n",
       "      <th>53</th>\n",
       "      <th>54</th>\n",
       "    </tr>\n",
       "  </thead>\n",
       "  <tbody>\n",
       "    <tr>\n",
       "      <td>0</td>\n",
       "      <td>2596</td>\n",
       "      <td>51</td>\n",
       "      <td>3</td>\n",
       "      <td>258</td>\n",
       "      <td>0</td>\n",
       "      <td>510</td>\n",
       "      <td>221</td>\n",
       "      <td>232</td>\n",
       "      <td>148</td>\n",
       "      <td>6279</td>\n",
       "      <td>...</td>\n",
       "      <td>0</td>\n",
       "      <td>0</td>\n",
       "      <td>0</td>\n",
       "      <td>0</td>\n",
       "      <td>0</td>\n",
       "      <td>0</td>\n",
       "      <td>0</td>\n",
       "      <td>0</td>\n",
       "      <td>0</td>\n",
       "      <td>5</td>\n",
       "    </tr>\n",
       "    <tr>\n",
       "      <td>1</td>\n",
       "      <td>2590</td>\n",
       "      <td>56</td>\n",
       "      <td>2</td>\n",
       "      <td>212</td>\n",
       "      <td>-6</td>\n",
       "      <td>390</td>\n",
       "      <td>220</td>\n",
       "      <td>235</td>\n",
       "      <td>151</td>\n",
       "      <td>6225</td>\n",
       "      <td>...</td>\n",
       "      <td>0</td>\n",
       "      <td>0</td>\n",
       "      <td>0</td>\n",
       "      <td>0</td>\n",
       "      <td>0</td>\n",
       "      <td>0</td>\n",
       "      <td>0</td>\n",
       "      <td>0</td>\n",
       "      <td>0</td>\n",
       "      <td>5</td>\n",
       "    </tr>\n",
       "    <tr>\n",
       "      <td>2</td>\n",
       "      <td>2804</td>\n",
       "      <td>139</td>\n",
       "      <td>9</td>\n",
       "      <td>268</td>\n",
       "      <td>65</td>\n",
       "      <td>3180</td>\n",
       "      <td>234</td>\n",
       "      <td>238</td>\n",
       "      <td>135</td>\n",
       "      <td>6121</td>\n",
       "      <td>...</td>\n",
       "      <td>0</td>\n",
       "      <td>0</td>\n",
       "      <td>0</td>\n",
       "      <td>0</td>\n",
       "      <td>0</td>\n",
       "      <td>0</td>\n",
       "      <td>0</td>\n",
       "      <td>0</td>\n",
       "      <td>0</td>\n",
       "      <td>2</td>\n",
       "    </tr>\n",
       "    <tr>\n",
       "      <td>3</td>\n",
       "      <td>2785</td>\n",
       "      <td>155</td>\n",
       "      <td>18</td>\n",
       "      <td>242</td>\n",
       "      <td>118</td>\n",
       "      <td>3090</td>\n",
       "      <td>238</td>\n",
       "      <td>238</td>\n",
       "      <td>122</td>\n",
       "      <td>6211</td>\n",
       "      <td>...</td>\n",
       "      <td>0</td>\n",
       "      <td>0</td>\n",
       "      <td>0</td>\n",
       "      <td>0</td>\n",
       "      <td>0</td>\n",
       "      <td>0</td>\n",
       "      <td>0</td>\n",
       "      <td>0</td>\n",
       "      <td>0</td>\n",
       "      <td>2</td>\n",
       "    </tr>\n",
       "    <tr>\n",
       "      <td>4</td>\n",
       "      <td>2595</td>\n",
       "      <td>45</td>\n",
       "      <td>2</td>\n",
       "      <td>153</td>\n",
       "      <td>-1</td>\n",
       "      <td>391</td>\n",
       "      <td>220</td>\n",
       "      <td>234</td>\n",
       "      <td>150</td>\n",
       "      <td>6172</td>\n",
       "      <td>...</td>\n",
       "      <td>0</td>\n",
       "      <td>0</td>\n",
       "      <td>0</td>\n",
       "      <td>0</td>\n",
       "      <td>0</td>\n",
       "      <td>0</td>\n",
       "      <td>0</td>\n",
       "      <td>0</td>\n",
       "      <td>0</td>\n",
       "      <td>5</td>\n",
       "    </tr>\n",
       "  </tbody>\n",
       "</table>\n",
       "<p>5 rows × 55 columns</p>\n",
       "</div>"
      ],
      "text/plain": [
       "     0    1   2    3    4     5    6    7    8     9   ...  45  46  47  48  \\\n",
       "0  2596   51   3  258    0   510  221  232  148  6279  ...   0   0   0   0   \n",
       "1  2590   56   2  212   -6   390  220  235  151  6225  ...   0   0   0   0   \n",
       "2  2804  139   9  268   65  3180  234  238  135  6121  ...   0   0   0   0   \n",
       "3  2785  155  18  242  118  3090  238  238  122  6211  ...   0   0   0   0   \n",
       "4  2595   45   2  153   -1   391  220  234  150  6172  ...   0   0   0   0   \n",
       "\n",
       "   49  50  51  52  53  54  \n",
       "0   0   0   0   0   0   5  \n",
       "1   0   0   0   0   0   5  \n",
       "2   0   0   0   0   0   2  \n",
       "3   0   0   0   0   0   2  \n",
       "4   0   0   0   0   0   5  \n",
       "\n",
       "[5 rows x 55 columns]"
      ]
     },
     "execution_count": 5,
     "metadata": {},
     "output_type": "execute_result"
    }
   ],
   "source": [
    "# Import method 2: read in the data (stored locally)\n",
    "df = pd.read_table(\"covtype.data\", sep=',', header=None)\n",
    "df.head()"
   ]
  },
  {
   "cell_type": "markdown",
   "metadata": {
    "colab_type": "text",
    "id": "FqLgZ5WqV9L1"
   },
   "source": [
    "The data comes without column names, so in the next few cells, I generate and insert those."
   ]
  },
  {
   "cell_type": "code",
   "execution_count": 6,
   "metadata": {
    "ExecuteTime": {
     "end_time": "2019-11-24T20:24:50.232693Z",
     "start_time": "2019-11-24T20:24:50.225797Z"
    },
    "colab": {
     "base_uri": "https://localhost:8080/",
     "height": 54
    },
    "colab_type": "code",
    "id": "VTyDUbnlqkfY",
    "outputId": "ac14be44-43e4-43b6-fe72-c3ce86b069f7"
   },
   "outputs": [
    {
     "name": "stdout",
     "output_type": "stream",
     "text": [
      "['Soil_Type_1', 'Soil_Type_2', 'Soil_Type_3', 'Soil_Type_4', 'Soil_Type_5', 'Soil_Type_6', 'Soil_Type_7', 'Soil_Type_8', 'Soil_Type_9', 'Soil_Type_10', 'Soil_Type_11', 'Soil_Type_12', 'Soil_Type_13', 'Soil_Type_14', 'Soil_Type_15', 'Soil_Type_16', 'Soil_Type_17', 'Soil_Type_18', 'Soil_Type_19', 'Soil_Type_20', 'Soil_Type_21', 'Soil_Type_22', 'Soil_Type_23', 'Soil_Type_24', 'Soil_Type_25', 'Soil_Type_26', 'Soil_Type_27', 'Soil_Type_28', 'Soil_Type_29', 'Soil_Type_30', 'Soil_Type_31', 'Soil_Type_32', 'Soil_Type_33', 'Soil_Type_34', 'Soil_Type_35', 'Soil_Type_36', 'Soil_Type_37', 'Soil_Type_38', 'Soil_Type_39', 'Soil_Type_40']\n"
     ]
    }
   ],
   "source": [
    "# Generate column names for the 40 soil type columns\n",
    "soil_types = []\n",
    "for n in range(1, 41):\n",
    "    str_n = str(n)\n",
    "    name = 'Soil_Type_' + str_n\n",
    "    soil_types.append(name)\n",
    "    \n",
    "print(soil_types)"
   ]
  },
  {
   "cell_type": "code",
   "execution_count": 7,
   "metadata": {
    "ExecuteTime": {
     "end_time": "2019-11-24T20:24:51.318858Z",
     "start_time": "2019-11-24T20:24:50.922362Z"
    },
    "colab": {
     "base_uri": "https://localhost:8080/",
     "height": 1000
    },
    "colab_type": "code",
    "id": "d_05VXDgqkfa",
    "outputId": "1f8888ed-7e45-4787-cc29-fb704f9bfb78"
   },
   "outputs": [
    {
     "name": "stdout",
     "output_type": "stream",
     "text": [
      "<class 'pandas.core.frame.DataFrame'>\n",
      "RangeIndex: 581012 entries, 0 to 581011\n",
      "Data columns (total 55 columns):\n",
      "Elevation         581012 non-null int64\n",
      "Aspect            581012 non-null int64\n",
      "Slope             581012 non-null int64\n",
      "Hor_Dist_Hyd      581012 non-null int64\n",
      "Ver_Dist_Hyd      581012 non-null int64\n",
      "Hor_Dist_Road     581012 non-null int64\n",
      "Hillshade_9am     581012 non-null int64\n",
      "Hillshade_noon    581012 non-null int64\n",
      "Hillshade_3pm     581012 non-null int64\n",
      "Hor_Dist_Fire     581012 non-null int64\n",
      "WA_1              581012 non-null int64\n",
      "WA_2              581012 non-null int64\n",
      "WA_3              581012 non-null int64\n",
      "WA_4              581012 non-null int64\n",
      "Soil_Type_1       581012 non-null int64\n",
      "Soil_Type_2       581012 non-null int64\n",
      "Soil_Type_3       581012 non-null int64\n",
      "Soil_Type_4       581012 non-null int64\n",
      "Soil_Type_5       581012 non-null int64\n",
      "Soil_Type_6       581012 non-null int64\n",
      "Soil_Type_7       581012 non-null int64\n",
      "Soil_Type_8       581012 non-null int64\n",
      "Soil_Type_9       581012 non-null int64\n",
      "Soil_Type_10      581012 non-null int64\n",
      "Soil_Type_11      581012 non-null int64\n",
      "Soil_Type_12      581012 non-null int64\n",
      "Soil_Type_13      581012 non-null int64\n",
      "Soil_Type_14      581012 non-null int64\n",
      "Soil_Type_15      581012 non-null int64\n",
      "Soil_Type_16      581012 non-null int64\n",
      "Soil_Type_17      581012 non-null int64\n",
      "Soil_Type_18      581012 non-null int64\n",
      "Soil_Type_19      581012 non-null int64\n",
      "Soil_Type_20      581012 non-null int64\n",
      "Soil_Type_21      581012 non-null int64\n",
      "Soil_Type_22      581012 non-null int64\n",
      "Soil_Type_23      581012 non-null int64\n",
      "Soil_Type_24      581012 non-null int64\n",
      "Soil_Type_25      581012 non-null int64\n",
      "Soil_Type_26      581012 non-null int64\n",
      "Soil_Type_27      581012 non-null int64\n",
      "Soil_Type_28      581012 non-null int64\n",
      "Soil_Type_29      581012 non-null int64\n",
      "Soil_Type_30      581012 non-null int64\n",
      "Soil_Type_31      581012 non-null int64\n",
      "Soil_Type_32      581012 non-null int64\n",
      "Soil_Type_33      581012 non-null int64\n",
      "Soil_Type_34      581012 non-null int64\n",
      "Soil_Type_35      581012 non-null int64\n",
      "Soil_Type_36      581012 non-null int64\n",
      "Soil_Type_37      581012 non-null int64\n",
      "Soil_Type_38      581012 non-null int64\n",
      "Soil_Type_39      581012 non-null int64\n",
      "Soil_Type_40      581012 non-null int64\n",
      "Cover_Type        581012 non-null int64\n",
      "dtypes: int64(55)\n",
      "memory usage: 243.8 MB\n"
     ]
    }
   ],
   "source": [
    "# Name the columns\n",
    "colnames = ['Elevation', 'Aspect', 'Slope', 'Hor_Dist_Hyd', 'Ver_Dist_Hyd',\n",
    "            'Hor_Dist_Road', 'Hillshade_9am', 'Hillshade_noon', 'Hillshade_3pm',\n",
    "            'Hor_Dist_Fire', 'WA_1', 'WA_2', 'WA_3', 'WA_4', 'Soil_Type_1', \n",
    "            'Soil_Type_2', 'Soil_Type_3', 'Soil_Type_4', 'Soil_Type_5', \n",
    "            'Soil_Type_6', 'Soil_Type_7', 'Soil_Type_8', 'Soil_Type_9', \n",
    "            'Soil_Type_10', 'Soil_Type_11', 'Soil_Type_12', 'Soil_Type_13', \n",
    "            'Soil_Type_14', 'Soil_Type_15', 'Soil_Type_16', 'Soil_Type_17', \n",
    "            'Soil_Type_18', 'Soil_Type_19', 'Soil_Type_20', 'Soil_Type_21', \n",
    "            'Soil_Type_22', 'Soil_Type_23', 'Soil_Type_24', 'Soil_Type_25', \n",
    "            'Soil_Type_26', 'Soil_Type_27', 'Soil_Type_28', 'Soil_Type_29', \n",
    "            'Soil_Type_30', 'Soil_Type_31', 'Soil_Type_32', 'Soil_Type_33', \n",
    "            'Soil_Type_34', 'Soil_Type_35', 'Soil_Type_36', 'Soil_Type_37', \n",
    "            'Soil_Type_38', 'Soil_Type_39', 'Soil_Type_40', 'Cover_Type',]\n",
    "df.columns = colnames\n",
    "df.info()"
   ]
  },
  {
   "cell_type": "markdown",
   "metadata": {
    "colab_type": "text",
    "id": "elfITF9TWKyr"
   },
   "source": [
    "Every observation in this dataset represents a 30 by 30-meter tract of land in one of four forest preserves in Colorado. The first 10 columns describe features of each land tract that are pretty self-explanatory (see the data dictionary referenced above). The columns named 'WA_#' are binary columns representing which of the four wilderness areas the observation pertains to. These are followed by 40 binary columns recording what type of soil is present in the tract. Last is 'Cover_Type,' which records which of 7 tree types was predominant in the tract. See the non-technical visualizations below for a look at the breakdown of tree cover types and wilderness areas."
   ]
  },
  {
   "cell_type": "markdown",
   "metadata": {
    "colab_type": "text",
    "id": "JX8r_D4Bqkff"
   },
   "source": [
    "## EDA"
   ]
  },
  {
   "cell_type": "markdown",
   "metadata": {},
   "source": [
    "### General EDA"
   ]
  },
  {
   "cell_type": "markdown",
   "metadata": {},
   "source": [
    "Here I will do a little exploratory analysis, mostly for the purposes of summarizing this dataset for a non-technical audience.\n",
    "\n",
    "First, I want to create a barplot showing how many instances of each tree cover type there are."
   ]
  },
  {
   "cell_type": "code",
   "execution_count": 74,
   "metadata": {
    "ExecuteTime": {
     "end_time": "2019-11-24T22:46:49.844726Z",
     "start_time": "2019-11-24T22:46:49.728664Z"
    },
    "colab": {},
    "colab_type": "code",
    "id": "iDPahKbo7j1h"
   },
   "outputs": [],
   "source": [
    "# Get tree type counts\n",
    "tree_dict = {1:'Spruce/Fir', \n",
    "             2:'Lodgepole Pine', \n",
    "             3:'Ponderosa Pine',\n",
    "             4:'Cottonwood/Willow', \n",
    "             5:'Aspen', \n",
    "             6:'Douglas-fir', \n",
    "             7:'Krummholz'}\n",
    "\n",
    "tree_list = list(tree_dict.values())\n",
    "\n",
    "class_counts = [df.Cover_Type.value_counts()[i] for i in range(1,8)]\n",
    "\n",
    "tree_counts = sorted(list(zip(tree_list, class_counts)), \n",
    "                     key=lambda x:x[1], reverse=True)"
   ]
  },
  {
   "cell_type": "code",
   "execution_count": 83,
   "metadata": {
    "ExecuteTime": {
     "end_time": "2019-11-24T22:48:30.507205Z",
     "start_time": "2019-11-24T22:48:29.993381Z"
    },
    "colab": {},
    "colab_type": "code",
    "id": "y0MyK4ar7j1i",
    "outputId": "add62c88-b56d-43cd-d349-afaee8f8951e"
   },
   "outputs": [
    {
     "data": {
      "image/png": "[encoded data removed]",
      "text/plain": [
       "<Figure size 432x576 with 1 Axes>"
      ]
     },
     "metadata": {},
     "output_type": "display_data"
    }
   ],
   "source": [
    "# Plot tree type counts\n",
    "sns.set_context('talk')\n",
    "sns.set_style('white')\n",
    "plt.figure(figsize=(6,8))\n",
    "plt.barh(width=[x[1] for x in tree_counts], \n",
    "         y=[x[0] for x in tree_counts], \n",
    "         color='darkgreen')\n",
    "plt.yticks(ticks=list(range(0,7)), labels=[x[0] for x in tree_counts])\n",
    "plt.xticks(ticks=[5e4, 10e4, 15e4, 20e4, 25e4], \n",
    "           labels=['50k', '100k', '150k', '200k', '250k'])\n",
    "plt.xlabel('Number of tracts')\n",
    "plt.title('Land tracts with various tree cover types')\n",
    "sns.despine()\n",
    "plt.savefig('cover_type_counts.png', dpi=300, pad_inches=0.5)\n",
    "plt.show();"
   ]
  },
  {
   "cell_type": "markdown",
   "metadata": {},
   "source": [
    "I'm also curious to know how the four wilderness areas compare to one another in size (i.e., number of tracts in the dataset)."
   ]
  },
  {
   "cell_type": "code",
   "execution_count": 76,
   "metadata": {
    "ExecuteTime": {
     "end_time": "2019-11-24T22:46:55.479345Z",
     "start_time": "2019-11-24T22:46:55.385357Z"
    },
    "colab": {},
    "colab_type": "code",
    "id": "QrIvx6CL7j1k",
    "outputId": "2f528cc4-1dd0-4b87-deac-199760afcd5b",
    "scrolled": false
   },
   "outputs": [
    {
     "data": {
      "text/plain": [
       "[('Rawah', 260796),\n",
       " ('Comanche Peak', 253364),\n",
       " ('Cache la Poudre', 36968),\n",
       " ('Neota', 29884)]"
      ]
     },
     "execution_count": 76,
     "metadata": {},
     "output_type": "execute_result"
    }
   ],
   "source": [
    "# Get wilderness area counts\n",
    "area_names = ['Rawah', 'Neota', 'Comanche Peak', 'Cache la Poudre']\n",
    "wa_counts = [df.loc[:, 'WA_1':'WA_4'].sum()[i] for i in range(4)]\n",
    "area_counts = sorted(list(zip(area_names, wa_counts)),\n",
    "                     key=lambda x:x[1], reverse=True)\n",
    "area_counts"
   ]
  },
  {
   "cell_type": "code",
   "execution_count": 85,
   "metadata": {
    "ExecuteTime": {
     "end_time": "2019-11-24T22:49:29.168283Z",
     "start_time": "2019-11-24T22:49:28.716922Z"
    },
    "colab": {},
    "colab_type": "code",
    "id": "aVC8ybOB7j1l",
    "outputId": "392e7950-9d17-41a5-8edc-6f3e05d495f7",
    "scrolled": true
   },
   "outputs": [
    {
     "data": {
      "image/png": "[encoded data removed]",
      "text/plain": [
       "<Figure size 432x576 with 1 Axes>"
      ]
     },
     "metadata": {},
     "output_type": "display_data"
    }
   ],
   "source": [
    "# Plot the tract counts for each wilderness area\n",
    "plt.figure(figsize=(6,8))\n",
    "plt.barh(y=[x[0] for x in area_counts], width=[x[1] for x in area_counts],\n",
    "        color='lightgray')\n",
    "plt.xticks(ticks=[5e4, 10e4, 15e4, 20e4, 25e4], \n",
    "           labels=['50k', '100k', '150k', '200k', '250k'])\n",
    "plt.xlabel('Number of tracts')\n",
    "plt.title('Tracts recorded in each wilderness area')\n",
    "sns.despine()\n",
    "plt.savefig('area_counts.png', dpi=300, pad_inches=0.5)\n",
    "plt.show();"
   ]
  },
  {
   "cell_type": "markdown",
   "metadata": {},
   "source": [
    "I think it's important to get an idea of how each type of tree cover is represented in each wilderness area. Are there some tree cover types that occur only in certain areas? "
   ]
  },
  {
   "cell_type": "code",
   "execution_count": 177,
   "metadata": {
    "ExecuteTime": {
     "end_time": "2019-11-25T00:24:12.250649Z",
     "start_time": "2019-11-25T00:24:11.886602Z"
    }
   },
   "outputs": [
    {
     "data": {
      "text/plain": [
       "0                  Aspen\n",
       "1                  Aspen\n",
       "2         Lodgepole Pine\n",
       "3         Lodgepole Pine\n",
       "4                  Aspen\n",
       "               ...      \n",
       "581007    Ponderosa Pine\n",
       "581008    Ponderosa Pine\n",
       "581009    Ponderosa Pine\n",
       "581010    Ponderosa Pine\n",
       "581011    Ponderosa Pine\n",
       "Name: tree, Length: 581012, dtype: object"
      ]
     },
     "execution_count": 177,
     "metadata": {},
     "output_type": "execute_result"
    }
   ],
   "source": [
    "# Copy the dataset and add a column for tree cover type names\n",
    "df_viz = df.copy()\n",
    "df_viz['tree'] = [tree_dict[i] for i in df_viz['Cover_Type']]\n",
    "df_viz['tree']"
   ]
  },
  {
   "cell_type": "code",
   "execution_count": 179,
   "metadata": {
    "ExecuteTime": {
     "end_time": "2019-11-25T00:24:18.501264Z",
     "start_time": "2019-11-25T00:24:18.315598Z"
    }
   },
   "outputs": [],
   "source": [
    "# Get counts of each tree type in each area\n",
    "wa_1_trees = df_viz.groupby('tree')['WA_1'].sum()\n",
    "wa_2_trees = df_viz.groupby('tree')['WA_2'].sum()\n",
    "wa_3_trees = df_viz.groupby('tree')['WA_3'].sum()\n",
    "wa_4_trees = df_viz.groupby('tree')['WA_4'].sum()"
   ]
  },
  {
   "cell_type": "code",
   "execution_count": 180,
   "metadata": {
    "ExecuteTime": {
     "end_time": "2019-11-25T00:24:21.488212Z",
     "start_time": "2019-11-25T00:24:20.260211Z"
    },
    "scrolled": false
   },
   "outputs": [
    {
     "data": {
      "image/png": "[encoded data removed]",
      "text/plain": [
       "<Figure size 1152x576 with 4 Axes>"
      ]
     },
     "metadata": {},
     "output_type": "display_data"
    }
   ],
   "source": [
    "# Plot the tree types per area\n",
    "areas = [wa_1_trees, wa_2_trees, wa_3_trees, wa_4_trees]\n",
    "yticks = []\n",
    "xticks_big = [50000, 100000, 150000]\n",
    "xtick_labels_big = ['50k', '100k', '150k']\n",
    "xticks_small = [10000, 20000, 22000]\n",
    "xtick_labels_small = ['10k', '20k', '']\n",
    "\n",
    "fig = plt.figure(figsize=(16,8))\n",
    "\n",
    "ax1 = fig.add_subplot(221)\n",
    "ax1.barh(y=wa_1_trees.index, width=wa_1_trees, color='darkgreen')\n",
    "ax1.set_title('Rawah')\n",
    "ax1.set_xticks(xticks)\n",
    "ax1.set_xticklabels(xtick_labels)\n",
    "\n",
    "ax2 = fig.add_subplot(222)\n",
    "ax2.barh(y=wa_2_trees.index, width=wa_2_trees, color='darkgreen')\n",
    "ax2.set_title('Neota')\n",
    "ax2.set_yticks(yticks)\n",
    "ax2.set_xticks(xticks_small)\n",
    "ax2.set_xticklabels(xtick_labels_small)\n",
    "\n",
    "ax3 = fig.add_subplot(223)\n",
    "ax3.barh(y=wa_3_trees.index, width=wa_3_trees, color='darkgreen')\n",
    "ax3.set_title('Comanche Peak')\n",
    "ax3.set_xticks(xticks)\n",
    "ax3.set_xticklabels(xtick_labels)\n",
    "\n",
    "ax4 = fig.add_subplot(224)\n",
    "ax4.barh(y=wa_4_trees.index, width=wa_4_trees, color='darkgreen')\n",
    "ax4.set_title('Cache la Poudre')\n",
    "ax4.set_yticks(yticks)\n",
    "ax4.set_xticks(xticks_small)\n",
    "ax4.set_xticklabels(xtick_labels_small)\n",
    "\n",
    "plt.suptitle('Tree cover types in each area', y=1.05)\n",
    "plt.tight_layout()\n",
    "sns.despine()\n",
    "plt.savefig('trees_by_area.png', dpi=300, pad_inches=0.5)"
   ]
  },
  {
   "cell_type": "markdown",
   "metadata": {},
   "source": [
    "The plots above show that we basically have two large and two small wilderness areas, and each area has a unique distribution of tree types. Rawah, Neota, and Comanche Peak all have Spruce/Fir and Lodgepole Pine as their most common classes, while Cache la Poudre seems to represent a different environment where Ponderosa Pine and Douglas-fir are most common. Knowing how the different types of trees are distributed in each area could help us choose models to use later. For instance, a model that performs well for the three areas with similar tree types might not be such a good choice if we wanted to focus on predictions for Cache la Poudre."
   ]
  },
  {
   "cell_type": "markdown",
   "metadata": {},
   "source": [
    "### EDA for modeling"
   ]
  },
  {
   "cell_type": "markdown",
   "metadata": {
    "colab_type": "text",
    "id": "9EoZe1LHYAaz"
   },
   "source": [
    "At this early stage, I am concerned about class imbalance, i.e., the possibility that there may be lots of one type of tree cover and few examples of another. This imbalance could cause my machine learning algorithm to find shortcuts to maximizing whatever performance metric we're using, for instance by simply never predicting a rare class.\n",
    "\n",
    "Let's take a quick look at the counts of each class."
   ]
  },
  {
   "cell_type": "code",
   "execution_count": 8,
   "metadata": {
    "ExecuteTime": {
     "end_time": "2019-11-24T20:24:53.506590Z",
     "start_time": "2019-11-24T20:24:53.484255Z"
    },
    "colab": {
     "base_uri": "https://localhost:8080/",
     "height": 153
    },
    "colab_type": "code",
    "id": "snL5i8Wgqkfd",
    "outputId": "45ec7ce0-302a-4403-9d13-d9d778b708c4",
    "scrolled": true
   },
   "outputs": [
    {
     "data": {
      "text/plain": [
       "2    283301\n",
       "1    211840\n",
       "3     35754\n",
       "7     20510\n",
       "6     17367\n",
       "5      9493\n",
       "4      2747\n",
       "Name: Cover_Type, dtype: int64"
      ]
     },
     "execution_count": 8,
     "metadata": {},
     "output_type": "execute_result"
    }
   ],
   "source": [
    "# Check class balance\n",
    "df.Cover_Type.value_counts()"
   ]
  },
  {
   "cell_type": "markdown",
   "metadata": {
    "colab_type": "text",
    "id": "sZL5z9VEXn5X"
   },
   "source": [
    "As I feared, the classes are very imbalanced: the smallest one is just 1% the size of the largest one! I will address this problem in the section on preprocessing below.\n",
    "\n",
    "Let's take a look at the continuous variables and see whether they are normally distributed, since non-normal distributions can negatively impact our predictive power."
   ]
  },
  {
   "cell_type": "code",
   "execution_count": 9,
   "metadata": {
    "ExecuteTime": {
     "end_time": "2019-11-24T20:24:57.834257Z",
     "start_time": "2019-11-24T20:24:55.588902Z"
    },
    "colab": {
     "base_uri": "https://localhost:8080/",
     "height": 749
    },
    "colab_type": "code",
    "id": "SOIToKlNqkfg",
    "outputId": "25182a5a-6698-4f97-bea1-e2a7e7043f0c",
    "scrolled": false
   },
   "outputs": [
    {
     "data": {
      "image/png": "[encoded data removed]",
      "text/plain": [
       "<Figure size 1152x720 with 10 Axes>"
      ]
     },
     "metadata": {
      "needs_background": "light"
     },
     "output_type": "display_data"
    }
   ],
   "source": [
    "# Visualize distributions of continuous variables\n",
    "to_hist = ['Elevation', 'Aspect', 'Slope', 'Hor_Dist_Hyd', 'Ver_Dist_Hyd',\n",
    "           'Hor_Dist_Road', 'Hillshade_9am', 'Hillshade_noon', 'Hillshade_3pm',\n",
    "           'Hor_Dist_Fire']\n",
    "\n",
    "plt.figure(figsize=(16,10))\n",
    "for idx, col in enumerate(to_hist):\n",
    "    plt.subplot(3, 4, idx+1)\n",
    "    plt.hist(df[col])\n",
    "    plt.title(col)\n",
    "plt.tight_layout();\n"
   ]
  },
  {
   "cell_type": "markdown",
   "metadata": {
    "colab_type": "text",
    "id": "xhrW7wk3YnkS"
   },
   "source": [
    "Some of the continuous variables are skewed right or left, and `Aspect` appears to be bimodal. \n",
    "\n",
    "I'm also curious to see whether any of the variables are correlated with one another (and therefore could be eliminated). For instance, there might be a soil type that only occurs in one of the forest preserves. A correlation matrix and heatmap can help us detect this, but it's not a big worry. Principal Components Analysis (below) will help us avoid any repercussions of multicollinearity."
   ]
  },
  {
   "cell_type": "code",
   "execution_count": 10,
   "metadata": {
    "ExecuteTime": {
     "end_time": "2019-11-24T20:25:07.877875Z",
     "start_time": "2019-11-24T20:25:04.165107Z"
    },
    "colab": {
     "base_uri": "https://localhost:8080/",
     "height": 1000
    },
    "colab_type": "code",
    "id": "6KOPw07WHYUo",
    "outputId": "14de1b71-248c-494e-f861-73440b5929ce"
   },
   "outputs": [
    {
     "data": {
      "text/html": [
       "<div>\n",
       "<style scoped>\n",
       "    .dataframe tbody tr th:only-of-type {\n",
       "        vertical-align: middle;\n",
       "    }\n",
       "\n",
       "    .dataframe tbody tr th {\n",
       "        vertical-align: top;\n",
       "    }\n",
       "\n",
       "    .dataframe thead th {\n",
       "        text-align: right;\n",
       "    }\n",
       "</style>\n",
       "<table border=\"1\" class=\"dataframe\">\n",
       "  <thead>\n",
       "    <tr style=\"text-align: right;\">\n",
       "      <th></th>\n",
       "      <th>Elevation</th>\n",
       "      <th>Aspect</th>\n",
       "      <th>Slope</th>\n",
       "      <th>Hor_Dist_Hyd</th>\n",
       "      <th>Ver_Dist_Hyd</th>\n",
       "      <th>Hor_Dist_Road</th>\n",
       "      <th>Hillshade_9am</th>\n",
       "      <th>Hillshade_noon</th>\n",
       "      <th>Hillshade_3pm</th>\n",
       "      <th>Hor_Dist_Fire</th>\n",
       "      <th>...</th>\n",
       "      <th>Soil_Type_32</th>\n",
       "      <th>Soil_Type_33</th>\n",
       "      <th>Soil_Type_34</th>\n",
       "      <th>Soil_Type_35</th>\n",
       "      <th>Soil_Type_36</th>\n",
       "      <th>Soil_Type_37</th>\n",
       "      <th>Soil_Type_38</th>\n",
       "      <th>Soil_Type_39</th>\n",
       "      <th>Soil_Type_40</th>\n",
       "      <th>Cover_Type</th>\n",
       "    </tr>\n",
       "  </thead>\n",
       "  <tbody>\n",
       "    <tr>\n",
       "      <td>Elevation</td>\n",
       "      <td>1.000000</td>\n",
       "      <td>0.015735</td>\n",
       "      <td>-0.242697</td>\n",
       "      <td>0.306229</td>\n",
       "      <td>0.093306</td>\n",
       "      <td>0.365559</td>\n",
       "      <td>0.112179</td>\n",
       "      <td>0.205887</td>\n",
       "      <td>0.059148</td>\n",
       "      <td>0.148022</td>\n",
       "      <td>...</td>\n",
       "      <td>0.167077</td>\n",
       "      <td>0.070633</td>\n",
       "      <td>0.011731</td>\n",
       "      <td>0.083005</td>\n",
       "      <td>0.021107</td>\n",
       "      <td>0.035433</td>\n",
       "      <td>0.217179</td>\n",
       "      <td>0.193595</td>\n",
       "      <td>0.212612</td>\n",
       "      <td>-0.269554</td>\n",
       "    </tr>\n",
       "    <tr>\n",
       "      <td>Aspect</td>\n",
       "      <td>0.015735</td>\n",
       "      <td>1.000000</td>\n",
       "      <td>0.078728</td>\n",
       "      <td>0.017376</td>\n",
       "      <td>0.070305</td>\n",
       "      <td>0.025121</td>\n",
       "      <td>-0.579273</td>\n",
       "      <td>0.336103</td>\n",
       "      <td>0.646944</td>\n",
       "      <td>-0.109172</td>\n",
       "      <td>...</td>\n",
       "      <td>0.056233</td>\n",
       "      <td>0.019163</td>\n",
       "      <td>0.010861</td>\n",
       "      <td>-0.021991</td>\n",
       "      <td>0.002281</td>\n",
       "      <td>-0.020398</td>\n",
       "      <td>0.017706</td>\n",
       "      <td>0.008294</td>\n",
       "      <td>-0.005866</td>\n",
       "      <td>0.017080</td>\n",
       "    </tr>\n",
       "    <tr>\n",
       "      <td>Slope</td>\n",
       "      <td>-0.242697</td>\n",
       "      <td>0.078728</td>\n",
       "      <td>1.000000</td>\n",
       "      <td>-0.010607</td>\n",
       "      <td>0.274976</td>\n",
       "      <td>-0.215914</td>\n",
       "      <td>-0.327199</td>\n",
       "      <td>-0.526911</td>\n",
       "      <td>-0.175854</td>\n",
       "      <td>-0.185662</td>\n",
       "      <td>...</td>\n",
       "      <td>-0.133504</td>\n",
       "      <td>0.208942</td>\n",
       "      <td>-0.011002</td>\n",
       "      <td>-0.022228</td>\n",
       "      <td>0.002918</td>\n",
       "      <td>0.007848</td>\n",
       "      <td>-0.072208</td>\n",
       "      <td>0.093602</td>\n",
       "      <td>0.025637</td>\n",
       "      <td>0.148285</td>\n",
       "    </tr>\n",
       "    <tr>\n",
       "      <td>Hor_Dist_Hyd</td>\n",
       "      <td>0.306229</td>\n",
       "      <td>0.017376</td>\n",
       "      <td>-0.010607</td>\n",
       "      <td>1.000000</td>\n",
       "      <td>0.606236</td>\n",
       "      <td>0.072030</td>\n",
       "      <td>-0.027088</td>\n",
       "      <td>0.046790</td>\n",
       "      <td>0.052330</td>\n",
       "      <td>0.051874</td>\n",
       "      <td>...</td>\n",
       "      <td>0.127217</td>\n",
       "      <td>0.101195</td>\n",
       "      <td>0.070268</td>\n",
       "      <td>-0.005231</td>\n",
       "      <td>0.033421</td>\n",
       "      <td>-0.006802</td>\n",
       "      <td>0.043031</td>\n",
       "      <td>0.031922</td>\n",
       "      <td>0.147020</td>\n",
       "      <td>-0.020317</td>\n",
       "    </tr>\n",
       "    <tr>\n",
       "      <td>Ver_Dist_Hyd</td>\n",
       "      <td>0.093306</td>\n",
       "      <td>0.070305</td>\n",
       "      <td>0.274976</td>\n",
       "      <td>0.606236</td>\n",
       "      <td>1.000000</td>\n",
       "      <td>-0.046372</td>\n",
       "      <td>-0.166333</td>\n",
       "      <td>-0.110957</td>\n",
       "      <td>0.034902</td>\n",
       "      <td>-0.069913</td>\n",
       "      <td>...</td>\n",
       "      <td>0.039762</td>\n",
       "      <td>0.167091</td>\n",
       "      <td>0.060274</td>\n",
       "      <td>-0.006092</td>\n",
       "      <td>0.012955</td>\n",
       "      <td>-0.007520</td>\n",
       "      <td>-0.008629</td>\n",
       "      <td>0.043859</td>\n",
       "      <td>0.179006</td>\n",
       "      <td>0.081664</td>\n",
       "    </tr>\n",
       "    <tr>\n",
       "      <td>Hor_Dist_Road</td>\n",
       "      <td>0.365559</td>\n",
       "      <td>0.025121</td>\n",
       "      <td>-0.215914</td>\n",
       "      <td>0.072030</td>\n",
       "      <td>-0.046372</td>\n",
       "      <td>1.000000</td>\n",
       "      <td>0.034349</td>\n",
       "      <td>0.189461</td>\n",
       "      <td>0.106119</td>\n",
       "      <td>0.331580</td>\n",
       "      <td>...</td>\n",
       "      <td>-0.089019</td>\n",
       "      <td>-0.082779</td>\n",
       "      <td>0.006390</td>\n",
       "      <td>-0.003000</td>\n",
       "      <td>0.007550</td>\n",
       "      <td>0.016313</td>\n",
       "      <td>0.079778</td>\n",
       "      <td>0.033762</td>\n",
       "      <td>0.016052</td>\n",
       "      <td>-0.153450</td>\n",
       "    </tr>\n",
       "    <tr>\n",
       "      <td>Hillshade_9am</td>\n",
       "      <td>0.112179</td>\n",
       "      <td>-0.579273</td>\n",
       "      <td>-0.327199</td>\n",
       "      <td>-0.027088</td>\n",
       "      <td>-0.166333</td>\n",
       "      <td>0.034349</td>\n",
       "      <td>1.000000</td>\n",
       "      <td>0.010037</td>\n",
       "      <td>-0.780296</td>\n",
       "      <td>0.132669</td>\n",
       "      <td>...</td>\n",
       "      <td>0.006494</td>\n",
       "      <td>-0.064381</td>\n",
       "      <td>0.007154</td>\n",
       "      <td>0.027870</td>\n",
       "      <td>0.007865</td>\n",
       "      <td>0.010332</td>\n",
       "      <td>0.015108</td>\n",
       "      <td>-0.029620</td>\n",
       "      <td>-0.000016</td>\n",
       "      <td>-0.035415</td>\n",
       "    </tr>\n",
       "    <tr>\n",
       "      <td>Hillshade_noon</td>\n",
       "      <td>0.205887</td>\n",
       "      <td>0.336103</td>\n",
       "      <td>-0.526911</td>\n",
       "      <td>0.046790</td>\n",
       "      <td>-0.110957</td>\n",
       "      <td>0.189461</td>\n",
       "      <td>0.010037</td>\n",
       "      <td>1.000000</td>\n",
       "      <td>0.594274</td>\n",
       "      <td>0.057329</td>\n",
       "      <td>...</td>\n",
       "      <td>0.125395</td>\n",
       "      <td>-0.086164</td>\n",
       "      <td>0.043061</td>\n",
       "      <td>0.005863</td>\n",
       "      <td>0.016239</td>\n",
       "      <td>-0.022707</td>\n",
       "      <td>0.042952</td>\n",
       "      <td>-0.071961</td>\n",
       "      <td>-0.040176</td>\n",
       "      <td>-0.096426</td>\n",
       "    </tr>\n",
       "    <tr>\n",
       "      <td>Hillshade_3pm</td>\n",
       "      <td>0.059148</td>\n",
       "      <td>0.646944</td>\n",
       "      <td>-0.175854</td>\n",
       "      <td>0.052330</td>\n",
       "      <td>0.034902</td>\n",
       "      <td>0.106119</td>\n",
       "      <td>-0.780296</td>\n",
       "      <td>0.594274</td>\n",
       "      <td>1.000000</td>\n",
       "      <td>-0.047981</td>\n",
       "      <td>...</td>\n",
       "      <td>0.083066</td>\n",
       "      <td>-0.024393</td>\n",
       "      <td>0.017757</td>\n",
       "      <td>-0.016482</td>\n",
       "      <td>0.001330</td>\n",
       "      <td>-0.022064</td>\n",
       "      <td>0.022187</td>\n",
       "      <td>-0.029040</td>\n",
       "      <td>-0.024254</td>\n",
       "      <td>-0.048290</td>\n",
       "    </tr>\n",
       "    <tr>\n",
       "      <td>Hor_Dist_Fire</td>\n",
       "      <td>0.148022</td>\n",
       "      <td>-0.109172</td>\n",
       "      <td>-0.185662</td>\n",
       "      <td>0.051874</td>\n",
       "      <td>-0.069913</td>\n",
       "      <td>0.331580</td>\n",
       "      <td>0.132669</td>\n",
       "      <td>0.057329</td>\n",
       "      <td>-0.047981</td>\n",
       "      <td>1.000000</td>\n",
       "      <td>...</td>\n",
       "      <td>-0.089977</td>\n",
       "      <td>-0.059067</td>\n",
       "      <td>-0.035067</td>\n",
       "      <td>-0.000081</td>\n",
       "      <td>-0.010595</td>\n",
       "      <td>0.004180</td>\n",
       "      <td>-0.019740</td>\n",
       "      <td>-0.003301</td>\n",
       "      <td>0.008915</td>\n",
       "      <td>-0.108936</td>\n",
       "    </tr>\n",
       "    <tr>\n",
       "      <td>WA_1</td>\n",
       "      <td>0.131838</td>\n",
       "      <td>-0.140123</td>\n",
       "      <td>-0.234576</td>\n",
       "      <td>-0.097124</td>\n",
       "      <td>-0.180710</td>\n",
       "      <td>0.453913</td>\n",
       "      <td>0.201299</td>\n",
       "      <td>0.028728</td>\n",
       "      <td>-0.115155</td>\n",
       "      <td>0.380568</td>\n",
       "      <td>...</td>\n",
       "      <td>-0.284490</td>\n",
       "      <td>-0.261970</td>\n",
       "      <td>-0.047587</td>\n",
       "      <td>-0.011714</td>\n",
       "      <td>-0.012917</td>\n",
       "      <td>0.015014</td>\n",
       "      <td>0.011073</td>\n",
       "      <td>0.012745</td>\n",
       "      <td>0.011974</td>\n",
       "      <td>-0.203913</td>\n",
       "    </tr>\n",
       "    <tr>\n",
       "      <td>WA_2</td>\n",
       "      <td>0.238164</td>\n",
       "      <td>0.055988</td>\n",
       "      <td>-0.036253</td>\n",
       "      <td>0.055726</td>\n",
       "      <td>-0.008709</td>\n",
       "      <td>-0.200411</td>\n",
       "      <td>-0.006181</td>\n",
       "      <td>0.042392</td>\n",
       "      <td>0.034707</td>\n",
       "      <td>0.027473</td>\n",
       "      <td>...</td>\n",
       "      <td>0.028797</td>\n",
       "      <td>0.014393</td>\n",
       "      <td>-0.012279</td>\n",
       "      <td>0.055508</td>\n",
       "      <td>-0.003333</td>\n",
       "      <td>-0.005275</td>\n",
       "      <td>0.061369</td>\n",
       "      <td>0.011301</td>\n",
       "      <td>0.105050</td>\n",
       "      <td>-0.048059</td>\n",
       "    </tr>\n",
       "    <tr>\n",
       "      <td>WA_3</td>\n",
       "      <td>0.066550</td>\n",
       "      <td>0.074904</td>\n",
       "      <td>0.125663</td>\n",
       "      <td>0.122028</td>\n",
       "      <td>0.146839</td>\n",
       "      <td>-0.232933</td>\n",
       "      <td>-0.100565</td>\n",
       "      <td>0.048646</td>\n",
       "      <td>0.090757</td>\n",
       "      <td>-0.277510</td>\n",
       "      <td>...</td>\n",
       "      <td>0.312961</td>\n",
       "      <td>0.293588</td>\n",
       "      <td>0.059964</td>\n",
       "      <td>-0.005644</td>\n",
       "      <td>0.016276</td>\n",
       "      <td>-0.009803</td>\n",
       "      <td>-0.017148</td>\n",
       "      <td>0.002201</td>\n",
       "      <td>-0.042936</td>\n",
       "      <td>0.066846</td>\n",
       "    </tr>\n",
       "    <tr>\n",
       "      <td>WA_4</td>\n",
       "      <td>-0.619374</td>\n",
       "      <td>0.082687</td>\n",
       "      <td>0.255503</td>\n",
       "      <td>-0.100433</td>\n",
       "      <td>0.077792</td>\n",
       "      <td>-0.270349</td>\n",
       "      <td>-0.200282</td>\n",
       "      <td>-0.195733</td>\n",
       "      <td>0.018860</td>\n",
       "      <td>-0.236548</td>\n",
       "      <td>...</td>\n",
       "      <td>-0.082174</td>\n",
       "      <td>-0.075669</td>\n",
       "      <td>-0.013745</td>\n",
       "      <td>-0.014896</td>\n",
       "      <td>-0.003731</td>\n",
       "      <td>-0.005905</td>\n",
       "      <td>-0.043260</td>\n",
       "      <td>-0.040669</td>\n",
       "      <td>-0.032233</td>\n",
       "      <td>0.323200</td>\n",
       "    </tr>\n",
       "    <tr>\n",
       "      <td>Soil_Type_1</td>\n",
       "      <td>-0.204512</td>\n",
       "      <td>-0.007574</td>\n",
       "      <td>0.107847</td>\n",
       "      <td>-0.035096</td>\n",
       "      <td>0.015275</td>\n",
       "      <td>-0.083585</td>\n",
       "      <td>-0.000937</td>\n",
       "      <td>-0.052561</td>\n",
       "      <td>-0.050157</td>\n",
       "      <td>-0.073607</td>\n",
       "      <td>...</td>\n",
       "      <td>-0.022828</td>\n",
       "      <td>-0.021021</td>\n",
       "      <td>-0.003819</td>\n",
       "      <td>-0.004138</td>\n",
       "      <td>-0.001036</td>\n",
       "      <td>-0.001640</td>\n",
       "      <td>-0.012018</td>\n",
       "      <td>-0.011298</td>\n",
       "      <td>-0.008955</td>\n",
       "      <td>0.090828</td>\n",
       "    </tr>\n",
       "    <tr>\n",
       "      <td>Soil_Type_2</td>\n",
       "      <td>-0.187677</td>\n",
       "      <td>-0.005649</td>\n",
       "      <td>-0.018553</td>\n",
       "      <td>-0.011569</td>\n",
       "      <td>0.008954</td>\n",
       "      <td>-0.088026</td>\n",
       "      <td>0.036253</td>\n",
       "      <td>0.043250</td>\n",
       "      <td>-0.005276</td>\n",
       "      <td>-0.081716</td>\n",
       "      <td>...</td>\n",
       "      <td>-0.036110</td>\n",
       "      <td>-0.033252</td>\n",
       "      <td>-0.006040</td>\n",
       "      <td>-0.006546</td>\n",
       "      <td>-0.001640</td>\n",
       "      <td>-0.002595</td>\n",
       "      <td>-0.019010</td>\n",
       "      <td>-0.017871</td>\n",
       "      <td>-0.014164</td>\n",
       "      <td>0.118135</td>\n",
       "    </tr>\n",
       "    <tr>\n",
       "      <td>Soil_Type_3</td>\n",
       "      <td>-0.182463</td>\n",
       "      <td>-0.002730</td>\n",
       "      <td>0.125497</td>\n",
       "      <td>-0.041211</td>\n",
       "      <td>0.008863</td>\n",
       "      <td>-0.084988</td>\n",
       "      <td>0.039648</td>\n",
       "      <td>0.002702</td>\n",
       "      <td>-0.060554</td>\n",
       "      <td>-0.076340</td>\n",
       "      <td>...</td>\n",
       "      <td>-0.028841</td>\n",
       "      <td>-0.026558</td>\n",
       "      <td>-0.004824</td>\n",
       "      <td>-0.005228</td>\n",
       "      <td>-0.001309</td>\n",
       "      <td>-0.002073</td>\n",
       "      <td>-0.015183</td>\n",
       "      <td>-0.014274</td>\n",
       "      <td>-0.011313</td>\n",
       "      <td>0.068064</td>\n",
       "    </tr>\n",
       "    <tr>\n",
       "      <td>Soil_Type_4</td>\n",
       "      <td>-0.183521</td>\n",
       "      <td>0.017212</td>\n",
       "      <td>0.131847</td>\n",
       "      <td>-0.049071</td>\n",
       "      <td>0.025066</td>\n",
       "      <td>-0.088524</td>\n",
       "      <td>0.023812</td>\n",
       "      <td>0.084397</td>\n",
       "      <td>-0.004670</td>\n",
       "      <td>-0.076478</td>\n",
       "      <td>...</td>\n",
       "      <td>-0.046545</td>\n",
       "      <td>-0.042860</td>\n",
       "      <td>-0.007786</td>\n",
       "      <td>-0.008437</td>\n",
       "      <td>-0.002113</td>\n",
       "      <td>-0.003345</td>\n",
       "      <td>-0.024503</td>\n",
       "      <td>-0.023035</td>\n",
       "      <td>-0.018257</td>\n",
       "      <td>0.099672</td>\n",
       "    </tr>\n",
       "    <tr>\n",
       "      <td>Soil_Type_5</td>\n",
       "      <td>-0.150376</td>\n",
       "      <td>0.008938</td>\n",
       "      <td>0.072311</td>\n",
       "      <td>-0.009370</td>\n",
       "      <td>0.026772</td>\n",
       "      <td>-0.061607</td>\n",
       "      <td>-0.046514</td>\n",
       "      <td>-0.062044</td>\n",
       "      <td>-0.006900</td>\n",
       "      <td>-0.051845</td>\n",
       "      <td>...</td>\n",
       "      <td>-0.016550</td>\n",
       "      <td>-0.015240</td>\n",
       "      <td>-0.002768</td>\n",
       "      <td>-0.003000</td>\n",
       "      <td>-0.000751</td>\n",
       "      <td>-0.001189</td>\n",
       "      <td>-0.008713</td>\n",
       "      <td>-0.008191</td>\n",
       "      <td>-0.006492</td>\n",
       "      <td>0.077890</td>\n",
       "    </tr>\n",
       "    <tr>\n",
       "      <td>Soil_Type_6</td>\n",
       "      <td>-0.214606</td>\n",
       "      <td>0.010766</td>\n",
       "      <td>0.003673</td>\n",
       "      <td>-0.012916</td>\n",
       "      <td>0.046259</td>\n",
       "      <td>-0.108328</td>\n",
       "      <td>-0.005665</td>\n",
       "      <td>-0.010497</td>\n",
       "      <td>-0.000556</td>\n",
       "      <td>-0.087305</td>\n",
       "      <td>...</td>\n",
       "      <td>-0.033726</td>\n",
       "      <td>-0.031056</td>\n",
       "      <td>-0.005641</td>\n",
       "      <td>-0.006113</td>\n",
       "      <td>-0.001531</td>\n",
       "      <td>-0.002424</td>\n",
       "      <td>-0.017755</td>\n",
       "      <td>-0.016691</td>\n",
       "      <td>-0.013229</td>\n",
       "      <td>0.112958</td>\n",
       "    </tr>\n",
       "    <tr>\n",
       "      <td>Soil_Type_7</td>\n",
       "      <td>-0.002252</td>\n",
       "      <td>-0.005052</td>\n",
       "      <td>-0.015661</td>\n",
       "      <td>0.004751</td>\n",
       "      <td>-0.008485</td>\n",
       "      <td>0.020107</td>\n",
       "      <td>0.003571</td>\n",
       "      <td>0.005282</td>\n",
       "      <td>0.001852</td>\n",
       "      <td>0.028390</td>\n",
       "      <td>...</td>\n",
       "      <td>-0.004238</td>\n",
       "      <td>-0.003903</td>\n",
       "      <td>-0.000709</td>\n",
       "      <td>-0.000768</td>\n",
       "      <td>-0.000192</td>\n",
       "      <td>-0.000305</td>\n",
       "      <td>-0.002231</td>\n",
       "      <td>-0.002098</td>\n",
       "      <td>-0.001662</td>\n",
       "      <td>-0.000496</td>\n",
       "    </tr>\n",
       "    <tr>\n",
       "      <td>Soil_Type_8</td>\n",
       "      <td>-0.003021</td>\n",
       "      <td>-0.003366</td>\n",
       "      <td>-0.023359</td>\n",
       "      <td>-0.000795</td>\n",
       "      <td>-0.012915</td>\n",
       "      <td>0.025805</td>\n",
       "      <td>0.005000</td>\n",
       "      <td>0.009520</td>\n",
       "      <td>0.003576</td>\n",
       "      <td>0.032796</td>\n",
       "      <td>...</td>\n",
       "      <td>-0.005534</td>\n",
       "      <td>-0.005096</td>\n",
       "      <td>-0.000926</td>\n",
       "      <td>-0.001003</td>\n",
       "      <td>-0.000251</td>\n",
       "      <td>-0.000398</td>\n",
       "      <td>-0.002913</td>\n",
       "      <td>-0.002739</td>\n",
       "      <td>-0.002171</td>\n",
       "      <td>-0.003667</td>\n",
       "    </tr>\n",
       "    <tr>\n",
       "      <td>Soil_Type_9</td>\n",
       "      <td>-0.060915</td>\n",
       "      <td>-0.020800</td>\n",
       "      <td>-0.032752</td>\n",
       "      <td>-0.021935</td>\n",
       "      <td>-0.028476</td>\n",
       "      <td>-0.045813</td>\n",
       "      <td>0.021741</td>\n",
       "      <td>0.005446</td>\n",
       "      <td>-0.010428</td>\n",
       "      <td>-0.036639</td>\n",
       "      <td>...</td>\n",
       "      <td>-0.014020</td>\n",
       "      <td>-0.012910</td>\n",
       "      <td>-0.002345</td>\n",
       "      <td>-0.002541</td>\n",
       "      <td>-0.000637</td>\n",
       "      <td>-0.001008</td>\n",
       "      <td>-0.007381</td>\n",
       "      <td>-0.006939</td>\n",
       "      <td>-0.005500</td>\n",
       "      <td>-0.006110</td>\n",
       "    </tr>\n",
       "    <tr>\n",
       "      <td>Soil_Type_10</td>\n",
       "      <td>-0.428746</td>\n",
       "      <td>0.049835</td>\n",
       "      <td>0.244037</td>\n",
       "      <td>-0.071653</td>\n",
       "      <td>0.055154</td>\n",
       "      <td>-0.182955</td>\n",
       "      <td>-0.223782</td>\n",
       "      <td>-0.245854</td>\n",
       "      <td>0.019923</td>\n",
       "      <td>-0.175974</td>\n",
       "      <td>...</td>\n",
       "      <td>-0.076901</td>\n",
       "      <td>-0.070814</td>\n",
       "      <td>-0.012863</td>\n",
       "      <td>-0.013940</td>\n",
       "      <td>-0.003492</td>\n",
       "      <td>-0.005526</td>\n",
       "      <td>-0.040484</td>\n",
       "      <td>-0.038059</td>\n",
       "      <td>-0.030165</td>\n",
       "      <td>0.243876</td>\n",
       "    </tr>\n",
       "    <tr>\n",
       "      <td>Soil_Type_11</td>\n",
       "      <td>-0.134227</td>\n",
       "      <td>-0.064344</td>\n",
       "      <td>-0.050894</td>\n",
       "      <td>0.001399</td>\n",
       "      <td>-0.020870</td>\n",
       "      <td>-0.099293</td>\n",
       "      <td>0.048371</td>\n",
       "      <td>-0.011993</td>\n",
       "      <td>-0.035640</td>\n",
       "      <td>-0.042799</td>\n",
       "      <td>...</td>\n",
       "      <td>-0.046572</td>\n",
       "      <td>-0.042885</td>\n",
       "      <td>-0.007790</td>\n",
       "      <td>-0.008442</td>\n",
       "      <td>-0.002114</td>\n",
       "      <td>-0.003347</td>\n",
       "      <td>-0.024517</td>\n",
       "      <td>-0.023049</td>\n",
       "      <td>-0.018268</td>\n",
       "      <td>0.035379</td>\n",
       "    </tr>\n",
       "    <tr>\n",
       "      <td>Soil_Type_12</td>\n",
       "      <td>-0.118905</td>\n",
       "      <td>-0.070209</td>\n",
       "      <td>-0.169300</td>\n",
       "      <td>0.014628</td>\n",
       "      <td>-0.044526</td>\n",
       "      <td>0.054196</td>\n",
       "      <td>0.092364</td>\n",
       "      <td>0.058469</td>\n",
       "      <td>-0.020883</td>\n",
       "      <td>0.261720</td>\n",
       "      <td>...</td>\n",
       "      <td>-0.073519</td>\n",
       "      <td>-0.067699</td>\n",
       "      <td>-0.012297</td>\n",
       "      <td>-0.013327</td>\n",
       "      <td>-0.003338</td>\n",
       "      <td>-0.005283</td>\n",
       "      <td>-0.038704</td>\n",
       "      <td>-0.036385</td>\n",
       "      <td>-0.028838</td>\n",
       "      <td>-0.023601</td>\n",
       "    </tr>\n",
       "    <tr>\n",
       "      <td>Soil_Type_13</td>\n",
       "      <td>-0.043984</td>\n",
       "      <td>0.054544</td>\n",
       "      <td>0.192423</td>\n",
       "      <td>-0.002032</td>\n",
       "      <td>0.083482</td>\n",
       "      <td>-0.054968</td>\n",
       "      <td>-0.073390</td>\n",
       "      <td>0.061922</td>\n",
       "      <td>0.052648</td>\n",
       "      <td>-0.092053</td>\n",
       "      <td>...</td>\n",
       "      <td>-0.055440</td>\n",
       "      <td>-0.051051</td>\n",
       "      <td>-0.009273</td>\n",
       "      <td>-0.010049</td>\n",
       "      <td>-0.002517</td>\n",
       "      <td>-0.003984</td>\n",
       "      <td>-0.029186</td>\n",
       "      <td>-0.027438</td>\n",
       "      <td>-0.021747</td>\n",
       "      <td>0.024404</td>\n",
       "    </tr>\n",
       "    <tr>\n",
       "      <td>Soil_Type_14</td>\n",
       "      <td>-0.080825</td>\n",
       "      <td>0.007597</td>\n",
       "      <td>0.000228</td>\n",
       "      <td>-0.038478</td>\n",
       "      <td>-0.024281</td>\n",
       "      <td>-0.033945</td>\n",
       "      <td>-0.010719</td>\n",
       "      <td>0.000969</td>\n",
       "      <td>0.009826</td>\n",
       "      <td>-0.032645</td>\n",
       "      <td>...</td>\n",
       "      <td>-0.010127</td>\n",
       "      <td>-0.009325</td>\n",
       "      <td>-0.001694</td>\n",
       "      <td>-0.001836</td>\n",
       "      <td>-0.000460</td>\n",
       "      <td>-0.000728</td>\n",
       "      <td>-0.005331</td>\n",
       "      <td>-0.005012</td>\n",
       "      <td>-0.003972</td>\n",
       "      <td>0.065562</td>\n",
       "    </tr>\n",
       "    <tr>\n",
       "      <td>Soil_Type_15</td>\n",
       "      <td>-0.007153</td>\n",
       "      <td>-0.002660</td>\n",
       "      <td>0.001081</td>\n",
       "      <td>-0.002667</td>\n",
       "      <td>-0.001744</td>\n",
       "      <td>-0.003144</td>\n",
       "      <td>-0.000522</td>\n",
       "      <td>-0.002872</td>\n",
       "      <td>-0.001120</td>\n",
       "      <td>-0.002541</td>\n",
       "      <td>...</td>\n",
       "      <td>-0.000716</td>\n",
       "      <td>-0.000660</td>\n",
       "      <td>-0.000120</td>\n",
       "      <td>-0.000130</td>\n",
       "      <td>-0.000033</td>\n",
       "      <td>-0.000051</td>\n",
       "      <td>-0.000377</td>\n",
       "      <td>-0.000355</td>\n",
       "      <td>-0.000281</td>\n",
       "      <td>0.006425</td>\n",
       "    </tr>\n",
       "    <tr>\n",
       "      <td>Soil_Type_16</td>\n",
       "      <td>-0.059446</td>\n",
       "      <td>0.007846</td>\n",
       "      <td>-0.034791</td>\n",
       "      <td>-0.067448</td>\n",
       "      <td>-0.050909</td>\n",
       "      <td>0.018083</td>\n",
       "      <td>-0.006590</td>\n",
       "      <td>0.015544</td>\n",
       "      <td>0.019312</td>\n",
       "      <td>0.073795</td>\n",
       "      <td>...</td>\n",
       "      <td>-0.022113</td>\n",
       "      <td>-0.020363</td>\n",
       "      <td>-0.003699</td>\n",
       "      <td>-0.004008</td>\n",
       "      <td>-0.001004</td>\n",
       "      <td>-0.001589</td>\n",
       "      <td>-0.011641</td>\n",
       "      <td>-0.010944</td>\n",
       "      <td>-0.008674</td>\n",
       "      <td>0.009844</td>\n",
       "    </tr>\n",
       "    <tr>\n",
       "      <td>Soil_Type_17</td>\n",
       "      <td>-0.111028</td>\n",
       "      <td>-0.000168</td>\n",
       "      <td>-0.040208</td>\n",
       "      <td>-0.071435</td>\n",
       "      <td>-0.054191</td>\n",
       "      <td>-0.051825</td>\n",
       "      <td>0.004700</td>\n",
       "      <td>0.028664</td>\n",
       "      <td>0.016858</td>\n",
       "      <td>-0.021689</td>\n",
       "      <td>...</td>\n",
       "      <td>-0.024264</td>\n",
       "      <td>-0.022344</td>\n",
       "      <td>-0.004059</td>\n",
       "      <td>-0.004398</td>\n",
       "      <td>-0.001102</td>\n",
       "      <td>-0.001744</td>\n",
       "      <td>-0.012774</td>\n",
       "      <td>-0.012009</td>\n",
       "      <td>-0.009518</td>\n",
       "      <td>0.090582</td>\n",
       "    </tr>\n",
       "    <tr>\n",
       "      <td>Soil_Type_18</td>\n",
       "      <td>-0.081811</td>\n",
       "      <td>-0.028353</td>\n",
       "      <td>-0.045851</td>\n",
       "      <td>-0.013340</td>\n",
       "      <td>-0.031692</td>\n",
       "      <td>-0.051243</td>\n",
       "      <td>0.031293</td>\n",
       "      <td>0.015170</td>\n",
       "      <td>-0.011445</td>\n",
       "      <td>0.107228</td>\n",
       "      <td>...</td>\n",
       "      <td>-0.018052</td>\n",
       "      <td>-0.016623</td>\n",
       "      <td>-0.003020</td>\n",
       "      <td>-0.003272</td>\n",
       "      <td>-0.000820</td>\n",
       "      <td>-0.001297</td>\n",
       "      <td>-0.009503</td>\n",
       "      <td>-0.008934</td>\n",
       "      <td>-0.007081</td>\n",
       "      <td>0.007390</td>\n",
       "    </tr>\n",
       "    <tr>\n",
       "      <td>Soil_Type_19</td>\n",
       "      <td>0.033144</td>\n",
       "      <td>-0.003635</td>\n",
       "      <td>-0.083743</td>\n",
       "      <td>-0.043236</td>\n",
       "      <td>-0.055635</td>\n",
       "      <td>0.068758</td>\n",
       "      <td>0.017103</td>\n",
       "      <td>0.037140</td>\n",
       "      <td>0.016273</td>\n",
       "      <td>0.006165</td>\n",
       "      <td>...</td>\n",
       "      <td>-0.026316</td>\n",
       "      <td>-0.024233</td>\n",
       "      <td>-0.004402</td>\n",
       "      <td>-0.004770</td>\n",
       "      <td>-0.001195</td>\n",
       "      <td>-0.001891</td>\n",
       "      <td>-0.013854</td>\n",
       "      <td>-0.013024</td>\n",
       "      <td>-0.010323</td>\n",
       "      <td>-0.036452</td>\n",
       "    </tr>\n",
       "    <tr>\n",
       "      <td>Soil_Type_20</td>\n",
       "      <td>-0.043128</td>\n",
       "      <td>-0.029440</td>\n",
       "      <td>-0.077582</td>\n",
       "      <td>-0.078088</td>\n",
       "      <td>-0.076727</td>\n",
       "      <td>0.056595</td>\n",
       "      <td>0.024811</td>\n",
       "      <td>0.015826</td>\n",
       "      <td>0.000494</td>\n",
       "      <td>0.108575</td>\n",
       "      <td>...</td>\n",
       "      <td>-0.040116</td>\n",
       "      <td>-0.036940</td>\n",
       "      <td>-0.006710</td>\n",
       "      <td>-0.007272</td>\n",
       "      <td>-0.001821</td>\n",
       "      <td>-0.002883</td>\n",
       "      <td>-0.021119</td>\n",
       "      <td>-0.019854</td>\n",
       "      <td>-0.015736</td>\n",
       "      <td>-0.028665</td>\n",
       "    </tr>\n",
       "    <tr>\n",
       "      <td>Soil_Type_21</td>\n",
       "      <td>0.017557</td>\n",
       "      <td>0.032998</td>\n",
       "      <td>-0.025461</td>\n",
       "      <td>-0.039953</td>\n",
       "      <td>-0.026116</td>\n",
       "      <td>-0.014890</td>\n",
       "      <td>-0.014162</td>\n",
       "      <td>0.029727</td>\n",
       "      <td>0.031423</td>\n",
       "      <td>-0.024113</td>\n",
       "      <td>...</td>\n",
       "      <td>-0.011981</td>\n",
       "      <td>-0.011032</td>\n",
       "      <td>-0.002004</td>\n",
       "      <td>-0.002172</td>\n",
       "      <td>-0.000544</td>\n",
       "      <td>-0.000861</td>\n",
       "      <td>-0.006307</td>\n",
       "      <td>-0.005929</td>\n",
       "      <td>-0.004699</td>\n",
       "      <td>-0.025400</td>\n",
       "    </tr>\n",
       "    <tr>\n",
       "      <td>Soil_Type_22</td>\n",
       "      <td>0.158959</td>\n",
       "      <td>0.021578</td>\n",
       "      <td>-0.053396</td>\n",
       "      <td>-0.051424</td>\n",
       "      <td>-0.075679</td>\n",
       "      <td>0.046979</td>\n",
       "      <td>0.000252</td>\n",
       "      <td>0.032096</td>\n",
       "      <td>0.027286</td>\n",
       "      <td>-0.024772</td>\n",
       "      <td>...</td>\n",
       "      <td>-0.077820</td>\n",
       "      <td>-0.071659</td>\n",
       "      <td>-0.013017</td>\n",
       "      <td>-0.014106</td>\n",
       "      <td>-0.003533</td>\n",
       "      <td>-0.005592</td>\n",
       "      <td>-0.040968</td>\n",
       "      <td>-0.038514</td>\n",
       "      <td>-0.030525</td>\n",
       "      <td>-0.141746</td>\n",
       "    </tr>\n",
       "    <tr>\n",
       "      <td>Soil_Type_23</td>\n",
       "      <td>0.124356</td>\n",
       "      <td>0.013676</td>\n",
       "      <td>-0.207397</td>\n",
       "      <td>-0.132244</td>\n",
       "      <td>-0.180098</td>\n",
       "      <td>-0.007067</td>\n",
       "      <td>0.036234</td>\n",
       "      <td>0.118746</td>\n",
       "      <td>0.063686</td>\n",
       "      <td>-0.025421</td>\n",
       "      <td>...</td>\n",
       "      <td>-0.104728</td>\n",
       "      <td>-0.096438</td>\n",
       "      <td>-0.017518</td>\n",
       "      <td>-0.018984</td>\n",
       "      <td>-0.004755</td>\n",
       "      <td>-0.007526</td>\n",
       "      <td>-0.055134</td>\n",
       "      <td>-0.051831</td>\n",
       "      <td>-0.041080</td>\n",
       "      <td>-0.135055</td>\n",
       "    </tr>\n",
       "    <tr>\n",
       "      <td>Soil_Type_24</td>\n",
       "      <td>0.053582</td>\n",
       "      <td>0.018164</td>\n",
       "      <td>0.082434</td>\n",
       "      <td>0.021927</td>\n",
       "      <td>0.037066</td>\n",
       "      <td>-0.032451</td>\n",
       "      <td>-0.112379</td>\n",
       "      <td>-0.128597</td>\n",
       "      <td>0.020953</td>\n",
       "      <td>0.007914</td>\n",
       "      <td>...</td>\n",
       "      <td>-0.061463</td>\n",
       "      <td>-0.056598</td>\n",
       "      <td>-0.010281</td>\n",
       "      <td>-0.011141</td>\n",
       "      <td>-0.002791</td>\n",
       "      <td>-0.004417</td>\n",
       "      <td>-0.032357</td>\n",
       "      <td>-0.030419</td>\n",
       "      <td>-0.024109</td>\n",
       "      <td>-0.068746</td>\n",
       "    </tr>\n",
       "    <tr>\n",
       "      <td>Soil_Type_25</td>\n",
       "      <td>0.028753</td>\n",
       "      <td>-0.003265</td>\n",
       "      <td>0.026364</td>\n",
       "      <td>0.016099</td>\n",
       "      <td>-0.013471</td>\n",
       "      <td>-0.034842</td>\n",
       "      <td>0.032783</td>\n",
       "      <td>0.007276</td>\n",
       "      <td>-0.029094</td>\n",
       "      <td>0.036232</td>\n",
       "      <td>...</td>\n",
       "      <td>-0.009008</td>\n",
       "      <td>-0.008295</td>\n",
       "      <td>-0.001507</td>\n",
       "      <td>-0.001633</td>\n",
       "      <td>-0.000409</td>\n",
       "      <td>-0.000647</td>\n",
       "      <td>-0.004742</td>\n",
       "      <td>-0.004458</td>\n",
       "      <td>-0.003533</td>\n",
       "      <td>-0.006449</td>\n",
       "    </tr>\n",
       "    <tr>\n",
       "      <td>Soil_Type_26</td>\n",
       "      <td>-0.016657</td>\n",
       "      <td>-0.010661</td>\n",
       "      <td>-0.021449</td>\n",
       "      <td>0.013408</td>\n",
       "      <td>-0.011212</td>\n",
       "      <td>0.002521</td>\n",
       "      <td>0.027388</td>\n",
       "      <td>0.041220</td>\n",
       "      <td>0.002145</td>\n",
       "      <td>0.021583</td>\n",
       "      <td>...</td>\n",
       "      <td>-0.021090</td>\n",
       "      <td>-0.019421</td>\n",
       "      <td>-0.003528</td>\n",
       "      <td>-0.003823</td>\n",
       "      <td>-0.000958</td>\n",
       "      <td>-0.001516</td>\n",
       "      <td>-0.011103</td>\n",
       "      <td>-0.010438</td>\n",
       "      <td>-0.008273</td>\n",
       "      <td>-0.000375</td>\n",
       "    </tr>\n",
       "    <tr>\n",
       "      <td>Soil_Type_27</td>\n",
       "      <td>0.035254</td>\n",
       "      <td>0.011328</td>\n",
       "      <td>0.043695</td>\n",
       "      <td>0.052384</td>\n",
       "      <td>0.067086</td>\n",
       "      <td>0.003866</td>\n",
       "      <td>0.001638</td>\n",
       "      <td>0.019941</td>\n",
       "      <td>0.000383</td>\n",
       "      <td>-0.003620</td>\n",
       "      <td>...</td>\n",
       "      <td>-0.013642</td>\n",
       "      <td>-0.012562</td>\n",
       "      <td>-0.002282</td>\n",
       "      <td>-0.002473</td>\n",
       "      <td>-0.000619</td>\n",
       "      <td>-0.000980</td>\n",
       "      <td>-0.007182</td>\n",
       "      <td>-0.006751</td>\n",
       "      <td>-0.005351</td>\n",
       "      <td>-0.014407</td>\n",
       "    </tr>\n",
       "    <tr>\n",
       "      <td>Soil_Type_28</td>\n",
       "      <td>-0.029270</td>\n",
       "      <td>0.027535</td>\n",
       "      <td>0.067052</td>\n",
       "      <td>0.026210</td>\n",
       "      <td>0.071672</td>\n",
       "      <td>-0.032749</td>\n",
       "      <td>-0.091435</td>\n",
       "      <td>-0.004998</td>\n",
       "      <td>0.059661</td>\n",
       "      <td>-0.018298</td>\n",
       "      <td>...</td>\n",
       "      <td>-0.012731</td>\n",
       "      <td>-0.011723</td>\n",
       "      <td>-0.002129</td>\n",
       "      <td>-0.002308</td>\n",
       "      <td>-0.000578</td>\n",
       "      <td>-0.000915</td>\n",
       "      <td>-0.006702</td>\n",
       "      <td>-0.006300</td>\n",
       "      <td>-0.004994</td>\n",
       "      <td>-0.001702</td>\n",
       "    </tr>\n",
       "    <tr>\n",
       "      <td>Soil_Type_29</td>\n",
       "      <td>0.074327</td>\n",
       "      <td>-0.062181</td>\n",
       "      <td>-0.082941</td>\n",
       "      <td>-0.001025</td>\n",
       "      <td>-0.075860</td>\n",
       "      <td>0.306324</td>\n",
       "      <td>0.081499</td>\n",
       "      <td>-0.017877</td>\n",
       "      <td>-0.059882</td>\n",
       "      <td>0.215194</td>\n",
       "      <td>...</td>\n",
       "      <td>-0.156809</td>\n",
       "      <td>-0.144396</td>\n",
       "      <td>-0.026229</td>\n",
       "      <td>-0.028424</td>\n",
       "      <td>-0.007120</td>\n",
       "      <td>-0.011268</td>\n",
       "      <td>-0.082551</td>\n",
       "      <td>-0.077606</td>\n",
       "      <td>-0.061509</td>\n",
       "      <td>-0.124933</td>\n",
       "    </tr>\n",
       "    <tr>\n",
       "      <td>Soil_Type_30</td>\n",
       "      <td>-0.026667</td>\n",
       "      <td>-0.028922</td>\n",
       "      <td>0.075864</td>\n",
       "      <td>-0.049960</td>\n",
       "      <td>-0.011901</td>\n",
       "      <td>0.077091</td>\n",
       "      <td>0.104003</td>\n",
       "      <td>-0.030526</td>\n",
       "      <td>-0.117380</td>\n",
       "      <td>0.054713</td>\n",
       "      <td>...</td>\n",
       "      <td>-0.073776</td>\n",
       "      <td>-0.067936</td>\n",
       "      <td>-0.012340</td>\n",
       "      <td>-0.013373</td>\n",
       "      <td>-0.003350</td>\n",
       "      <td>-0.005302</td>\n",
       "      <td>-0.038839</td>\n",
       "      <td>-0.036512</td>\n",
       "      <td>-0.028939</td>\n",
       "      <td>-0.010436</td>\n",
       "    </tr>\n",
       "    <tr>\n",
       "      <td>Soil_Type_31</td>\n",
       "      <td>0.070405</td>\n",
       "      <td>0.001763</td>\n",
       "      <td>-0.034610</td>\n",
       "      <td>0.073658</td>\n",
       "      <td>0.033609</td>\n",
       "      <td>-0.058840</td>\n",
       "      <td>-0.035114</td>\n",
       "      <td>-0.000095</td>\n",
       "      <td>0.040475</td>\n",
       "      <td>-0.066258</td>\n",
       "      <td>...</td>\n",
       "      <td>-0.067770</td>\n",
       "      <td>-0.062405</td>\n",
       "      <td>-0.011336</td>\n",
       "      <td>-0.012285</td>\n",
       "      <td>-0.003077</td>\n",
       "      <td>-0.004870</td>\n",
       "      <td>-0.035677</td>\n",
       "      <td>-0.033540</td>\n",
       "      <td>-0.026583</td>\n",
       "      <td>-0.065347</td>\n",
       "    </tr>\n",
       "    <tr>\n",
       "      <td>Soil_Type_32</td>\n",
       "      <td>0.167077</td>\n",
       "      <td>0.056233</td>\n",
       "      <td>-0.133504</td>\n",
       "      <td>0.127217</td>\n",
       "      <td>0.039762</td>\n",
       "      <td>-0.089019</td>\n",
       "      <td>0.006494</td>\n",
       "      <td>0.125395</td>\n",
       "      <td>0.083066</td>\n",
       "      <td>-0.089977</td>\n",
       "      <td>...</td>\n",
       "      <td>1.000000</td>\n",
       "      <td>-0.091509</td>\n",
       "      <td>-0.016623</td>\n",
       "      <td>-0.018014</td>\n",
       "      <td>-0.004512</td>\n",
       "      <td>-0.007141</td>\n",
       "      <td>-0.052316</td>\n",
       "      <td>-0.049182</td>\n",
       "      <td>-0.038980</td>\n",
       "      <td>-0.075562</td>\n",
       "    </tr>\n",
       "    <tr>\n",
       "      <td>Soil_Type_33</td>\n",
       "      <td>0.070633</td>\n",
       "      <td>0.019163</td>\n",
       "      <td>0.208942</td>\n",
       "      <td>0.101195</td>\n",
       "      <td>0.167091</td>\n",
       "      <td>-0.082779</td>\n",
       "      <td>-0.064381</td>\n",
       "      <td>-0.086164</td>\n",
       "      <td>-0.024393</td>\n",
       "      <td>-0.059067</td>\n",
       "      <td>...</td>\n",
       "      <td>-0.091509</td>\n",
       "      <td>1.000000</td>\n",
       "      <td>-0.015307</td>\n",
       "      <td>-0.016588</td>\n",
       "      <td>-0.004155</td>\n",
       "      <td>-0.006576</td>\n",
       "      <td>-0.048174</td>\n",
       "      <td>-0.045288</td>\n",
       "      <td>-0.035895</td>\n",
       "      <td>-0.062502</td>\n",
       "    </tr>\n",
       "    <tr>\n",
       "      <td>Soil_Type_34</td>\n",
       "      <td>0.011731</td>\n",
       "      <td>0.010861</td>\n",
       "      <td>-0.011002</td>\n",
       "      <td>0.070268</td>\n",
       "      <td>0.060274</td>\n",
       "      <td>0.006390</td>\n",
       "      <td>0.007154</td>\n",
       "      <td>0.043061</td>\n",
       "      <td>0.017757</td>\n",
       "      <td>-0.035067</td>\n",
       "      <td>...</td>\n",
       "      <td>-0.016623</td>\n",
       "      <td>-0.015307</td>\n",
       "      <td>1.000000</td>\n",
       "      <td>-0.003013</td>\n",
       "      <td>-0.000755</td>\n",
       "      <td>-0.001194</td>\n",
       "      <td>-0.008751</td>\n",
       "      <td>-0.008227</td>\n",
       "      <td>-0.006520</td>\n",
       "      <td>0.004643</td>\n",
       "    </tr>\n",
       "    <tr>\n",
       "      <td>Soil_Type_35</td>\n",
       "      <td>0.083005</td>\n",
       "      <td>-0.021991</td>\n",
       "      <td>-0.022228</td>\n",
       "      <td>-0.005231</td>\n",
       "      <td>-0.006092</td>\n",
       "      <td>-0.003000</td>\n",
       "      <td>0.027870</td>\n",
       "      <td>0.005863</td>\n",
       "      <td>-0.016482</td>\n",
       "      <td>-0.000081</td>\n",
       "      <td>...</td>\n",
       "      <td>-0.018014</td>\n",
       "      <td>-0.016588</td>\n",
       "      <td>-0.003013</td>\n",
       "      <td>1.000000</td>\n",
       "      <td>-0.000818</td>\n",
       "      <td>-0.001294</td>\n",
       "      <td>-0.009483</td>\n",
       "      <td>-0.008915</td>\n",
       "      <td>-0.007066</td>\n",
       "      <td>0.080315</td>\n",
       "    </tr>\n",
       "    <tr>\n",
       "      <td>Soil_Type_36</td>\n",
       "      <td>0.021107</td>\n",
       "      <td>0.002281</td>\n",
       "      <td>0.002918</td>\n",
       "      <td>0.033421</td>\n",
       "      <td>0.012955</td>\n",
       "      <td>0.007550</td>\n",
       "      <td>0.007865</td>\n",
       "      <td>0.016239</td>\n",
       "      <td>0.001330</td>\n",
       "      <td>-0.010595</td>\n",
       "      <td>...</td>\n",
       "      <td>-0.004512</td>\n",
       "      <td>-0.004155</td>\n",
       "      <td>-0.000755</td>\n",
       "      <td>-0.000818</td>\n",
       "      <td>1.000000</td>\n",
       "      <td>-0.000324</td>\n",
       "      <td>-0.002375</td>\n",
       "      <td>-0.002233</td>\n",
       "      <td>-0.001770</td>\n",
       "      <td>0.025397</td>\n",
       "    </tr>\n",
       "    <tr>\n",
       "      <td>Soil_Type_37</td>\n",
       "      <td>0.035433</td>\n",
       "      <td>-0.020398</td>\n",
       "      <td>0.007848</td>\n",
       "      <td>-0.006802</td>\n",
       "      <td>-0.007520</td>\n",
       "      <td>0.016313</td>\n",
       "      <td>0.010332</td>\n",
       "      <td>-0.022707</td>\n",
       "      <td>-0.022064</td>\n",
       "      <td>0.004180</td>\n",
       "      <td>...</td>\n",
       "      <td>-0.007141</td>\n",
       "      <td>-0.006576</td>\n",
       "      <td>-0.001194</td>\n",
       "      <td>-0.001294</td>\n",
       "      <td>-0.000324</td>\n",
       "      <td>1.000000</td>\n",
       "      <td>-0.003759</td>\n",
       "      <td>-0.003534</td>\n",
       "      <td>-0.002801</td>\n",
       "      <td>0.080271</td>\n",
       "    </tr>\n",
       "    <tr>\n",
       "      <td>Soil_Type_38</td>\n",
       "      <td>0.217179</td>\n",
       "      <td>0.017706</td>\n",
       "      <td>-0.072208</td>\n",
       "      <td>0.043031</td>\n",
       "      <td>-0.008629</td>\n",
       "      <td>0.079778</td>\n",
       "      <td>0.015108</td>\n",
       "      <td>0.042952</td>\n",
       "      <td>0.022187</td>\n",
       "      <td>-0.019740</td>\n",
       "      <td>...</td>\n",
       "      <td>-0.052316</td>\n",
       "      <td>-0.048174</td>\n",
       "      <td>-0.008751</td>\n",
       "      <td>-0.009483</td>\n",
       "      <td>-0.002375</td>\n",
       "      <td>-0.003759</td>\n",
       "      <td>1.000000</td>\n",
       "      <td>-0.025891</td>\n",
       "      <td>-0.020521</td>\n",
       "      <td>0.160170</td>\n",
       "    </tr>\n",
       "    <tr>\n",
       "      <td>Soil_Type_39</td>\n",
       "      <td>0.193595</td>\n",
       "      <td>0.008294</td>\n",
       "      <td>0.093602</td>\n",
       "      <td>0.031922</td>\n",
       "      <td>0.043859</td>\n",
       "      <td>0.033762</td>\n",
       "      <td>-0.029620</td>\n",
       "      <td>-0.071961</td>\n",
       "      <td>-0.029040</td>\n",
       "      <td>-0.003301</td>\n",
       "      <td>...</td>\n",
       "      <td>-0.049182</td>\n",
       "      <td>-0.045288</td>\n",
       "      <td>-0.008227</td>\n",
       "      <td>-0.008915</td>\n",
       "      <td>-0.002233</td>\n",
       "      <td>-0.003534</td>\n",
       "      <td>-0.025891</td>\n",
       "      <td>1.000000</td>\n",
       "      <td>-0.019292</td>\n",
       "      <td>0.155668</td>\n",
       "    </tr>\n",
       "    <tr>\n",
       "      <td>Soil_Type_40</td>\n",
       "      <td>0.212612</td>\n",
       "      <td>-0.005866</td>\n",
       "      <td>0.025637</td>\n",
       "      <td>0.147020</td>\n",
       "      <td>0.179006</td>\n",
       "      <td>0.016052</td>\n",
       "      <td>-0.000016</td>\n",
       "      <td>-0.040176</td>\n",
       "      <td>-0.024254</td>\n",
       "      <td>0.008915</td>\n",
       "      <td>...</td>\n",
       "      <td>-0.038980</td>\n",
       "      <td>-0.035895</td>\n",
       "      <td>-0.006520</td>\n",
       "      <td>-0.007066</td>\n",
       "      <td>-0.001770</td>\n",
       "      <td>-0.002801</td>\n",
       "      <td>-0.020521</td>\n",
       "      <td>-0.019292</td>\n",
       "      <td>1.000000</td>\n",
       "      <td>0.128351</td>\n",
       "    </tr>\n",
       "    <tr>\n",
       "      <td>Cover_Type</td>\n",
       "      <td>-0.269554</td>\n",
       "      <td>0.017080</td>\n",
       "      <td>0.148285</td>\n",
       "      <td>-0.020317</td>\n",
       "      <td>0.081664</td>\n",
       "      <td>-0.153450</td>\n",
       "      <td>-0.035415</td>\n",
       "      <td>-0.096426</td>\n",
       "      <td>-0.048290</td>\n",
       "      <td>-0.108936</td>\n",
       "      <td>...</td>\n",
       "      <td>-0.075562</td>\n",
       "      <td>-0.062502</td>\n",
       "      <td>0.004643</td>\n",
       "      <td>0.080315</td>\n",
       "      <td>0.025397</td>\n",
       "      <td>0.080271</td>\n",
       "      <td>0.160170</td>\n",
       "      <td>0.155668</td>\n",
       "      <td>0.128351</td>\n",
       "      <td>1.000000</td>\n",
       "    </tr>\n",
       "  </tbody>\n",
       "</table>\n",
       "<p>55 rows × 55 columns</p>\n",
       "</div>"
      ],
      "text/plain": [
       "                Elevation    Aspect     Slope  Hor_Dist_Hyd  Ver_Dist_Hyd  \\\n",
       "Elevation        1.000000  0.015735 -0.242697      0.306229      0.093306   \n",
       "Aspect           0.015735  1.000000  0.078728      0.017376      0.070305   \n",
       "Slope           -0.242697  0.078728  1.000000     -0.010607      0.274976   \n",
       "Hor_Dist_Hyd     0.306229  0.017376 -0.010607      1.000000      0.606236   \n",
       "Ver_Dist_Hyd     0.093306  0.070305  0.274976      0.606236      1.000000   \n",
       "Hor_Dist_Road    0.365559  0.025121 -0.215914      0.072030     -0.046372   \n",
       "Hillshade_9am    0.112179 -0.579273 -0.327199     -0.027088     -0.166333   \n",
       "Hillshade_noon   0.205887  0.336103 -0.526911      0.046790     -0.110957   \n",
       "Hillshade_3pm    0.059148  0.646944 -0.175854      0.052330      0.034902   \n",
       "Hor_Dist_Fire    0.148022 -0.109172 -0.185662      0.051874     -0.069913   \n",
       "WA_1             0.131838 -0.140123 -0.234576     -0.097124     -0.180710   \n",
       "WA_2             0.238164  0.055988 -0.036253      0.055726     -0.008709   \n",
       "WA_3             0.066550  0.074904  0.125663      0.122028      0.146839   \n",
       "WA_4            -0.619374  0.082687  0.255503     -0.100433      0.077792   \n",
       "Soil_Type_1     -0.204512 -0.007574  0.107847     -0.035096      0.015275   \n",
       "Soil_Type_2     -0.187677 -0.005649 -0.018553     -0.011569      0.008954   \n",
       "Soil_Type_3     -0.182463 -0.002730  0.125497     -0.041211      0.008863   \n",
       "Soil_Type_4     -0.183521  0.017212  0.131847     -0.049071      0.025066   \n",
       "Soil_Type_5     -0.150376  0.008938  0.072311     -0.009370      0.026772   \n",
       "Soil_Type_6     -0.214606  0.010766  0.003673     -0.012916      0.046259   \n",
       "Soil_Type_7     -0.002252 -0.005052 -0.015661      0.004751     -0.008485   \n",
       "Soil_Type_8     -0.003021 -0.003366 -0.023359     -0.000795     -0.012915   \n",
       "Soil_Type_9     -0.060915 -0.020800 -0.032752     -0.021935     -0.028476   \n",
       "Soil_Type_10    -0.428746  0.049835  0.244037     -0.071653      0.055154   \n",
       "Soil_Type_11    -0.134227 -0.064344 -0.050894      0.001399     -0.020870   \n",
       "Soil_Type_12    -0.118905 -0.070209 -0.169300      0.014628     -0.044526   \n",
       "Soil_Type_13    -0.043984  0.054544  0.192423     -0.002032      0.083482   \n",
       "Soil_Type_14    -0.080825  0.007597  0.000228     -0.038478     -0.024281   \n",
       "Soil_Type_15    -0.007153 -0.002660  0.001081     -0.002667     -0.001744   \n",
       "Soil_Type_16    -0.059446  0.007846 -0.034791     -0.067448     -0.050909   \n",
       "Soil_Type_17    -0.111028 -0.000168 -0.040208     -0.071435     -0.054191   \n",
       "Soil_Type_18    -0.081811 -0.028353 -0.045851     -0.013340     -0.031692   \n",
       "Soil_Type_19     0.033144 -0.003635 -0.083743     -0.043236     -0.055635   \n",
       "Soil_Type_20    -0.043128 -0.029440 -0.077582     -0.078088     -0.076727   \n",
       "Soil_Type_21     0.017557  0.032998 -0.025461     -0.039953     -0.026116   \n",
       "Soil_Type_22     0.158959  0.021578 -0.053396     -0.051424     -0.075679   \n",
       "Soil_Type_23     0.124356  0.013676 -0.207397     -0.132244     -0.180098   \n",
       "Soil_Type_24     0.053582  0.018164  0.082434      0.021927      0.037066   \n",
       "Soil_Type_25     0.028753 -0.003265  0.026364      0.016099     -0.013471   \n",
       "Soil_Type_26    -0.016657 -0.010661 -0.021449      0.013408     -0.011212   \n",
       "Soil_Type_27     0.035254  0.011328  0.043695      0.052384      0.067086   \n",
       "Soil_Type_28    -0.029270  0.027535  0.067052      0.026210      0.071672   \n",
       "Soil_Type_29     0.074327 -0.062181 -0.082941     -0.001025     -0.075860   \n",
       "Soil_Type_30    -0.026667 -0.028922  0.075864     -0.049960     -0.011901   \n",
       "Soil_Type_31     0.070405  0.001763 -0.034610      0.073658      0.033609   \n",
       "Soil_Type_32     0.167077  0.056233 -0.133504      0.127217      0.039762   \n",
       "Soil_Type_33     0.070633  0.019163  0.208942      0.101195      0.167091   \n",
       "Soil_Type_34     0.011731  0.010861 -0.011002      0.070268      0.060274   \n",
       "Soil_Type_35     0.083005 -0.021991 -0.022228     -0.005231     -0.006092   \n",
       "Soil_Type_36     0.021107  0.002281  0.002918      0.033421      0.012955   \n",
       "Soil_Type_37     0.035433 -0.020398  0.007848     -0.006802     -0.007520   \n",
       "Soil_Type_38     0.217179  0.017706 -0.072208      0.043031     -0.008629   \n",
       "Soil_Type_39     0.193595  0.008294  0.093602      0.031922      0.043859   \n",
       "Soil_Type_40     0.212612 -0.005866  0.025637      0.147020      0.179006   \n",
       "Cover_Type      -0.269554  0.017080  0.148285     -0.020317      0.081664   \n",
       "\n",
       "                Hor_Dist_Road  Hillshade_9am  Hillshade_noon  Hillshade_3pm  \\\n",
       "Elevation            0.365559       0.112179        0.205887       0.059148   \n",
       "Aspect               0.025121      -0.579273        0.336103       0.646944   \n",
       "Slope               -0.215914      -0.327199       -0.526911      -0.175854   \n",
       "Hor_Dist_Hyd         0.072030      -0.027088        0.046790       0.052330   \n",
       "Ver_Dist_Hyd        -0.046372      -0.166333       -0.110957       0.034902   \n",
       "Hor_Dist_Road        1.000000       0.034349        0.189461       0.106119   \n",
       "Hillshade_9am        0.034349       1.000000        0.010037      -0.780296   \n",
       "Hillshade_noon       0.189461       0.010037        1.000000       0.594274   \n",
       "Hillshade_3pm        0.106119      -0.780296        0.594274       1.000000   \n",
       "Hor_Dist_Fire        0.331580       0.132669        0.057329      -0.047981   \n",
       "WA_1                 0.453913       0.201299        0.028728      -0.115155   \n",
       "WA_2                -0.200411      -0.006181        0.042392       0.034707   \n",
       "WA_3                -0.232933      -0.100565        0.048646       0.090757   \n",
       "WA_4                -0.270349      -0.200282       -0.195733       0.018860   \n",
       "Soil_Type_1         -0.083585      -0.000937       -0.052561      -0.050157   \n",
       "Soil_Type_2         -0.088026       0.036253        0.043250      -0.005276   \n",
       "Soil_Type_3         -0.084988       0.039648        0.002702      -0.060554   \n",
       "Soil_Type_4         -0.088524       0.023812        0.084397      -0.004670   \n",
       "Soil_Type_5         -0.061607      -0.046514       -0.062044      -0.006900   \n",
       "Soil_Type_6         -0.108328      -0.005665       -0.010497      -0.000556   \n",
       "Soil_Type_7          0.020107       0.003571        0.005282       0.001852   \n",
       "Soil_Type_8          0.025805       0.005000        0.009520       0.003576   \n",
       "Soil_Type_9         -0.045813       0.021741        0.005446      -0.010428   \n",
       "Soil_Type_10        -0.182955      -0.223782       -0.245854       0.019923   \n",
       "Soil_Type_11        -0.099293       0.048371       -0.011993      -0.035640   \n",
       "Soil_Type_12         0.054196       0.092364        0.058469      -0.020883   \n",
       "Soil_Type_13        -0.054968      -0.073390        0.061922       0.052648   \n",
       "Soil_Type_14        -0.033945      -0.010719        0.000969       0.009826   \n",
       "Soil_Type_15        -0.003144      -0.000522       -0.002872      -0.001120   \n",
       "Soil_Type_16         0.018083      -0.006590        0.015544       0.019312   \n",
       "Soil_Type_17        -0.051825       0.004700        0.028664       0.016858   \n",
       "Soil_Type_18        -0.051243       0.031293        0.015170      -0.011445   \n",
       "Soil_Type_19         0.068758       0.017103        0.037140       0.016273   \n",
       "Soil_Type_20         0.056595       0.024811        0.015826       0.000494   \n",
       "Soil_Type_21        -0.014890      -0.014162        0.029727       0.031423   \n",
       "Soil_Type_22         0.046979       0.000252        0.032096       0.027286   \n",
       "Soil_Type_23        -0.007067       0.036234        0.118746       0.063686   \n",
       "Soil_Type_24        -0.032451      -0.112379       -0.128597       0.020953   \n",
       "Soil_Type_25        -0.034842       0.032783        0.007276      -0.029094   \n",
       "Soil_Type_26         0.002521       0.027388        0.041220       0.002145   \n",
       "Soil_Type_27         0.003866       0.001638        0.019941       0.000383   \n",
       "Soil_Type_28        -0.032749      -0.091435       -0.004998       0.059661   \n",
       "Soil_Type_29         0.306324       0.081499       -0.017877      -0.059882   \n",
       "Soil_Type_30         0.077091       0.104003       -0.030526      -0.117380   \n",
       "Soil_Type_31        -0.058840      -0.035114       -0.000095       0.040475   \n",
       "Soil_Type_32        -0.089019       0.006494        0.125395       0.083066   \n",
       "Soil_Type_33        -0.082779      -0.064381       -0.086164      -0.024393   \n",
       "Soil_Type_34         0.006390       0.007154        0.043061       0.017757   \n",
       "Soil_Type_35        -0.003000       0.027870        0.005863      -0.016482   \n",
       "Soil_Type_36         0.007550       0.007865        0.016239       0.001330   \n",
       "Soil_Type_37         0.016313       0.010332       -0.022707      -0.022064   \n",
       "Soil_Type_38         0.079778       0.015108        0.042952       0.022187   \n",
       "Soil_Type_39         0.033762      -0.029620       -0.071961      -0.029040   \n",
       "Soil_Type_40         0.016052      -0.000016       -0.040176      -0.024254   \n",
       "Cover_Type          -0.153450      -0.035415       -0.096426      -0.048290   \n",
       "\n",
       "                Hor_Dist_Fire  ...  Soil_Type_32  Soil_Type_33  Soil_Type_34  \\\n",
       "Elevation            0.148022  ...      0.167077      0.070633      0.011731   \n",
       "Aspect              -0.109172  ...      0.056233      0.019163      0.010861   \n",
       "Slope               -0.185662  ...     -0.133504      0.208942     -0.011002   \n",
       "Hor_Dist_Hyd         0.051874  ...      0.127217      0.101195      0.070268   \n",
       "Ver_Dist_Hyd        -0.069913  ...      0.039762      0.167091      0.060274   \n",
       "Hor_Dist_Road        0.331580  ...     -0.089019     -0.082779      0.006390   \n",
       "Hillshade_9am        0.132669  ...      0.006494     -0.064381      0.007154   \n",
       "Hillshade_noon       0.057329  ...      0.125395     -0.086164      0.043061   \n",
       "Hillshade_3pm       -0.047981  ...      0.083066     -0.024393      0.017757   \n",
       "Hor_Dist_Fire        1.000000  ...     -0.089977     -0.059067     -0.035067   \n",
       "WA_1                 0.380568  ...     -0.284490     -0.261970     -0.047587   \n",
       "WA_2                 0.027473  ...      0.028797      0.014393     -0.012279   \n",
       "WA_3                -0.277510  ...      0.312961      0.293588      0.059964   \n",
       "WA_4                -0.236548  ...     -0.082174     -0.075669     -0.013745   \n",
       "Soil_Type_1         -0.073607  ...     -0.022828     -0.021021     -0.003819   \n",
       "Soil_Type_2         -0.081716  ...     -0.036110     -0.033252     -0.006040   \n",
       "Soil_Type_3         -0.076340  ...     -0.028841     -0.026558     -0.004824   \n",
       "Soil_Type_4         -0.076478  ...     -0.046545     -0.042860     -0.007786   \n",
       "Soil_Type_5         -0.051845  ...     -0.016550     -0.015240     -0.002768   \n",
       "Soil_Type_6         -0.087305  ...     -0.033726     -0.031056     -0.005641   \n",
       "Soil_Type_7          0.028390  ...     -0.004238     -0.003903     -0.000709   \n",
       "Soil_Type_8          0.032796  ...     -0.005534     -0.005096     -0.000926   \n",
       "Soil_Type_9         -0.036639  ...     -0.014020     -0.012910     -0.002345   \n",
       "Soil_Type_10        -0.175974  ...     -0.076901     -0.070814     -0.012863   \n",
       "Soil_Type_11        -0.042799  ...     -0.046572     -0.042885     -0.007790   \n",
       "Soil_Type_12         0.261720  ...     -0.073519     -0.067699     -0.012297   \n",
       "Soil_Type_13        -0.092053  ...     -0.055440     -0.051051     -0.009273   \n",
       "Soil_Type_14        -0.032645  ...     -0.010127     -0.009325     -0.001694   \n",
       "Soil_Type_15        -0.002541  ...     -0.000716     -0.000660     -0.000120   \n",
       "Soil_Type_16         0.073795  ...     -0.022113     -0.020363     -0.003699   \n",
       "Soil_Type_17        -0.021689  ...     -0.024264     -0.022344     -0.004059   \n",
       "Soil_Type_18         0.107228  ...     -0.018052     -0.016623     -0.003020   \n",
       "Soil_Type_19         0.006165  ...     -0.026316     -0.024233     -0.004402   \n",
       "Soil_Type_20         0.108575  ...     -0.040116     -0.036940     -0.006710   \n",
       "Soil_Type_21        -0.024113  ...     -0.011981     -0.011032     -0.002004   \n",
       "Soil_Type_22        -0.024772  ...     -0.077820     -0.071659     -0.013017   \n",
       "Soil_Type_23        -0.025421  ...     -0.104728     -0.096438     -0.017518   \n",
       "Soil_Type_24         0.007914  ...     -0.061463     -0.056598     -0.010281   \n",
       "Soil_Type_25         0.036232  ...     -0.009008     -0.008295     -0.001507   \n",
       "Soil_Type_26         0.021583  ...     -0.021090     -0.019421     -0.003528   \n",
       "Soil_Type_27        -0.003620  ...     -0.013642     -0.012562     -0.002282   \n",
       "Soil_Type_28        -0.018298  ...     -0.012731     -0.011723     -0.002129   \n",
       "Soil_Type_29         0.215194  ...     -0.156809     -0.144396     -0.026229   \n",
       "Soil_Type_30         0.054713  ...     -0.073776     -0.067936     -0.012340   \n",
       "Soil_Type_31        -0.066258  ...     -0.067770     -0.062405     -0.011336   \n",
       "Soil_Type_32        -0.089977  ...      1.000000     -0.091509     -0.016623   \n",
       "Soil_Type_33        -0.059067  ...     -0.091509      1.000000     -0.015307   \n",
       "Soil_Type_34        -0.035067  ...     -0.016623     -0.015307      1.000000   \n",
       "Soil_Type_35        -0.000081  ...     -0.018014     -0.016588     -0.003013   \n",
       "Soil_Type_36        -0.010595  ...     -0.004512     -0.004155     -0.000755   \n",
       "Soil_Type_37         0.004180  ...     -0.007141     -0.006576     -0.001194   \n",
       "Soil_Type_38        -0.019740  ...     -0.052316     -0.048174     -0.008751   \n",
       "Soil_Type_39        -0.003301  ...     -0.049182     -0.045288     -0.008227   \n",
       "Soil_Type_40         0.008915  ...     -0.038980     -0.035895     -0.006520   \n",
       "Cover_Type          -0.108936  ...     -0.075562     -0.062502      0.004643   \n",
       "\n",
       "                Soil_Type_35  Soil_Type_36  Soil_Type_37  Soil_Type_38  \\\n",
       "Elevation           0.083005      0.021107      0.035433      0.217179   \n",
       "Aspect             -0.021991      0.002281     -0.020398      0.017706   \n",
       "Slope              -0.022228      0.002918      0.007848     -0.072208   \n",
       "Hor_Dist_Hyd       -0.005231      0.033421     -0.006802      0.043031   \n",
       "Ver_Dist_Hyd       -0.006092      0.012955     -0.007520     -0.008629   \n",
       "Hor_Dist_Road      -0.003000      0.007550      0.016313      0.079778   \n",
       "Hillshade_9am       0.027870      0.007865      0.010332      0.015108   \n",
       "Hillshade_noon      0.005863      0.016239     -0.022707      0.042952   \n",
       "Hillshade_3pm      -0.016482      0.001330     -0.022064      0.022187   \n",
       "Hor_Dist_Fire      -0.000081     -0.010595      0.004180     -0.019740   \n",
       "WA_1               -0.011714     -0.012917      0.015014      0.011073   \n",
       "WA_2                0.055508     -0.003333     -0.005275      0.061369   \n",
       "WA_3               -0.005644      0.016276     -0.009803     -0.017148   \n",
       "WA_4               -0.014896     -0.003731     -0.005905     -0.043260   \n",
       "Soil_Type_1        -0.004138     -0.001036     -0.001640     -0.012018   \n",
       "Soil_Type_2        -0.006546     -0.001640     -0.002595     -0.019010   \n",
       "Soil_Type_3        -0.005228     -0.001309     -0.002073     -0.015183   \n",
       "Soil_Type_4        -0.008437     -0.002113     -0.003345     -0.024503   \n",
       "Soil_Type_5        -0.003000     -0.000751     -0.001189     -0.008713   \n",
       "Soil_Type_6        -0.006113     -0.001531     -0.002424     -0.017755   \n",
       "Soil_Type_7        -0.000768     -0.000192     -0.000305     -0.002231   \n",
       "Soil_Type_8        -0.001003     -0.000251     -0.000398     -0.002913   \n",
       "Soil_Type_9        -0.002541     -0.000637     -0.001008     -0.007381   \n",
       "Soil_Type_10       -0.013940     -0.003492     -0.005526     -0.040484   \n",
       "Soil_Type_11       -0.008442     -0.002114     -0.003347     -0.024517   \n",
       "Soil_Type_12       -0.013327     -0.003338     -0.005283     -0.038704   \n",
       "Soil_Type_13       -0.010049     -0.002517     -0.003984     -0.029186   \n",
       "Soil_Type_14       -0.001836     -0.000460     -0.000728     -0.005331   \n",
       "Soil_Type_15       -0.000130     -0.000033     -0.000051     -0.000377   \n",
       "Soil_Type_16       -0.004008     -0.001004     -0.001589     -0.011641   \n",
       "Soil_Type_17       -0.004398     -0.001102     -0.001744     -0.012774   \n",
       "Soil_Type_18       -0.003272     -0.000820     -0.001297     -0.009503   \n",
       "Soil_Type_19       -0.004770     -0.001195     -0.001891     -0.013854   \n",
       "Soil_Type_20       -0.007272     -0.001821     -0.002883     -0.021119   \n",
       "Soil_Type_21       -0.002172     -0.000544     -0.000861     -0.006307   \n",
       "Soil_Type_22       -0.014106     -0.003533     -0.005592     -0.040968   \n",
       "Soil_Type_23       -0.018984     -0.004755     -0.007526     -0.055134   \n",
       "Soil_Type_24       -0.011141     -0.002791     -0.004417     -0.032357   \n",
       "Soil_Type_25       -0.001633     -0.000409     -0.000647     -0.004742   \n",
       "Soil_Type_26       -0.003823     -0.000958     -0.001516     -0.011103   \n",
       "Soil_Type_27       -0.002473     -0.000619     -0.000980     -0.007182   \n",
       "Soil_Type_28       -0.002308     -0.000578     -0.000915     -0.006702   \n",
       "Soil_Type_29       -0.028424     -0.007120     -0.011268     -0.082551   \n",
       "Soil_Type_30       -0.013373     -0.003350     -0.005302     -0.038839   \n",
       "Soil_Type_31       -0.012285     -0.003077     -0.004870     -0.035677   \n",
       "Soil_Type_32       -0.018014     -0.004512     -0.007141     -0.052316   \n",
       "Soil_Type_33       -0.016588     -0.004155     -0.006576     -0.048174   \n",
       "Soil_Type_34       -0.003013     -0.000755     -0.001194     -0.008751   \n",
       "Soil_Type_35        1.000000     -0.000818     -0.001294     -0.009483   \n",
       "Soil_Type_36       -0.000818      1.000000     -0.000324     -0.002375   \n",
       "Soil_Type_37       -0.001294     -0.000324      1.000000     -0.003759   \n",
       "Soil_Type_38       -0.009483     -0.002375     -0.003759      1.000000   \n",
       "Soil_Type_39       -0.008915     -0.002233     -0.003534     -0.025891   \n",
       "Soil_Type_40       -0.007066     -0.001770     -0.002801     -0.020521   \n",
       "Cover_Type          0.080315      0.025397      0.080271      0.160170   \n",
       "\n",
       "                Soil_Type_39  Soil_Type_40  Cover_Type  \n",
       "Elevation           0.193595      0.212612   -0.269554  \n",
       "Aspect              0.008294     -0.005866    0.017080  \n",
       "Slope               0.093602      0.025637    0.148285  \n",
       "Hor_Dist_Hyd        0.031922      0.147020   -0.020317  \n",
       "Ver_Dist_Hyd        0.043859      0.179006    0.081664  \n",
       "Hor_Dist_Road       0.033762      0.016052   -0.153450  \n",
       "Hillshade_9am      -0.029620     -0.000016   -0.035415  \n",
       "Hillshade_noon     -0.071961     -0.040176   -0.096426  \n",
       "Hillshade_3pm      -0.029040     -0.024254   -0.048290  \n",
       "Hor_Dist_Fire      -0.003301      0.008915   -0.108936  \n",
       "WA_1                0.012745      0.011974   -0.203913  \n",
       "WA_2                0.011301      0.105050   -0.048059  \n",
       "WA_3                0.002201     -0.042936    0.066846  \n",
       "WA_4               -0.040669     -0.032233    0.323200  \n",
       "Soil_Type_1        -0.011298     -0.008955    0.090828  \n",
       "Soil_Type_2        -0.017871     -0.014164    0.118135  \n",
       "Soil_Type_3        -0.014274     -0.011313    0.068064  \n",
       "Soil_Type_4        -0.023035     -0.018257    0.099672  \n",
       "Soil_Type_5        -0.008191     -0.006492    0.077890  \n",
       "Soil_Type_6        -0.016691     -0.013229    0.112958  \n",
       "Soil_Type_7        -0.002098     -0.001662   -0.000496  \n",
       "Soil_Type_8        -0.002739     -0.002171   -0.003667  \n",
       "Soil_Type_9        -0.006939     -0.005500   -0.006110  \n",
       "Soil_Type_10       -0.038059     -0.030165    0.243876  \n",
       "Soil_Type_11       -0.023049     -0.018268    0.035379  \n",
       "Soil_Type_12       -0.036385     -0.028838   -0.023601  \n",
       "Soil_Type_13       -0.027438     -0.021747    0.024404  \n",
       "Soil_Type_14       -0.005012     -0.003972    0.065562  \n",
       "Soil_Type_15       -0.000355     -0.000281    0.006425  \n",
       "Soil_Type_16       -0.010944     -0.008674    0.009844  \n",
       "Soil_Type_17       -0.012009     -0.009518    0.090582  \n",
       "Soil_Type_18       -0.008934     -0.007081    0.007390  \n",
       "Soil_Type_19       -0.013024     -0.010323   -0.036452  \n",
       "Soil_Type_20       -0.019854     -0.015736   -0.028665  \n",
       "Soil_Type_21       -0.005929     -0.004699   -0.025400  \n",
       "Soil_Type_22       -0.038514     -0.030525   -0.141746  \n",
       "Soil_Type_23       -0.051831     -0.041080   -0.135055  \n",
       "Soil_Type_24       -0.030419     -0.024109   -0.068746  \n",
       "Soil_Type_25       -0.004458     -0.003533   -0.006449  \n",
       "Soil_Type_26       -0.010438     -0.008273   -0.000375  \n",
       "Soil_Type_27       -0.006751     -0.005351   -0.014407  \n",
       "Soil_Type_28       -0.006300     -0.004994   -0.001702  \n",
       "Soil_Type_29       -0.077606     -0.061509   -0.124933  \n",
       "Soil_Type_30       -0.036512     -0.028939   -0.010436  \n",
       "Soil_Type_31       -0.033540     -0.026583   -0.065347  \n",
       "Soil_Type_32       -0.049182     -0.038980   -0.075562  \n",
       "Soil_Type_33       -0.045288     -0.035895   -0.062502  \n",
       "Soil_Type_34       -0.008227     -0.006520    0.004643  \n",
       "Soil_Type_35       -0.008915     -0.007066    0.080315  \n",
       "Soil_Type_36       -0.002233     -0.001770    0.025397  \n",
       "Soil_Type_37       -0.003534     -0.002801    0.080271  \n",
       "Soil_Type_38       -0.025891     -0.020521    0.160170  \n",
       "Soil_Type_39        1.000000     -0.019292    0.155668  \n",
       "Soil_Type_40       -0.019292      1.000000    0.128351  \n",
       "Cover_Type          0.155668      0.128351    1.000000  \n",
       "\n",
       "[55 rows x 55 columns]"
      ]
     },
     "execution_count": 10,
     "metadata": {},
     "output_type": "execute_result"
    }
   ],
   "source": [
    "# View correlation matrix\n",
    "df.corr()"
   ]
  },
  {
   "cell_type": "code",
   "execution_count": 11,
   "metadata": {
    "ExecuteTime": {
     "end_time": "2019-11-24T20:25:12.497243Z",
     "start_time": "2019-11-24T20:25:07.881217Z"
    },
    "colab": {
     "base_uri": "https://localhost:8080/",
     "height": 659
    },
    "colab_type": "code",
    "id": "ii8svOSkHYUr",
    "outputId": "3bc6aa7f-05ef-4522-cbe5-112bcf2b0e09"
   },
   "outputs": [
    {
     "data": {
      "image/png": "[encoded data removed]",
      "text/plain": [
       "<Figure size 864x720 with 2 Axes>"
      ]
     },
     "metadata": {
      "needs_background": "light"
     },
     "output_type": "display_data"
    }
   ],
   "source": [
    "# Correlation heatmap\n",
    "plt.figure(figsize=(12,10))\n",
    "sns.heatmap(df.corr());"
   ]
  },
  {
   "cell_type": "markdown",
   "metadata": {
    "colab_type": "text",
    "id": "ym7xiXCkHYUt"
   },
   "source": [
    "It looks like +/-0.7 is about the strongest correlation between any two variables. If it were 0.8, I would be worried about multicollinearity, but I don't think 0.7 poses a real problem. At any rate, the Principal Components Analysis I'll do later will remove any multicollinearity.\n",
    "\n",
    "I suspect that not all of these features are useful for prediction (especially all those soil types). To test this, I will run a quick Random Forest model and look at the feature importances. If a number of features seem really unimportant for prediction, I can combine/eliminate them using Principal Components Analysis."
   ]
  },
  {
   "cell_type": "code",
   "execution_count": 12,
   "metadata": {
    "ExecuteTime": {
     "end_time": "2019-11-24T20:25:14.845410Z",
     "start_time": "2019-11-24T20:25:14.582399Z"
    },
    "colab": {
     "base_uri": "https://localhost:8080/",
     "height": 190
    },
    "colab_type": "code",
    "id": "Amj1NipTHYUu",
    "outputId": "04f215c7-3160-4a69-f169-32cab231838a"
   },
   "outputs": [
    {
     "name": "stderr",
     "output_type": "stream",
     "text": [
      "/Users/jennykreiger/anaconda3/envs/learn-env/lib/python3.6/site-packages/sklearn/ensemble/forest.py:246: FutureWarning: The default value of n_estimators will change from 10 in version 0.20 to 100 in 0.22.\n",
      "  \"10 in version 0.20 to 100 in 0.22.\", FutureWarning)\n"
     ]
    },
    {
     "data": {
      "text/plain": [
       "RandomForestClassifier(bootstrap=True, class_weight=None, criterion='gini',\n",
       "            max_depth=None, max_features='auto', max_leaf_nodes=None,\n",
       "            min_impurity_decrease=0.0, min_impurity_split=None,\n",
       "            min_samples_leaf=1, min_samples_split=2,\n",
       "            min_weight_fraction_leaf=0.0, n_estimators=10, n_jobs=None,\n",
       "            oob_score=False, random_state=None, verbose=0,\n",
       "            warm_start=False)"
      ]
     },
     "execution_count": 12,
     "metadata": {},
     "output_type": "execute_result"
    }
   ],
   "source": [
    "# Get a random sample of observations for testing\n",
    "quick_sample = df.sample(10000, random_state=1)\n",
    "quick_sample_y = quick_sample['Cover_Type']\n",
    "quick_sample_x = quick_sample.drop('Cover_Type', axis=1)\n",
    "\n",
    "# Create and fit a Random Forest classifier to the quick sample data\n",
    "trial_forest = RandomForestClassifier()\n",
    "trial_forest.fit(quick_sample_x, quick_sample_y)"
   ]
  },
  {
   "cell_type": "code",
   "execution_count": 13,
   "metadata": {
    "ExecuteTime": {
     "end_time": "2019-11-24T20:25:20.557770Z",
     "start_time": "2019-11-24T20:25:19.134292Z"
    },
    "colab": {
     "base_uri": "https://localhost:8080/",
     "height": 638
    },
    "colab_type": "code",
    "id": "kli0Gi-LHYUx",
    "outputId": "8aa26180-6014-4788-c400-2146b41a6a40",
    "scrolled": false
   },
   "outputs": [
    {
     "name": "stdout",
     "output_type": "stream",
     "text": [
      "0.9893\n"
     ]
    },
    {
     "data": {
      "image/png": "[encoded data removed]",
      "text/plain": [
       "<Figure size 576x720 with 1 Axes>"
      ]
     },
     "metadata": {
      "needs_background": "light"
     },
     "output_type": "display_data"
    }
   ],
   "source": [
    "# Visualize the feature importances from the Random Forest trial\n",
    "print(trial_forest.score(quick_sample_x, quick_sample_y))\n",
    "n_features = quick_sample_x.shape[1]\n",
    "plt.figure(figsize=(8,10))\n",
    "plt.barh(range(n_features), trial_forest.feature_importances_, align='center') \n",
    "plt.yticks(np.arange(n_features), quick_sample_x.columns) \n",
    "plt.xlabel(\"Feature importance\")\n",
    "plt.ylabel(\"Feature (Component)\")\n",
    "plt.title('Feature Importances');"
   ]
  },
  {
   "cell_type": "markdown",
   "metadata": {
    "ExecuteTime": {
     "end_time": "2019-11-21T16:23:29.432257Z",
     "start_time": "2019-11-21T16:23:29.422831Z"
    },
    "colab_type": "text",
    "id": "Tt9NOVj6HYUz"
   },
   "source": [
    "Judging by this quick-and-dirty analysis, there may be about 13-14 features (all of them soil types) that have little importance for prediction. Rather than identify and eliminate them manually, I will use Principal Components Analysis (below) to reduce the dimensions of the dataset to 40."
   ]
  },
  {
   "cell_type": "markdown",
   "metadata": {
    "colab_type": "text",
    "id": "Hb5a9NIwqkfi"
   },
   "source": [
    "# Preprocessing"
   ]
  },
  {
   "cell_type": "markdown",
   "metadata": {
    "colab_type": "text",
    "id": "YM7cb0XkZ3xZ"
   },
   "source": [
    "In this section I manipulate the data to prepare it for modeling. There are three main steps I want to take:\n",
    "- Splitting the data into a training set, a validation set (to help me develop my models), and a test set (to help me evaluate the final version of each model);\n",
    "- Resampling the training set so that all classes are equally represented;\n",
    "- Scaling the data, which will help ensure that PCA and some machine learning algorithms work properly;\n",
    "- and Principal Components Analysis (PCA), which will reduce the dimensions of the data and eliminate any multicollinearity.\n",
    "\n",
    "I do all these steps first to the training data so that I can check the outcome at each step. Once that's done, I put the essential preprocessing steps into a pipeline that I can use to transform the validation and test sets."
   ]
  },
  {
   "cell_type": "markdown",
   "metadata": {
    "colab_type": "text",
    "id": "F5I9owJ4qkfj"
   },
   "source": [
    "## Train-validation-test split"
   ]
  },
  {
   "cell_type": "markdown",
   "metadata": {
    "colab_type": "text",
    "id": "gEjap80BZ9-x"
   },
   "source": [
    "First up is the train-test split. Note that I am actually making two splits. First, I take 80% of the total dataset to use as my training data. Then I take the remaining 20% of the original dataset and devote half of that to validation and half to be used as a true holdout set, which I will only use to evaluate the final versions of each of my models.\n",
    "\n",
    "Note also that I am doing stratified splits so that each subset will contain all the classes in the same proportions as in the original dataset."
   ]
  },
  {
   "cell_type": "code",
   "execution_count": 14,
   "metadata": {
    "ExecuteTime": {
     "end_time": "2019-11-24T20:26:20.627221Z",
     "start_time": "2019-11-24T20:26:19.271323Z"
    },
    "colab": {},
    "colab_type": "code",
    "id": "h6yf-_EZqkfk"
   },
   "outputs": [],
   "source": [
    "# Split first into training and test datasets\n",
    "y = df['Cover_Type']\n",
    "X = df.drop('Cover_Type', axis=1)\n",
    "\n",
    "X_train, X_test, y_train, y_test = train_test_split(X, y, test_size=0.2,\n",
    "                                                    random_state=1,\n",
    "                                                    stratify=y)"
   ]
  },
  {
   "cell_type": "code",
   "execution_count": 15,
   "metadata": {
    "ExecuteTime": {
     "end_time": "2019-11-24T20:26:21.818271Z",
     "start_time": "2019-11-24T20:26:21.485741Z"
    },
    "colab": {},
    "colab_type": "code",
    "id": "9Yhs1Jvkqkfm"
   },
   "outputs": [],
   "source": [
    "# Split again into validation and true holdout (test) datasets\n",
    "X_val, X_test, y_val, y_test = train_test_split(X_test, y_test, test_size=0.5,\n",
    "                                                random_state=1,\n",
    "                                                stratify=y_test)"
   ]
  },
  {
   "cell_type": "code",
   "execution_count": 16,
   "metadata": {
    "ExecuteTime": {
     "end_time": "2019-11-24T20:26:24.998682Z",
     "start_time": "2019-11-24T20:26:24.992997Z"
    },
    "colab": {
     "base_uri": "https://localhost:8080/",
     "height": 68
    },
    "colab_type": "code",
    "id": "fnBUtqiXqkfo",
    "outputId": "414f4c7f-2d93-436c-a038-419bd1ae74b9",
    "scrolled": true
   },
   "outputs": [
    {
     "name": "stdout",
     "output_type": "stream",
     "text": [
      "(464809, 54) (464809,)\n",
      "(58101, 54) (58101,)\n",
      "(58102, 54) (58102,)\n"
     ]
    }
   ],
   "source": [
    "# Examine shapes of the subsets\n",
    "print(X_train.shape, y_train.shape)\n",
    "print(X_val.shape, y_val.shape)\n",
    "print(X_test.shape, y_test.shape)"
   ]
  },
  {
   "cell_type": "markdown",
   "metadata": {
    "colab_type": "text",
    "id": "in8VwMTcaz9V"
   },
   "source": [
    "I know that later I will want to compare model performance on the raw data and the preprocessed version, so at this point (before preprocessing) I will save copies for later."
   ]
  },
  {
   "cell_type": "code",
   "execution_count": 17,
   "metadata": {
    "ExecuteTime": {
     "end_time": "2019-11-24T20:26:32.403596Z",
     "start_time": "2019-11-24T20:26:32.008134Z"
    },
    "colab": {},
    "colab_type": "code",
    "id": "3z1-4iBFHYU-"
   },
   "outputs": [],
   "source": [
    "# Save raw copies of train and validation sets before further preprocessing\n",
    "X_train_raw = X_train.copy()\n",
    "y_train_raw = y_train.copy()\n",
    "\n",
    "X_val_raw = X_val.copy()\n",
    "y_val_raw = y_val.copy()"
   ]
  },
  {
   "cell_type": "markdown",
   "metadata": {
    "colab_type": "text",
    "id": "Q6yIQr_mqkfq"
   },
   "source": [
    "## Resampling"
   ]
  },
  {
   "cell_type": "markdown",
   "metadata": {
    "colab_type": "text",
    "id": "JpVNCn6mbh8x"
   },
   "source": [
    "My next preprocessing step is to deal with the class imbalance. My overall strategy is to undersample the bigger classes and oversample the smaller ones so that every class is the same size as the median-sized class.\n",
    "\n",
    "First, I'll put the training data back into one DataFrame to make things a little easier."
   ]
  },
  {
   "cell_type": "code",
   "execution_count": 18,
   "metadata": {
    "ExecuteTime": {
     "end_time": "2019-11-24T20:26:35.849837Z",
     "start_time": "2019-11-24T20:26:35.520688Z"
    },
    "colab": {
     "base_uri": "https://localhost:8080/",
     "height": 241
    },
    "colab_type": "code",
    "id": "jfewFPpmqkfr",
    "outputId": "54f10e36-5207-4945-c2a7-810a436ab94d",
    "scrolled": true
   },
   "outputs": [
    {
     "name": "stdout",
     "output_type": "stream",
     "text": [
      "464809\n"
     ]
    },
    {
     "data": {
      "text/html": [
       "<div>\n",
       "<style scoped>\n",
       "    .dataframe tbody tr th:only-of-type {\n",
       "        vertical-align: middle;\n",
       "    }\n",
       "\n",
       "    .dataframe tbody tr th {\n",
       "        vertical-align: top;\n",
       "    }\n",
       "\n",
       "    .dataframe thead th {\n",
       "        text-align: right;\n",
       "    }\n",
       "</style>\n",
       "<table border=\"1\" class=\"dataframe\">\n",
       "  <thead>\n",
       "    <tr style=\"text-align: right;\">\n",
       "      <th></th>\n",
       "      <th>Elevation</th>\n",
       "      <th>Aspect</th>\n",
       "      <th>Slope</th>\n",
       "      <th>Hor_Dist_Hyd</th>\n",
       "      <th>Ver_Dist_Hyd</th>\n",
       "      <th>Hor_Dist_Road</th>\n",
       "      <th>Hillshade_9am</th>\n",
       "      <th>Hillshade_noon</th>\n",
       "      <th>Hillshade_3pm</th>\n",
       "      <th>Hor_Dist_Fire</th>\n",
       "      <th>...</th>\n",
       "      <th>Soil_Type_32</th>\n",
       "      <th>Soil_Type_33</th>\n",
       "      <th>Soil_Type_34</th>\n",
       "      <th>Soil_Type_35</th>\n",
       "      <th>Soil_Type_36</th>\n",
       "      <th>Soil_Type_37</th>\n",
       "      <th>Soil_Type_38</th>\n",
       "      <th>Soil_Type_39</th>\n",
       "      <th>Soil_Type_40</th>\n",
       "      <th>Cover_Type</th>\n",
       "    </tr>\n",
       "  </thead>\n",
       "  <tbody>\n",
       "    <tr>\n",
       "      <td>450015</td>\n",
       "      <td>3250</td>\n",
       "      <td>35</td>\n",
       "      <td>4</td>\n",
       "      <td>534</td>\n",
       "      <td>212</td>\n",
       "      <td>2969</td>\n",
       "      <td>219</td>\n",
       "      <td>231</td>\n",
       "      <td>148</td>\n",
       "      <td>3161</td>\n",
       "      <td>...</td>\n",
       "      <td>0</td>\n",
       "      <td>0</td>\n",
       "      <td>0</td>\n",
       "      <td>0</td>\n",
       "      <td>0</td>\n",
       "      <td>0</td>\n",
       "      <td>0</td>\n",
       "      <td>0</td>\n",
       "      <td>0</td>\n",
       "      <td>1</td>\n",
       "    </tr>\n",
       "    <tr>\n",
       "      <td>127010</td>\n",
       "      <td>2580</td>\n",
       "      <td>61</td>\n",
       "      <td>20</td>\n",
       "      <td>30</td>\n",
       "      <td>-1</td>\n",
       "      <td>1061</td>\n",
       "      <td>232</td>\n",
       "      <td>193</td>\n",
       "      <td>85</td>\n",
       "      <td>553</td>\n",
       "      <td>...</td>\n",
       "      <td>0</td>\n",
       "      <td>0</td>\n",
       "      <td>0</td>\n",
       "      <td>0</td>\n",
       "      <td>0</td>\n",
       "      <td>0</td>\n",
       "      <td>0</td>\n",
       "      <td>0</td>\n",
       "      <td>0</td>\n",
       "      <td>1</td>\n",
       "    </tr>\n",
       "    <tr>\n",
       "      <td>247694</td>\n",
       "      <td>2216</td>\n",
       "      <td>41</td>\n",
       "      <td>38</td>\n",
       "      <td>384</td>\n",
       "      <td>251</td>\n",
       "      <td>424</td>\n",
       "      <td>194</td>\n",
       "      <td>129</td>\n",
       "      <td>40</td>\n",
       "      <td>295</td>\n",
       "      <td>...</td>\n",
       "      <td>0</td>\n",
       "      <td>0</td>\n",
       "      <td>0</td>\n",
       "      <td>0</td>\n",
       "      <td>0</td>\n",
       "      <td>0</td>\n",
       "      <td>0</td>\n",
       "      <td>0</td>\n",
       "      <td>0</td>\n",
       "      <td>3</td>\n",
       "    </tr>\n",
       "    <tr>\n",
       "      <td>548749</td>\n",
       "      <td>3166</td>\n",
       "      <td>181</td>\n",
       "      <td>17</td>\n",
       "      <td>242</td>\n",
       "      <td>61</td>\n",
       "      <td>3252</td>\n",
       "      <td>224</td>\n",
       "      <td>248</td>\n",
       "      <td>152</td>\n",
       "      <td>630</td>\n",
       "      <td>...</td>\n",
       "      <td>0</td>\n",
       "      <td>0</td>\n",
       "      <td>1</td>\n",
       "      <td>0</td>\n",
       "      <td>0</td>\n",
       "      <td>0</td>\n",
       "      <td>0</td>\n",
       "      <td>0</td>\n",
       "      <td>0</td>\n",
       "      <td>2</td>\n",
       "    </tr>\n",
       "    <tr>\n",
       "      <td>29431</td>\n",
       "      <td>2900</td>\n",
       "      <td>296</td>\n",
       "      <td>25</td>\n",
       "      <td>210</td>\n",
       "      <td>92</td>\n",
       "      <td>5076</td>\n",
       "      <td>142</td>\n",
       "      <td>223</td>\n",
       "      <td>218</td>\n",
       "      <td>4763</td>\n",
       "      <td>...</td>\n",
       "      <td>0</td>\n",
       "      <td>0</td>\n",
       "      <td>0</td>\n",
       "      <td>0</td>\n",
       "      <td>0</td>\n",
       "      <td>0</td>\n",
       "      <td>0</td>\n",
       "      <td>0</td>\n",
       "      <td>0</td>\n",
       "      <td>1</td>\n",
       "    </tr>\n",
       "  </tbody>\n",
       "</table>\n",
       "<p>5 rows × 55 columns</p>\n",
       "</div>"
      ],
      "text/plain": [
       "        Elevation  Aspect  Slope  Hor_Dist_Hyd  Ver_Dist_Hyd  Hor_Dist_Road  \\\n",
       "450015       3250      35      4           534           212           2969   \n",
       "127010       2580      61     20            30            -1           1061   \n",
       "247694       2216      41     38           384           251            424   \n",
       "548749       3166     181     17           242            61           3252   \n",
       "29431        2900     296     25           210            92           5076   \n",
       "\n",
       "        Hillshade_9am  Hillshade_noon  Hillshade_3pm  Hor_Dist_Fire  ...  \\\n",
       "450015            219             231            148           3161  ...   \n",
       "127010            232             193             85            553  ...   \n",
       "247694            194             129             40            295  ...   \n",
       "548749            224             248            152            630  ...   \n",
       "29431             142             223            218           4763  ...   \n",
       "\n",
       "        Soil_Type_32  Soil_Type_33  Soil_Type_34  Soil_Type_35  Soil_Type_36  \\\n",
       "450015             0             0             0             0             0   \n",
       "127010             0             0             0             0             0   \n",
       "247694             0             0             0             0             0   \n",
       "548749             0             0             1             0             0   \n",
       "29431              0             0             0             0             0   \n",
       "\n",
       "        Soil_Type_37  Soil_Type_38  Soil_Type_39  Soil_Type_40  Cover_Type  \n",
       "450015             0             0             0             0           1  \n",
       "127010             0             0             0             0           1  \n",
       "247694             0             0             0             0           3  \n",
       "548749             0             0             0             0           2  \n",
       "29431              0             0             0             0           1  \n",
       "\n",
       "[5 rows x 55 columns]"
      ]
     },
     "execution_count": 18,
     "metadata": {},
     "output_type": "execute_result"
    }
   ],
   "source": [
    "# Concatenate X_train and y_train for resampling\n",
    "df_train = pd.concat([X_train, y_train], axis=1)\n",
    "print(len(df_train))\n",
    "df_train.head()"
   ]
  },
  {
   "cell_type": "markdown",
   "metadata": {
    "colab_type": "text",
    "id": "PKvg4ZOyb2-w"
   },
   "source": [
    "Next, let's review the current counts of all the classes."
   ]
  },
  {
   "cell_type": "code",
   "execution_count": 19,
   "metadata": {
    "ExecuteTime": {
     "end_time": "2019-11-24T20:26:36.843699Z",
     "start_time": "2019-11-24T20:26:36.824282Z"
    },
    "colab": {
     "base_uri": "https://localhost:8080/",
     "height": 153
    },
    "colab_type": "code",
    "id": "QuD1IC4oqkfu",
    "outputId": "df93f89a-8a8b-4a19-96cb-b591901db22f",
    "scrolled": true
   },
   "outputs": [
    {
     "data": {
      "text/plain": [
       "2    226640\n",
       "1    169472\n",
       "3     28603\n",
       "7     16408\n",
       "6     13894\n",
       "5      7594\n",
       "4      2198\n",
       "Name: Cover_Type, dtype: int64"
      ]
     },
     "execution_count": 19,
     "metadata": {},
     "output_type": "execute_result"
    }
   ],
   "source": [
    "# Check for class imbalance\n",
    "df_train.Cover_Type.value_counts()"
   ]
  },
  {
   "cell_type": "markdown",
   "metadata": {
    "colab_type": "text",
    "id": "U4Hd37v-7jy4"
   },
   "source": [
    "Now I can use `RandomUnderSampler` and `SMOTE` to undersample the larger classes and oversample the smaller ones, aiming for every class to have 16,408 observations."
   ]
  },
  {
   "cell_type": "code",
   "execution_count": 20,
   "metadata": {
    "ExecuteTime": {
     "end_time": "2019-11-24T20:26:38.650755Z",
     "start_time": "2019-11-24T20:26:38.016966Z"
    },
    "colab": {
     "base_uri": "https://localhost:8080/",
     "height": 34
    },
    "colab_type": "code",
    "id": "dqrzVUXX7jy5",
    "outputId": "0a33d397-b102-45f3-d184-111bc96fc762"
   },
   "outputs": [
    {
     "data": {
      "text/plain": [
       "Counter({1: 16408, 2: 16408, 3: 16408, 4: 2198, 5: 7594, 6: 13894, 7: 16408})"
      ]
     },
     "execution_count": 20,
     "metadata": {},
     "output_type": "execute_result"
    }
   ],
   "source": [
    "# Randomly undersample the larger classes\n",
    "rus = RandomUnderSampler(random_state=3, \n",
    "                         sampling_strategy={1:16408, 2:16408, 3:16408,})\n",
    "\n",
    "\n",
    "X_rus, y_rus = rus.fit_resample(X_train, y_train)\n",
    "\n",
    "# Check class counts\n",
    "Counter(y_rus)"
   ]
  },
  {
   "cell_type": "code",
   "execution_count": 21,
   "metadata": {
    "ExecuteTime": {
     "end_time": "2019-11-24T20:26:41.622343Z",
     "start_time": "2019-11-24T20:26:40.234529Z"
    },
    "colab": {
     "base_uri": "https://localhost:8080/",
     "height": 34
    },
    "colab_type": "code",
    "id": "47hv1_90qkiV",
    "outputId": "9b698894-178f-457c-bf1f-aeee1093d4c8",
    "scrolled": true
   },
   "outputs": [
    {
     "data": {
      "text/plain": [
       "Counter({1: 16408, 2: 16408, 3: 16408, 4: 16408, 5: 16408, 6: 16408, 7: 16408})"
      ]
     },
     "execution_count": 21,
     "metadata": {},
     "output_type": "execute_result"
    }
   ],
   "source": [
    "# Randomly oversample the smaller classes\n",
    "smote = SMOTE(random_state=3, sampling_strategy={4:16408, 5:16408, 6:16408})\n",
    "\n",
    "X_resampled, y_resampled = smote.fit_resample(X_rus, y_rus)\n",
    "\n",
    "# Check class counts\n",
    "Counter(y_resampled)"
   ]
  },
  {
   "cell_type": "markdown",
   "metadata": {
    "colab_type": "text",
    "id": "QePR8XwucveY"
   },
   "source": [
    "The final count above shows that the classes are now balanced."
   ]
  },
  {
   "cell_type": "markdown",
   "metadata": {
    "colab_type": "text",
    "id": "ABU49IUt7jy_"
   },
   "source": [
    "## Scaling"
   ]
  },
  {
   "cell_type": "markdown",
   "metadata": {
    "colab_type": "text",
    "id": "BHvbeBm87jzA"
   },
   "source": [
    "The next transformation I want to do is to standardize the features. This isn't required for Random Forests, but it is helpful for more complex algorithms like Support Vector Machines (plus it doesn't hurt Random Forests, so I may as well do it now)."
   ]
  },
  {
   "cell_type": "code",
   "execution_count": 22,
   "metadata": {
    "ExecuteTime": {
     "end_time": "2019-11-24T20:26:46.694799Z",
     "start_time": "2019-11-24T20:26:46.351513Z"
    },
    "colab": {},
    "colab_type": "code",
    "id": "W3osVJKVqkgF",
    "scrolled": true
   },
   "outputs": [
    {
     "name": "stderr",
     "output_type": "stream",
     "text": [
      "/Users/jennykreiger/anaconda3/envs/learn-env/lib/python3.6/site-packages/sklearn/utils/validation.py:595: DataConversionWarning: Data with input dtype int64 was converted to float64 by StandardScaler.\n",
      "  warnings.warn(msg, DataConversionWarning)\n",
      "/Users/jennykreiger/anaconda3/envs/learn-env/lib/python3.6/site-packages/sklearn/utils/validation.py:595: DataConversionWarning: Data with input dtype int64 was converted to float64 by StandardScaler.\n",
      "  warnings.warn(msg, DataConversionWarning)\n"
     ]
    }
   ],
   "source": [
    "# Scale the features\n",
    "scaler = StandardScaler()\n",
    "X_scaled = scaler.fit_transform(X_resampled)\n",
    "X_scaled = pd.DataFrame(X_scaled)"
   ]
  },
  {
   "cell_type": "code",
   "execution_count": 23,
   "metadata": {
    "ExecuteTime": {
     "end_time": "2019-11-24T20:26:50.042021Z",
     "start_time": "2019-11-24T20:26:48.763538Z"
    },
    "colab": {
     "base_uri": "https://localhost:8080/",
     "height": 402
    },
    "colab_type": "code",
    "id": "fdp1p0lzqkgH",
    "outputId": "1801de48-f2fe-4892-ac5d-abd59d4f4a81",
    "scrolled": false
   },
   "outputs": [
    {
     "data": {
      "text/html": [
       "<div>\n",
       "<style scoped>\n",
       "    .dataframe tbody tr th:only-of-type {\n",
       "        vertical-align: middle;\n",
       "    }\n",
       "\n",
       "    .dataframe tbody tr th {\n",
       "        vertical-align: top;\n",
       "    }\n",
       "\n",
       "    .dataframe thead th {\n",
       "        text-align: right;\n",
       "    }\n",
       "</style>\n",
       "<table border=\"1\" class=\"dataframe\">\n",
       "  <thead>\n",
       "    <tr style=\"text-align: right;\">\n",
       "      <th></th>\n",
       "      <th>0</th>\n",
       "      <th>1</th>\n",
       "      <th>2</th>\n",
       "      <th>3</th>\n",
       "      <th>4</th>\n",
       "      <th>5</th>\n",
       "      <th>6</th>\n",
       "      <th>7</th>\n",
       "      <th>8</th>\n",
       "      <th>9</th>\n",
       "      <th>...</th>\n",
       "      <th>44</th>\n",
       "      <th>45</th>\n",
       "      <th>46</th>\n",
       "      <th>47</th>\n",
       "      <th>48</th>\n",
       "      <th>49</th>\n",
       "      <th>50</th>\n",
       "      <th>51</th>\n",
       "      <th>52</th>\n",
       "      <th>53</th>\n",
       "    </tr>\n",
       "  </thead>\n",
       "  <tbody>\n",
       "    <tr>\n",
       "      <td>count</td>\n",
       "      <td>1.148560e+05</td>\n",
       "      <td>1.148560e+05</td>\n",
       "      <td>1.148560e+05</td>\n",
       "      <td>1.148560e+05</td>\n",
       "      <td>1.148560e+05</td>\n",
       "      <td>1.148560e+05</td>\n",
       "      <td>1.148560e+05</td>\n",
       "      <td>1.148560e+05</td>\n",
       "      <td>1.148560e+05</td>\n",
       "      <td>1.148560e+05</td>\n",
       "      <td>...</td>\n",
       "      <td>1.148560e+05</td>\n",
       "      <td>1.148560e+05</td>\n",
       "      <td>1.148560e+05</td>\n",
       "      <td>1.148560e+05</td>\n",
       "      <td>1.148560e+05</td>\n",
       "      <td>1.148560e+05</td>\n",
       "      <td>1.148560e+05</td>\n",
       "      <td>1.148560e+05</td>\n",
       "      <td>1.148560e+05</td>\n",
       "      <td>1.148560e+05</td>\n",
       "    </tr>\n",
       "    <tr>\n",
       "      <td>mean</td>\n",
       "      <td>2.133063e-16</td>\n",
       "      <td>-3.402508e-18</td>\n",
       "      <td>1.299140e-17</td>\n",
       "      <td>-1.899218e-17</td>\n",
       "      <td>-2.822535e-17</td>\n",
       "      <td>5.765705e-17</td>\n",
       "      <td>3.554693e-16</td>\n",
       "      <td>-5.596817e-16</td>\n",
       "      <td>2.417637e-16</td>\n",
       "      <td>-3.315899e-17</td>\n",
       "      <td>...</td>\n",
       "      <td>-4.008774e-17</td>\n",
       "      <td>5.416175e-17</td>\n",
       "      <td>3.552528e-17</td>\n",
       "      <td>1.082616e-19</td>\n",
       "      <td>-3.181345e-17</td>\n",
       "      <td>-8.966383e-18</td>\n",
       "      <td>2.056971e-17</td>\n",
       "      <td>7.497891e-17</td>\n",
       "      <td>-4.751139e-17</td>\n",
       "      <td>3.136494e-17</td>\n",
       "    </tr>\n",
       "    <tr>\n",
       "      <td>std</td>\n",
       "      <td>1.000004e+00</td>\n",
       "      <td>1.000004e+00</td>\n",
       "      <td>1.000004e+00</td>\n",
       "      <td>1.000004e+00</td>\n",
       "      <td>1.000004e+00</td>\n",
       "      <td>1.000004e+00</td>\n",
       "      <td>1.000004e+00</td>\n",
       "      <td>1.000004e+00</td>\n",
       "      <td>1.000004e+00</td>\n",
       "      <td>1.000004e+00</td>\n",
       "      <td>...</td>\n",
       "      <td>1.000004e+00</td>\n",
       "      <td>1.000004e+00</td>\n",
       "      <td>1.000004e+00</td>\n",
       "      <td>1.000004e+00</td>\n",
       "      <td>1.000004e+00</td>\n",
       "      <td>1.000004e+00</td>\n",
       "      <td>1.000004e+00</td>\n",
       "      <td>1.000004e+00</td>\n",
       "      <td>1.000004e+00</td>\n",
       "      <td>1.000004e+00</td>\n",
       "    </tr>\n",
       "    <tr>\n",
       "      <td>min</td>\n",
       "      <td>-2.120858e+00</td>\n",
       "      <td>-1.423987e+00</td>\n",
       "      <td>-1.962208e+00</td>\n",
       "      <td>-1.090620e+00</td>\n",
       "      <td>-3.324786e+00</td>\n",
       "      <td>-1.287201e+00</td>\n",
       "      <td>-6.938578e+00</td>\n",
       "      <td>-7.290815e+00</td>\n",
       "      <td>-2.908838e+00</td>\n",
       "      <td>-1.375326e+00</td>\n",
       "      <td>...</td>\n",
       "      <td>-1.454026e-01</td>\n",
       "      <td>-2.144755e-01</td>\n",
       "      <td>-2.075198e-01</td>\n",
       "      <td>-4.113307e-02</td>\n",
       "      <td>-8.485013e-02</td>\n",
       "      <td>-2.107680e-02</td>\n",
       "      <td>-4.489173e-02</td>\n",
       "      <td>-2.248845e-01</td>\n",
       "      <td>-2.157161e-01</td>\n",
       "      <td>-1.715900e-01</td>\n",
       "    </tr>\n",
       "    <tr>\n",
       "      <td>25%</td>\n",
       "      <td>-8.945149e-01</td>\n",
       "      <td>-8.318577e-01</td>\n",
       "      <td>-7.743657e-01</td>\n",
       "      <td>-7.708600e-01</td>\n",
       "      <td>-7.533096e-01</td>\n",
       "      <td>-7.230251e-01</td>\n",
       "      <td>-5.451907e-01</td>\n",
       "      <td>-5.145001e-01</td>\n",
       "      <td>-6.167281e-01</td>\n",
       "      <td>-7.093079e-01</td>\n",
       "      <td>...</td>\n",
       "      <td>-1.454026e-01</td>\n",
       "      <td>-2.144755e-01</td>\n",
       "      <td>-2.075198e-01</td>\n",
       "      <td>-4.113307e-02</td>\n",
       "      <td>-8.485013e-02</td>\n",
       "      <td>-2.107680e-02</td>\n",
       "      <td>-4.489173e-02</td>\n",
       "      <td>-2.248845e-01</td>\n",
       "      <td>-2.157161e-01</td>\n",
       "      <td>-1.715900e-01</td>\n",
       "    </tr>\n",
       "    <tr>\n",
       "      <td>50%</td>\n",
       "      <td>1.014521e-02</td>\n",
       "      <td>-2.852769e-01</td>\n",
       "      <td>-1.804444e-01</td>\n",
       "      <td>-2.315627e-01</td>\n",
       "      <td>-3.110812e-01</td>\n",
       "      <td>-3.030859e-01</td>\n",
       "      <td>2.376729e-01</td>\n",
       "      <td>1.455306e-01</td>\n",
       "      <td>7.522952e-02</td>\n",
       "      <td>-2.251362e-01</td>\n",
       "      <td>...</td>\n",
       "      <td>-1.454026e-01</td>\n",
       "      <td>-2.144755e-01</td>\n",
       "      <td>-2.075198e-01</td>\n",
       "      <td>-4.113307e-02</td>\n",
       "      <td>-8.485013e-02</td>\n",
       "      <td>-2.107680e-02</td>\n",
       "      <td>-4.489173e-02</td>\n",
       "      <td>-2.248845e-01</td>\n",
       "      <td>-2.157161e-01</td>\n",
       "      <td>-1.715900e-01</td>\n",
       "    </tr>\n",
       "    <tr>\n",
       "      <td>75%</td>\n",
       "      <td>8.544149e-01</td>\n",
       "      <td>9.354203e-01</td>\n",
       "      <td>6.510454e-01</td>\n",
       "      <td>4.843186e-01</td>\n",
       "      <td>4.587237e-01</td>\n",
       "      <td>4.271125e-01</td>\n",
       "      <td>7.595821e-01</td>\n",
       "      <td>7.175571e-01</td>\n",
       "      <td>7.023161e-01</td>\n",
       "      <td>4.305037e-01</td>\n",
       "      <td>...</td>\n",
       "      <td>-1.454026e-01</td>\n",
       "      <td>-2.144755e-01</td>\n",
       "      <td>-2.075198e-01</td>\n",
       "      <td>-4.113307e-02</td>\n",
       "      <td>-8.485013e-02</td>\n",
       "      <td>-2.107680e-02</td>\n",
       "      <td>-4.489173e-02</td>\n",
       "      <td>-2.248845e-01</td>\n",
       "      <td>-2.157161e-01</td>\n",
       "      <td>-1.715900e-01</td>\n",
       "    </tr>\n",
       "    <tr>\n",
       "      <td>max</td>\n",
       "      <td>2.655364e+00</td>\n",
       "      <td>1.855498e+00</td>\n",
       "      <td>5.283631e+00</td>\n",
       "      <td>5.509806e+00</td>\n",
       "      <td>8.975714e+00</td>\n",
       "      <td>4.036787e+00</td>\n",
       "      <td>1.346730e+00</td>\n",
       "      <td>1.553596e+00</td>\n",
       "      <td>2.561952e+00</td>\n",
       "      <td>4.988848e+00</td>\n",
       "      <td>...</td>\n",
       "      <td>6.877457e+00</td>\n",
       "      <td>4.662538e+00</td>\n",
       "      <td>4.818818e+00</td>\n",
       "      <td>2.431134e+01</td>\n",
       "      <td>1.178549e+01</td>\n",
       "      <td>4.744553e+01</td>\n",
       "      <td>2.227582e+01</td>\n",
       "      <td>4.446727e+00</td>\n",
       "      <td>4.635722e+00</td>\n",
       "      <td>5.827845e+00</td>\n",
       "    </tr>\n",
       "  </tbody>\n",
       "</table>\n",
       "<p>8 rows × 54 columns</p>\n",
       "</div>"
      ],
      "text/plain": [
       "                 0             1             2             3             4   \\\n",
       "count  1.148560e+05  1.148560e+05  1.148560e+05  1.148560e+05  1.148560e+05   \n",
       "mean   2.133063e-16 -3.402508e-18  1.299140e-17 -1.899218e-17 -2.822535e-17   \n",
       "std    1.000004e+00  1.000004e+00  1.000004e+00  1.000004e+00  1.000004e+00   \n",
       "min   -2.120858e+00 -1.423987e+00 -1.962208e+00 -1.090620e+00 -3.324786e+00   \n",
       "25%   -8.945149e-01 -8.318577e-01 -7.743657e-01 -7.708600e-01 -7.533096e-01   \n",
       "50%    1.014521e-02 -2.852769e-01 -1.804444e-01 -2.315627e-01 -3.110812e-01   \n",
       "75%    8.544149e-01  9.354203e-01  6.510454e-01  4.843186e-01  4.587237e-01   \n",
       "max    2.655364e+00  1.855498e+00  5.283631e+00  5.509806e+00  8.975714e+00   \n",
       "\n",
       "                 5             6             7             8             9   \\\n",
       "count  1.148560e+05  1.148560e+05  1.148560e+05  1.148560e+05  1.148560e+05   \n",
       "mean   5.765705e-17  3.554693e-16 -5.596817e-16  2.417637e-16 -3.315899e-17   \n",
       "std    1.000004e+00  1.000004e+00  1.000004e+00  1.000004e+00  1.000004e+00   \n",
       "min   -1.287201e+00 -6.938578e+00 -7.290815e+00 -2.908838e+00 -1.375326e+00   \n",
       "25%   -7.230251e-01 -5.451907e-01 -5.145001e-01 -6.167281e-01 -7.093079e-01   \n",
       "50%   -3.030859e-01  2.376729e-01  1.455306e-01  7.522952e-02 -2.251362e-01   \n",
       "75%    4.271125e-01  7.595821e-01  7.175571e-01  7.023161e-01  4.305037e-01   \n",
       "max    4.036787e+00  1.346730e+00  1.553596e+00  2.561952e+00  4.988848e+00   \n",
       "\n",
       "       ...            44            45            46            47  \\\n",
       "count  ...  1.148560e+05  1.148560e+05  1.148560e+05  1.148560e+05   \n",
       "mean   ... -4.008774e-17  5.416175e-17  3.552528e-17  1.082616e-19   \n",
       "std    ...  1.000004e+00  1.000004e+00  1.000004e+00  1.000004e+00   \n",
       "min    ... -1.454026e-01 -2.144755e-01 -2.075198e-01 -4.113307e-02   \n",
       "25%    ... -1.454026e-01 -2.144755e-01 -2.075198e-01 -4.113307e-02   \n",
       "50%    ... -1.454026e-01 -2.144755e-01 -2.075198e-01 -4.113307e-02   \n",
       "75%    ... -1.454026e-01 -2.144755e-01 -2.075198e-01 -4.113307e-02   \n",
       "max    ...  6.877457e+00  4.662538e+00  4.818818e+00  2.431134e+01   \n",
       "\n",
       "                 48            49            50            51            52  \\\n",
       "count  1.148560e+05  1.148560e+05  1.148560e+05  1.148560e+05  1.148560e+05   \n",
       "mean  -3.181345e-17 -8.966383e-18  2.056971e-17  7.497891e-17 -4.751139e-17   \n",
       "std    1.000004e+00  1.000004e+00  1.000004e+00  1.000004e+00  1.000004e+00   \n",
       "min   -8.485013e-02 -2.107680e-02 -4.489173e-02 -2.248845e-01 -2.157161e-01   \n",
       "25%   -8.485013e-02 -2.107680e-02 -4.489173e-02 -2.248845e-01 -2.157161e-01   \n",
       "50%   -8.485013e-02 -2.107680e-02 -4.489173e-02 -2.248845e-01 -2.157161e-01   \n",
       "75%   -8.485013e-02 -2.107680e-02 -4.489173e-02 -2.248845e-01 -2.157161e-01   \n",
       "max    1.178549e+01  4.744553e+01  2.227582e+01  4.446727e+00  4.635722e+00   \n",
       "\n",
       "                 53  \n",
       "count  1.148560e+05  \n",
       "mean   3.136494e-17  \n",
       "std    1.000004e+00  \n",
       "min   -1.715900e-01  \n",
       "25%   -1.715900e-01  \n",
       "50%   -1.715900e-01  \n",
       "75%   -1.715900e-01  \n",
       "max    5.827845e+00  \n",
       "\n",
       "[8 rows x 54 columns]"
      ]
     },
     "execution_count": 23,
     "metadata": {},
     "output_type": "execute_result"
    }
   ],
   "source": [
    "# Check the results\n",
    "X_scaled.describe()"
   ]
  },
  {
   "cell_type": "markdown",
   "metadata": {
    "colab_type": "text",
    "id": "G5cW708tdNjv"
   },
   "source": [
    "The features have now been standardized so that they all have a mean of 0 and a standard deviation of 1.\n",
    "\n",
    "Let's just get a quick visual confirmation of this change with some histograms."
   ]
  },
  {
   "cell_type": "code",
   "execution_count": 24,
   "metadata": {
    "ExecuteTime": {
     "end_time": "2019-11-24T20:26:53.421575Z",
     "start_time": "2019-11-24T20:26:51.424854Z"
    },
    "colab": {
     "base_uri": "https://localhost:8080/",
     "height": 716
    },
    "colab_type": "code",
    "id": "ZwpszNZ7qkgK",
    "outputId": "e6204d71-d59e-4127-e47d-eca9b1dbcbed",
    "scrolled": false
   },
   "outputs": [
    {
     "data": {
      "image/png": "[encoded data removed]",
      "text/plain": [
       "<Figure size 1152x864 with 12 Axes>"
      ]
     },
     "metadata": {
      "needs_background": "light"
     },
     "output_type": "display_data"
    }
   ],
   "source": [
    "# Visualize the distributions again\n",
    "X_scaled.loc[:,:9].hist(figsize=(16, 12));"
   ]
  },
  {
   "cell_type": "markdown",
   "metadata": {
    "colab_type": "text",
    "id": "pEHbbh11eA4k"
   },
   "source": [
    "Now that the training data has been scaled, I can move on to PCA."
   ]
  },
  {
   "cell_type": "markdown",
   "metadata": {
    "colab_type": "text",
    "id": "ew7WesYEqkgM"
   },
   "source": [
    "## PCA"
   ]
  },
  {
   "cell_type": "markdown",
   "metadata": {
    "colab_type": "text",
    "id": "5uOeSKJiqkgM"
   },
   "source": [
    "Principal Components Analysis takes the features we have and tries to combine them in ways that maximize the amount of variance the components can explain in the data. For datasets like the one I'm working with here, where there are lots of features, PCA can help us avoid the negative effects of having numerous features while still allowing us to account for as much variance as possible. For my analysis below, I aim to find a number of components that will explain at least 80% of the variance in the data.\n",
    "\n",
    "First, let's see how much variance we can explain with a wide range of components. If any of these look promising, we can drill down further."
   ]
  },
  {
   "cell_type": "code",
   "execution_count": 25,
   "metadata": {
    "ExecuteTime": {
     "end_time": "2019-11-24T20:27:09.008213Z",
     "start_time": "2019-11-24T20:26:57.303330Z"
    },
    "colab": {
     "base_uri": "https://localhost:8080/",
     "height": 513
    },
    "colab_type": "code",
    "id": "JJkBcgYnqkgN",
    "outputId": "ebd5f79f-28ee-43d3-b51c-cbd3da955df4",
    "scrolled": false
   },
   "outputs": [
    {
     "data": {
      "image/png": "[encoded data removed]",
      "text/plain": [
       "<Figure size 720x576 with 1 Axes>"
      ]
     },
     "metadata": {
      "needs_background": "light"
     },
     "output_type": "display_data"
    }
   ],
   "source": [
    "# Try several numbers of components to explain 80% of variance\n",
    "comps = [10, 15, 20, 25, 30, 35, 40, 45, 50, 54]\n",
    "var_sums = []\n",
    "for comp in comps:\n",
    "    pca = PCA(n_components=comp)\n",
    "    pca.fit_transform(X_scaled)\n",
    "    var_sums.append(np.sum(pca.explained_variance_ratio_))\n",
    "    \n",
    "# Visualize results\n",
    "plt.figure(figsize=(10,8))\n",
    "plt.plot(comps, var_sums)\n",
    "plt.xlabel('Number of components')\n",
    "plt.ylabel('% of variance explained')\n",
    "plt.title('Variance explained by n components')\n",
    "plt.xticks([10, 15, 20, 25, 30, 35, 40, 45, 50, 54])\n",
    "plt.show();"
   ]
  },
  {
   "cell_type": "markdown",
   "metadata": {
    "colab_type": "text",
    "id": "9YMAxEkIHYVr"
   },
   "source": [
    "Forty components seem to capture about 90% of the variance in the data, which aligns with what we expected based on the feature importances plot above.\n",
    "\n",
    "Let's check the specifics:"
   ]
  },
  {
   "cell_type": "code",
   "execution_count": 26,
   "metadata": {
    "ExecuteTime": {
     "end_time": "2019-11-24T20:27:11.938374Z",
     "start_time": "2019-11-24T20:27:11.927555Z"
    },
    "colab": {
     "base_uri": "https://localhost:8080/",
     "height": 187
    },
    "colab_type": "code",
    "id": "32BNWzJ4qkgP",
    "outputId": "e75d3f67-fa66-467f-9010-051cd9a16dc7",
    "scrolled": true
   },
   "outputs": [
    {
     "data": {
      "text/plain": [
       "[(10, 0.35010888736308404),\n",
       " (15, 0.44608664619583926),\n",
       " (20, 0.5417110272036322),\n",
       " (25, 0.6371728315459847),\n",
       " (30, 0.731738065646417),\n",
       " (35, 0.8253686829453852),\n",
       " (40, 0.917027514295714),\n",
       " (45, 0.9736568637688149),\n",
       " (50, 0.9979901475164933),\n",
       " (54, 1.0)]"
      ]
     },
     "metadata": {},
     "output_type": "display_data"
    }
   ],
   "source": [
    "# View the % variance explained for each number of components\n",
    "display(list(zip(comps, var_sums)))"
   ]
  },
  {
   "cell_type": "markdown",
   "metadata": {
    "colab_type": "text",
    "id": "GCH1H7RUqkgR"
   },
   "source": [
    "From the plot and the list above, it's clear that we could explain over 90% of the variance in the data with 40 components (out of a possible 54). Using fewer features/components will help us avoid overfitting on the training data, but at the expense of a little bit of accuracy. I think it's a worthwhile trade."
   ]
  },
  {
   "cell_type": "markdown",
   "metadata": {
    "colab_type": "text",
    "id": "FOU_F0hc7jzU"
   },
   "source": [
    "## Preprocessing pipeline"
   ]
  },
  {
   "cell_type": "markdown",
   "metadata": {
    "colab_type": "text",
    "id": "cCihfF5h7jzV"
   },
   "source": [
    "I know that I want to transform my data so that it is standardized and has 40 components. I will use a pipeline to do this so that I can easily transform my validation and test sets in the same way as my training set without leaking data from one set to another."
   ]
  },
  {
   "cell_type": "code",
   "execution_count": 27,
   "metadata": {
    "ExecuteTime": {
     "end_time": "2019-11-24T20:27:15.572470Z",
     "start_time": "2019-11-24T20:27:15.568305Z"
    },
    "colab": {},
    "colab_type": "code",
    "id": "fxgrU3St7jzW"
   },
   "outputs": [],
   "source": [
    "# Build a pipeline for the preprocessing steps\n",
    "pipe_prepro = Pipeline([('scaler', StandardScaler()),\n",
    "                        ('pca', PCA(n_components=40))])"
   ]
  },
  {
   "cell_type": "markdown",
   "metadata": {
    "colab_type": "text",
    "id": "rS74D0XG7jzX"
   },
   "source": [
    "I will fit the preprocessing pipeline to the training data (which has been resampled), then use the pipeline to transform the validation and test sets separately."
   ]
  },
  {
   "cell_type": "code",
   "execution_count": 28,
   "metadata": {
    "ExecuteTime": {
     "end_time": "2019-11-24T20:27:19.435699Z",
     "start_time": "2019-11-24T20:27:17.266667Z"
    },
    "colab": {},
    "colab_type": "code",
    "id": "uqh1MSiOqkgS"
   },
   "outputs": [
    {
     "name": "stderr",
     "output_type": "stream",
     "text": [
      "/Users/jennykreiger/anaconda3/envs/learn-env/lib/python3.6/site-packages/sklearn/utils/validation.py:595: DataConversionWarning: Data with input dtype int64 was converted to float64 by StandardScaler.\n",
      "  warnings.warn(msg, DataConversionWarning)\n",
      "/Users/jennykreiger/anaconda3/envs/learn-env/lib/python3.6/site-packages/sklearn/utils/validation.py:595: DataConversionWarning: Data with input dtype int64 was converted to float64 by StandardScaler.\n",
      "  warnings.warn(msg, DataConversionWarning)\n"
     ]
    }
   ],
   "source": [
    "# Fit the pipeline and transform the training dataset\n",
    "X_train_trans = pipe_prepro.fit_transform(X_resampled)"
   ]
  },
  {
   "cell_type": "code",
   "execution_count": 29,
   "metadata": {
    "ExecuteTime": {
     "end_time": "2019-11-24T20:27:21.120809Z",
     "start_time": "2019-11-24T20:27:20.923187Z"
    },
    "colab": {},
    "colab_type": "code",
    "id": "sEzSYyER7jza"
   },
   "outputs": [
    {
     "name": "stderr",
     "output_type": "stream",
     "text": [
      "/Users/jennykreiger/anaconda3/envs/learn-env/lib/python3.6/site-packages/sklearn/pipeline.py:451: DataConversionWarning: Data with input dtype int64 were all converted to float64 by StandardScaler.\n",
      "  Xt = transform.transform(Xt)\n",
      "/Users/jennykreiger/anaconda3/envs/learn-env/lib/python3.6/site-packages/sklearn/pipeline.py:451: DataConversionWarning: Data with input dtype int64 were all converted to float64 by StandardScaler.\n",
      "  Xt = transform.transform(Xt)\n"
     ]
    }
   ],
   "source": [
    "# Use the pipeline to transform the validation and test datasets\n",
    "X_val_trans = pipe_prepro.transform(X_val)\n",
    "X_test_trans = pipe_prepro.transform(X_test)"
   ]
  },
  {
   "cell_type": "markdown",
   "metadata": {
    "colab_type": "text",
    "id": "eeWyWValqkgW"
   },
   "source": [
    "This transformation will form part of the final pipeline, but by transforming the data now, I can more easily use it to build and evaluate my models.\n",
    "\n",
    "Finally, I'll just make a copy of my un-preprocessed training labels and give the copy a more convenient name."
   ]
  },
  {
   "cell_type": "code",
   "execution_count": 30,
   "metadata": {
    "ExecuteTime": {
     "end_time": "2019-11-24T20:27:27.860377Z",
     "start_time": "2019-11-24T20:27:27.856029Z"
    },
    "colab": {},
    "colab_type": "code",
    "id": "wPY7rS-R7jzf"
   },
   "outputs": [],
   "source": [
    "# Apply naming conventions to the un-preprocessed labels\n",
    "y_train_res = y_resampled.copy()"
   ]
  },
  {
   "cell_type": "markdown",
   "metadata": {
    "colab_type": "text",
    "id": "gB-b5Ljsqkgu"
   },
   "source": [
    "# Testing various algorithms"
   ]
  },
  {
   "cell_type": "markdown",
   "metadata": {},
   "source": [
    "In the sections that follow I will explore three different algorithms to find one that can classify land tracts by their type of tree cover with the highest accuracy. \n",
    "\n",
    "**Random Forest** classifiers use a number of Decision Trees to predict labels for observations. \n",
    "\n",
    "**XGBoost** is an ensemble method that trains a series of weak learners to work in sequence to predict labels. This is typically considered a more flexible and powerful type of algorithm than a Random Forest.\n",
    "\n",
    "**Support Vector Machines** predict labels by drawing decision boundaries between data points in multi-dimensional space. This is considered a very powerful type of classifier, so I'm looking forward to seeing how it performs."
   ]
  },
  {
   "cell_type": "markdown",
   "metadata": {
    "colab_type": "text",
    "id": "-ennFIimHYWY"
   },
   "source": [
    "## Random Forest 1"
   ]
  },
  {
   "cell_type": "markdown",
   "metadata": {
    "colab_type": "text",
    "id": "p3qdI08AHYWY"
   },
   "source": [
    "To establish a baseline for all the other models, the first model will be a Random Forest trained on observations that have been class-balanced but not scaled or transformed with PCA."
   ]
  },
  {
   "cell_type": "markdown",
   "metadata": {
    "colab_type": "text",
    "id": "6wY8DjoeHYWZ"
   },
   "source": [
    "### Baseline model"
   ]
  },
  {
   "cell_type": "markdown",
   "metadata": {},
   "source": [
    "First I will instantiate a Random Forest classifier with default parameters, fit it to the training data, and take a look at the accuracy score, confusion matrix, and classification report to see how it performed."
   ]
  },
  {
   "cell_type": "code",
   "execution_count": 185,
   "metadata": {
    "ExecuteTime": {
     "end_time": "2019-11-25T16:28:54.838076Z",
     "start_time": "2019-11-25T16:28:51.793461Z"
    },
    "colab": {
     "base_uri": "https://localhost:8080/",
     "height": 513
    },
    "colab_type": "code",
    "id": "BfORcz0SHYWZ",
    "outputId": "0131a0c4-51f9-44fd-b651-58f6a32d3a8e"
   },
   "outputs": [
    {
     "name": "stderr",
     "output_type": "stream",
     "text": [
      "/Users/jennykreiger/anaconda3/envs/learn-env/lib/python3.6/site-packages/sklearn/ensemble/forest.py:246: FutureWarning: The default value of n_estimators will change from 10 in version 0.20 to 100 in 0.22.\n",
      "  \"10 in version 0.20 to 100 in 0.22.\", FutureWarning)\n"
     ]
    },
    {
     "name": "stdout",
     "output_type": "stream",
     "text": [
      "Accuracy: 0.9975795779062478\n",
      "-------\n",
      "Confusion matrix:\n",
      "[[16370    28     0     0     2     0     8]\n",
      " [  116 16269     5     0     9     7     2]\n",
      " [    0     1 16384     4     0    19     0]\n",
      " [    0     0     5 16403     0     0     0]\n",
      " [    0     6     1     0 16401     0     0]\n",
      " [    0     0    43    15     1 16349     0]\n",
      " [    6     0     0     0     0     0 16402]]\n",
      "-------\n",
      "Classification report:\n",
      "              precision    recall  f1-score   support\n",
      "\n",
      "           1       0.99      1.00      1.00     16408\n",
      "           2       1.00      0.99      0.99     16408\n",
      "           3       1.00      1.00      1.00     16408\n",
      "           4       1.00      1.00      1.00     16408\n",
      "           5       1.00      1.00      1.00     16408\n",
      "           6       1.00      1.00      1.00     16408\n",
      "           7       1.00      1.00      1.00     16408\n",
      "\n",
      "   micro avg       1.00      1.00      1.00    114856\n",
      "   macro avg       1.00      1.00      1.00    114856\n",
      "weighted avg       1.00      1.00      1.00    114856\n",
      "\n"
     ]
    }
   ],
   "source": [
    "# Fit and score a baseline RandomForestClassifier\n",
    "forest1 = RandomForestClassifier()\n",
    "forest1.fit(X_resampled, y_resampled)\n",
    "\n",
    "train_pred = forest1.predict(X_resampled)\n",
    "\n",
    "print_metrics(y_resampled, train_pred)"
   ]
  },
  {
   "cell_type": "markdown",
   "metadata": {},
   "source": [
    "That's an outstanding accuracy score&mdash;and it probably means that the model is overfitting on the training data a bit. "
   ]
  },
  {
   "cell_type": "code",
   "execution_count": 186,
   "metadata": {
    "ExecuteTime": {
     "end_time": "2019-11-25T16:29:14.132442Z",
     "start_time": "2019-11-25T16:29:13.752635Z"
    },
    "colab": {
     "base_uri": "https://localhost:8080/",
     "height": 459
    },
    "colab_type": "code",
    "id": "Jl6JvqqJHYWc",
    "outputId": "d9272227-0ba8-4fbb-f74b-bbdec4e6c7d7",
    "scrolled": false
   },
   "outputs": [
    {
     "name": "stdout",
     "output_type": "stream",
     "text": [
      "Accuracy: 0.8475929846302129\n",
      "-------\n",
      "Confusion matrix:\n",
      "[[18596  1955    13     0   112    26   482]\n",
      " [ 4053 22560   403     1   766   460    87]\n",
      " [    0    14  3315    37     6   203     0]\n",
      " [    0     0    17   255     0     3     0]\n",
      " [    1    24    16     0   901     8     0]\n",
      " [    2     8   110    13     4  1599     0]\n",
      " [   28     2     0     0     1     0  2020]]\n",
      "-------\n",
      "Classification report:\n",
      "              precision    recall  f1-score   support\n",
      "\n",
      "           1       0.82      0.88      0.85     21184\n",
      "           2       0.92      0.80      0.85     28330\n",
      "           3       0.86      0.93      0.89      3575\n",
      "           4       0.83      0.93      0.88       275\n",
      "           5       0.50      0.95      0.66       950\n",
      "           6       0.70      0.92      0.79      1736\n",
      "           7       0.78      0.98      0.87      2051\n",
      "\n",
      "   micro avg       0.85      0.85      0.85     58101\n",
      "   macro avg       0.77      0.91      0.83     58101\n",
      "weighted avg       0.86      0.85      0.85     58101\n",
      "\n"
     ]
    }
   ],
   "source": [
    "# Validate\n",
    "val_pred = forest1.predict(X_val_raw)\n",
    "\n",
    "print_metrics(y_val_raw, val_pred)"
   ]
  },
  {
   "cell_type": "markdown",
   "metadata": {},
   "source": [
    "I'm honestly surprised the model performed this well on the validation data, but it looks like this Random Forest is actually very good at predicting labels for the raw observations.\n",
    "\n",
    "Next let's see how trying other parameters (not just the defaults) for the Random Forest affects performance."
   ]
  },
  {
   "cell_type": "markdown",
   "metadata": {
    "colab_type": "text",
    "id": "XNEKGQG6HYWe"
   },
   "source": [
    "### Tune parameters with GridSearchCV"
   ]
  },
  {
   "cell_type": "markdown",
   "metadata": {},
   "source": [
    "A grid search will let me try every possible combination of the parameter values I supply. GridSearchCV performs 3-fold cross-validation on each combination and returns the one that performed the best on average.\n",
    "\n",
    "For my parameter values, I'm trying 10 v. 100 decision trees; a selection of 30, 40, or all 54 features; and a tree depth of 20 v. 25. Grid searches tend to take a long time to run, so if you're trying to run this code on your own machine, be warned it may take a while!"
   ]
  },
  {
   "cell_type": "code",
   "execution_count": 187,
   "metadata": {
    "ExecuteTime": {
     "end_time": "2019-11-25T16:39:51.156268Z",
     "start_time": "2019-11-25T16:29:45.487373Z"
    },
    "colab": {
     "base_uri": "https://localhost:8080/",
     "height": 394
    },
    "colab_type": "code",
    "id": "HSsSLTnPHYWe",
    "outputId": "e455afd6-be37-4e51-dbe5-d3965e0635f4"
   },
   "outputs": [
    {
     "data": {
      "text/plain": [
       "GridSearchCV(cv=3, error_score='raise-deprecating',\n",
       "       estimator=RandomForestClassifier(bootstrap=True, class_weight=None, criterion='gini',\n",
       "            max_depth=None, max_features='auto', max_leaf_nodes=None,\n",
       "            min_impurity_decrease=0.0, min_impurity_split=None,\n",
       "            min_samples_leaf=1, min_samples_split=2,\n",
       "            min_weight_fraction_leaf=0.0, n_estimators=10, n_jobs=None,\n",
       "            oob_score=False, random_state=None, verbose=0,\n",
       "            warm_start=False),\n",
       "       fit_params=None, iid='warn', n_jobs=-1,\n",
       "       param_grid={'n_estimators': [10, 100], 'max_features': [30, 40, 54], 'max_depth': [20, 25]},\n",
       "       pre_dispatch='2*n_jobs', refit=True, return_train_score='warn',\n",
       "       scoring=None, verbose=0)"
      ]
     },
     "execution_count": 187,
     "metadata": {},
     "output_type": "execute_result"
    }
   ],
   "source": [
    "# Use GridSearchCV to find best parameters for the Random Forest\n",
    "params = {'n_estimators': [10, 100],\n",
    "          'max_features': [30, 40, 54],\n",
    "          'max_depth': [20, 25]}\n",
    "\n",
    "grid_forest1 = GridSearchCV(forest1, params, cv=3, n_jobs=-1)\n",
    "\n",
    "grid_forest1.fit(X_resampled, y_resampled)"
   ]
  },
  {
   "cell_type": "code",
   "execution_count": 188,
   "metadata": {
    "ExecuteTime": {
     "end_time": "2019-11-25T16:43:03.138511Z",
     "start_time": "2019-11-25T16:43:03.133278Z"
    },
    "colab": {
     "base_uri": "https://localhost:8080/",
     "height": 51
    },
    "colab_type": "code",
    "id": "75o-bZXMHYWg",
    "outputId": "0316d410-8778-49e6-c4b4-d5feb11e8f3f",
    "scrolled": true
   },
   "outputs": [
    {
     "name": "stdout",
     "output_type": "stream",
     "text": [
      "Best score: 0.9378700285574981\n",
      "Best params: {'max_depth': 25, 'max_features': 30, 'n_estimators': 100}\n"
     ]
    }
   ],
   "source": [
    "# View best score and parameters\n",
    "print('Best score:', grid_forest1.best_score_)\n",
    "print('Best params:', grid_forest1.best_params_)"
   ]
  },
  {
   "cell_type": "markdown",
   "metadata": {},
   "source": [
    "The best option found by the grid search had an accuracy score of 93.8% with the parameters listed above.\n",
    "\n",
    "Now let's examine how the best Random Forest model performs when predicting on the training, validation, and test datasets."
   ]
  },
  {
   "cell_type": "code",
   "execution_count": 189,
   "metadata": {
    "ExecuteTime": {
     "end_time": "2019-11-25T16:43:27.428916Z",
     "start_time": "2019-11-25T16:43:24.439784Z"
    },
    "colab": {
     "base_uri": "https://localhost:8080/",
     "height": 459
    },
    "colab_type": "code",
    "id": "a5gxirhYHYWh",
    "outputId": "5dd77f4c-8c35-4f06-9744-d946647b3d8b"
   },
   "outputs": [
    {
     "name": "stdout",
     "output_type": "stream",
     "text": [
      "Accuracy: 0.9975708713519538\n",
      "-------\n",
      "Confusion matrix:\n",
      "[[16362     0     0     0    45     0     1]\n",
      " [    8 16203     0     0   191     6     0]\n",
      " [    0     0 16391     8     2     7     0]\n",
      " [    0     0     0 16408     0     0     0]\n",
      " [    0     0     0     0 16408     0     0]\n",
      " [    0     0     0     6     4 16398     0]\n",
      " [    1     0     0     0     0     0 16407]]\n",
      "-------\n",
      "Classification report:\n",
      "              precision    recall  f1-score   support\n",
      "\n",
      "           1       1.00      1.00      1.00     16408\n",
      "           2       1.00      0.99      0.99     16408\n",
      "           3       1.00      1.00      1.00     16408\n",
      "           4       1.00      1.00      1.00     16408\n",
      "           5       0.99      1.00      0.99     16408\n",
      "           6       1.00      1.00      1.00     16408\n",
      "           7       1.00      1.00      1.00     16408\n",
      "\n",
      "   micro avg       1.00      1.00      1.00    114856\n",
      "   macro avg       1.00      1.00      1.00    114856\n",
      "weighted avg       1.00      1.00      1.00    114856\n",
      "\n"
     ]
    }
   ],
   "source": [
    "# View training metrics for the best model\n",
    "y_pred = grid_forest1.predict(X_resampled)\n",
    "print_metrics(y_resampled, y_pred)"
   ]
  },
  {
   "cell_type": "code",
   "execution_count": 190,
   "metadata": {
    "ExecuteTime": {
     "end_time": "2019-11-25T16:43:32.315448Z",
     "start_time": "2019-11-25T16:43:30.392952Z"
    },
    "colab": {
     "base_uri": "https://localhost:8080/",
     "height": 459
    },
    "colab_type": "code",
    "id": "FqDe2zEtHYWj",
    "outputId": "86fb6e4a-6019-4954-be07-895c56db6f33"
   },
   "outputs": [
    {
     "name": "stdout",
     "output_type": "stream",
     "text": [
      "Accuracy: 0.8862670177793842\n",
      "-------\n",
      "Confusion matrix:\n",
      "[[18923  1627     7     0   169    21   437]\n",
      " [ 2306 24282   326     0   963   373    80]\n",
      " [    0    11  3403    30    10   121     0]\n",
      " [    0     0    13   257     0     5     0]\n",
      " [    0     7    12     0   927     4     0]\n",
      " [    0     2    52     9     7  1666     0]\n",
      " [   13     2     0     0     1     0  2035]]\n",
      "-------\n",
      "Classification report:\n",
      "              precision    recall  f1-score   support\n",
      "\n",
      "           1       0.89      0.89      0.89     21184\n",
      "           2       0.94      0.86      0.90     28330\n",
      "           3       0.89      0.95      0.92      3575\n",
      "           4       0.87      0.93      0.90       275\n",
      "           5       0.45      0.98      0.61       950\n",
      "           6       0.76      0.96      0.85      1736\n",
      "           7       0.80      0.99      0.88      2051\n",
      "\n",
      "   micro avg       0.89      0.89      0.89     58101\n",
      "   macro avg       0.80      0.94      0.85     58101\n",
      "weighted avg       0.90      0.89      0.89     58101\n",
      "\n"
     ]
    }
   ],
   "source": [
    "# View validation metrics for the best model\n",
    "y_pred = grid_forest1.predict(X_val_raw)\n",
    "print_metrics(y_val_raw, y_pred)"
   ]
  },
  {
   "cell_type": "markdown",
   "metadata": {},
   "source": [
    "The optimized Random Forest scored 88.6% on the validation set. The confusion matrix and classification report show that the model had its worst F1 score for class 5; it seems to be having trouble catching all the instances of that class. We can compare subsequent models to see if any do better at catching that class."
   ]
  },
  {
   "cell_type": "markdown",
   "metadata": {
    "colab_type": "text",
    "id": "jFqcvMuDFgLv"
   },
   "source": [
    "### Evaluating the best (unpreprocessed) Random Forest classifier"
   ]
  },
  {
   "cell_type": "markdown",
   "metadata": {},
   "source": [
    "So that I don't have to rerun the time-consuming algorithms above, I'll create a pipeline that contains just the model I want, fit it to the raw training data, and then extract predictions for the validation and test sets. This is the first time the model will encounter the test set, so now we'll see how it might perform on unseen data going forward."
   ]
  },
  {
   "cell_type": "code",
   "execution_count": 191,
   "metadata": {
    "ExecuteTime": {
     "end_time": "2019-11-25T16:45:19.907990Z",
     "start_time": "2019-11-25T16:44:17.027678Z"
    }
   },
   "outputs": [
    {
     "data": {
      "text/plain": [
       "Pipeline(memory=None,\n",
       "     steps=[('forest1', RandomForestClassifier(bootstrap=True, class_weight=None, criterion='gini',\n",
       "            max_depth=25, max_features=30, max_leaf_nodes=None,\n",
       "            min_impurity_decrease=0.0, min_impurity_split=None,\n",
       "            min_samples_leaf=1, min_samples_split=2,\n",
       "            min_weight_fraction_leaf=0.0, n_estimators=100, n_jobs=None,\n",
       "            oob_score=False, random_state=None, verbose=0,\n",
       "            warm_start=False))])"
      ]
     },
     "execution_count": 191,
     "metadata": {},
     "output_type": "execute_result"
    }
   ],
   "source": [
    "# Create and fit the model pipeline\n",
    "pipe_forest1 = Pipeline([('forest1', RandomForestClassifier(max_depth=25,\n",
    "                                                            max_features=30,\n",
    "                                                            n_estimators=100))\n",
    "                        ])\n",
    "\n",
    "pipe_forest1.fit(X_resampled, y_resampled)"
   ]
  },
  {
   "cell_type": "code",
   "execution_count": 199,
   "metadata": {
    "ExecuteTime": {
     "end_time": "2019-11-25T21:03:43.007359Z",
     "start_time": "2019-11-25T21:03:37.328212Z"
    }
   },
   "outputs": [
    {
     "name": "stdout",
     "output_type": "stream",
     "text": [
      "Accuracy: 0.9972748485059553\n",
      "-------\n",
      "Confusion matrix:\n",
      "[[16358     0     0     0    50     0     0]\n",
      " [   20 16173     1     0   205     9     0]\n",
      " [    0     0 16394     5     5     4     0]\n",
      " [    0     0     0 16408     0     0     0]\n",
      " [    0     0     0     0 16408     0     0]\n",
      " [    0     0     0     6     6 16396     0]\n",
      " [    0     0     0     0     2     0 16406]]\n",
      "-------\n",
      "Classification report:\n",
      "              precision    recall  f1-score   support\n",
      "\n",
      "           1       1.00      1.00      1.00     16408\n",
      "           2       1.00      0.99      0.99     16408\n",
      "           3       1.00      1.00      1.00     16408\n",
      "           4       1.00      1.00      1.00     16408\n",
      "           5       0.98      1.00      0.99     16408\n",
      "           6       1.00      1.00      1.00     16408\n",
      "           7       1.00      1.00      1.00     16408\n",
      "\n",
      "   micro avg       1.00      1.00      1.00    114856\n",
      "   macro avg       1.00      1.00      1.00    114856\n",
      "weighted avg       1.00      1.00      1.00    114856\n",
      "\n"
     ]
    }
   ],
   "source": [
    "# View metrics for training data\n",
    "y_pred = pipe_forest1.predict(X_resampled)\n",
    "print_metrics(y_resampled, y_pred)"
   ]
  },
  {
   "cell_type": "code",
   "execution_count": 193,
   "metadata": {
    "ExecuteTime": {
     "end_time": "2019-11-25T16:45:48.829762Z",
     "start_time": "2019-11-25T16:45:46.955794Z"
    }
   },
   "outputs": [
    {
     "name": "stdout",
     "output_type": "stream",
     "text": [
      "Accuracy: 0.8867489371955732\n",
      "-------\n",
      "Confusion matrix:\n",
      "[[18979  1579     7     0   177    20   422]\n",
      " [ 2285 24255   325     0  1004   380    81]\n",
      " [    0    10  3402    35    11   117     0]\n",
      " [    0     0    13   258     0     4     0]\n",
      " [    0    10    12     0   924     4     0]\n",
      " [    0     2    53     8     6  1667     0]\n",
      " [   13     1     0     0     1     0  2036]]\n",
      "-------\n",
      "Classification report:\n",
      "              precision    recall  f1-score   support\n",
      "\n",
      "           1       0.89      0.90      0.89     21184\n",
      "           2       0.94      0.86      0.90     28330\n",
      "           3       0.89      0.95      0.92      3575\n",
      "           4       0.86      0.94      0.90       275\n",
      "           5       0.44      0.97      0.60       950\n",
      "           6       0.76      0.96      0.85      1736\n",
      "           7       0.80      0.99      0.89      2051\n",
      "\n",
      "   micro avg       0.89      0.89      0.89     58101\n",
      "   macro avg       0.80      0.94      0.85     58101\n",
      "weighted avg       0.90      0.89      0.89     58101\n",
      "\n"
     ]
    }
   ],
   "source": [
    "# View metrics for validation data\n",
    "y_pred = pipe_forest1.predict(X_val_raw)\n",
    "print_metrics(y_val_raw, y_pred)"
   ]
  },
  {
   "cell_type": "code",
   "execution_count": 194,
   "metadata": {
    "ExecuteTime": {
     "end_time": "2019-11-25T16:45:55.837169Z",
     "start_time": "2019-11-25T16:45:53.956923Z"
    },
    "colab": {
     "base_uri": "https://localhost:8080/",
     "height": 459
    },
    "colab_type": "code",
    "id": "MTQurvksFcWB",
    "outputId": "2120d155-46be-44f9-febb-e9251dce861e",
    "scrolled": false
   },
   "outputs": [
    {
     "name": "stdout",
     "output_type": "stream",
     "text": [
      "Accuracy: 0.8845306529895701\n",
      "-------\n",
      "Confusion matrix:\n",
      "[[18901  1677     3     0   169    20   414]\n",
      " [ 2365 24191   357     0   982   360    76]\n",
      " [    0    10  3394    39     8   125     0]\n",
      " [    0     0    17   252     0     5     0]\n",
      " [    0     6     4     0   938     1     0]\n",
      " [    0     2    44    10     5  1676     0]\n",
      " [   10     0     0     0     0     0  2041]]\n",
      "-------\n",
      "Classification report:\n",
      "              precision    recall  f1-score   support\n",
      "\n",
      "           1       0.89      0.89      0.89     21184\n",
      "           2       0.93      0.85      0.89     28331\n",
      "           3       0.89      0.95      0.92      3576\n",
      "           4       0.84      0.92      0.88       274\n",
      "           5       0.45      0.99      0.61       949\n",
      "           6       0.77      0.96      0.85      1737\n",
      "           7       0.81      1.00      0.89      2051\n",
      "\n",
      "   micro avg       0.88      0.88      0.88     58102\n",
      "   macro avg       0.80      0.94      0.85     58102\n",
      "weighted avg       0.90      0.88      0.89     58102\n",
      "\n"
     ]
    }
   ],
   "source": [
    "# View metrics for test data\n",
    "y_pred_test_forest1 = pipe_forest1.predict(X_test)\n",
    "print_metrics(y_test, y_pred_test_forest1)"
   ]
  },
  {
   "cell_type": "markdown",
   "metadata": {},
   "source": [
    "The model's performance on the test dataset is very close to its performance on the validation and training sets, leading me to believe that the model is not overfitting on the training data. Class 5 is still the one where the model doesn't perform as well, but for every other class, performance is pretty good.\n",
    "\n",
    "One last step to save me time in the future is to \"pickle\" this model, i.e., save a copy of the model that is already trained and ready to use for prediction."
   ]
  },
  {
   "cell_type": "code",
   "execution_count": 70,
   "metadata": {
    "ExecuteTime": {
     "end_time": "2019-11-24T22:33:33.767352Z",
     "start_time": "2019-11-24T22:33:30.117944Z"
    },
    "colab": {},
    "colab_type": "code",
    "id": "RXl5FyssbdQs"
   },
   "outputs": [],
   "source": [
    "# Pickle the model\n",
    "with open('forest1.pickle', 'wb') as f:\n",
    "    pickle.dump(pipe_forest1, f, pickle.HIGHEST_PROTOCOL)"
   ]
  },
  {
   "cell_type": "markdown",
   "metadata": {
    "colab_type": "text",
    "id": "aHb_nwSrqkgu"
   },
   "source": [
    "## Random Forest 2"
   ]
  },
  {
   "cell_type": "markdown",
   "metadata": {
    "colab_type": "text",
    "id": "BtNbt3piHYWk"
   },
   "source": [
    "It's hard to imagine that another model will perform as well as the baseline one above, so from here onward, I'll be looking to see how performance changes for each model. My hope is that I can find another model that performs well where the first one doesn't. This will give me options for predicting under different circumstances or with slightly different goals. \n",
    "\n",
    "This second Random Forest model uses data that has been transformed through scaling (using z-score standardization) and Principal Components Analysis."
   ]
  },
  {
   "cell_type": "markdown",
   "metadata": {
    "colab_type": "text",
    "id": "HH2rqP2Fqkgv"
   },
   "source": [
    "### Baseline model"
   ]
  },
  {
   "cell_type": "markdown",
   "metadata": {},
   "source": [
    "First I'll fit a baseline model to see how a Random Forest performs on the transformed data."
   ]
  },
  {
   "cell_type": "code",
   "execution_count": 39,
   "metadata": {
    "ExecuteTime": {
     "end_time": "2019-11-21T19:41:28.649268Z",
     "start_time": "2019-11-21T19:41:17.312923Z"
    },
    "colab": {
     "base_uri": "https://localhost:8080/",
     "height": 190
    },
    "colab_type": "code",
    "id": "ndWfNqlJqkgv",
    "outputId": "a76cd41c-c353-4f00-cdba-37693b684503",
    "scrolled": true
   },
   "outputs": [
    {
     "name": "stderr",
     "output_type": "stream",
     "text": [
      "/usr/local/lib/python3.6/dist-packages/sklearn/ensemble/forest.py:245: FutureWarning: The default value of n_estimators will change from 10 in version 0.20 to 100 in 0.22.\n",
      "  \"10 in version 0.20 to 100 in 0.22.\", FutureWarning)\n"
     ]
    },
    {
     "data": {
      "text/plain": [
       "RandomForestClassifier(bootstrap=True, class_weight=None, criterion='gini',\n",
       "                       max_depth=None, max_features='auto', max_leaf_nodes=None,\n",
       "                       min_impurity_decrease=0.0, min_impurity_split=None,\n",
       "                       min_samples_leaf=1, min_samples_split=2,\n",
       "                       min_weight_fraction_leaf=0.0, n_estimators=10,\n",
       "                       n_jobs=None, oob_score=False, random_state=None,\n",
       "                       verbose=0, warm_start=False)"
      ]
     },
     "execution_count": 39,
     "metadata": {
      "tags": []
     },
     "output_type": "execute_result"
    }
   ],
   "source": [
    "# Fit and score a baseline RandomForestClassifier\n",
    "forest2 = RandomForestClassifier()\n",
    "forest2.fit(X_train_trans, y_train_res)"
   ]
  },
  {
   "cell_type": "code",
   "execution_count": 40,
   "metadata": {
    "colab": {
     "base_uri": "https://localhost:8080/",
     "height": 459
    },
    "colab_type": "code",
    "id": "bJJ8aRBJNuxe",
    "outputId": "c5d4ad9b-f48f-4987-8bb3-a92ed655de81",
    "scrolled": true
   },
   "outputs": [
    {
     "name": "stdout",
     "output_type": "stream",
     "text": [
      "Accuracy: 0.996395486522254\n",
      "-------\n",
      "Confusion matrix:\n",
      "[[16335    42     1     0     3     2    25]\n",
      " [  123 16240    12     0    17    12     4]\n",
      " [    0     1 16378     6     1    22     0]\n",
      " [    0     0     5 16401     0     2     0]\n",
      " [    2    16     3     0 16386     1     0]\n",
      " [    1     1    62    26     6 16312     0]\n",
      " [   14     4     0     0     0     0 16390]]\n",
      "-------\n",
      "Classification report:\n",
      "              precision    recall  f1-score   support\n",
      "\n",
      "           1       0.99      1.00      0.99     16408\n",
      "           2       1.00      0.99      0.99     16408\n",
      "           3       0.99      1.00      1.00     16408\n",
      "           4       1.00      1.00      1.00     16408\n",
      "           5       1.00      1.00      1.00     16408\n",
      "           6       1.00      0.99      1.00     16408\n",
      "           7       1.00      1.00      1.00     16408\n",
      "\n",
      "    accuracy                           1.00    114856\n",
      "   macro avg       1.00      1.00      1.00    114856\n",
      "weighted avg       1.00      1.00      1.00    114856\n",
      "\n"
     ]
    }
   ],
   "source": [
    "# Evaluate\n",
    "y_pred = forest2.predict(X_train_trans)\n",
    "print_metrics(y_train_res, y_pred)"
   ]
  },
  {
   "cell_type": "markdown",
   "metadata": {},
   "source": [
    "Accuracy is still really high for the training data, which makes sense. In theory, scaling and PCA should not have much impact on a Random Forest model."
   ]
  },
  {
   "cell_type": "code",
   "execution_count": 41,
   "metadata": {
    "ExecuteTime": {
     "end_time": "2019-11-21T19:41:48.192634Z",
     "start_time": "2019-11-21T19:41:47.963565Z"
    },
    "colab": {
     "base_uri": "https://localhost:8080/",
     "height": 459
    },
    "colab_type": "code",
    "id": "2gSJoyvzqkgx",
    "outputId": "6fc56829-e168-4821-f5ac-ed7bd530b56d"
   },
   "outputs": [
    {
     "name": "stdout",
     "output_type": "stream",
     "text": [
      "Accuracy: 0.8231183628508976\n",
      "-------\n",
      "Confusion matrix:\n",
      "[[18073  2301    15     0   143    40   612]\n",
      " [ 4505 21783   510    12   859   552   109]\n",
      " [    2    23  3288    41     9   212     0]\n",
      " [    0     0    16   248     0    11     0]\n",
      " [   13    40    16     0   872     9     0]\n",
      " [    2    14   141    14     4  1561     0]\n",
      " [   47     4     0     0     1     0  1999]]\n",
      "-------\n",
      "Classification report:\n",
      "              precision    recall  f1-score   support\n",
      "\n",
      "           1       0.80      0.85      0.82     21184\n",
      "           2       0.90      0.77      0.83     28330\n",
      "           3       0.82      0.92      0.87      3575\n",
      "           4       0.79      0.90      0.84       275\n",
      "           5       0.46      0.92      0.61       950\n",
      "           6       0.65      0.90      0.76      1736\n",
      "           7       0.73      0.97      0.84      2051\n",
      "\n",
      "    accuracy                           0.82     58101\n",
      "   macro avg       0.74      0.89      0.80     58101\n",
      "weighted avg       0.84      0.82      0.83     58101\n",
      "\n"
     ]
    }
   ],
   "source": [
    "# Validate \n",
    "y_pred = forest2.predict(X_val_trans)\n",
    "print_metrics(y_val, y_pred)"
   ]
  },
  {
   "cell_type": "markdown",
   "metadata": {
    "colab_type": "text",
    "id": "NKbJ2wB7qkg0"
   },
   "source": [
    "The Random Forest scored over 99% accuracy on the training set and 82% on the validation set! The Random Forest is probably overfit to the training data. Below I'll use a grid search to see if there are other parameters that would help the Random Forest perform better on the validation set.\n",
    "\n",
    "For now, let's take a look at the importance the Random Forest assigned to each of the 40 components."
   ]
  },
  {
   "cell_type": "code",
   "execution_count": 42,
   "metadata": {
    "ExecuteTime": {
     "end_time": "2019-11-21T17:07:07.217890Z",
     "start_time": "2019-11-21T17:07:07.206639Z"
    },
    "colab": {
     "base_uri": "https://localhost:8080/",
     "height": 153
    },
    "colab_type": "code",
    "id": "SOchhHInqkg1",
    "outputId": "92367b3d-627b-4dba-ea3a-01c685eae7a2",
    "scrolled": false
   },
   "outputs": [
    {
     "data": {
      "text/plain": [
       "array([0.08246777, 0.0129423 , 0.02055541, 0.01996136, 0.01798352,\n",
       "       0.01533155, 0.04323785, 0.02456184, 0.03054897, 0.0221972 ,\n",
       "       0.02375608, 0.02463589, 0.0265743 , 0.02289252, 0.02833921,\n",
       "       0.01738256, 0.02032123, 0.03013794, 0.02742376, 0.02452776,\n",
       "       0.02466996, 0.02485073, 0.02385575, 0.01269406, 0.02786883,\n",
       "       0.03020926, 0.02360446, 0.02773516, 0.02613266, 0.01750695,\n",
       "       0.01378035, 0.02584689, 0.01785867, 0.018686  , 0.02428663,\n",
       "       0.02286449, 0.04776844, 0.01385219, 0.03033672, 0.00981279])"
      ]
     },
     "execution_count": 42,
     "metadata": {
      "tags": []
     },
     "output_type": "execute_result"
    }
   ],
   "source": [
    "# Check the feature importances\n",
    "forest2.feature_importances_"
   ]
  },
  {
   "cell_type": "code",
   "execution_count": 44,
   "metadata": {
    "ExecuteTime": {
     "end_time": "2019-11-21T17:07:08.905707Z",
     "start_time": "2019-11-21T17:07:08.433064Z"
    },
    "colab": {
     "base_uri": "https://localhost:8080/",
     "height": 621
    },
    "colab_type": "code",
    "id": "pwdTTVcqqkg7",
    "outputId": "075c1cc7-bdae-4cb9-ddda-4539102d1f42",
    "scrolled": false
   },
   "outputs": [
    {
     "data": {
      "image/png": "[encoded data removed]",
      "text/plain": [
       "<Figure size 576x720 with 1 Axes>"
      ]
     },
     "metadata": {
      "tags": []
     },
     "output_type": "display_data"
    }
   ],
   "source": [
    "# Visualize feature importances\n",
    "plot_feature_importances(forest2, X_train_trans)"
   ]
  },
  {
   "cell_type": "markdown",
   "metadata": {
    "colab_type": "text",
    "id": "1SD_DWUVqkg8"
   },
   "source": [
    "The plot above shows that there are a few features that are a bit more powerful than the rest. A grid search (below) will help me determine if a different maximum depth of tree or a different number of trees would improve performance."
   ]
  },
  {
   "cell_type": "markdown",
   "metadata": {
    "colab_type": "text",
    "id": "rzSrIVi_qkg9"
   },
   "source": [
    "### Tune parameters with GridSearchCV"
   ]
  },
  {
   "cell_type": "markdown",
   "metadata": {},
   "source": [
    "In this grid search, I want to explore different options for the number of features to use for prediction, the maximum depth of each decision tree in the forest, and the minimum number of examples that each leaf must contain. Remember that GridSearchCV will be doing 3-fold cross-validation, for a total of 36 models to try."
   ]
  },
  {
   "cell_type": "code",
   "execution_count": 45,
   "metadata": {
    "ExecuteTime": {
     "end_time": "2019-11-21T18:50:25.024805Z",
     "start_time": "2019-11-21T17:09:27.384337Z"
    },
    "colab": {
     "base_uri": "https://localhost:8080/",
     "height": 357
    },
    "colab_type": "code",
    "id": "LQBZhMTSqkg9",
    "outputId": "ce1fea1f-41ca-4384-a39a-28f5ced98675"
   },
   "outputs": [
    {
     "data": {
      "text/plain": [
       "GridSearchCV(cv=3, error_score='raise-deprecating',\n",
       "             estimator=RandomForestClassifier(bootstrap=True, class_weight=None,\n",
       "                                              criterion='gini', max_depth=None,\n",
       "                                              max_features='auto',\n",
       "                                              max_leaf_nodes=None,\n",
       "                                              min_impurity_decrease=0.0,\n",
       "                                              min_impurity_split=None,\n",
       "                                              min_samples_leaf=1,\n",
       "                                              min_samples_split=2,\n",
       "                                              min_weight_fraction_leaf=0.0,\n",
       "                                              n_estimators=10, n_jobs=None,\n",
       "                                              oob_score=False,\n",
       "                                              random_state=None, verbose=0,\n",
       "                                              warm_start=False),\n",
       "             iid='warn', n_jobs=-1,\n",
       "             param_grid={'max_depth': [20, 25], 'max_features': [20, 40],\n",
       "                         'min_samples_leaf': [5, 10, 20],\n",
       "                         'n_estimators': [100]},\n",
       "             pre_dispatch='2*n_jobs', refit=True, return_train_score=False,\n",
       "             scoring=None, verbose=0)"
      ]
     },
     "execution_count": 45,
     "metadata": {
      "tags": []
     },
     "output_type": "execute_result"
    }
   ],
   "source": [
    "# Use GridSearchCV to find best parameters for the Random Forest\n",
    "params = {'n_estimators': [100],\n",
    "          'max_features': [20, 40],\n",
    "          'max_depth': [20, 25],\n",
    "          'min_samples_leaf': [5, 10, 20]}\n",
    "\n",
    "grid_forest2 = GridSearchCV(forest2, params, cv=3, n_jobs=-1)\n",
    "\n",
    "grid_forest2.fit(X_train_trans, y_train_res)"
   ]
  },
  {
   "cell_type": "code",
   "execution_count": 46,
   "metadata": {
    "ExecuteTime": {
     "end_time": "2019-11-19T23:28:51.643074Z",
     "start_time": "2019-11-19T22:57:01.746986Z"
    },
    "colab": {
     "base_uri": "https://localhost:8080/",
     "height": 51
    },
    "colab_type": "code",
    "id": "jv_yYoFXqkg_",
    "outputId": "5b934676-1dab-4eeb-9b9f-b13509fc0d66",
    "scrolled": true
   },
   "outputs": [
    {
     "name": "stdout",
     "output_type": "stream",
     "text": [
      "Best score: 0.8972626593299435\n",
      "Best params: {'max_depth': 25, 'max_features': 20, 'min_samples_leaf': 5, 'n_estimators': 100}\n"
     ]
    }
   ],
   "source": [
    "# View best score and parameters\n",
    "print('Best score:', grid_forest2.best_score_)\n",
    "print('Best params:', grid_forest2.best_params_)"
   ]
  },
  {
   "cell_type": "code",
   "execution_count": 47,
   "metadata": {
    "ExecuteTime": {
     "end_time": "2019-11-19T17:06:05.998766Z",
     "start_time": "2019-11-19T17:06:05.889772Z"
    },
    "colab": {
     "base_uri": "https://localhost:8080/",
     "height": 459
    },
    "colab_type": "code",
    "id": "MNWMZF7HqkhJ",
    "outputId": "204e90a9-0860-45e4-f293-78adf2c94f66",
    "scrolled": false
   },
   "outputs": [
    {
     "name": "stdout",
     "output_type": "stream",
     "text": [
      "Accuracy: 0.9730009751340809\n",
      "-------\n",
      "Confusion matrix:\n",
      "[[15566   473     8     0    79    23   259]\n",
      " [  404 15314   194     3   266   187    40]\n",
      " [    0    19 15878   142    23   346     0]\n",
      " [    0     0    28 16368     0    12     0]\n",
      " [    6    55    16     0 16305    26     0]\n",
      " [    4    25   185   148    29 16017     0]\n",
      " [   85    12     0     0     4     0 16307]]\n",
      "-------\n",
      "Classification report:\n",
      "              precision    recall  f1-score   support\n",
      "\n",
      "           1       0.97      0.95      0.96     16408\n",
      "           2       0.96      0.93      0.95     16408\n",
      "           3       0.97      0.97      0.97     16408\n",
      "           4       0.98      1.00      0.99     16408\n",
      "           5       0.98      0.99      0.98     16408\n",
      "           6       0.96      0.98      0.97     16408\n",
      "           7       0.98      0.99      0.99     16408\n",
      "\n",
      "    accuracy                           0.97    114856\n",
      "   macro avg       0.97      0.97      0.97    114856\n",
      "weighted avg       0.97      0.97      0.97    114856\n",
      "\n"
     ]
    }
   ],
   "source": [
    "# View the metrics for the best model\n",
    "y_pred = grid_forest2.predict(X_train_trans)\n",
    "print_metrics(y_train_res, y_pred)"
   ]
  },
  {
   "cell_type": "markdown",
   "metadata": {},
   "source": [
    "The best model discovered via grid search has a little less accuracy when predicting based on the training data, but hopefully that means less risk of it being overfit to the training data."
   ]
  },
  {
   "cell_type": "code",
   "execution_count": 48,
   "metadata": {
    "ExecuteTime": {
     "end_time": "2019-11-19T17:07:52.932588Z",
     "start_time": "2019-11-19T17:07:52.765541Z"
    },
    "colab": {
     "base_uri": "https://localhost:8080/",
     "height": 459
    },
    "colab_type": "code",
    "id": "Pyiv0bSuqkhL",
    "outputId": "ca63a8b9-85ff-453d-abc5-e66b0011e744"
   },
   "outputs": [
    {
     "name": "stdout",
     "output_type": "stream",
     "text": [
      "Accuracy: 0.8297103320080549\n",
      "-------\n",
      "Confusion matrix:\n",
      "[[17746  2440    18     0   205    41   734]\n",
      " [ 3432 22487   561    12  1101   615   122]\n",
      " [    0    15  3226    58    12   264     0]\n",
      " [    0     0    20   248     0     7     0]\n",
      " [    6    27    15     0   889    13     0]\n",
      " [    0    12   101    19     5  1599     0]\n",
      " [   36     2     0     0     1     0  2012]]\n",
      "-------\n",
      "Classification report:\n",
      "              precision    recall  f1-score   support\n",
      "\n",
      "           1       0.84      0.84      0.84     21184\n",
      "           2       0.90      0.79      0.84     28330\n",
      "           3       0.82      0.90      0.86      3575\n",
      "           4       0.74      0.90      0.81       275\n",
      "           5       0.40      0.94      0.56       950\n",
      "           6       0.63      0.92      0.75      1736\n",
      "           7       0.70      0.98      0.82      2051\n",
      "\n",
      "    accuracy                           0.83     58101\n",
      "   macro avg       0.72      0.90      0.78     58101\n",
      "weighted avg       0.85      0.83      0.83     58101\n",
      "\n"
     ]
    }
   ],
   "source": [
    "# View the metrics for the best model\n",
    "y_pred = grid_forest2.predict(X_val_trans)\n",
    "print_metrics(y_val, y_pred)"
   ]
  },
  {
   "cell_type": "markdown",
   "metadata": {},
   "source": [
    "And there you have it: performance on the validation dataset has improved a little. This will be the model I evaluate using the holdout (test) dataset."
   ]
  },
  {
   "cell_type": "markdown",
   "metadata": {
    "colab_type": "text",
    "id": "O5tmcHM1qkhN"
   },
   "source": [
    "### Evaluating the best Random Forest classifier"
   ]
  },
  {
   "cell_type": "markdown",
   "metadata": {},
   "source": [
    "Now that I have the parameters for the best version of my Random Forest model, I will build a pipeline to take raw data, transform it, and then make predictions on it."
   ]
  },
  {
   "cell_type": "code",
   "execution_count": 58,
   "metadata": {
    "ExecuteTime": {
     "end_time": "2019-11-24T22:14:18.312608Z",
     "start_time": "2019-11-24T22:14:16.436341Z"
    }
   },
   "outputs": [
    {
     "name": "stderr",
     "output_type": "stream",
     "text": [
      "/Users/jennykreiger/anaconda3/envs/learn-env/lib/python3.6/site-packages/sklearn/utils/validation.py:595: DataConversionWarning: Data with input dtype int64 was converted to float64 by StandardScaler.\n",
      "  warnings.warn(msg, DataConversionWarning)\n",
      "/Users/jennykreiger/anaconda3/envs/learn-env/lib/python3.6/site-packages/sklearn/utils/validation.py:595: DataConversionWarning: Data with input dtype int64 was converted to float64 by StandardScaler.\n",
      "  warnings.warn(msg, DataConversionWarning)\n"
     ]
    },
    {
     "data": {
      "text/plain": [
       "Pipeline(memory=None,\n",
       "     steps=[('scaler', StandardScaler(copy=True, with_mean=True, with_std=True)), ('pca', PCA(copy=True, iterated_power='auto', n_components=40, random_state=None,\n",
       "  svd_solver='auto', tol=0.0, whiten=False)), ('forest2', RandomForestClassifier(bootstrap=True, class_weight=None, criterion='gini',\n",
       "       ...obs=None,\n",
       "            oob_score=False, random_state=None, verbose=0,\n",
       "            warm_start=False))])"
      ]
     },
     "execution_count": 58,
     "metadata": {},
     "output_type": "execute_result"
    }
   ],
   "source": [
    "# Construct a pipeline for the best Random Forest model\n",
    "pipe_forest2 = Pipeline([('scaler', StandardScaler()),\n",
    "                         ('pca', PCA(n_components=40)),\n",
    "                         ('forest2', RandomForestClassifier(max_depth=25,\n",
    "                                                            max_features=20,\n",
    "                                                            min_samples_leaf=5,\n",
    "                                                            n_estimators=100))\n",
    "                        ])\n",
    "pipe_forest2.fit(X_resampled, y_resampled)"
   ]
  },
  {
   "cell_type": "code",
   "execution_count": 61,
   "metadata": {
    "ExecuteTime": {
     "end_time": "2019-11-24T22:16:31.744710Z",
     "start_time": "2019-11-24T22:16:28.497432Z"
    },
    "colab": {
     "base_uri": "https://localhost:8080/",
     "height": 459
    },
    "colab_type": "code",
    "id": "s2JAfBbOqkhP",
    "outputId": "5c91b616-affb-4073-ae2b-5efdd7b50be7",
    "scrolled": true
   },
   "outputs": [
    {
     "name": "stderr",
     "output_type": "stream",
     "text": [
      "/Users/jennykreiger/anaconda3/envs/learn-env/lib/python3.6/site-packages/sklearn/utils/validation.py:595: DataConversionWarning: Data with input dtype int64 was converted to float64 by StandardScaler.\n",
      "  warnings.warn(msg, DataConversionWarning)\n"
     ]
    },
    {
     "name": "stdout",
     "output_type": "stream",
     "text": [
      "Accuracy: 0.9724350491049663\n",
      "-------\n",
      "Confusion matrix:\n",
      "[[15565   472     8     0    84    23   256]\n",
      " [  398 15314   197     3   264   193    39]\n",
      " [    0    21 15832   147    21   387     0]\n",
      " [    0     0    28 16362     0    18     0]\n",
      " [    5    56    16     0 16304    27     0]\n",
      " [    4    21   191   152    32 16008     0]\n",
      " [   87    13     0     0     3     0 16305]]\n",
      "-------\n",
      "Classification report:\n",
      "              precision    recall  f1-score   support\n",
      "\n",
      "           1       0.97      0.95      0.96     16408\n",
      "           2       0.96      0.93      0.95     16408\n",
      "           3       0.97      0.96      0.97     16408\n",
      "           4       0.98      1.00      0.99     16408\n",
      "           5       0.98      0.99      0.98     16408\n",
      "           6       0.96      0.98      0.97     16408\n",
      "           7       0.98      0.99      0.99     16408\n",
      "\n",
      "   micro avg       0.97      0.97      0.97    114856\n",
      "   macro avg       0.97      0.97      0.97    114856\n",
      "weighted avg       0.97      0.97      0.97    114856\n",
      "\n"
     ]
    }
   ],
   "source": [
    "# View metrics for the optimized model\n",
    "y_pred = pipe_forest2.predict(X_resampled)\n",
    "print_metrics(y_resampled, y_pred)"
   ]
  },
  {
   "cell_type": "code",
   "execution_count": 62,
   "metadata": {
    "ExecuteTime": {
     "end_time": "2019-11-24T22:16:52.667467Z",
     "start_time": "2019-11-24T22:16:50.726621Z"
    },
    "colab": {
     "base_uri": "https://localhost:8080/",
     "height": 459
    },
    "colab_type": "code",
    "id": "uT9LdAdtqkhQ",
    "outputId": "54b54f42-d31a-4897-eb69-d6dce6b9b9d4",
    "scrolled": true
   },
   "outputs": [
    {
     "name": "stderr",
     "output_type": "stream",
     "text": [
      "/Users/jennykreiger/anaconda3/envs/learn-env/lib/python3.6/site-packages/sklearn/pipeline.py:331: DataConversionWarning: Data with input dtype int64 were all converted to float64 by StandardScaler.\n",
      "  Xt = transform.transform(Xt)\n"
     ]
    },
    {
     "name": "stdout",
     "output_type": "stream",
     "text": [
      "Accuracy: 0.8313626271492746\n",
      "-------\n",
      "Confusion matrix:\n",
      "[[17803  2405    19     0   194    40   723]\n",
      " [ 3420 22537   570    10  1074   603   116]\n",
      " [    0    19  3213    60    13   270     0]\n",
      " [    0     0    22   246     0     7     0]\n",
      " [    6    29    15     0   887    13     0]\n",
      " [    0    10    99    18     5  1604     0]\n",
      " [   35     2     0     0     1     0  2013]]\n",
      "-------\n",
      "Classification report:\n",
      "              precision    recall  f1-score   support\n",
      "\n",
      "           1       0.84      0.84      0.84     21184\n",
      "           2       0.90      0.80      0.85     28330\n",
      "           3       0.82      0.90      0.86      3575\n",
      "           4       0.74      0.89      0.81       275\n",
      "           5       0.41      0.93      0.57       950\n",
      "           6       0.63      0.92      0.75      1736\n",
      "           7       0.71      0.98      0.82      2051\n",
      "\n",
      "   micro avg       0.83      0.83      0.83     58101\n",
      "   macro avg       0.72      0.90      0.78     58101\n",
      "weighted avg       0.85      0.83      0.84     58101\n",
      "\n"
     ]
    }
   ],
   "source": [
    "# View the metrics for the best model\n",
    "y_pred = pipe_forest2.predict(X_val)\n",
    "print_metrics(y_val, y_pred)"
   ]
  },
  {
   "cell_type": "markdown",
   "metadata": {},
   "source": [
    "This is the moment of truth: how well does this model perform on data it has never encountered before?"
   ]
  },
  {
   "cell_type": "code",
   "execution_count": 63,
   "metadata": {
    "ExecuteTime": {
     "end_time": "2019-11-24T22:17:10.823351Z",
     "start_time": "2019-11-24T22:17:08.540368Z"
    },
    "colab": {
     "base_uri": "https://localhost:8080/",
     "height": 459
    },
    "colab_type": "code",
    "id": "e5lEeqbOqkhX",
    "outputId": "b1b6cfe8-cab5-4db8-e042-e6e8fe86e427",
    "scrolled": false
   },
   "outputs": [
    {
     "name": "stderr",
     "output_type": "stream",
     "text": [
      "/Users/jennykreiger/anaconda3/envs/learn-env/lib/python3.6/site-packages/sklearn/pipeline.py:331: DataConversionWarning: Data with input dtype int64 were all converted to float64 by StandardScaler.\n",
      "  Xt = transform.transform(Xt)\n"
     ]
    },
    {
     "name": "stdout",
     "output_type": "stream",
     "text": [
      "Accuracy: 0.8284740628549792\n",
      "-------\n",
      "Confusion matrix:\n",
      "[[17683  2523    19     0   181    40   738]\n",
      " [ 3542 22460   585    10  1017   586   131]\n",
      " [    0    15  3233    75    11   242     0]\n",
      " [    0     0    22   247     0     5     0]\n",
      " [    5    33    12     0   896     3     0]\n",
      " [    0    13    91    20     6  1607     0]\n",
      " [   39     2     0     0     0     0  2010]]\n",
      "-------\n",
      "Classification report:\n",
      "              precision    recall  f1-score   support\n",
      "\n",
      "           1       0.83      0.83      0.83     21184\n",
      "           2       0.90      0.79      0.84     28331\n",
      "           3       0.82      0.90      0.86      3576\n",
      "           4       0.70      0.90      0.79       274\n",
      "           5       0.42      0.94      0.59       949\n",
      "           6       0.65      0.93      0.76      1737\n",
      "           7       0.70      0.98      0.82      2051\n",
      "\n",
      "   micro avg       0.83      0.83      0.83     58102\n",
      "   macro avg       0.72      0.90      0.78     58102\n",
      "weighted avg       0.84      0.83      0.83     58102\n",
      "\n"
     ]
    }
   ],
   "source": [
    "# Evalutate performance on test data\n",
    "y_pred_test_forest2 = pipe_forest2.predict(X_test)\n",
    "print_metrics(y_test, y_pred_test_forest2)"
   ]
  },
  {
   "cell_type": "markdown",
   "metadata": {},
   "source": [
    "A test accuracy of 82.8% is very close to the validation accuracy of 83.1%, and a fair performance overall. This model is weakest at predicting class 5. It will be interesting to see whether another model could pick up the slack.\n",
    "\n",
    "I'll save a copy of the trained model for later."
   ]
  },
  {
   "cell_type": "code",
   "execution_count": 64,
   "metadata": {
    "ExecuteTime": {
     "end_time": "2019-11-24T22:17:24.598388Z",
     "start_time": "2019-11-24T22:17:24.102661Z"
    },
    "colab": {},
    "colab_type": "code",
    "id": "1TRdgBF-XVva"
   },
   "outputs": [],
   "source": [
    "# Pickle the model\n",
    "with open('forest2.pickle', 'wb') as f:\n",
    "    pickle.dump(pipe_forest2, f, pickle.HIGHEST_PROTOCOL)"
   ]
  },
  {
   "cell_type": "markdown",
   "metadata": {
    "colab_type": "text",
    "id": "q-IXx5TeHYXX"
   },
   "source": [
    "## XGBoost"
   ]
  },
  {
   "cell_type": "markdown",
   "metadata": {
    "colab_type": "text",
    "id": "zIpOKID4HYXX"
   },
   "source": [
    "XGBoost is an ensemble method that employs boosting, a technique where a series of weak learners is trained so that each tries to improve upon the performance of the one before it. Ensemble methods are known to be very powerful for classification tasks, so I'm eager to see how this one performs."
   ]
  },
  {
   "cell_type": "markdown",
   "metadata": {
    "colab_type": "text",
    "id": "_l1pRb4zqkhZ"
   },
   "source": [
    "### Baseline model"
   ]
  },
  {
   "cell_type": "markdown",
   "metadata": {},
   "source": [
    "For this first model, I'll be using `XGBClassifier()` with default parameters and training on data that has been class-balanced, scaled, and transformed with PCA."
   ]
  },
  {
   "cell_type": "code",
   "execution_count": 0,
   "metadata": {
    "ExecuteTime": {
     "end_time": "2019-11-19T16:48:10.688952Z",
     "start_time": "2019-11-19T16:48:10.683271Z"
    },
    "colab": {},
    "colab_type": "code",
    "id": "8kWxSQYWqkhb"
   },
   "outputs": [],
   "source": [
    "# Instantiate the classifier\n",
    "xg = xgb.XGBClassifier()"
   ]
  },
  {
   "cell_type": "code",
   "execution_count": 70,
   "metadata": {
    "ExecuteTime": {
     "start_time": "2019-11-19T16:48:11.575Z"
    },
    "colab": {
     "base_uri": "https://localhost:8080/",
     "height": 136
    },
    "colab_type": "code",
    "id": "OukWjZPVqkhe",
    "outputId": "0009d6f5-c437-4cf0-d796-7d3b8bd4cba3"
   },
   "outputs": [
    {
     "data": {
      "text/plain": [
       "XGBClassifier(base_score=0.5, booster='gbtree', colsample_bylevel=1,\n",
       "              colsample_bynode=1, colsample_bytree=1, gamma=0,\n",
       "              learning_rate=0.1, max_delta_step=0, max_depth=3,\n",
       "              min_child_weight=1, missing=None, n_estimators=100, n_jobs=1,\n",
       "              nthread=None, objective='multi:softprob', random_state=0,\n",
       "              reg_alpha=0, reg_lambda=1, scale_pos_weight=1, seed=None,\n",
       "              silent=None, subsample=1, verbosity=1)"
      ]
     },
     "execution_count": 70,
     "metadata": {
      "tags": []
     },
     "output_type": "execute_result"
    }
   ],
   "source": [
    "# Fit the classifier to the training data\n",
    "xg.fit(X_train_trans, y_train_res)"
   ]
  },
  {
   "cell_type": "code",
   "execution_count": 71,
   "metadata": {
    "ExecuteTime": {
     "start_time": "2019-11-19T15:33:53.906Z"
    },
    "colab": {
     "base_uri": "https://localhost:8080/",
     "height": 459
    },
    "colab_type": "code",
    "id": "FZ7mznGAqkhf",
    "outputId": "5b2fe257-9518-49f9-fa06-511a8f527117",
    "scrolled": true
   },
   "outputs": [
    {
     "name": "stdout",
     "output_type": "stream",
     "text": [
      "Accuracy: 0.728294560144877\n",
      "-------\n",
      "Confusion matrix:\n",
      "[[10107  3385     8     0  1033   156  1719]\n",
      " [ 3980  8562   371    30  2561   769   135]\n",
      " [    0    55 11149  1583   436  3185     0]\n",
      " [    0     0   536 15393     2   477     0]\n",
      " [  825  1497   550     0 13014   522     0]\n",
      " [   69   215  3696  1045   940 10443     0]\n",
      " [ 1095   193    12     0   127     0 14981]]\n",
      "-------\n",
      "Classification report:\n",
      "              precision    recall  f1-score   support\n",
      "\n",
      "           1       0.63      0.62      0.62     16408\n",
      "           2       0.62      0.52      0.56     16408\n",
      "           3       0.68      0.68      0.68     16408\n",
      "           4       0.85      0.94      0.89     16408\n",
      "           5       0.72      0.79      0.75     16408\n",
      "           6       0.67      0.64      0.65     16408\n",
      "           7       0.89      0.91      0.90     16408\n",
      "\n",
      "    accuracy                           0.73    114856\n",
      "   macro avg       0.72      0.73      0.72    114856\n",
      "weighted avg       0.72      0.73      0.72    114856\n",
      "\n"
     ]
    }
   ],
   "source": [
    "# View metrics for the training data\n",
    "y_pred = xg.predict(X_train_trans)\n",
    "\n",
    "print_metrics(y_train_res, y_pred)"
   ]
  },
  {
   "cell_type": "markdown",
   "metadata": {},
   "source": [
    "A training accuracy of 73% is not very good. I bet we can improve on this by selecting better parameters using a grid search."
   ]
  },
  {
   "cell_type": "code",
   "execution_count": 72,
   "metadata": {
    "colab": {
     "base_uri": "https://localhost:8080/",
     "height": 459
    },
    "colab_type": "code",
    "id": "UYyKeErFqkhg",
    "outputId": "67c6a746-e6f6-4cdb-887b-67af703c6ad0",
    "scrolled": true
   },
   "outputs": [
    {
     "name": "stdout",
     "output_type": "stream",
     "text": [
      "Accuracy: 0.579611366413659\n",
      "-------\n",
      "Confusion matrix:\n",
      "[[13029  4347    14     0  1294   199  2301]\n",
      " [ 7198 14309   636    57  4470  1394   266]\n",
      " [    0    17  2406   340   113   699     0]\n",
      " [    0     0    24   240     0    11     0]\n",
      " [   54   100    43     0   714    39     0]\n",
      " [    5    28   402   106    89  1106     0]\n",
      " [  140    23     2     0    14     0  1872]]\n",
      "-------\n",
      "Classification report:\n",
      "              precision    recall  f1-score   support\n",
      "\n",
      "           1       0.64      0.62      0.63     21184\n",
      "           2       0.76      0.51      0.61     28330\n",
      "           3       0.68      0.67      0.68      3575\n",
      "           4       0.32      0.87      0.47       275\n",
      "           5       0.11      0.75      0.19       950\n",
      "           6       0.32      0.64      0.43      1736\n",
      "           7       0.42      0.91      0.58      2051\n",
      "\n",
      "    accuracy                           0.58     58101\n",
      "   macro avg       0.46      0.71      0.51     58101\n",
      "weighted avg       0.67      0.58      0.60     58101\n",
      "\n"
     ]
    }
   ],
   "source": [
    "# View metrics for validation data\n",
    "y_pred = xg.predict(X_val_trans)\n",
    "\n",
    "print_metrics(y_val, y_pred)"
   ]
  },
  {
   "cell_type": "markdown",
   "metadata": {},
   "source": [
    "Even with relatively low performance on the training data, the model still seems to be overfit! Let's see if we can do better after some hyperparameter tuning."
   ]
  },
  {
   "cell_type": "markdown",
   "metadata": {
    "colab_type": "text",
    "id": "H11q0IphHYXg"
   },
   "source": [
    "### Tune parameters with GridSearchCV"
   ]
  },
  {
   "cell_type": "markdown",
   "metadata": {},
   "source": [
    "In this grid search I'm interested in trying different values for the learning rate, gamma, and the number of estimators to be used. This search will try 36 models total."
   ]
  },
  {
   "cell_type": "code",
   "execution_count": 147,
   "metadata": {
    "colab": {
     "base_uri": "https://localhost:8080/",
     "height": 306
    },
    "colab_type": "code",
    "id": "eWbZB4k6HYXh",
    "outputId": "f8af54b6-88e7-4d62-a1df-9a2a3c550d39"
   },
   "outputs": [
    {
     "data": {
      "text/plain": [
       "GridSearchCV(cv=3, error_score='raise-deprecating',\n",
       "             estimator=XGBClassifier(base_score=0.5, booster='gbtree',\n",
       "                                     colsample_bylevel=1, colsample_bynode=1,\n",
       "                                     colsample_bytree=1, gamma=0,\n",
       "                                     learning_rate=0.1, max_delta_step=0,\n",
       "                                     max_depth=3, min_child_weight=1,\n",
       "                                     missing=None, n_estimators=100, n_jobs=1,\n",
       "                                     nthread=None, objective='multi:softprob',\n",
       "                                     random_state=0, reg_alpha=0, reg_lambda=1,\n",
       "                                     scale_pos_weight=1, seed=None, silent=None,\n",
       "                                     subsample=1, verbosity=1),\n",
       "             iid='warn', n_jobs=-1,\n",
       "             param_grid={'gamma': [0.1, 1], 'learning_rate': [0.01, 0.1],\n",
       "                         'n_estimators': [5, 30, 100],\n",
       "                         'predictor': ['gpu_predictor'], 'subsample': [0.7]},\n",
       "             pre_dispatch='2*n_jobs', refit=True, return_train_score=False,\n",
       "             scoring='accuracy', verbose=0)"
      ]
     },
     "execution_count": 147,
     "metadata": {
      "tags": []
     },
     "output_type": "execute_result"
    }
   ],
   "source": [
    "# Use GridSearchCV to try various combinations of parameters\n",
    "params = {'learning_rate': [0.01, 0.1],\n",
    "          'gamma': [0.1, 1],\n",
    "          'n_estimators': [5, 30, 100],\n",
    "          'predictor': ['gpu_predictor'],\n",
    "          'subsample': [0.7]\n",
    "}\n",
    "\n",
    "grid_xgb = GridSearchCV(xg, params, scoring='accuracy', cv=3, n_jobs=-1)\n",
    "grid_xgb.fit(X_train_trans, y_train_res)"
   ]
  },
  {
   "cell_type": "code",
   "execution_count": 148,
   "metadata": {
    "colab": {
     "base_uri": "https://localhost:8080/",
     "height": 71
    },
    "colab_type": "code",
    "id": "uN6HHYNpYXKo",
    "outputId": "07b794f5-6cad-4d51-8028-48a82ba4a155",
    "scrolled": true
   },
   "outputs": [
    {
     "name": "stdout",
     "output_type": "stream",
     "text": [
      "Best score: 0.7253778644563628\n",
      "Best params: {'gamma': 1, 'learning_rate': 0.1, 'n_estimators': 100, 'predictor': 'gpu_predictor', 'subsample': 0.7}\n"
     ]
    }
   ],
   "source": [
    "# View best score and parameters\n",
    "print('Best score:', grid_xgb.best_score_)\n",
    "print('Best params:', grid_xgb.best_params_)"
   ]
  },
  {
   "cell_type": "markdown",
   "metadata": {},
   "source": [
    "That \"best score\" is still not very good! It looks like the options I chose for the hyperparameters were not very good. It would take more grid searches (and a LOT more time) to find better options."
   ]
  },
  {
   "cell_type": "code",
   "execution_count": 149,
   "metadata": {
    "colab": {
     "base_uri": "https://localhost:8080/",
     "height": 459
    },
    "colab_type": "code",
    "id": "t-rSDwqLHYXj",
    "outputId": "902d6ea2-adb9-410c-8d37-41346498d63c"
   },
   "outputs": [
    {
     "name": "stdout",
     "output_type": "stream",
     "text": [
      "Accuracy: 0.7306627429128648\n",
      "-------\n",
      "Confusion matrix:\n",
      "[[10305  3207     8     0   978   156  1754]\n",
      " [ 4011  8525   363    29  2550   785   145]\n",
      " [    0    50 11165  1558   449  3186     0]\n",
      " [    0     0   508 15442     2   456     0]\n",
      " [  783  1540   552     0 13047   486     0]\n",
      " [   51   257  3708  1027   887 10478     0]\n",
      " [ 1103   208    13     0   125     0 14959]]\n",
      "-------\n",
      "Classification report:\n",
      "              precision    recall  f1-score   support\n",
      "\n",
      "           1       0.63      0.63      0.63     16408\n",
      "           2       0.62      0.52      0.56     16408\n",
      "           3       0.68      0.68      0.68     16408\n",
      "           4       0.86      0.94      0.90     16408\n",
      "           5       0.72      0.80      0.76     16408\n",
      "           6       0.67      0.64      0.66     16408\n",
      "           7       0.89      0.91      0.90     16408\n",
      "\n",
      "    accuracy                           0.73    114856\n",
      "   macro avg       0.73      0.73      0.73    114856\n",
      "weighted avg       0.73      0.73      0.73    114856\n",
      "\n"
     ]
    }
   ],
   "source": [
    "# View metrics for training data\n",
    "y_pred = grid_xgb.predict(X_train_trans)\n",
    "\n",
    "print_metrics(y_train_res, y_pred)"
   ]
  },
  {
   "cell_type": "code",
   "execution_count": 150,
   "metadata": {
    "colab": {
     "base_uri": "https://localhost:8080/",
     "height": 459
    },
    "colab_type": "code",
    "id": "ipVjUSJXHYXl",
    "outputId": "1739110a-9d6f-4ed5-e219-7df63f8f6f09",
    "scrolled": true
   },
   "outputs": [
    {
     "name": "stdout",
     "output_type": "stream",
     "text": [
      "Accuracy: 0.5828643224729351\n",
      "-------\n",
      "Confusion matrix:\n",
      "[[13236  4142    13     0  1242   206  2345]\n",
      " [ 7302 14268   630    51  4392  1397   290]\n",
      " [    0    16  2416   321   121   701     0]\n",
      " [    0     0    24   242     0     9     0]\n",
      " [   52    97    44     0   723    34     0]\n",
      " [    6    28   405   110    77  1110     0]\n",
      " [  139    26     2     0    14     0  1870]]\n",
      "-------\n",
      "Classification report:\n",
      "              precision    recall  f1-score   support\n",
      "\n",
      "           1       0.64      0.62      0.63     21184\n",
      "           2       0.77      0.50      0.61     28330\n",
      "           3       0.68      0.68      0.68      3575\n",
      "           4       0.33      0.88      0.48       275\n",
      "           5       0.11      0.76      0.19       950\n",
      "           6       0.32      0.64      0.43      1736\n",
      "           7       0.42      0.91      0.57      2051\n",
      "\n",
      "    accuracy                           0.58     58101\n",
      "   macro avg       0.47      0.71      0.51     58101\n",
      "weighted avg       0.68      0.58      0.61     58101\n",
      "\n"
     ]
    }
   ],
   "source": [
    "# View metrics for validation data\n",
    "y_pred = grid_xgb.predict(X_val_trans)\n",
    "\n",
    "print_metrics(y_val, y_pred)"
   ]
  },
  {
   "cell_type": "markdown",
   "metadata": {},
   "source": [
    "It looks like my grid search was unable to improve upon the performance of the baseline model. With more searching, I could probably do better, but since I have other models performing well, I'll give XGBoost a rest for now."
   ]
  },
  {
   "cell_type": "markdown",
   "metadata": {
    "colab_type": "text",
    "id": "Kt-ju9pcqkhr"
   },
   "source": [
    "### Evaluating the best XGBoost classifier"
   ]
  },
  {
   "cell_type": "markdown",
   "metadata": {},
   "source": [
    "Although I don't expect it to go well, I'll still evaluate my best XGBoost model against the test set."
   ]
  },
  {
   "cell_type": "code",
   "execution_count": 152,
   "metadata": {
    "colab": {
     "base_uri": "https://localhost:8080/",
     "height": 153
    },
    "colab_type": "code",
    "id": "vXegbFN0qkhr",
    "outputId": "3350ec47-1c82-48ea-a65a-7f1f5e25c3fe"
   },
   "outputs": [
    {
     "data": {
      "text/plain": [
       "XGBClassifier(base_score=0.5, booster='gbtree', colsample_bylevel=1,\n",
       "              colsample_bynode=1, colsample_bytree=1, gamma=1,\n",
       "              learning_rate=0.1, max_delta_step=0, max_depth=3,\n",
       "              min_child_weight=1, missing=None, n_estimators=100, n_jobs=1,\n",
       "              nthread=None, objective='multi:softprob',\n",
       "              predictor='gpu_predictor', random_state=0, reg_alpha=0,\n",
       "              reg_lambda=1, scale_pos_weight=1, seed=None, silent=None,\n",
       "              subsample=0.7, verbosity=1)"
      ]
     },
     "execution_count": 152,
     "metadata": {
      "tags": []
     },
     "output_type": "execute_result"
    }
   ],
   "source": [
    "# Build the optimized model\n",
    "xgb_best = xgb.XGBClassifier(gamma=1, learning_rate=0.1, n_estimators=100, \n",
    "                             predictor='gpu_predictor', subsample=0.7) \n",
    "xgb_best.fit(X_train_trans, y_train_res)"
   ]
  },
  {
   "cell_type": "code",
   "execution_count": 153,
   "metadata": {
    "colab": {
     "base_uri": "https://localhost:8080/",
     "height": 459
    },
    "colab_type": "code",
    "id": "5xP7gG3-qkht",
    "outputId": "bba58ee7-38c4-47a6-dc51-aea56e9f4d93"
   },
   "outputs": [
    {
     "name": "stdout",
     "output_type": "stream",
     "text": [
      "Accuracy: 0.7306627429128648\n",
      "-------\n",
      "Confusion matrix:\n",
      "[[10305  3207     8     0   978   156  1754]\n",
      " [ 4011  8525   363    29  2550   785   145]\n",
      " [    0    50 11165  1558   449  3186     0]\n",
      " [    0     0   508 15442     2   456     0]\n",
      " [  783  1540   552     0 13047   486     0]\n",
      " [   51   257  3708  1027   887 10478     0]\n",
      " [ 1103   208    13     0   125     0 14959]]\n",
      "-------\n",
      "Classification report:\n",
      "              precision    recall  f1-score   support\n",
      "\n",
      "           1       0.63      0.63      0.63     16408\n",
      "           2       0.62      0.52      0.56     16408\n",
      "           3       0.68      0.68      0.68     16408\n",
      "           4       0.86      0.94      0.90     16408\n",
      "           5       0.72      0.80      0.76     16408\n",
      "           6       0.67      0.64      0.66     16408\n",
      "           7       0.89      0.91      0.90     16408\n",
      "\n",
      "    accuracy                           0.73    114856\n",
      "   macro avg       0.73      0.73      0.73    114856\n",
      "weighted avg       0.73      0.73      0.73    114856\n",
      "\n"
     ]
    }
   ],
   "source": [
    "# View metrics for the optimized model\n",
    "y_pred = xgb_best.predict(X_train_trans)\n",
    "print_metrics(y_train_res, y_pred)"
   ]
  },
  {
   "cell_type": "code",
   "execution_count": 154,
   "metadata": {
    "colab": {
     "base_uri": "https://localhost:8080/",
     "height": 459
    },
    "colab_type": "code",
    "id": "6PfuAenrqkhx",
    "outputId": "d0af2e99-2d8e-494e-f3c9-3aba4bc78186"
   },
   "outputs": [
    {
     "name": "stdout",
     "output_type": "stream",
     "text": [
      "Accuracy: 0.5828643224729351\n",
      "-------\n",
      "Confusion matrix:\n",
      "[[13236  4142    13     0  1242   206  2345]\n",
      " [ 7302 14268   630    51  4392  1397   290]\n",
      " [    0    16  2416   321   121   701     0]\n",
      " [    0     0    24   242     0     9     0]\n",
      " [   52    97    44     0   723    34     0]\n",
      " [    6    28   405   110    77  1110     0]\n",
      " [  139    26     2     0    14     0  1870]]\n",
      "-------\n",
      "Classification report:\n",
      "              precision    recall  f1-score   support\n",
      "\n",
      "           1       0.64      0.62      0.63     21184\n",
      "           2       0.77      0.50      0.61     28330\n",
      "           3       0.68      0.68      0.68      3575\n",
      "           4       0.33      0.88      0.48       275\n",
      "           5       0.11      0.76      0.19       950\n",
      "           6       0.32      0.64      0.43      1736\n",
      "           7       0.42      0.91      0.57      2051\n",
      "\n",
      "    accuracy                           0.58     58101\n",
      "   macro avg       0.47      0.71      0.51     58101\n",
      "weighted avg       0.68      0.58      0.61     58101\n",
      "\n"
     ]
    }
   ],
   "source": [
    "# View full metrics for the validation set\n",
    "y_val_pred = xgb_best.predict(X_val_trans)\n",
    "print_metrics(y_val, y_val_pred)"
   ]
  },
  {
   "cell_type": "code",
   "execution_count": 155,
   "metadata": {
    "colab": {
     "base_uri": "https://localhost:8080/",
     "height": 459
    },
    "colab_type": "code",
    "id": "goaOZXVqqkhy",
    "outputId": "e52de4b3-5a8a-46ee-a91c-56fc5ff61f06",
    "scrolled": false
   },
   "outputs": [
    {
     "name": "stdout",
     "output_type": "stream",
     "text": [
      "Accuracy: 0.581150390692231\n",
      "-------\n",
      "Confusion matrix:\n",
      "[[13167  4233    15     0  1304   185  2280]\n",
      " [ 7281 14183   662    45  4472  1397   291]\n",
      " [    0     7  2442   355    99   673     0]\n",
      " [    0     0    17   244     0    13     0]\n",
      " [   36    98    50     0   732    33     0]\n",
      " [    5    36   397    93    82  1124     0]\n",
      " [  151    18     0     0     8     0  1874]]\n",
      "-------\n",
      "Classification report:\n",
      "              precision    recall  f1-score   support\n",
      "\n",
      "           1       0.64      0.62      0.63     21184\n",
      "           2       0.76      0.50      0.60     28331\n",
      "           3       0.68      0.68      0.68      3576\n",
      "           4       0.33      0.89      0.48       274\n",
      "           5       0.11      0.77      0.19       949\n",
      "           6       0.33      0.65      0.44      1737\n",
      "           7       0.42      0.91      0.58      2051\n",
      "\n",
      "    accuracy                           0.58     58102\n",
      "   macro avg       0.47      0.72      0.51     58102\n",
      "weighted avg       0.67      0.58      0.61     58102\n",
      "\n"
     ]
    }
   ],
   "source": [
    "# View full metrics for the validation set\n",
    "y_pred_test_xgb = xgb_best.predict(X_test_trans)\n",
    "print_metrics(y_test, y_pred_test_xgb)"
   ]
  },
  {
   "cell_type": "markdown",
   "metadata": {},
   "source": [
    "And that's that. I could return to this model another time and try more grid searching to find parameters that will improve performance, but for now, I'll stop here. Note that performance is worst for class 5, just as in the Random Forest models. "
   ]
  },
  {
   "cell_type": "code",
   "execution_count": 0,
   "metadata": {
    "colab": {},
    "colab_type": "code",
    "id": "Y4e4ZAdbaBbO"
   },
   "outputs": [],
   "source": [
    "# Pickle the model\n",
    "with open('xgb.pickle', 'wb') as f:\n",
    "    pickle.dump(xgb_best, f, pickle.HIGHEST_PROTOCOL)"
   ]
  },
  {
   "cell_type": "markdown",
   "metadata": {
    "colab_type": "text",
    "id": "7mtVTAw9qkh0"
   },
   "source": [
    "## Support Vector Machine"
   ]
  },
  {
   "cell_type": "markdown",
   "metadata": {},
   "source": [
    "Support Vector Machines perform classification by finding hyperplanes to divide classes of data points in multidimensional space. Let's see how such a classifier works on this dataset."
   ]
  },
  {
   "cell_type": "markdown",
   "metadata": {
    "colab_type": "text",
    "id": "8FyvM4QRqkh2"
   },
   "source": [
    "### Baseline model"
   ]
  },
  {
   "cell_type": "markdown",
   "metadata": {},
   "source": [
    "First I'll train a baseline model. If you're running this notebook on your own machine, be advised that this could take a while."
   ]
  },
  {
   "cell_type": "code",
   "execution_count": 29,
   "metadata": {
    "ExecuteTime": {
     "end_time": "2019-11-20T00:05:09.674293Z",
     "start_time": "2019-11-20T00:02:57.330353Z"
    },
    "colab": {
     "base_uri": "https://localhost:8080/",
     "height": 85
    },
    "colab_type": "code",
    "id": "uiDB6xT1qkh3",
    "outputId": "1cdf7b69-3575-4a34-d132-a3382e878437",
    "scrolled": true
   },
   "outputs": [
    {
     "data": {
      "text/plain": [
       "SVC(C=1.0, cache_size=200, class_weight=None, coef0=0.0,\n",
       "    decision_function_shape='ovr', degree=3, gamma='auto', kernel='rbf',\n",
       "    max_iter=-1, probability=False, random_state=None, shrinking=True,\n",
       "    tol=0.001, verbose=False)"
      ]
     },
     "execution_count": 29,
     "metadata": {
      "tags": []
     },
     "output_type": "execute_result"
    }
   ],
   "source": [
    "# Build a baseline model\n",
    "svc = SVC(gamma='auto')\n",
    "svc.fit(X_train_trans, y_train_res)"
   ]
  },
  {
   "cell_type": "code",
   "execution_count": 34,
   "metadata": {
    "ExecuteTime": {
     "end_time": "2019-11-20T00:06:47.273005Z",
     "start_time": "2019-11-20T00:05:16.857938Z"
    },
    "colab": {
     "base_uri": "https://localhost:8080/",
     "height": 459
    },
    "colab_type": "code",
    "id": "3-Py93Tmqkh5",
    "outputId": "0a944d4a-8104-4e65-f621-31033aad2a74",
    "scrolled": false
   },
   "outputs": [
    {
     "name": "stdout",
     "output_type": "stream",
     "text": [
      "Accuracy: 0.7576530612244898\n",
      "-------\n",
      "Confusion matrix:\n",
      "[[11488  2856    10     0   555   101  1398]\n",
      " [ 3497  9629   370    19  2164   587   142]\n",
      " [    0   101 10921  1611   424  3351     0]\n",
      " [    0     0   547 15439     0   422     0]\n",
      " [  238  1460   480     0 13782   448     0]\n",
      " [   19   531  3233  1100   331 11194     0]\n",
      " [ 1790    41     4     0     5     0 14568]]\n",
      "-------\n",
      "Classification report:\n",
      "              precision    recall  f1-score   support\n",
      "\n",
      "           1       0.67      0.70      0.69     16408\n",
      "           2       0.66      0.59      0.62     16408\n",
      "           3       0.70      0.67      0.68     16408\n",
      "           4       0.85      0.94      0.89     16408\n",
      "           5       0.80      0.84      0.82     16408\n",
      "           6       0.70      0.68      0.69     16408\n",
      "           7       0.90      0.89      0.90     16408\n",
      "\n",
      "    accuracy                           0.76    114856\n",
      "   macro avg       0.75      0.76      0.76    114856\n",
      "weighted avg       0.75      0.76      0.76    114856\n",
      "\n"
     ]
    }
   ],
   "source": [
    "# View metrics for training data\n",
    "y_pred = svc.predict(X_train_trans)\n",
    "print_metrics(y_train_res, y_pred)"
   ]
  },
  {
   "cell_type": "markdown",
   "metadata": {},
   "source": [
    "With a 76% accuracy on the training data, this model is not off to a great start. Let's see how it handles the validation data before tuning some hyperparameters."
   ]
  },
  {
   "cell_type": "code",
   "execution_count": 35,
   "metadata": {
    "ExecuteTime": {
     "end_time": "2019-11-20T00:07:45.399445Z",
     "start_time": "2019-11-20T00:07:34.157310Z"
    },
    "colab": {
     "base_uri": "https://localhost:8080/",
     "height": 459
    },
    "colab_type": "code",
    "id": "7U8v2L48qkh7",
    "outputId": "1a49f5ef-c1cc-4b9a-e413-9e91ee73a3bc",
    "scrolled": true
   },
   "outputs": [
    {
     "name": "stdout",
     "output_type": "stream",
     "text": [
      "Accuracy: 0.6490249737526033\n",
      "-------\n",
      "Confusion matrix:\n",
      "[[14924  3622    13     0   713   100  1812]\n",
      " [ 6236 16322   654    28  3805  1015   270]\n",
      " [    0    38  2403   326    94   714     0]\n",
      " [    0     0    13   253     0     9     0]\n",
      " [   12    95    35     0   766    42     0]\n",
      " [    4    51   350   103    21  1207     0]\n",
      " [  214     2     0     0     1     0  1834]]\n",
      "-------\n",
      "Classification report:\n",
      "              precision    recall  f1-score   support\n",
      "\n",
      "           1       0.70      0.70      0.70     21184\n",
      "           2       0.81      0.58      0.67     28330\n",
      "           3       0.69      0.67      0.68      3575\n",
      "           4       0.36      0.92      0.51       275\n",
      "           5       0.14      0.81      0.24       950\n",
      "           6       0.39      0.70      0.50      1736\n",
      "           7       0.47      0.89      0.61      2051\n",
      "\n",
      "    accuracy                           0.65     58101\n",
      "   macro avg       0.51      0.75      0.56     58101\n",
      "weighted avg       0.72      0.65      0.67     58101\n",
      "\n"
     ]
    }
   ],
   "source": [
    "# View metrics for validation data\n",
    "y_pred = svc.predict(X_val_trans)\n",
    "print_metrics(y_val, y_pred)"
   ]
  },
  {
   "cell_type": "markdown",
   "metadata": {},
   "source": [
    "An accuracy score of 65% on validation data leaves plenty of room for improvement! Note that class 5 is causing problems for this classifier, too."
   ]
  },
  {
   "cell_type": "markdown",
   "metadata": {
    "colab_type": "text",
    "id": "reG8hzSHqkh8"
   },
   "source": [
    "### Tune parameters with GridSearchCV"
   ]
  },
  {
   "cell_type": "markdown",
   "metadata": {},
   "source": [
    "Now I'll use a grid search to try different hyperparameter values. Gamma governs the \"influence\" that each data point has on ones nearby. C is a regularization parameter. When C is large, misclassifications are more heavily penalized, meaning that you may get higher accuracy, but there is a greater risk of overfitting. Smaller C values mean that accuracy will be lower, but the model will be more generalizable to new data."
   ]
  },
  {
   "cell_type": "code",
   "execution_count": 36,
   "metadata": {
    "ExecuteTime": {
     "end_time": "2019-11-20T00:13:37.895411Z",
     "start_time": "2019-11-20T00:09:56.568187Z"
    },
    "colab": {
     "base_uri": "https://localhost:8080/",
     "height": 187
    },
    "colab_type": "code",
    "id": "NHA3Nm4Zqkh9",
    "outputId": "c97153a8-8fc0-43df-a60e-0079e3763dd5"
   },
   "outputs": [
    {
     "data": {
      "text/plain": [
       "GridSearchCV(cv=3, error_score='raise-deprecating',\n",
       "             estimator=SVC(C=1.0, cache_size=200, class_weight=None, coef0=0.0,\n",
       "                           decision_function_shape='ovr', degree=3,\n",
       "                           gamma='auto', kernel='rbf', max_iter=-1,\n",
       "                           probability=False, random_state=None, shrinking=True,\n",
       "                           tol=0.001, verbose=False),\n",
       "             iid='warn', n_jobs=None,\n",
       "             param_grid={'C': [0.1, 1.0, 10.0], 'gamma': [0.1, 1.0, 100.0]},\n",
       "             pre_dispatch='2*n_jobs', refit=True, return_train_score=False,\n",
       "             scoring='accuracy', verbose=0)"
      ]
     },
     "execution_count": 36,
     "metadata": {
      "tags": []
     },
     "output_type": "execute_result"
    }
   ],
   "source": [
    "# Use GridSearchCV to try various hyperparameter values\n",
    "params = {'gamma': [0.1, 1.0, 100.0],\n",
    "          'C': [0.1, 1.0, 10.0]}\n",
    "\n",
    "grid_svc = GridSearchCV(svc, params, cv=3, scoring='accuracy')\n",
    "grid_svc.fit(X_train_trans, y_train_res)"
   ]
  },
  {
   "cell_type": "code",
   "execution_count": 37,
   "metadata": {
    "ExecuteTime": {
     "end_time": "2019-11-20T00:13:37.895411Z",
     "start_time": "2019-11-20T00:09:56.568187Z"
    },
    "colab": {
     "base_uri": "https://localhost:8080/",
     "height": 51
    },
    "colab_type": "code",
    "id": "Q5sURy6l7j1I",
    "outputId": "65bf3a11-40bf-422a-ae0a-8a0eb2440f46",
    "scrolled": false
   },
   "outputs": [
    {
     "name": "stdout",
     "output_type": "stream",
     "text": [
      "Best score: 0.898385804833879\n",
      "Best params: {'C': 10.0, 'gamma': 1.0}\n"
     ]
    }
   ],
   "source": [
    "# View best score and parameters\n",
    "print('Best score:', grid_svc.best_score_)\n",
    "print('Best params:', grid_svc.best_params_)"
   ]
  },
  {
   "cell_type": "markdown",
   "metadata": {},
   "source": [
    "Of the parameter values I tried, it looks like the middling gamma value and the highest C value yielded the best results. \n",
    "\n",
    "Let's examine the reports:"
   ]
  },
  {
   "cell_type": "code",
   "execution_count": 38,
   "metadata": {
    "colab": {
     "base_uri": "https://localhost:8080/",
     "height": 459
    },
    "colab_type": "code",
    "id": "UZB30SSrqkh-",
    "outputId": "e3edd1b7-91f3-44ef-ba06-86370f62789b",
    "scrolled": false
   },
   "outputs": [
    {
     "name": "stdout",
     "output_type": "stream",
     "text": [
      "Accuracy: 0.9481002298530333\n",
      "-------\n",
      "Confusion matrix:\n",
      "[[14928  1107     2     0   109    17   245]\n",
      " [ 1034 14595   109     0   434   215    21]\n",
      " [    0    23 14901   186    75  1223     0]\n",
      " [    0     0    26 16337     0    45     0]\n",
      " [    6    54    42     0 16263    43     0]\n",
      " [    1    33   640   165    37 15532     0]\n",
      " [   65     2     0     0     2     0 16339]]\n",
      "-------\n",
      "Classification report:\n",
      "              precision    recall  f1-score   support\n",
      "\n",
      "           1       0.93      0.91      0.92     16408\n",
      "           2       0.92      0.89      0.91     16408\n",
      "           3       0.95      0.91      0.93     16408\n",
      "           4       0.98      1.00      0.99     16408\n",
      "           5       0.96      0.99      0.98     16408\n",
      "           6       0.91      0.95      0.93     16408\n",
      "           7       0.98      1.00      0.99     16408\n",
      "\n",
      "    accuracy                           0.95    114856\n",
      "   macro avg       0.95      0.95      0.95    114856\n",
      "weighted avg       0.95      0.95      0.95    114856\n",
      "\n"
     ]
    }
   ],
   "source": [
    "# View metrics for training data\n",
    "y_pred = grid_svc.predict(X_train_trans)\n",
    "print_metrics(y_train_res, y_pred)"
   ]
  },
  {
   "cell_type": "markdown",
   "metadata": {},
   "source": [
    "That's a huge improvement in accuracy over the baseline model! "
   ]
  },
  {
   "cell_type": "code",
   "execution_count": 39,
   "metadata": {
    "colab": {
     "base_uri": "https://localhost:8080/",
     "height": 459
    },
    "colab_type": "code",
    "id": "qs3wIhxbqkh_",
    "outputId": "e5f614fa-cdd2-455f-9e25-b235e88cbad5",
    "scrolled": false
   },
   "outputs": [
    {
     "name": "stdout",
     "output_type": "stream",
     "text": [
      "Accuracy: 0.8303299426860122\n",
      "-------\n",
      "Confusion matrix:\n",
      "[[17906  2418    10     0   192    27   631]\n",
      " [ 3624 22431   379     1  1260   518   117]\n",
      " [    0    18  3110    52    19   376     0]\n",
      " [    0     0    13   253     0     9     0]\n",
      " [    0    18    12     0   915     5     0]\n",
      " [    1    10   104    18     3  1600     0]\n",
      " [   21     1     0     0     1     0  2028]]\n",
      "-------\n",
      "Classification report:\n",
      "              precision    recall  f1-score   support\n",
      "\n",
      "           1       0.83      0.85      0.84     21184\n",
      "           2       0.90      0.79      0.84     28330\n",
      "           3       0.86      0.87      0.86      3575\n",
      "           4       0.78      0.92      0.84       275\n",
      "           5       0.38      0.96      0.55       950\n",
      "           6       0.63      0.92      0.75      1736\n",
      "           7       0.73      0.99      0.84      2051\n",
      "\n",
      "    accuracy                           0.83     58101\n",
      "   macro avg       0.73      0.90      0.79     58101\n",
      "weighted avg       0.85      0.83      0.83     58101\n",
      "\n"
     ]
    }
   ],
   "source": [
    "# View metrics for validation data\n",
    "y_pred = grid_svc.predict(X_val_trans)\n",
    "print_metrics(y_val, y_pred)"
   ]
  },
  {
   "cell_type": "markdown",
   "metadata": {},
   "source": [
    "With an accuracy score of 83% in validation, this model is about as successful as the best Random Forest using preprocessed data. Again, there is still some trouble identifying class 5 correctly, and it looks like class 6 gave this model some trouble as well."
   ]
  },
  {
   "cell_type": "markdown",
   "metadata": {
    "colab_type": "text",
    "id": "dkzbS7ltqkiB"
   },
   "source": [
    "### Evaluating the best Support Vector classifier"
   ]
  },
  {
   "cell_type": "markdown",
   "metadata": {},
   "source": [
    "To wrap up my consideration of Support Vector Machines, I'll evaluate the best of the models I tried."
   ]
  },
  {
   "cell_type": "code",
   "execution_count": 181,
   "metadata": {
    "ExecuteTime": {
     "end_time": "2019-11-25T15:30:49.109963Z",
     "start_time": "2019-11-25T15:10:44.466609Z"
    },
    "colab": {
     "base_uri": "https://localhost:8080/",
     "height": 85
    },
    "colab_type": "code",
    "id": "mY1XD3KgqkiC",
    "outputId": "3faea96d-a9d9-4861-c409-5486cd743362"
   },
   "outputs": [
    {
     "data": {
      "text/plain": [
       "SVC(C=10, cache_size=200, class_weight=None, coef0=0.0,\n",
       "  decision_function_shape='ovr', degree=3, gamma=1, kernel='rbf',\n",
       "  max_iter=-1, probability=False, random_state=None, shrinking=True,\n",
       "  tol=0.001, verbose=False)"
      ]
     },
     "execution_count": 181,
     "metadata": {},
     "output_type": "execute_result"
    }
   ],
   "source": [
    "# Build the optimized model\n",
    "svc_best = SVC(C=10, gamma=1)\n",
    "svc_best.fit(X_train_trans, y_train_res)"
   ]
  },
  {
   "cell_type": "code",
   "execution_count": 41,
   "metadata": {
    "colab": {
     "base_uri": "https://localhost:8080/",
     "height": 459
    },
    "colab_type": "code",
    "id": "AZA-UeZXqkiD",
    "outputId": "44cb9de4-ac90-4948-d8e4-6a43410935bf"
   },
   "outputs": [
    {
     "name": "stdout",
     "output_type": "stream",
     "text": [
      "Accuracy: 0.9481002298530333\n",
      "-------\n",
      "Confusion matrix:\n",
      "[[14928  1107     2     0   109    17   245]\n",
      " [ 1034 14595   109     0   434   215    21]\n",
      " [    0    23 14901   186    75  1223     0]\n",
      " [    0     0    26 16337     0    45     0]\n",
      " [    6    54    42     0 16263    43     0]\n",
      " [    1    33   640   165    37 15532     0]\n",
      " [   65     2     0     0     2     0 16339]]\n",
      "-------\n",
      "Classification report:\n",
      "              precision    recall  f1-score   support\n",
      "\n",
      "           1       0.93      0.91      0.92     16408\n",
      "           2       0.92      0.89      0.91     16408\n",
      "           3       0.95      0.91      0.93     16408\n",
      "           4       0.98      1.00      0.99     16408\n",
      "           5       0.96      0.99      0.98     16408\n",
      "           6       0.91      0.95      0.93     16408\n",
      "           7       0.98      1.00      0.99     16408\n",
      "\n",
      "    accuracy                           0.95    114856\n",
      "   macro avg       0.95      0.95      0.95    114856\n",
      "weighted avg       0.95      0.95      0.95    114856\n",
      "\n"
     ]
    }
   ],
   "source": [
    "# View metrics for the optimized model\n",
    "y_pred = svc_best.predict(X_train_trans)\n",
    "print_metrics(y_train_res, y_pred)"
   ]
  },
  {
   "cell_type": "code",
   "execution_count": 42,
   "metadata": {
    "colab": {
     "base_uri": "https://localhost:8080/",
     "height": 459
    },
    "colab_type": "code",
    "id": "zREibo0LqkiG",
    "outputId": "7238ad48-ef25-4d95-900d-a73344430178"
   },
   "outputs": [
    {
     "name": "stdout",
     "output_type": "stream",
     "text": [
      "Accuracy: 0.8303299426860122\n",
      "-------\n",
      "Confusion matrix:\n",
      "[[17906  2418    10     0   192    27   631]\n",
      " [ 3624 22431   379     1  1260   518   117]\n",
      " [    0    18  3110    52    19   376     0]\n",
      " [    0     0    13   253     0     9     0]\n",
      " [    0    18    12     0   915     5     0]\n",
      " [    1    10   104    18     3  1600     0]\n",
      " [   21     1     0     0     1     0  2028]]\n",
      "-------\n",
      "Classification report:\n",
      "              precision    recall  f1-score   support\n",
      "\n",
      "           1       0.83      0.85      0.84     21184\n",
      "           2       0.90      0.79      0.84     28330\n",
      "           3       0.86      0.87      0.86      3575\n",
      "           4       0.78      0.92      0.84       275\n",
      "           5       0.38      0.96      0.55       950\n",
      "           6       0.63      0.92      0.75      1736\n",
      "           7       0.73      0.99      0.84      2051\n",
      "\n",
      "    accuracy                           0.83     58101\n",
      "   macro avg       0.73      0.90      0.79     58101\n",
      "weighted avg       0.85      0.83      0.83     58101\n",
      "\n"
     ]
    }
   ],
   "source": [
    "# View full metrics for the validation set\n",
    "y_val_pred = svc_best.predict(X_val_trans)\n",
    "print_metrics(y_val, y_val_pred)"
   ]
  },
  {
   "cell_type": "code",
   "execution_count": 182,
   "metadata": {
    "ExecuteTime": {
     "end_time": "2019-11-25T15:40:51.051862Z",
     "start_time": "2019-11-25T15:38:23.720102Z"
    },
    "colab": {
     "base_uri": "https://localhost:8080/",
     "height": 459
    },
    "colab_type": "code",
    "id": "1Y0o7dp_CMxq",
    "outputId": "243129b6-ce5a-4d4d-b866-e5db833cc914",
    "scrolled": false
   },
   "outputs": [
    {
     "name": "stdout",
     "output_type": "stream",
     "text": [
      "Accuracy: 0.8291280850917352\n",
      "-------\n",
      "Confusion matrix:\n",
      "[[17768  2593    13     0   181    30   599]\n",
      " [ 3669 22454   402     2  1187   504   113]\n",
      " [    0    13  3135    66    19   343     0]\n",
      " [    0     0    17   255     0     2     0]\n",
      " [    2    16     8     0   921     2     0]\n",
      " [    1     6    96    14    11  1609     0]\n",
      " [   19     0     0     0     0     0  2032]]\n",
      "-------\n",
      "Classification report:\n",
      "              precision    recall  f1-score   support\n",
      "\n",
      "           1       0.83      0.84      0.83     21184\n",
      "           2       0.90      0.79      0.84     28331\n",
      "           3       0.85      0.88      0.87      3576\n",
      "           4       0.76      0.93      0.83       274\n",
      "           5       0.40      0.97      0.56       949\n",
      "           6       0.65      0.93      0.76      1737\n",
      "           7       0.74      0.99      0.85      2051\n",
      "\n",
      "   micro avg       0.83      0.83      0.83     58102\n",
      "   macro avg       0.73      0.90      0.79     58102\n",
      "weighted avg       0.85      0.83      0.83     58102\n",
      "\n"
     ]
    }
   ],
   "source": [
    "# View metrics for test data\n",
    "y_pred_test_svc = svc_best.predict(X_test_trans)\n",
    "print_metrics(y_test, y_pred_test_svc)"
   ]
  },
  {
   "cell_type": "markdown",
   "metadata": {},
   "source": [
    "The optimized Support Vector Classifier scored 83% accuracy on the test dataset, which is good overall. Like the other algorithms, this one struggled with class 5; apparently, class 5 is pretty difficult to distinguish from classes 1 and 2, which are much more numerous in the dataset at large. \n",
    "\n",
    "Finally, I'll save a copy of the model for later."
   ]
  },
  {
   "cell_type": "code",
   "execution_count": 0,
   "metadata": {
    "colab": {},
    "colab_type": "code",
    "id": "8xeSx9b3aMDL"
   },
   "outputs": [],
   "source": [
    "# Pickle the model\n",
    "with open('svc.pickle', 'wb') as f:\n",
    "    pickle.dump(svc_best, f, pickle.HIGHEST_PROTOCOL)"
   ]
  },
  {
   "cell_type": "markdown",
   "metadata": {
    "colab_type": "text",
    "id": "cDot5z_tqkiY"
   },
   "source": [
    "# Interpretations and recommendations"
   ]
  },
  {
   "cell_type": "markdown",
   "metadata": {
    "colab_type": "text",
    "id": "1nnSDTXA7j1d"
   },
   "source": [
    "## Interpretation"
   ]
  },
  {
   "cell_type": "markdown",
   "metadata": {
    "colab_type": "text",
    "id": "lWdObTr97j1d"
   },
   "source": [
    "Overall, the model with the best performance was Random Forest 1, which used 100 estimators with a maximum depth of 25 and a maximum of 30 features to classify the test dataset with an accuracy of 88%. This exceeds the benchmark established by Blackard and Dean (70.58%) in 1998 (see citation above). Random Forest 2 and the Support Vector Classifier were tied with 83% accuracy. The XGBoost model and the SVC could probably be improved with additional hyperparameter tuning, but that is beyond the scope of this project."
   ]
  },
  {
   "cell_type": "code",
   "execution_count": 198,
   "metadata": {
    "ExecuteTime": {
     "end_time": "2019-11-25T16:49:26.258433Z",
     "start_time": "2019-11-25T16:49:25.676113Z"
    },
    "scrolled": true
   },
   "outputs": [
    {
     "data": {
      "image/png": "[encoded data removed]",
      "text/plain": [
       "<Figure size 864x432 with 1 Axes>"
      ]
     },
     "metadata": {},
     "output_type": "display_data"
    }
   ],
   "source": [
    "# Plot accuracies of optimized models\n",
    "best_scores = {'Random Forest 1': .88,\n",
    "               'Random Forest 2': .83,\n",
    "               'XGBoost': .58,\n",
    "               'Support Vector Machine': .83}\n",
    "\n",
    "sns.set_style('white')\n",
    "plt.figure(figsize=(12,6))\n",
    "plt.bar(best_scores.keys(), best_scores.values(), color='darkgreen')\n",
    "plt.yticks(ticks=np.linspace(0,1.0,11))\n",
    "plt.ylabel('Accuracy')\n",
    "plt.title('Peformance of Optimized Models')\n",
    "sns.despine()\n",
    "plt.savefig('accuracies.png', dpi=300, pad_inches=0.5)\n",
    "plt.show();"
   ]
  },
  {
   "cell_type": "markdown",
   "metadata": {},
   "source": [
    "The main difference between Random Forest 1 and the other models was the preprocessing; Random Forest 1 used a training set that had been class-balanced, while the other models used the same training set after scaling and transformation with PCA. It's interesting to note that fitting a Random Forest model to a training set that _has not_ been class-balanced with over-/undersampling (not shown above) produces even better results in testing (96% accuracy). \n",
    "\n",
    "The confusion matrices and classification reports for all 8 models highlight some important features of this dataset. Classes 1 (Spruce/Fir) and 2 (Lodgepole Pine) are often confused for one another. These two classes are close in size to one another and the largest classes overall, so it's not a matter of not having enough data to distinguish the two. Apparently these two tree cover types occupy similar terrains. If there were a particular business need to distinguish the two, then models could be trained to more carefully distinguish them."
   ]
  },
  {
   "cell_type": "code",
   "execution_count": 201,
   "metadata": {
    "ExecuteTime": {
     "end_time": "2019-11-25T21:10:54.014017Z",
     "start_time": "2019-11-25T21:10:52.088059Z"
    },
    "scrolled": true
   },
   "outputs": [
    {
     "data": {
      "image/png": "[encoded data removed]",
      "text/plain": [
       "<Figure size 1152x504 with 2 Axes>"
      ]
     },
     "metadata": {},
     "output_type": "display_data"
    }
   ],
   "source": [
    "# View confusion matrix for Random Forest 1\n",
    "save_conf_matrix(y_test, y_pred_test_forest1, 'Random Forest 1')"
   ]
  },
  {
   "cell_type": "markdown",
   "metadata": {},
   "source": [
    "Another interesting feature of all the models is that they predict class 5 (Aspen) with low precision and high recall, most often misclassifying classes 1 and 2 as 5. In the full dataset, Aspen-covered tracts are found in the Rawah and Comanche Peak wilderness areas, which also contain the most tracts covered in Spruces/Firs and Lodgepole Pines. There are far fewer examples of the Aspen class, so it seems that the machine learning models are taking a scattershot approach to identifying them, correctly predicting most of the Aspens while also mistakenly labeling a number of Spruces and Lodgepole pines as Aspens. Again, if there were a particular business need to avoid this misclassification, a model could be trained to focus on correctly identifying these three classes with greater precision."
   ]
  },
  {
   "cell_type": "markdown",
   "metadata": {
    "colab_type": "text",
    "id": "Im3NPCvf7j1g"
   },
   "source": [
    "## Recommendations"
   ]
  },
  {
   "cell_type": "markdown",
   "metadata": {
    "colab_type": "text",
    "id": "ra3pDfIa7j1g"
   },
   "source": [
    "Here is how I recommend applying the outcomes of this project to business problems in land management:\n",
    "\n",
    "1. Make multiple models for comparison\n",
    "\n",
    "By trying an assortment of models, it is possible to see not just which ones perform better, but which ones might perform better for a given task or under different constraints. \n",
    "\n",
    "2. Choose the model that's best for the problem at hand\n",
    "\n",
    "The model with the best overall accuracy score might not be the best model to use in every circumstance. If you have several models available, you can choose the right one for your needs, whether that's choosing one that identifies a certain class with greater precision, or one that can be more easily generalized to new data. \n",
    "\n",
    "3. A Random Forest model is a quick and easy way to get good results on raw data.\n",
    "\n",
    "When in doubt, a Random Forest model is a good choice for this type of data. This project has shown that a Random Forest can return good results even on raw data, so it's a great starting point if you want to start getting predictions quickly."
   ]
  },
  {
   "cell_type": "markdown",
   "metadata": {
    "colab_type": "text",
    "id": "FPXEVScU7j1g"
   },
   "source": [
    "## Future work"
   ]
  },
  {
   "cell_type": "markdown",
   "metadata": {},
   "source": [
    "There is a lot of potential for exciting future work on this dataset with machine learning. \n",
    "\n",
    "1. Refine site-specific models\n",
    "\n",
    "Given the different distributions of tree cover types from one wilderness area to the next, it might be worthwhile to develop a Random Forest model for each site. For instance, models for Rawah and Comanche Peak would need to be strong at distinguishing Spruces, Lodgepole Pines, and Aspens, but Cache la Poudre has a different ecology and would probably benefit from a model suited to its particular distribution of tree cover types.\n",
    "\n",
    "2. Incorporate data from other regions\n",
    "\n",
    "It would also be interesting to try to generalize the models explored above to other regions, not just in Colorado.\n",
    "\n",
    "3. Compare predictions to satellite images\n",
    "\n",
    "One benefit of predicting tree cover from cartographic data is that the data is much smaller to store than satellite images. It could be very useful, however, to use satellite images or other remote-sensor data to confirm model predictions for select sites.\n",
    "\n",
    "4. Focus on areas critically affected by climate change\n",
    "\n",
    "As local and global climates change, it will be useful to compare predicted tree cover types with ground truth. The dataset for this project is a snapshot of tree cover up to 1998, and that is likely to change over the coming decades. Our current models for predicting tree cover from cartographic data will need to evolve to account for ecological changes that may be difficult to capture with this type of data."
   ]
  },
  {
   "cell_type": "markdown",
   "metadata": {
    "colab_type": "text",
    "heading_collapsed": true,
    "id": "fxu7Rmf37j1h"
   },
   "source": [
    "## Additional visualizations"
   ]
  },
  {
   "cell_type": "code",
   "execution_count": 200,
   "metadata": {
    "ExecuteTime": {
     "end_time": "2019-11-25T21:10:44.552417Z",
     "start_time": "2019-11-25T21:10:42.999763Z"
    },
    "hidden": true,
    "scrolled": false
   },
   "outputs": [
    {
     "data": {
      "image/png": "[encoded data removed]",
      "text/plain": [
       "<Figure size 1152x504 with 2 Axes>"
      ]
     },
     "metadata": {},
     "output_type": "display_data"
    }
   ],
   "source": [
    "# View confusion matrix for Random Forest 2\n",
    "save_conf_matrix(y_test, y_pred_test_forest2, 'Random Forest 2')"
   ]
  },
  {
   "cell_type": "code",
   "execution_count": null,
   "metadata": {
    "hidden": true
   },
   "outputs": [],
   "source": []
  },
  {
   "cell_type": "code",
   "execution_count": 184,
   "metadata": {
    "ExecuteTime": {
     "end_time": "2019-11-25T15:41:18.546943Z",
     "start_time": "2019-11-25T15:41:16.937715Z"
    },
    "hidden": true
   },
   "outputs": [
    {
     "data": {
      "image/png": "[encoded data removed]",
      "text/plain": [
       "<Figure size 1152x504 with 2 Axes>"
      ]
     },
     "metadata": {},
     "output_type": "display_data"
    }
   ],
   "source": [
    "# View confusion matrix for Support Vector Classifier\n",
    "save_conf_matrix(y_test, y_pred_test_svc, 'Support Vector Classifier')"
   ]
  },
  {
   "cell_type": "code",
   "execution_count": null,
   "metadata": {
    "hidden": true
   },
   "outputs": [],
   "source": []
  }
 ],
 "metadata": {
  "accelerator": "GPU",
  "colab": {
   "name": "trees.ipynb",
   "provenance": [],
   "toc_visible": true
  },
  "kernelspec": {
   "display_name": "learn-env",
   "language": "python",
   "name": "learn-env"
  },
  "language_info": {
   "codemirror_mode": {
    "name": "ipython",
    "version": 3
   },
   "file_extension": ".py",
   "mimetype": "text/x-python",
   "name": "python",
   "nbconvert_exporter": "python",
   "pygments_lexer": "ipython3",
   "version": "3.6.6"
  },
  "toc": {
   "base_numbering": 1,
   "nav_menu": {},
   "number_sections": true,
   "sideBar": true,
   "skip_h1_title": false,
   "title_cell": "Table of Contents",
   "title_sidebar": "Contents",
   "toc_cell": false,
   "toc_position": {
    "height": "calc(100% - 180px)",
    "left": "10px",
    "top": "150px",
    "width": "339.801px"
   },
   "toc_section_display": true,
   "toc_window_display": true
  }
 },
 "nbformat": 4,
 "nbformat_minor": 1
}
