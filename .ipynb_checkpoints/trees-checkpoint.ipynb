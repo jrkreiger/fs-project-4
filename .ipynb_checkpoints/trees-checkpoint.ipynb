{
 "cells": [
  {
   "cell_type": "markdown",
   "metadata": {
    "colab_type": "text",
    "id": "mt_4qLfiqke-"
   },
   "source": [
    "Project 4 Submission\n"
   ]
  },
  {
   "cell_type": "markdown",
   "metadata": {
    "colab_type": "text",
    "id": "fqRMGsZhSBCv"
   },
   "source": [
    "*   Student name: Jenny Kreiger\n",
    "*   Student pace: full time\n",
    "*   Scheduled project review date/time: \n",
    "*   Instructor name: Victor Geislinger\n",
    "*   Blog post URL:"
   ]
  },
  {
   "cell_type": "markdown",
   "metadata": {
    "colab_type": "text",
    "id": "N2gIANi6qkfA"
   },
   "source": [
    "# Introduction"
   ]
  },
  {
   "cell_type": "markdown",
   "metadata": {
    "colab_type": "text",
    "id": "8GmDpAL0qkfB"
   },
   "source": [
    "## Business case"
   ]
  },
  {
   "cell_type": "markdown",
   "metadata": {
    "colab_type": "text",
    "id": "kPsF0i6rqkfC"
   },
   "source": [
    "Throughout the western United States, there are large tracts of land that have seen little direct human intervention, at least since the US government claimed these areas. These lands contain a wealth of ecological information and natural resources, but it can be challenging to use or preserve these resources without detailed knowledge about what is there and how it may be evolvng as local and global climates change. \n",
    "\n",
    "To access this data directly can be prohibitively difficult and expensive. Field surveys require time and personnel, and remote sensing can generate huge amounts of data that must be processed and stored.\n",
    "\n",
    "An alternative is to use machine learning to try to infer ecological information from data that we already have. In 1999, J. A. Blackard and D. J. Dean published an article in _Computers and Electronics in Agriculture_ demonstrating how two machine learning techniques (an artificial neural network and discriminant analysis) could be used to predict the type of tree cover on a 30 by 30 meter tract of land using only existing cartographic data such as elevation, horizontal distance to water, and soil type. Using over half a million observations with 53 features, Blackard and Dean were able to predict tree cover type with 70.58% accuracy using their artificial neural network. \n",
    "\n",
    "Twenty years after Blackard and Dean's study, computational efficiency has improved substantially. This project aims to match or exceed Blackard and Dean's accuracy using a Random Forest classifier, ensemble methods (XGBoost), Support Vector Machines, or a combination of these algorithms. \n",
    "\n",
    "The value of this analysis is that ecological features that would be difficult to measure directly can be predicted from existing data, and these predictions can later be validated with selective use of richer data (e.g., satellite imaging)--or the historic results can be compared to what we observe in the present and future.\n",
    "\n",
    "J. A. Blackard and D. J. Dean, \"Comparative accuracies of artificial neural networks and discriminant analysis in predicting forest cover types from cartographic variables,\" _Computers and Electronics in Agriculture_ 24 (1999), 131-51. (DOI: 10.1016/S0168-1699(99)00046-0)\n"
   ]
  },
  {
   "cell_type": "markdown",
   "metadata": {
    "colab_type": "text",
    "id": "Y7nO8fqxqkfD"
   },
   "source": [
    "## Custom functions"
   ]
  },
  {
   "cell_type": "markdown",
   "metadata": {
    "colab_type": "text",
    "id": "ePvClt-ZSmUL"
   },
   "source": [
    "Below are several functions I created to help with repetitive tasks."
   ]
  },
  {
   "cell_type": "code",
   "execution_count": 1,
   "metadata": {
    "ExecuteTime": {
     "end_time": "2019-11-22T15:29:07.727239Z",
     "start_time": "2019-11-22T15:29:07.721075Z"
    },
    "colab": {},
    "colab_type": "code",
    "id": "kbl8hcbEqkfE"
   },
   "outputs": [],
   "source": [
    "# Define a function to print selected model metrics\n",
    "def print_metrics(y_true, y_pred):\n",
    "    '''Prints accuracy score, confusion matrix, and classification report given\n",
    "       arrays of ground-truth values and model predictions.'''\n",
    "    acc_score = accuracy_score(y_true, y_pred)\n",
    "    conf_matrix = confusion_matrix(y_true, y_pred)\n",
    "    class_report = classification_report(y_true, y_pred)\n",
    "    print('Accuracy:', acc_score)\n",
    "    print('-------')\n",
    "    print('Confusion matrix:')\n",
    "    print(conf_matrix)\n",
    "    print('-------')\n",
    "    print('Classification report:')\n",
    "    print(class_report)\n"
   ]
  },
  {
   "cell_type": "code",
   "execution_count": 2,
   "metadata": {
    "ExecuteTime": {
     "end_time": "2019-11-22T15:29:08.163265Z",
     "start_time": "2019-11-22T15:29:08.158080Z"
    },
    "colab": {},
    "colab_type": "code",
    "id": "bH89zaH1qkfJ"
   },
   "outputs": [],
   "source": [
    "# Define a function to visualize feature importances\n",
    "def plot_feature_importances(model, x):\n",
    "    '''Displays a bar chart representing a model's feature importances.'''\n",
    "    n_features = x.shape[1]\n",
    "    plt.figure(figsize=(8,10))\n",
    "    plt.barh(range(n_features), model.feature_importances_, align='center') \n",
    "    plt.yticks(np.arange(n_features), range(1, n_features+1)) \n",
    "    plt.xlabel(\"Feature importance\")\n",
    "    plt.ylabel(\"Feature (Component)\")\n",
    "    plt.title('Feature Importances')"
   ]
  },
  {
   "cell_type": "code",
   "execution_count": 3,
   "metadata": {
    "ExecuteTime": {
     "end_time": "2019-11-22T15:29:08.714301Z",
     "start_time": "2019-11-22T15:29:08.706452Z"
    },
    "colab": {},
    "colab_type": "code",
    "id": "R2c2YL-oqkfM"
   },
   "outputs": [],
   "source": [
    "# Define a function to calculate AUC and plot ROC curve\n",
    "def roc_it(y_test, y_score):\n",
    "    '''Displays ROC curve given ground-truth data and model scores.'''\n",
    "    fpr, tpr, thresholds = roc_curve(y_test, y_score)\n",
    "\n",
    "    sns.set_style(\"darkgrid\", {\"axes.facecolor\": \".9\"})\n",
    "\n",
    "    print('AUC: {}'.format(auc(fpr, tpr)))\n",
    "    plt.figure(figsize=(10,8))\n",
    "\n",
    "    plt.plot(fpr, tpr, color='darkorange',\n",
    "             lw=2, label='ROC curve')\n",
    "    plt.plot([0, 1], [0, 1], color='navy', lw=2, linestyle='--')\n",
    "    plt.xlim([0.0, 1.0])\n",
    "    plt.ylim([0.0, 1.05])\n",
    "    plt.yticks([i/20.0 for i in range(21)])\n",
    "    plt.xticks([i/20.0 for i in range(21)])\n",
    "    plt.xlabel('False Positive Rate')\n",
    "    plt.ylabel('True Positive Rate')\n",
    "    plt.title('Receiver operating characteristic (ROC) Curve')\n",
    "    plt.legend(loc=\"lower right\")\n",
    "    plt.show();\n",
    "\n",
    "    print('AUC: {}'.format(auc(fpr, tpr)))"
   ]
  },
  {
   "cell_type": "markdown",
   "metadata": {
    "colab_type": "text",
    "id": "i4zMCNKNqkfO"
   },
   "source": [
    "## Load and clean data"
   ]
  },
  {
   "cell_type": "code",
   "execution_count": 22,
   "metadata": {
    "ExecuteTime": {
     "end_time": "2019-11-22T15:39:20.832762Z",
     "start_time": "2019-11-22T15:39:20.826380Z"
    },
    "colab": {
     "base_uri": "https://localhost:8080/",
     "height": 71
    },
    "colab_type": "code",
    "id": "WEXFtpI4qkfP",
    "outputId": "2b45fe26-8dd0-4ad0-e5b7-13e781c0b949"
   },
   "outputs": [],
   "source": [
    "# Import packages\n",
    "import pandas as pd\n",
    "import numpy as np\n",
    "import matplotlib.pyplot as plt\n",
    "%matplotlib inline\n",
    "import seaborn as sns\n",
    "\n",
    "from collections import Counter\n",
    "from imblearn.under_sampling import RandomUnderSampler\n",
    "from imblearn.over_sampling import SMOTE\n",
    "from sklearn.preprocessing import MinMaxScaler\n",
    "from sklearn.preprocessing import StandardScaler\n",
    "from sklearn.decomposition import PCA\n",
    "from sklearn.pipeline import Pipeline\n",
    "from sklearn.model_selection import train_test_split\n",
    "from sklearn.model_selection import GridSearchCV\n",
    "import xgboost as xgb\n",
    "from sklearn.svm import SVC\n",
    "from sklearn.ensemble import RandomForestClassifier\n",
    "from sklearn.model_selection import train_test_split\n",
    "from sklearn.metrics import accuracy_score, confusion_matrix, classification_report"
   ]
  },
  {
   "cell_type": "markdown",
   "metadata": {
    "colab_type": "text",
    "id": "3_Jysr3bVCiQ"
   },
   "source": [
    "The original dataset is about 75MB. <span style='background-color:red'>To save on memory, At the end of this cleaning process I save the cleaned data to new CSV files so that they can be imported direclty without needing to rerun this part of the notebook every time.</span>\n",
    "\n",
    "First, we read in the original dataset, which can be found at http://kdd.ics.uci.edu/databases/covertype/. A description of the dataset, including a data dictionary, is here: http://kdd.ics.uci.edu/databases/covertype/covertype.data.html.\n",
    "\n",
    "Below I show two ways to get the data. The first is specific to me; when I'm running the notebook in Google Colab, I mount my Google Drive and access the copy of my data that lives there. The second is more generic; it assumes you have a copy of the dataset in the same folder as the Jupyter Notebook. If you're running this notebook on your own machine, you may want to download a copy of the dataset and use the second method."
   ]
  },
  {
   "cell_type": "code",
   "execution_count": 1,
   "metadata": {
    "colab": {
     "base_uri": "https://localhost:8080/",
     "height": 122
    },
    "colab_type": "code",
    "id": "59RtzDLaHdBj",
    "outputId": "ce2b1738-3fd8-440d-fd05-493327a6e778",
    "scrolled": true
   },
   "outputs": [
    {
     "name": "stdout",
     "output_type": "stream",
     "text": [
      "Go to this URL in a browser: https://accounts.google.com/o/oauth2/auth?client_id=947318989803-6bn6qk8qdgf4n4g3pfee6491hc0brc4i.apps.googleusercontent.com&redirect_uri=urn%3aietf%3awg%3aoauth%3a2.0%3aoob&response_type=code&scope=email%20https%3a%2f%2fwww.googleapis.com%2fauth%2fdocs.test%20https%3a%2f%2fwww.googleapis.com%2fauth%2fdrive%20https%3a%2f%2fwww.googleapis.com%2fauth%2fdrive.photos.readonly%20https%3a%2f%2fwww.googleapis.com%2fauth%2fpeopleapi.readonly\n",
      "\n",
      "Enter your authorization code:\n",
      "··········\n",
      "Mounted at /content/drive\n"
     ]
    }
   ],
   "source": [
    "# Import method 1: in Colab, mount Drive and then use Pandas\n",
    "from google.colab import drive\n",
    "drive.mount('/content/drive')"
   ]
  },
  {
   "cell_type": "code",
   "execution_count": null,
   "metadata": {},
   "outputs": [],
   "source": [
    "# Import method 1 cont'd: read in the data\n",
    "df = pd.read_table(\"/content/drive/My Drive/fs-project-4/covtype.data\", sep=',', header=None)\n",
    "df.head()"
   ]
  },
  {
   "cell_type": "code",
   "execution_count": 6,
   "metadata": {
    "ExecuteTime": {
     "end_time": "2019-11-22T15:29:38.092007Z",
     "start_time": "2019-11-22T15:29:35.209639Z"
    },
    "colab": {},
    "colab_type": "code",
    "id": "1rZ4WrOtqkfU",
    "outputId": "95e459aa-269d-45dc-e357-2768f681b56a",
    "scrolled": true
   },
   "outputs": [
    {
     "data": {
      "text/html": [
       "<div>\n",
       "<style scoped>\n",
       "    .dataframe tbody tr th:only-of-type {\n",
       "        vertical-align: middle;\n",
       "    }\n",
       "\n",
       "    .dataframe tbody tr th {\n",
       "        vertical-align: top;\n",
       "    }\n",
       "\n",
       "    .dataframe thead th {\n",
       "        text-align: right;\n",
       "    }\n",
       "</style>\n",
       "<table border=\"1\" class=\"dataframe\">\n",
       "  <thead>\n",
       "    <tr style=\"text-align: right;\">\n",
       "      <th></th>\n",
       "      <th>0</th>\n",
       "      <th>1</th>\n",
       "      <th>2</th>\n",
       "      <th>3</th>\n",
       "      <th>4</th>\n",
       "      <th>5</th>\n",
       "      <th>6</th>\n",
       "      <th>7</th>\n",
       "      <th>8</th>\n",
       "      <th>9</th>\n",
       "      <th>...</th>\n",
       "      <th>45</th>\n",
       "      <th>46</th>\n",
       "      <th>47</th>\n",
       "      <th>48</th>\n",
       "      <th>49</th>\n",
       "      <th>50</th>\n",
       "      <th>51</th>\n",
       "      <th>52</th>\n",
       "      <th>53</th>\n",
       "      <th>54</th>\n",
       "    </tr>\n",
       "  </thead>\n",
       "  <tbody>\n",
       "    <tr>\n",
       "      <td>0</td>\n",
       "      <td>2596</td>\n",
       "      <td>51</td>\n",
       "      <td>3</td>\n",
       "      <td>258</td>\n",
       "      <td>0</td>\n",
       "      <td>510</td>\n",
       "      <td>221</td>\n",
       "      <td>232</td>\n",
       "      <td>148</td>\n",
       "      <td>6279</td>\n",
       "      <td>...</td>\n",
       "      <td>0</td>\n",
       "      <td>0</td>\n",
       "      <td>0</td>\n",
       "      <td>0</td>\n",
       "      <td>0</td>\n",
       "      <td>0</td>\n",
       "      <td>0</td>\n",
       "      <td>0</td>\n",
       "      <td>0</td>\n",
       "      <td>5</td>\n",
       "    </tr>\n",
       "    <tr>\n",
       "      <td>1</td>\n",
       "      <td>2590</td>\n",
       "      <td>56</td>\n",
       "      <td>2</td>\n",
       "      <td>212</td>\n",
       "      <td>-6</td>\n",
       "      <td>390</td>\n",
       "      <td>220</td>\n",
       "      <td>235</td>\n",
       "      <td>151</td>\n",
       "      <td>6225</td>\n",
       "      <td>...</td>\n",
       "      <td>0</td>\n",
       "      <td>0</td>\n",
       "      <td>0</td>\n",
       "      <td>0</td>\n",
       "      <td>0</td>\n",
       "      <td>0</td>\n",
       "      <td>0</td>\n",
       "      <td>0</td>\n",
       "      <td>0</td>\n",
       "      <td>5</td>\n",
       "    </tr>\n",
       "    <tr>\n",
       "      <td>2</td>\n",
       "      <td>2804</td>\n",
       "      <td>139</td>\n",
       "      <td>9</td>\n",
       "      <td>268</td>\n",
       "      <td>65</td>\n",
       "      <td>3180</td>\n",
       "      <td>234</td>\n",
       "      <td>238</td>\n",
       "      <td>135</td>\n",
       "      <td>6121</td>\n",
       "      <td>...</td>\n",
       "      <td>0</td>\n",
       "      <td>0</td>\n",
       "      <td>0</td>\n",
       "      <td>0</td>\n",
       "      <td>0</td>\n",
       "      <td>0</td>\n",
       "      <td>0</td>\n",
       "      <td>0</td>\n",
       "      <td>0</td>\n",
       "      <td>2</td>\n",
       "    </tr>\n",
       "    <tr>\n",
       "      <td>3</td>\n",
       "      <td>2785</td>\n",
       "      <td>155</td>\n",
       "      <td>18</td>\n",
       "      <td>242</td>\n",
       "      <td>118</td>\n",
       "      <td>3090</td>\n",
       "      <td>238</td>\n",
       "      <td>238</td>\n",
       "      <td>122</td>\n",
       "      <td>6211</td>\n",
       "      <td>...</td>\n",
       "      <td>0</td>\n",
       "      <td>0</td>\n",
       "      <td>0</td>\n",
       "      <td>0</td>\n",
       "      <td>0</td>\n",
       "      <td>0</td>\n",
       "      <td>0</td>\n",
       "      <td>0</td>\n",
       "      <td>0</td>\n",
       "      <td>2</td>\n",
       "    </tr>\n",
       "    <tr>\n",
       "      <td>4</td>\n",
       "      <td>2595</td>\n",
       "      <td>45</td>\n",
       "      <td>2</td>\n",
       "      <td>153</td>\n",
       "      <td>-1</td>\n",
       "      <td>391</td>\n",
       "      <td>220</td>\n",
       "      <td>234</td>\n",
       "      <td>150</td>\n",
       "      <td>6172</td>\n",
       "      <td>...</td>\n",
       "      <td>0</td>\n",
       "      <td>0</td>\n",
       "      <td>0</td>\n",
       "      <td>0</td>\n",
       "      <td>0</td>\n",
       "      <td>0</td>\n",
       "      <td>0</td>\n",
       "      <td>0</td>\n",
       "      <td>0</td>\n",
       "      <td>5</td>\n",
       "    </tr>\n",
       "  </tbody>\n",
       "</table>\n",
       "<p>5 rows × 55 columns</p>\n",
       "</div>"
      ],
      "text/plain": [
       "     0    1   2    3    4     5    6    7    8     9   ...  45  46  47  48  \\\n",
       "0  2596   51   3  258    0   510  221  232  148  6279  ...   0   0   0   0   \n",
       "1  2590   56   2  212   -6   390  220  235  151  6225  ...   0   0   0   0   \n",
       "2  2804  139   9  268   65  3180  234  238  135  6121  ...   0   0   0   0   \n",
       "3  2785  155  18  242  118  3090  238  238  122  6211  ...   0   0   0   0   \n",
       "4  2595   45   2  153   -1   391  220  234  150  6172  ...   0   0   0   0   \n",
       "\n",
       "   49  50  51  52  53  54  \n",
       "0   0   0   0   0   0   5  \n",
       "1   0   0   0   0   0   5  \n",
       "2   0   0   0   0   0   2  \n",
       "3   0   0   0   0   0   2  \n",
       "4   0   0   0   0   0   5  \n",
       "\n",
       "[5 rows x 55 columns]"
      ]
     },
     "execution_count": 6,
     "metadata": {},
     "output_type": "execute_result"
    }
   ],
   "source": [
    "# Import method 2: read in the data (stored locally)\n",
    "df = pd.read_table(\"covtype.data\", sep=',', header=None)\n",
    "df.head()"
   ]
  },
  {
   "cell_type": "markdown",
   "metadata": {
    "colab_type": "text",
    "id": "FqLgZ5WqV9L1"
   },
   "source": [
    "The data comes without column names, so in the next few cells, I generate and insert those."
   ]
  },
  {
   "cell_type": "code",
   "execution_count": 7,
   "metadata": {
    "ExecuteTime": {
     "end_time": "2019-11-22T15:29:39.601335Z",
     "start_time": "2019-11-22T15:29:39.596148Z"
    },
    "colab": {},
    "colab_type": "code",
    "id": "VTyDUbnlqkfY",
    "outputId": "a879af42-62be-4eaa-98f8-f0b5bd8943fe"
   },
   "outputs": [
    {
     "name": "stdout",
     "output_type": "stream",
     "text": [
      "['Soil_Type_1', 'Soil_Type_2', 'Soil_Type_3', 'Soil_Type_4', 'Soil_Type_5', 'Soil_Type_6', 'Soil_Type_7', 'Soil_Type_8', 'Soil_Type_9', 'Soil_Type_10', 'Soil_Type_11', 'Soil_Type_12', 'Soil_Type_13', 'Soil_Type_14', 'Soil_Type_15', 'Soil_Type_16', 'Soil_Type_17', 'Soil_Type_18', 'Soil_Type_19', 'Soil_Type_20', 'Soil_Type_21', 'Soil_Type_22', 'Soil_Type_23', 'Soil_Type_24', 'Soil_Type_25', 'Soil_Type_26', 'Soil_Type_27', 'Soil_Type_28', 'Soil_Type_29', 'Soil_Type_30', 'Soil_Type_31', 'Soil_Type_32', 'Soil_Type_33', 'Soil_Type_34', 'Soil_Type_35', 'Soil_Type_36', 'Soil_Type_37', 'Soil_Type_38', 'Soil_Type_39', 'Soil_Type_40']\n"
     ]
    }
   ],
   "source": [
    "# Generate column names for the 40 soil type columns\n",
    "soil_types = []\n",
    "for n in range(1, 41):\n",
    "    str_n = str(n)\n",
    "    name = 'Soil_Type_' + str_n\n",
    "    soil_types.append(name)\n",
    "    \n",
    "print(soil_types)"
   ]
  },
  {
   "cell_type": "code",
   "execution_count": 8,
   "metadata": {
    "ExecuteTime": {
     "end_time": "2019-11-22T15:29:40.280086Z",
     "start_time": "2019-11-22T15:29:40.101164Z"
    },
    "colab": {},
    "colab_type": "code",
    "id": "d_05VXDgqkfa",
    "outputId": "89b2004d-6ad9-4c9f-b72f-5125c27a25b7"
   },
   "outputs": [
    {
     "name": "stdout",
     "output_type": "stream",
     "text": [
      "<class 'pandas.core.frame.DataFrame'>\n",
      "RangeIndex: 581012 entries, 0 to 581011\n",
      "Data columns (total 55 columns):\n",
      "Elevation         581012 non-null int64\n",
      "Aspect            581012 non-null int64\n",
      "Slope             581012 non-null int64\n",
      "Hor_Dist_Hyd      581012 non-null int64\n",
      "Ver_Dist_Hyd      581012 non-null int64\n",
      "Hor_Dist_Road     581012 non-null int64\n",
      "Hillshade_9am     581012 non-null int64\n",
      "Hillshade_noon    581012 non-null int64\n",
      "Hillshade_3pm     581012 non-null int64\n",
      "Hor_Dist_Fire     581012 non-null int64\n",
      "WA_1              581012 non-null int64\n",
      "WA_2              581012 non-null int64\n",
      "WA_3              581012 non-null int64\n",
      "WA_4              581012 non-null int64\n",
      "Soil_Type_1       581012 non-null int64\n",
      "Soil_Type_2       581012 non-null int64\n",
      "Soil_Type_3       581012 non-null int64\n",
      "Soil_Type_4       581012 non-null int64\n",
      "Soil_Type_5       581012 non-null int64\n",
      "Soil_Type_6       581012 non-null int64\n",
      "Soil_Type_7       581012 non-null int64\n",
      "Soil_Type_8       581012 non-null int64\n",
      "Soil_Type_9       581012 non-null int64\n",
      "Soil_Type_10      581012 non-null int64\n",
      "Soil_Type_11      581012 non-null int64\n",
      "Soil_Type_12      581012 non-null int64\n",
      "Soil_Type_13      581012 non-null int64\n",
      "Soil_Type_14      581012 non-null int64\n",
      "Soil_Type_15      581012 non-null int64\n",
      "Soil_Type_16      581012 non-null int64\n",
      "Soil_Type_17      581012 non-null int64\n",
      "Soil_Type_18      581012 non-null int64\n",
      "Soil_Type_19      581012 non-null int64\n",
      "Soil_Type_20      581012 non-null int64\n",
      "Soil_Type_21      581012 non-null int64\n",
      "Soil_Type_22      581012 non-null int64\n",
      "Soil_Type_23      581012 non-null int64\n",
      "Soil_Type_24      581012 non-null int64\n",
      "Soil_Type_25      581012 non-null int64\n",
      "Soil_Type_26      581012 non-null int64\n",
      "Soil_Type_27      581012 non-null int64\n",
      "Soil_Type_28      581012 non-null int64\n",
      "Soil_Type_29      581012 non-null int64\n",
      "Soil_Type_30      581012 non-null int64\n",
      "Soil_Type_31      581012 non-null int64\n",
      "Soil_Type_32      581012 non-null int64\n",
      "Soil_Type_33      581012 non-null int64\n",
      "Soil_Type_34      581012 non-null int64\n",
      "Soil_Type_35      581012 non-null int64\n",
      "Soil_Type_36      581012 non-null int64\n",
      "Soil_Type_37      581012 non-null int64\n",
      "Soil_Type_38      581012 non-null int64\n",
      "Soil_Type_39      581012 non-null int64\n",
      "Soil_Type_40      581012 non-null int64\n",
      "Cover_Type        581012 non-null int64\n",
      "dtypes: int64(55)\n",
      "memory usage: 243.8 MB\n"
     ]
    }
   ],
   "source": [
    "# Name the columns\n",
    "colnames = ['Elevation', 'Aspect', 'Slope', 'Hor_Dist_Hyd', 'Ver_Dist_Hyd',\n",
    "            'Hor_Dist_Road', 'Hillshade_9am', 'Hillshade_noon', 'Hillshade_3pm',\n",
    "            'Hor_Dist_Fire', 'WA_1', 'WA_2', 'WA_3', 'WA_4', 'Soil_Type_1', \n",
    "            'Soil_Type_2', 'Soil_Type_3', 'Soil_Type_4', 'Soil_Type_5', \n",
    "            'Soil_Type_6', 'Soil_Type_7', 'Soil_Type_8', 'Soil_Type_9', \n",
    "            'Soil_Type_10', 'Soil_Type_11', 'Soil_Type_12', 'Soil_Type_13', \n",
    "            'Soil_Type_14', 'Soil_Type_15', 'Soil_Type_16', 'Soil_Type_17', \n",
    "            'Soil_Type_18', 'Soil_Type_19', 'Soil_Type_20', 'Soil_Type_21', \n",
    "            'Soil_Type_22', 'Soil_Type_23', 'Soil_Type_24', 'Soil_Type_25', \n",
    "            'Soil_Type_26', 'Soil_Type_27', 'Soil_Type_28', 'Soil_Type_29', \n",
    "            'Soil_Type_30', 'Soil_Type_31', 'Soil_Type_32', 'Soil_Type_33', \n",
    "            'Soil_Type_34', 'Soil_Type_35', 'Soil_Type_36', 'Soil_Type_37', \n",
    "            'Soil_Type_38', 'Soil_Type_39', 'Soil_Type_40', 'Cover_Type',]\n",
    "df.columns = colnames\n",
    "df.info()"
   ]
  },
  {
   "cell_type": "markdown",
   "metadata": {
    "colab_type": "text",
    "id": "elfITF9TWKyr"
   },
   "source": [
    "Every observation in this dataset represents a 30 by 30-meter tract of land in one of four forest preserves in Colorado. The first 9 columns describe features of each land tract that are pretty self-explanatory (see the data dictionary referenced above). The columns named 'WA_#' binary columns representing which of the four areas the observation pertains to. These are followed by 40 binary columns recording what type of soil is present in the tract. Last is 'Cover_Type,' which records which of 7 tree types was predominant in the tract."
   ]
  },
  {
   "cell_type": "markdown",
   "metadata": {
    "colab_type": "text",
    "id": "JX8r_D4Bqkff"
   },
   "source": [
    "## EDA"
   ]
  },
  {
   "cell_type": "markdown",
   "metadata": {
    "colab_type": "text",
    "id": "9EoZe1LHYAaz"
   },
   "source": [
    "At this early stage, I am concerned about class imbalance, i.e., that there may be lots of one type of tree cover and few examples of another. This imbalance could cause my machine learning algorithm to find shortcuts to maximizing whatever performance metric we're using, for instance by simply never predicting a rare class."
   ]
  },
  {
   "cell_type": "code",
   "execution_count": 9,
   "metadata": {
    "ExecuteTime": {
     "end_time": "2019-11-22T15:29:47.424834Z",
     "start_time": "2019-11-22T15:29:47.404931Z"
    },
    "colab": {},
    "colab_type": "code",
    "id": "snL5i8Wgqkfd",
    "outputId": "c738f5bf-f232-444b-9918-e5e296d319f1",
    "scrolled": false
   },
   "outputs": [
    {
     "data": {
      "text/plain": [
       "2    283301\n",
       "1    211840\n",
       "3     35754\n",
       "7     20510\n",
       "6     17367\n",
       "5      9493\n",
       "4      2747\n",
       "Name: Cover_Type, dtype: int64"
      ]
     },
     "execution_count": 9,
     "metadata": {},
     "output_type": "execute_result"
    }
   ],
   "source": [
    "# Check class balance\n",
    "df.Cover_Type.value_counts()"
   ]
  },
  {
   "cell_type": "markdown",
   "metadata": {
    "colab_type": "text",
    "id": "sZL5z9VEXn5X"
   },
   "source": [
    "As I feared, the classes are very imbalanced: the smallest one is just 1% the size of the largest one! I will address this problem in the section on preprocessing below.\n",
    "\n",
    "Let's take a look at the continuous variables and see whether they are normally distributed, since non-normal distributions can negatively impact our predictive power."
   ]
  },
  {
   "cell_type": "code",
   "execution_count": 10,
   "metadata": {
    "ExecuteTime": {
     "end_time": "2019-11-22T15:29:52.267621Z",
     "start_time": "2019-11-22T15:29:50.243634Z"
    },
    "colab": {},
    "colab_type": "code",
    "id": "SOIToKlNqkfg",
    "outputId": "d0bc6e7d-566a-429f-e0de-4624a0904db9",
    "scrolled": false
   },
   "outputs": [
    {
     "data": {
      "image/png": "[encoded data removed]",
      "text/plain": [
       "<Figure size 1152x720 with 10 Axes>"
      ]
     },
     "metadata": {
      "needs_background": "light"
     },
     "output_type": "display_data"
    }
   ],
   "source": [
    "# Visualize distributions of continuous variables\n",
    "to_hist = ['Elevation', 'Aspect', 'Slope', 'Hor_Dist_Hyd', 'Ver_Dist_Hyd',\n",
    "           'Hor_Dist_Road', 'Hillshade_9am', 'Hillshade_noon', 'Hillshade_3pm',\n",
    "           'Hor_Dist_Fire']\n",
    "\n",
    "plt.figure(figsize=(16,10))\n",
    "for idx, col in enumerate(to_hist):\n",
    "    plt.subplot(3, 4, idx+1)\n",
    "    plt.hist(df[col])\n",
    "    plt.title(col)\n",
    "plt.tight_layout();\n"
   ]
  },
  {
   "cell_type": "markdown",
   "metadata": {
    "colab_type": "text",
    "id": "xhrW7wk3YnkS"
   },
   "source": [
    "Some of the continuous variables are skewed right or left, and `Aspect` appears to be bimodal. \n",
    "\n",
    "I'm also curious to see whether any of the variables are correlated with one another (and therefore could be eliminated). For instance, there might be a soil type that only occurs in one of the forest preserves. A correlation matrix and heatmap can help us detect this, but it's not a big worry. Principal Components Analysis (below) will help us avoid any repercussions of multicollinearity."
   ]
  },
  {
   "cell_type": "code",
   "execution_count": 11,
   "metadata": {
    "ExecuteTime": {
     "end_time": "2019-11-22T15:29:57.496450Z",
     "start_time": "2019-11-22T15:29:54.048768Z"
    },
    "colab": {},
    "colab_type": "code",
    "id": "6KOPw07WHYUo",
    "outputId": "0b50f917-0074-41ce-8327-bd36e69825ed"
   },
   "outputs": [
    {
     "data": {
      "text/html": [
       "<div>\n",
       "<style scoped>\n",
       "    .dataframe tbody tr th:only-of-type {\n",
       "        vertical-align: middle;\n",
       "    }\n",
       "\n",
       "    .dataframe tbody tr th {\n",
       "        vertical-align: top;\n",
       "    }\n",
       "\n",
       "    .dataframe thead th {\n",
       "        text-align: right;\n",
       "    }\n",
       "</style>\n",
       "<table border=\"1\" class=\"dataframe\">\n",
       "  <thead>\n",
       "    <tr style=\"text-align: right;\">\n",
       "      <th></th>\n",
       "      <th>Elevation</th>\n",
       "      <th>Aspect</th>\n",
       "      <th>Slope</th>\n",
       "      <th>Hor_Dist_Hyd</th>\n",
       "      <th>Ver_Dist_Hyd</th>\n",
       "      <th>Hor_Dist_Road</th>\n",
       "      <th>Hillshade_9am</th>\n",
       "      <th>Hillshade_noon</th>\n",
       "      <th>Hillshade_3pm</th>\n",
       "      <th>Hor_Dist_Fire</th>\n",
       "      <th>...</th>\n",
       "      <th>Soil_Type_32</th>\n",
       "      <th>Soil_Type_33</th>\n",
       "      <th>Soil_Type_34</th>\n",
       "      <th>Soil_Type_35</th>\n",
       "      <th>Soil_Type_36</th>\n",
       "      <th>Soil_Type_37</th>\n",
       "      <th>Soil_Type_38</th>\n",
       "      <th>Soil_Type_39</th>\n",
       "      <th>Soil_Type_40</th>\n",
       "      <th>Cover_Type</th>\n",
       "    </tr>\n",
       "  </thead>\n",
       "  <tbody>\n",
       "    <tr>\n",
       "      <td>Elevation</td>\n",
       "      <td>1.000000</td>\n",
       "      <td>0.015735</td>\n",
       "      <td>-0.242697</td>\n",
       "      <td>0.306229</td>\n",
       "      <td>0.093306</td>\n",
       "      <td>0.365559</td>\n",
       "      <td>0.112179</td>\n",
       "      <td>0.205887</td>\n",
       "      <td>0.059148</td>\n",
       "      <td>0.148022</td>\n",
       "      <td>...</td>\n",
       "      <td>0.167077</td>\n",
       "      <td>0.070633</td>\n",
       "      <td>0.011731</td>\n",
       "      <td>0.083005</td>\n",
       "      <td>0.021107</td>\n",
       "      <td>0.035433</td>\n",
       "      <td>0.217179</td>\n",
       "      <td>0.193595</td>\n",
       "      <td>0.212612</td>\n",
       "      <td>-0.269554</td>\n",
       "    </tr>\n",
       "    <tr>\n",
       "      <td>Aspect</td>\n",
       "      <td>0.015735</td>\n",
       "      <td>1.000000</td>\n",
       "      <td>0.078728</td>\n",
       "      <td>0.017376</td>\n",
       "      <td>0.070305</td>\n",
       "      <td>0.025121</td>\n",
       "      <td>-0.579273</td>\n",
       "      <td>0.336103</td>\n",
       "      <td>0.646944</td>\n",
       "      <td>-0.109172</td>\n",
       "      <td>...</td>\n",
       "      <td>0.056233</td>\n",
       "      <td>0.019163</td>\n",
       "      <td>0.010861</td>\n",
       "      <td>-0.021991</td>\n",
       "      <td>0.002281</td>\n",
       "      <td>-0.020398</td>\n",
       "      <td>0.017706</td>\n",
       "      <td>0.008294</td>\n",
       "      <td>-0.005866</td>\n",
       "      <td>0.017080</td>\n",
       "    </tr>\n",
       "    <tr>\n",
       "      <td>Slope</td>\n",
       "      <td>-0.242697</td>\n",
       "      <td>0.078728</td>\n",
       "      <td>1.000000</td>\n",
       "      <td>-0.010607</td>\n",
       "      <td>0.274976</td>\n",
       "      <td>-0.215914</td>\n",
       "      <td>-0.327199</td>\n",
       "      <td>-0.526911</td>\n",
       "      <td>-0.175854</td>\n",
       "      <td>-0.185662</td>\n",
       "      <td>...</td>\n",
       "      <td>-0.133504</td>\n",
       "      <td>0.208942</td>\n",
       "      <td>-0.011002</td>\n",
       "      <td>-0.022228</td>\n",
       "      <td>0.002918</td>\n",
       "      <td>0.007848</td>\n",
       "      <td>-0.072208</td>\n",
       "      <td>0.093602</td>\n",
       "      <td>0.025637</td>\n",
       "      <td>0.148285</td>\n",
       "    </tr>\n",
       "    <tr>\n",
       "      <td>Hor_Dist_Hyd</td>\n",
       "      <td>0.306229</td>\n",
       "      <td>0.017376</td>\n",
       "      <td>-0.010607</td>\n",
       "      <td>1.000000</td>\n",
       "      <td>0.606236</td>\n",
       "      <td>0.072030</td>\n",
       "      <td>-0.027088</td>\n",
       "      <td>0.046790</td>\n",
       "      <td>0.052330</td>\n",
       "      <td>0.051874</td>\n",
       "      <td>...</td>\n",
       "      <td>0.127217</td>\n",
       "      <td>0.101195</td>\n",
       "      <td>0.070268</td>\n",
       "      <td>-0.005231</td>\n",
       "      <td>0.033421</td>\n",
       "      <td>-0.006802</td>\n",
       "      <td>0.043031</td>\n",
       "      <td>0.031922</td>\n",
       "      <td>0.147020</td>\n",
       "      <td>-0.020317</td>\n",
       "    </tr>\n",
       "    <tr>\n",
       "      <td>Ver_Dist_Hyd</td>\n",
       "      <td>0.093306</td>\n",
       "      <td>0.070305</td>\n",
       "      <td>0.274976</td>\n",
       "      <td>0.606236</td>\n",
       "      <td>1.000000</td>\n",
       "      <td>-0.046372</td>\n",
       "      <td>-0.166333</td>\n",
       "      <td>-0.110957</td>\n",
       "      <td>0.034902</td>\n",
       "      <td>-0.069913</td>\n",
       "      <td>...</td>\n",
       "      <td>0.039762</td>\n",
       "      <td>0.167091</td>\n",
       "      <td>0.060274</td>\n",
       "      <td>-0.006092</td>\n",
       "      <td>0.012955</td>\n",
       "      <td>-0.007520</td>\n",
       "      <td>-0.008629</td>\n",
       "      <td>0.043859</td>\n",
       "      <td>0.179006</td>\n",
       "      <td>0.081664</td>\n",
       "    </tr>\n",
       "    <tr>\n",
       "      <td>Hor_Dist_Road</td>\n",
       "      <td>0.365559</td>\n",
       "      <td>0.025121</td>\n",
       "      <td>-0.215914</td>\n",
       "      <td>0.072030</td>\n",
       "      <td>-0.046372</td>\n",
       "      <td>1.000000</td>\n",
       "      <td>0.034349</td>\n",
       "      <td>0.189461</td>\n",
       "      <td>0.106119</td>\n",
       "      <td>0.331580</td>\n",
       "      <td>...</td>\n",
       "      <td>-0.089019</td>\n",
       "      <td>-0.082779</td>\n",
       "      <td>0.006390</td>\n",
       "      <td>-0.003000</td>\n",
       "      <td>0.007550</td>\n",
       "      <td>0.016313</td>\n",
       "      <td>0.079778</td>\n",
       "      <td>0.033762</td>\n",
       "      <td>0.016052</td>\n",
       "      <td>-0.153450</td>\n",
       "    </tr>\n",
       "    <tr>\n",
       "      <td>Hillshade_9am</td>\n",
       "      <td>0.112179</td>\n",
       "      <td>-0.579273</td>\n",
       "      <td>-0.327199</td>\n",
       "      <td>-0.027088</td>\n",
       "      <td>-0.166333</td>\n",
       "      <td>0.034349</td>\n",
       "      <td>1.000000</td>\n",
       "      <td>0.010037</td>\n",
       "      <td>-0.780296</td>\n",
       "      <td>0.132669</td>\n",
       "      <td>...</td>\n",
       "      <td>0.006494</td>\n",
       "      <td>-0.064381</td>\n",
       "      <td>0.007154</td>\n",
       "      <td>0.027870</td>\n",
       "      <td>0.007865</td>\n",
       "      <td>0.010332</td>\n",
       "      <td>0.015108</td>\n",
       "      <td>-0.029620</td>\n",
       "      <td>-0.000016</td>\n",
       "      <td>-0.035415</td>\n",
       "    </tr>\n",
       "    <tr>\n",
       "      <td>Hillshade_noon</td>\n",
       "      <td>0.205887</td>\n",
       "      <td>0.336103</td>\n",
       "      <td>-0.526911</td>\n",
       "      <td>0.046790</td>\n",
       "      <td>-0.110957</td>\n",
       "      <td>0.189461</td>\n",
       "      <td>0.010037</td>\n",
       "      <td>1.000000</td>\n",
       "      <td>0.594274</td>\n",
       "      <td>0.057329</td>\n",
       "      <td>...</td>\n",
       "      <td>0.125395</td>\n",
       "      <td>-0.086164</td>\n",
       "      <td>0.043061</td>\n",
       "      <td>0.005863</td>\n",
       "      <td>0.016239</td>\n",
       "      <td>-0.022707</td>\n",
       "      <td>0.042952</td>\n",
       "      <td>-0.071961</td>\n",
       "      <td>-0.040176</td>\n",
       "      <td>-0.096426</td>\n",
       "    </tr>\n",
       "    <tr>\n",
       "      <td>Hillshade_3pm</td>\n",
       "      <td>0.059148</td>\n",
       "      <td>0.646944</td>\n",
       "      <td>-0.175854</td>\n",
       "      <td>0.052330</td>\n",
       "      <td>0.034902</td>\n",
       "      <td>0.106119</td>\n",
       "      <td>-0.780296</td>\n",
       "      <td>0.594274</td>\n",
       "      <td>1.000000</td>\n",
       "      <td>-0.047981</td>\n",
       "      <td>...</td>\n",
       "      <td>0.083066</td>\n",
       "      <td>-0.024393</td>\n",
       "      <td>0.017757</td>\n",
       "      <td>-0.016482</td>\n",
       "      <td>0.001330</td>\n",
       "      <td>-0.022064</td>\n",
       "      <td>0.022187</td>\n",
       "      <td>-0.029040</td>\n",
       "      <td>-0.024254</td>\n",
       "      <td>-0.048290</td>\n",
       "    </tr>\n",
       "    <tr>\n",
       "      <td>Hor_Dist_Fire</td>\n",
       "      <td>0.148022</td>\n",
       "      <td>-0.109172</td>\n",
       "      <td>-0.185662</td>\n",
       "      <td>0.051874</td>\n",
       "      <td>-0.069913</td>\n",
       "      <td>0.331580</td>\n",
       "      <td>0.132669</td>\n",
       "      <td>0.057329</td>\n",
       "      <td>-0.047981</td>\n",
       "      <td>1.000000</td>\n",
       "      <td>...</td>\n",
       "      <td>-0.089977</td>\n",
       "      <td>-0.059067</td>\n",
       "      <td>-0.035067</td>\n",
       "      <td>-0.000081</td>\n",
       "      <td>-0.010595</td>\n",
       "      <td>0.004180</td>\n",
       "      <td>-0.019740</td>\n",
       "      <td>-0.003301</td>\n",
       "      <td>0.008915</td>\n",
       "      <td>-0.108936</td>\n",
       "    </tr>\n",
       "    <tr>\n",
       "      <td>WA_1</td>\n",
       "      <td>0.131838</td>\n",
       "      <td>-0.140123</td>\n",
       "      <td>-0.234576</td>\n",
       "      <td>-0.097124</td>\n",
       "      <td>-0.180710</td>\n",
       "      <td>0.453913</td>\n",
       "      <td>0.201299</td>\n",
       "      <td>0.028728</td>\n",
       "      <td>-0.115155</td>\n",
       "      <td>0.380568</td>\n",
       "      <td>...</td>\n",
       "      <td>-0.284490</td>\n",
       "      <td>-0.261970</td>\n",
       "      <td>-0.047587</td>\n",
       "      <td>-0.011714</td>\n",
       "      <td>-0.012917</td>\n",
       "      <td>0.015014</td>\n",
       "      <td>0.011073</td>\n",
       "      <td>0.012745</td>\n",
       "      <td>0.011974</td>\n",
       "      <td>-0.203913</td>\n",
       "    </tr>\n",
       "    <tr>\n",
       "      <td>WA_2</td>\n",
       "      <td>0.238164</td>\n",
       "      <td>0.055988</td>\n",
       "      <td>-0.036253</td>\n",
       "      <td>0.055726</td>\n",
       "      <td>-0.008709</td>\n",
       "      <td>-0.200411</td>\n",
       "      <td>-0.006181</td>\n",
       "      <td>0.042392</td>\n",
       "      <td>0.034707</td>\n",
       "      <td>0.027473</td>\n",
       "      <td>...</td>\n",
       "      <td>0.028797</td>\n",
       "      <td>0.014393</td>\n",
       "      <td>-0.012279</td>\n",
       "      <td>0.055508</td>\n",
       "      <td>-0.003333</td>\n",
       "      <td>-0.005275</td>\n",
       "      <td>0.061369</td>\n",
       "      <td>0.011301</td>\n",
       "      <td>0.105050</td>\n",
       "      <td>-0.048059</td>\n",
       "    </tr>\n",
       "    <tr>\n",
       "      <td>WA_3</td>\n",
       "      <td>0.066550</td>\n",
       "      <td>0.074904</td>\n",
       "      <td>0.125663</td>\n",
       "      <td>0.122028</td>\n",
       "      <td>0.146839</td>\n",
       "      <td>-0.232933</td>\n",
       "      <td>-0.100565</td>\n",
       "      <td>0.048646</td>\n",
       "      <td>0.090757</td>\n",
       "      <td>-0.277510</td>\n",
       "      <td>...</td>\n",
       "      <td>0.312961</td>\n",
       "      <td>0.293588</td>\n",
       "      <td>0.059964</td>\n",
       "      <td>-0.005644</td>\n",
       "      <td>0.016276</td>\n",
       "      <td>-0.009803</td>\n",
       "      <td>-0.017148</td>\n",
       "      <td>0.002201</td>\n",
       "      <td>-0.042936</td>\n",
       "      <td>0.066846</td>\n",
       "    </tr>\n",
       "    <tr>\n",
       "      <td>WA_4</td>\n",
       "      <td>-0.619374</td>\n",
       "      <td>0.082687</td>\n",
       "      <td>0.255503</td>\n",
       "      <td>-0.100433</td>\n",
       "      <td>0.077792</td>\n",
       "      <td>-0.270349</td>\n",
       "      <td>-0.200282</td>\n",
       "      <td>-0.195733</td>\n",
       "      <td>0.018860</td>\n",
       "      <td>-0.236548</td>\n",
       "      <td>...</td>\n",
       "      <td>-0.082174</td>\n",
       "      <td>-0.075669</td>\n",
       "      <td>-0.013745</td>\n",
       "      <td>-0.014896</td>\n",
       "      <td>-0.003731</td>\n",
       "      <td>-0.005905</td>\n",
       "      <td>-0.043260</td>\n",
       "      <td>-0.040669</td>\n",
       "      <td>-0.032233</td>\n",
       "      <td>0.323200</td>\n",
       "    </tr>\n",
       "    <tr>\n",
       "      <td>Soil_Type_1</td>\n",
       "      <td>-0.204512</td>\n",
       "      <td>-0.007574</td>\n",
       "      <td>0.107847</td>\n",
       "      <td>-0.035096</td>\n",
       "      <td>0.015275</td>\n",
       "      <td>-0.083585</td>\n",
       "      <td>-0.000937</td>\n",
       "      <td>-0.052561</td>\n",
       "      <td>-0.050157</td>\n",
       "      <td>-0.073607</td>\n",
       "      <td>...</td>\n",
       "      <td>-0.022828</td>\n",
       "      <td>-0.021021</td>\n",
       "      <td>-0.003819</td>\n",
       "      <td>-0.004138</td>\n",
       "      <td>-0.001036</td>\n",
       "      <td>-0.001640</td>\n",
       "      <td>-0.012018</td>\n",
       "      <td>-0.011298</td>\n",
       "      <td>-0.008955</td>\n",
       "      <td>0.090828</td>\n",
       "    </tr>\n",
       "    <tr>\n",
       "      <td>Soil_Type_2</td>\n",
       "      <td>-0.187677</td>\n",
       "      <td>-0.005649</td>\n",
       "      <td>-0.018553</td>\n",
       "      <td>-0.011569</td>\n",
       "      <td>0.008954</td>\n",
       "      <td>-0.088026</td>\n",
       "      <td>0.036253</td>\n",
       "      <td>0.043250</td>\n",
       "      <td>-0.005276</td>\n",
       "      <td>-0.081716</td>\n",
       "      <td>...</td>\n",
       "      <td>-0.036110</td>\n",
       "      <td>-0.033252</td>\n",
       "      <td>-0.006040</td>\n",
       "      <td>-0.006546</td>\n",
       "      <td>-0.001640</td>\n",
       "      <td>-0.002595</td>\n",
       "      <td>-0.019010</td>\n",
       "      <td>-0.017871</td>\n",
       "      <td>-0.014164</td>\n",
       "      <td>0.118135</td>\n",
       "    </tr>\n",
       "    <tr>\n",
       "      <td>Soil_Type_3</td>\n",
       "      <td>-0.182463</td>\n",
       "      <td>-0.002730</td>\n",
       "      <td>0.125497</td>\n",
       "      <td>-0.041211</td>\n",
       "      <td>0.008863</td>\n",
       "      <td>-0.084988</td>\n",
       "      <td>0.039648</td>\n",
       "      <td>0.002702</td>\n",
       "      <td>-0.060554</td>\n",
       "      <td>-0.076340</td>\n",
       "      <td>...</td>\n",
       "      <td>-0.028841</td>\n",
       "      <td>-0.026558</td>\n",
       "      <td>-0.004824</td>\n",
       "      <td>-0.005228</td>\n",
       "      <td>-0.001309</td>\n",
       "      <td>-0.002073</td>\n",
       "      <td>-0.015183</td>\n",
       "      <td>-0.014274</td>\n",
       "      <td>-0.011313</td>\n",
       "      <td>0.068064</td>\n",
       "    </tr>\n",
       "    <tr>\n",
       "      <td>Soil_Type_4</td>\n",
       "      <td>-0.183521</td>\n",
       "      <td>0.017212</td>\n",
       "      <td>0.131847</td>\n",
       "      <td>-0.049071</td>\n",
       "      <td>0.025066</td>\n",
       "      <td>-0.088524</td>\n",
       "      <td>0.023812</td>\n",
       "      <td>0.084397</td>\n",
       "      <td>-0.004670</td>\n",
       "      <td>-0.076478</td>\n",
       "      <td>...</td>\n",
       "      <td>-0.046545</td>\n",
       "      <td>-0.042860</td>\n",
       "      <td>-0.007786</td>\n",
       "      <td>-0.008437</td>\n",
       "      <td>-0.002113</td>\n",
       "      <td>-0.003345</td>\n",
       "      <td>-0.024503</td>\n",
       "      <td>-0.023035</td>\n",
       "      <td>-0.018257</td>\n",
       "      <td>0.099672</td>\n",
       "    </tr>\n",
       "    <tr>\n",
       "      <td>Soil_Type_5</td>\n",
       "      <td>-0.150376</td>\n",
       "      <td>0.008938</td>\n",
       "      <td>0.072311</td>\n",
       "      <td>-0.009370</td>\n",
       "      <td>0.026772</td>\n",
       "      <td>-0.061607</td>\n",
       "      <td>-0.046514</td>\n",
       "      <td>-0.062044</td>\n",
       "      <td>-0.006900</td>\n",
       "      <td>-0.051845</td>\n",
       "      <td>...</td>\n",
       "      <td>-0.016550</td>\n",
       "      <td>-0.015240</td>\n",
       "      <td>-0.002768</td>\n",
       "      <td>-0.003000</td>\n",
       "      <td>-0.000751</td>\n",
       "      <td>-0.001189</td>\n",
       "      <td>-0.008713</td>\n",
       "      <td>-0.008191</td>\n",
       "      <td>-0.006492</td>\n",
       "      <td>0.077890</td>\n",
       "    </tr>\n",
       "    <tr>\n",
       "      <td>Soil_Type_6</td>\n",
       "      <td>-0.214606</td>\n",
       "      <td>0.010766</td>\n",
       "      <td>0.003673</td>\n",
       "      <td>-0.012916</td>\n",
       "      <td>0.046259</td>\n",
       "      <td>-0.108328</td>\n",
       "      <td>-0.005665</td>\n",
       "      <td>-0.010497</td>\n",
       "      <td>-0.000556</td>\n",
       "      <td>-0.087305</td>\n",
       "      <td>...</td>\n",
       "      <td>-0.033726</td>\n",
       "      <td>-0.031056</td>\n",
       "      <td>-0.005641</td>\n",
       "      <td>-0.006113</td>\n",
       "      <td>-0.001531</td>\n",
       "      <td>-0.002424</td>\n",
       "      <td>-0.017755</td>\n",
       "      <td>-0.016691</td>\n",
       "      <td>-0.013229</td>\n",
       "      <td>0.112958</td>\n",
       "    </tr>\n",
       "    <tr>\n",
       "      <td>Soil_Type_7</td>\n",
       "      <td>-0.002252</td>\n",
       "      <td>-0.005052</td>\n",
       "      <td>-0.015661</td>\n",
       "      <td>0.004751</td>\n",
       "      <td>-0.008485</td>\n",
       "      <td>0.020107</td>\n",
       "      <td>0.003571</td>\n",
       "      <td>0.005282</td>\n",
       "      <td>0.001852</td>\n",
       "      <td>0.028390</td>\n",
       "      <td>...</td>\n",
       "      <td>-0.004238</td>\n",
       "      <td>-0.003903</td>\n",
       "      <td>-0.000709</td>\n",
       "      <td>-0.000768</td>\n",
       "      <td>-0.000192</td>\n",
       "      <td>-0.000305</td>\n",
       "      <td>-0.002231</td>\n",
       "      <td>-0.002098</td>\n",
       "      <td>-0.001662</td>\n",
       "      <td>-0.000496</td>\n",
       "    </tr>\n",
       "    <tr>\n",
       "      <td>Soil_Type_8</td>\n",
       "      <td>-0.003021</td>\n",
       "      <td>-0.003366</td>\n",
       "      <td>-0.023359</td>\n",
       "      <td>-0.000795</td>\n",
       "      <td>-0.012915</td>\n",
       "      <td>0.025805</td>\n",
       "      <td>0.005000</td>\n",
       "      <td>0.009520</td>\n",
       "      <td>0.003576</td>\n",
       "      <td>0.032796</td>\n",
       "      <td>...</td>\n",
       "      <td>-0.005534</td>\n",
       "      <td>-0.005096</td>\n",
       "      <td>-0.000926</td>\n",
       "      <td>-0.001003</td>\n",
       "      <td>-0.000251</td>\n",
       "      <td>-0.000398</td>\n",
       "      <td>-0.002913</td>\n",
       "      <td>-0.002739</td>\n",
       "      <td>-0.002171</td>\n",
       "      <td>-0.003667</td>\n",
       "    </tr>\n",
       "    <tr>\n",
       "      <td>Soil_Type_9</td>\n",
       "      <td>-0.060915</td>\n",
       "      <td>-0.020800</td>\n",
       "      <td>-0.032752</td>\n",
       "      <td>-0.021935</td>\n",
       "      <td>-0.028476</td>\n",
       "      <td>-0.045813</td>\n",
       "      <td>0.021741</td>\n",
       "      <td>0.005446</td>\n",
       "      <td>-0.010428</td>\n",
       "      <td>-0.036639</td>\n",
       "      <td>...</td>\n",
       "      <td>-0.014020</td>\n",
       "      <td>-0.012910</td>\n",
       "      <td>-0.002345</td>\n",
       "      <td>-0.002541</td>\n",
       "      <td>-0.000637</td>\n",
       "      <td>-0.001008</td>\n",
       "      <td>-0.007381</td>\n",
       "      <td>-0.006939</td>\n",
       "      <td>-0.005500</td>\n",
       "      <td>-0.006110</td>\n",
       "    </tr>\n",
       "    <tr>\n",
       "      <td>Soil_Type_10</td>\n",
       "      <td>-0.428746</td>\n",
       "      <td>0.049835</td>\n",
       "      <td>0.244037</td>\n",
       "      <td>-0.071653</td>\n",
       "      <td>0.055154</td>\n",
       "      <td>-0.182955</td>\n",
       "      <td>-0.223782</td>\n",
       "      <td>-0.245854</td>\n",
       "      <td>0.019923</td>\n",
       "      <td>-0.175974</td>\n",
       "      <td>...</td>\n",
       "      <td>-0.076901</td>\n",
       "      <td>-0.070814</td>\n",
       "      <td>-0.012863</td>\n",
       "      <td>-0.013940</td>\n",
       "      <td>-0.003492</td>\n",
       "      <td>-0.005526</td>\n",
       "      <td>-0.040484</td>\n",
       "      <td>-0.038059</td>\n",
       "      <td>-0.030165</td>\n",
       "      <td>0.243876</td>\n",
       "    </tr>\n",
       "    <tr>\n",
       "      <td>Soil_Type_11</td>\n",
       "      <td>-0.134227</td>\n",
       "      <td>-0.064344</td>\n",
       "      <td>-0.050894</td>\n",
       "      <td>0.001399</td>\n",
       "      <td>-0.020870</td>\n",
       "      <td>-0.099293</td>\n",
       "      <td>0.048371</td>\n",
       "      <td>-0.011993</td>\n",
       "      <td>-0.035640</td>\n",
       "      <td>-0.042799</td>\n",
       "      <td>...</td>\n",
       "      <td>-0.046572</td>\n",
       "      <td>-0.042885</td>\n",
       "      <td>-0.007790</td>\n",
       "      <td>-0.008442</td>\n",
       "      <td>-0.002114</td>\n",
       "      <td>-0.003347</td>\n",
       "      <td>-0.024517</td>\n",
       "      <td>-0.023049</td>\n",
       "      <td>-0.018268</td>\n",
       "      <td>0.035379</td>\n",
       "    </tr>\n",
       "    <tr>\n",
       "      <td>Soil_Type_12</td>\n",
       "      <td>-0.118905</td>\n",
       "      <td>-0.070209</td>\n",
       "      <td>-0.169300</td>\n",
       "      <td>0.014628</td>\n",
       "      <td>-0.044526</td>\n",
       "      <td>0.054196</td>\n",
       "      <td>0.092364</td>\n",
       "      <td>0.058469</td>\n",
       "      <td>-0.020883</td>\n",
       "      <td>0.261720</td>\n",
       "      <td>...</td>\n",
       "      <td>-0.073519</td>\n",
       "      <td>-0.067699</td>\n",
       "      <td>-0.012297</td>\n",
       "      <td>-0.013327</td>\n",
       "      <td>-0.003338</td>\n",
       "      <td>-0.005283</td>\n",
       "      <td>-0.038704</td>\n",
       "      <td>-0.036385</td>\n",
       "      <td>-0.028838</td>\n",
       "      <td>-0.023601</td>\n",
       "    </tr>\n",
       "    <tr>\n",
       "      <td>Soil_Type_13</td>\n",
       "      <td>-0.043984</td>\n",
       "      <td>0.054544</td>\n",
       "      <td>0.192423</td>\n",
       "      <td>-0.002032</td>\n",
       "      <td>0.083482</td>\n",
       "      <td>-0.054968</td>\n",
       "      <td>-0.073390</td>\n",
       "      <td>0.061922</td>\n",
       "      <td>0.052648</td>\n",
       "      <td>-0.092053</td>\n",
       "      <td>...</td>\n",
       "      <td>-0.055440</td>\n",
       "      <td>-0.051051</td>\n",
       "      <td>-0.009273</td>\n",
       "      <td>-0.010049</td>\n",
       "      <td>-0.002517</td>\n",
       "      <td>-0.003984</td>\n",
       "      <td>-0.029186</td>\n",
       "      <td>-0.027438</td>\n",
       "      <td>-0.021747</td>\n",
       "      <td>0.024404</td>\n",
       "    </tr>\n",
       "    <tr>\n",
       "      <td>Soil_Type_14</td>\n",
       "      <td>-0.080825</td>\n",
       "      <td>0.007597</td>\n",
       "      <td>0.000228</td>\n",
       "      <td>-0.038478</td>\n",
       "      <td>-0.024281</td>\n",
       "      <td>-0.033945</td>\n",
       "      <td>-0.010719</td>\n",
       "      <td>0.000969</td>\n",
       "      <td>0.009826</td>\n",
       "      <td>-0.032645</td>\n",
       "      <td>...</td>\n",
       "      <td>-0.010127</td>\n",
       "      <td>-0.009325</td>\n",
       "      <td>-0.001694</td>\n",
       "      <td>-0.001836</td>\n",
       "      <td>-0.000460</td>\n",
       "      <td>-0.000728</td>\n",
       "      <td>-0.005331</td>\n",
       "      <td>-0.005012</td>\n",
       "      <td>-0.003972</td>\n",
       "      <td>0.065562</td>\n",
       "    </tr>\n",
       "    <tr>\n",
       "      <td>Soil_Type_15</td>\n",
       "      <td>-0.007153</td>\n",
       "      <td>-0.002660</td>\n",
       "      <td>0.001081</td>\n",
       "      <td>-0.002667</td>\n",
       "      <td>-0.001744</td>\n",
       "      <td>-0.003144</td>\n",
       "      <td>-0.000522</td>\n",
       "      <td>-0.002872</td>\n",
       "      <td>-0.001120</td>\n",
       "      <td>-0.002541</td>\n",
       "      <td>...</td>\n",
       "      <td>-0.000716</td>\n",
       "      <td>-0.000660</td>\n",
       "      <td>-0.000120</td>\n",
       "      <td>-0.000130</td>\n",
       "      <td>-0.000033</td>\n",
       "      <td>-0.000051</td>\n",
       "      <td>-0.000377</td>\n",
       "      <td>-0.000355</td>\n",
       "      <td>-0.000281</td>\n",
       "      <td>0.006425</td>\n",
       "    </tr>\n",
       "    <tr>\n",
       "      <td>Soil_Type_16</td>\n",
       "      <td>-0.059446</td>\n",
       "      <td>0.007846</td>\n",
       "      <td>-0.034791</td>\n",
       "      <td>-0.067448</td>\n",
       "      <td>-0.050909</td>\n",
       "      <td>0.018083</td>\n",
       "      <td>-0.006590</td>\n",
       "      <td>0.015544</td>\n",
       "      <td>0.019312</td>\n",
       "      <td>0.073795</td>\n",
       "      <td>...</td>\n",
       "      <td>-0.022113</td>\n",
       "      <td>-0.020363</td>\n",
       "      <td>-0.003699</td>\n",
       "      <td>-0.004008</td>\n",
       "      <td>-0.001004</td>\n",
       "      <td>-0.001589</td>\n",
       "      <td>-0.011641</td>\n",
       "      <td>-0.010944</td>\n",
       "      <td>-0.008674</td>\n",
       "      <td>0.009844</td>\n",
       "    </tr>\n",
       "    <tr>\n",
       "      <td>Soil_Type_17</td>\n",
       "      <td>-0.111028</td>\n",
       "      <td>-0.000168</td>\n",
       "      <td>-0.040208</td>\n",
       "      <td>-0.071435</td>\n",
       "      <td>-0.054191</td>\n",
       "      <td>-0.051825</td>\n",
       "      <td>0.004700</td>\n",
       "      <td>0.028664</td>\n",
       "      <td>0.016858</td>\n",
       "      <td>-0.021689</td>\n",
       "      <td>...</td>\n",
       "      <td>-0.024264</td>\n",
       "      <td>-0.022344</td>\n",
       "      <td>-0.004059</td>\n",
       "      <td>-0.004398</td>\n",
       "      <td>-0.001102</td>\n",
       "      <td>-0.001744</td>\n",
       "      <td>-0.012774</td>\n",
       "      <td>-0.012009</td>\n",
       "      <td>-0.009518</td>\n",
       "      <td>0.090582</td>\n",
       "    </tr>\n",
       "    <tr>\n",
       "      <td>Soil_Type_18</td>\n",
       "      <td>-0.081811</td>\n",
       "      <td>-0.028353</td>\n",
       "      <td>-0.045851</td>\n",
       "      <td>-0.013340</td>\n",
       "      <td>-0.031692</td>\n",
       "      <td>-0.051243</td>\n",
       "      <td>0.031293</td>\n",
       "      <td>0.015170</td>\n",
       "      <td>-0.011445</td>\n",
       "      <td>0.107228</td>\n",
       "      <td>...</td>\n",
       "      <td>-0.018052</td>\n",
       "      <td>-0.016623</td>\n",
       "      <td>-0.003020</td>\n",
       "      <td>-0.003272</td>\n",
       "      <td>-0.000820</td>\n",
       "      <td>-0.001297</td>\n",
       "      <td>-0.009503</td>\n",
       "      <td>-0.008934</td>\n",
       "      <td>-0.007081</td>\n",
       "      <td>0.007390</td>\n",
       "    </tr>\n",
       "    <tr>\n",
       "      <td>Soil_Type_19</td>\n",
       "      <td>0.033144</td>\n",
       "      <td>-0.003635</td>\n",
       "      <td>-0.083743</td>\n",
       "      <td>-0.043236</td>\n",
       "      <td>-0.055635</td>\n",
       "      <td>0.068758</td>\n",
       "      <td>0.017103</td>\n",
       "      <td>0.037140</td>\n",
       "      <td>0.016273</td>\n",
       "      <td>0.006165</td>\n",
       "      <td>...</td>\n",
       "      <td>-0.026316</td>\n",
       "      <td>-0.024233</td>\n",
       "      <td>-0.004402</td>\n",
       "      <td>-0.004770</td>\n",
       "      <td>-0.001195</td>\n",
       "      <td>-0.001891</td>\n",
       "      <td>-0.013854</td>\n",
       "      <td>-0.013024</td>\n",
       "      <td>-0.010323</td>\n",
       "      <td>-0.036452</td>\n",
       "    </tr>\n",
       "    <tr>\n",
       "      <td>Soil_Type_20</td>\n",
       "      <td>-0.043128</td>\n",
       "      <td>-0.029440</td>\n",
       "      <td>-0.077582</td>\n",
       "      <td>-0.078088</td>\n",
       "      <td>-0.076727</td>\n",
       "      <td>0.056595</td>\n",
       "      <td>0.024811</td>\n",
       "      <td>0.015826</td>\n",
       "      <td>0.000494</td>\n",
       "      <td>0.108575</td>\n",
       "      <td>...</td>\n",
       "      <td>-0.040116</td>\n",
       "      <td>-0.036940</td>\n",
       "      <td>-0.006710</td>\n",
       "      <td>-0.007272</td>\n",
       "      <td>-0.001821</td>\n",
       "      <td>-0.002883</td>\n",
       "      <td>-0.021119</td>\n",
       "      <td>-0.019854</td>\n",
       "      <td>-0.015736</td>\n",
       "      <td>-0.028665</td>\n",
       "    </tr>\n",
       "    <tr>\n",
       "      <td>Soil_Type_21</td>\n",
       "      <td>0.017557</td>\n",
       "      <td>0.032998</td>\n",
       "      <td>-0.025461</td>\n",
       "      <td>-0.039953</td>\n",
       "      <td>-0.026116</td>\n",
       "      <td>-0.014890</td>\n",
       "      <td>-0.014162</td>\n",
       "      <td>0.029727</td>\n",
       "      <td>0.031423</td>\n",
       "      <td>-0.024113</td>\n",
       "      <td>...</td>\n",
       "      <td>-0.011981</td>\n",
       "      <td>-0.011032</td>\n",
       "      <td>-0.002004</td>\n",
       "      <td>-0.002172</td>\n",
       "      <td>-0.000544</td>\n",
       "      <td>-0.000861</td>\n",
       "      <td>-0.006307</td>\n",
       "      <td>-0.005929</td>\n",
       "      <td>-0.004699</td>\n",
       "      <td>-0.025400</td>\n",
       "    </tr>\n",
       "    <tr>\n",
       "      <td>Soil_Type_22</td>\n",
       "      <td>0.158959</td>\n",
       "      <td>0.021578</td>\n",
       "      <td>-0.053396</td>\n",
       "      <td>-0.051424</td>\n",
       "      <td>-0.075679</td>\n",
       "      <td>0.046979</td>\n",
       "      <td>0.000252</td>\n",
       "      <td>0.032096</td>\n",
       "      <td>0.027286</td>\n",
       "      <td>-0.024772</td>\n",
       "      <td>...</td>\n",
       "      <td>-0.077820</td>\n",
       "      <td>-0.071659</td>\n",
       "      <td>-0.013017</td>\n",
       "      <td>-0.014106</td>\n",
       "      <td>-0.003533</td>\n",
       "      <td>-0.005592</td>\n",
       "      <td>-0.040968</td>\n",
       "      <td>-0.038514</td>\n",
       "      <td>-0.030525</td>\n",
       "      <td>-0.141746</td>\n",
       "    </tr>\n",
       "    <tr>\n",
       "      <td>Soil_Type_23</td>\n",
       "      <td>0.124356</td>\n",
       "      <td>0.013676</td>\n",
       "      <td>-0.207397</td>\n",
       "      <td>-0.132244</td>\n",
       "      <td>-0.180098</td>\n",
       "      <td>-0.007067</td>\n",
       "      <td>0.036234</td>\n",
       "      <td>0.118746</td>\n",
       "      <td>0.063686</td>\n",
       "      <td>-0.025421</td>\n",
       "      <td>...</td>\n",
       "      <td>-0.104728</td>\n",
       "      <td>-0.096438</td>\n",
       "      <td>-0.017518</td>\n",
       "      <td>-0.018984</td>\n",
       "      <td>-0.004755</td>\n",
       "      <td>-0.007526</td>\n",
       "      <td>-0.055134</td>\n",
       "      <td>-0.051831</td>\n",
       "      <td>-0.041080</td>\n",
       "      <td>-0.135055</td>\n",
       "    </tr>\n",
       "    <tr>\n",
       "      <td>Soil_Type_24</td>\n",
       "      <td>0.053582</td>\n",
       "      <td>0.018164</td>\n",
       "      <td>0.082434</td>\n",
       "      <td>0.021927</td>\n",
       "      <td>0.037066</td>\n",
       "      <td>-0.032451</td>\n",
       "      <td>-0.112379</td>\n",
       "      <td>-0.128597</td>\n",
       "      <td>0.020953</td>\n",
       "      <td>0.007914</td>\n",
       "      <td>...</td>\n",
       "      <td>-0.061463</td>\n",
       "      <td>-0.056598</td>\n",
       "      <td>-0.010281</td>\n",
       "      <td>-0.011141</td>\n",
       "      <td>-0.002791</td>\n",
       "      <td>-0.004417</td>\n",
       "      <td>-0.032357</td>\n",
       "      <td>-0.030419</td>\n",
       "      <td>-0.024109</td>\n",
       "      <td>-0.068746</td>\n",
       "    </tr>\n",
       "    <tr>\n",
       "      <td>Soil_Type_25</td>\n",
       "      <td>0.028753</td>\n",
       "      <td>-0.003265</td>\n",
       "      <td>0.026364</td>\n",
       "      <td>0.016099</td>\n",
       "      <td>-0.013471</td>\n",
       "      <td>-0.034842</td>\n",
       "      <td>0.032783</td>\n",
       "      <td>0.007276</td>\n",
       "      <td>-0.029094</td>\n",
       "      <td>0.036232</td>\n",
       "      <td>...</td>\n",
       "      <td>-0.009008</td>\n",
       "      <td>-0.008295</td>\n",
       "      <td>-0.001507</td>\n",
       "      <td>-0.001633</td>\n",
       "      <td>-0.000409</td>\n",
       "      <td>-0.000647</td>\n",
       "      <td>-0.004742</td>\n",
       "      <td>-0.004458</td>\n",
       "      <td>-0.003533</td>\n",
       "      <td>-0.006449</td>\n",
       "    </tr>\n",
       "    <tr>\n",
       "      <td>Soil_Type_26</td>\n",
       "      <td>-0.016657</td>\n",
       "      <td>-0.010661</td>\n",
       "      <td>-0.021449</td>\n",
       "      <td>0.013408</td>\n",
       "      <td>-0.011212</td>\n",
       "      <td>0.002521</td>\n",
       "      <td>0.027388</td>\n",
       "      <td>0.041220</td>\n",
       "      <td>0.002145</td>\n",
       "      <td>0.021583</td>\n",
       "      <td>...</td>\n",
       "      <td>-0.021090</td>\n",
       "      <td>-0.019421</td>\n",
       "      <td>-0.003528</td>\n",
       "      <td>-0.003823</td>\n",
       "      <td>-0.000958</td>\n",
       "      <td>-0.001516</td>\n",
       "      <td>-0.011103</td>\n",
       "      <td>-0.010438</td>\n",
       "      <td>-0.008273</td>\n",
       "      <td>-0.000375</td>\n",
       "    </tr>\n",
       "    <tr>\n",
       "      <td>Soil_Type_27</td>\n",
       "      <td>0.035254</td>\n",
       "      <td>0.011328</td>\n",
       "      <td>0.043695</td>\n",
       "      <td>0.052384</td>\n",
       "      <td>0.067086</td>\n",
       "      <td>0.003866</td>\n",
       "      <td>0.001638</td>\n",
       "      <td>0.019941</td>\n",
       "      <td>0.000383</td>\n",
       "      <td>-0.003620</td>\n",
       "      <td>...</td>\n",
       "      <td>-0.013642</td>\n",
       "      <td>-0.012562</td>\n",
       "      <td>-0.002282</td>\n",
       "      <td>-0.002473</td>\n",
       "      <td>-0.000619</td>\n",
       "      <td>-0.000980</td>\n",
       "      <td>-0.007182</td>\n",
       "      <td>-0.006751</td>\n",
       "      <td>-0.005351</td>\n",
       "      <td>-0.014407</td>\n",
       "    </tr>\n",
       "    <tr>\n",
       "      <td>Soil_Type_28</td>\n",
       "      <td>-0.029270</td>\n",
       "      <td>0.027535</td>\n",
       "      <td>0.067052</td>\n",
       "      <td>0.026210</td>\n",
       "      <td>0.071672</td>\n",
       "      <td>-0.032749</td>\n",
       "      <td>-0.091435</td>\n",
       "      <td>-0.004998</td>\n",
       "      <td>0.059661</td>\n",
       "      <td>-0.018298</td>\n",
       "      <td>...</td>\n",
       "      <td>-0.012731</td>\n",
       "      <td>-0.011723</td>\n",
       "      <td>-0.002129</td>\n",
       "      <td>-0.002308</td>\n",
       "      <td>-0.000578</td>\n",
       "      <td>-0.000915</td>\n",
       "      <td>-0.006702</td>\n",
       "      <td>-0.006300</td>\n",
       "      <td>-0.004994</td>\n",
       "      <td>-0.001702</td>\n",
       "    </tr>\n",
       "    <tr>\n",
       "      <td>Soil_Type_29</td>\n",
       "      <td>0.074327</td>\n",
       "      <td>-0.062181</td>\n",
       "      <td>-0.082941</td>\n",
       "      <td>-0.001025</td>\n",
       "      <td>-0.075860</td>\n",
       "      <td>0.306324</td>\n",
       "      <td>0.081499</td>\n",
       "      <td>-0.017877</td>\n",
       "      <td>-0.059882</td>\n",
       "      <td>0.215194</td>\n",
       "      <td>...</td>\n",
       "      <td>-0.156809</td>\n",
       "      <td>-0.144396</td>\n",
       "      <td>-0.026229</td>\n",
       "      <td>-0.028424</td>\n",
       "      <td>-0.007120</td>\n",
       "      <td>-0.011268</td>\n",
       "      <td>-0.082551</td>\n",
       "      <td>-0.077606</td>\n",
       "      <td>-0.061509</td>\n",
       "      <td>-0.124933</td>\n",
       "    </tr>\n",
       "    <tr>\n",
       "      <td>Soil_Type_30</td>\n",
       "      <td>-0.026667</td>\n",
       "      <td>-0.028922</td>\n",
       "      <td>0.075864</td>\n",
       "      <td>-0.049960</td>\n",
       "      <td>-0.011901</td>\n",
       "      <td>0.077091</td>\n",
       "      <td>0.104003</td>\n",
       "      <td>-0.030526</td>\n",
       "      <td>-0.117380</td>\n",
       "      <td>0.054713</td>\n",
       "      <td>...</td>\n",
       "      <td>-0.073776</td>\n",
       "      <td>-0.067936</td>\n",
       "      <td>-0.012340</td>\n",
       "      <td>-0.013373</td>\n",
       "      <td>-0.003350</td>\n",
       "      <td>-0.005302</td>\n",
       "      <td>-0.038839</td>\n",
       "      <td>-0.036512</td>\n",
       "      <td>-0.028939</td>\n",
       "      <td>-0.010436</td>\n",
       "    </tr>\n",
       "    <tr>\n",
       "      <td>Soil_Type_31</td>\n",
       "      <td>0.070405</td>\n",
       "      <td>0.001763</td>\n",
       "      <td>-0.034610</td>\n",
       "      <td>0.073658</td>\n",
       "      <td>0.033609</td>\n",
       "      <td>-0.058840</td>\n",
       "      <td>-0.035114</td>\n",
       "      <td>-0.000095</td>\n",
       "      <td>0.040475</td>\n",
       "      <td>-0.066258</td>\n",
       "      <td>...</td>\n",
       "      <td>-0.067770</td>\n",
       "      <td>-0.062405</td>\n",
       "      <td>-0.011336</td>\n",
       "      <td>-0.012285</td>\n",
       "      <td>-0.003077</td>\n",
       "      <td>-0.004870</td>\n",
       "      <td>-0.035677</td>\n",
       "      <td>-0.033540</td>\n",
       "      <td>-0.026583</td>\n",
       "      <td>-0.065347</td>\n",
       "    </tr>\n",
       "    <tr>\n",
       "      <td>Soil_Type_32</td>\n",
       "      <td>0.167077</td>\n",
       "      <td>0.056233</td>\n",
       "      <td>-0.133504</td>\n",
       "      <td>0.127217</td>\n",
       "      <td>0.039762</td>\n",
       "      <td>-0.089019</td>\n",
       "      <td>0.006494</td>\n",
       "      <td>0.125395</td>\n",
       "      <td>0.083066</td>\n",
       "      <td>-0.089977</td>\n",
       "      <td>...</td>\n",
       "      <td>1.000000</td>\n",
       "      <td>-0.091509</td>\n",
       "      <td>-0.016623</td>\n",
       "      <td>-0.018014</td>\n",
       "      <td>-0.004512</td>\n",
       "      <td>-0.007141</td>\n",
       "      <td>-0.052316</td>\n",
       "      <td>-0.049182</td>\n",
       "      <td>-0.038980</td>\n",
       "      <td>-0.075562</td>\n",
       "    </tr>\n",
       "    <tr>\n",
       "      <td>Soil_Type_33</td>\n",
       "      <td>0.070633</td>\n",
       "      <td>0.019163</td>\n",
       "      <td>0.208942</td>\n",
       "      <td>0.101195</td>\n",
       "      <td>0.167091</td>\n",
       "      <td>-0.082779</td>\n",
       "      <td>-0.064381</td>\n",
       "      <td>-0.086164</td>\n",
       "      <td>-0.024393</td>\n",
       "      <td>-0.059067</td>\n",
       "      <td>...</td>\n",
       "      <td>-0.091509</td>\n",
       "      <td>1.000000</td>\n",
       "      <td>-0.015307</td>\n",
       "      <td>-0.016588</td>\n",
       "      <td>-0.004155</td>\n",
       "      <td>-0.006576</td>\n",
       "      <td>-0.048174</td>\n",
       "      <td>-0.045288</td>\n",
       "      <td>-0.035895</td>\n",
       "      <td>-0.062502</td>\n",
       "    </tr>\n",
       "    <tr>\n",
       "      <td>Soil_Type_34</td>\n",
       "      <td>0.011731</td>\n",
       "      <td>0.010861</td>\n",
       "      <td>-0.011002</td>\n",
       "      <td>0.070268</td>\n",
       "      <td>0.060274</td>\n",
       "      <td>0.006390</td>\n",
       "      <td>0.007154</td>\n",
       "      <td>0.043061</td>\n",
       "      <td>0.017757</td>\n",
       "      <td>-0.035067</td>\n",
       "      <td>...</td>\n",
       "      <td>-0.016623</td>\n",
       "      <td>-0.015307</td>\n",
       "      <td>1.000000</td>\n",
       "      <td>-0.003013</td>\n",
       "      <td>-0.000755</td>\n",
       "      <td>-0.001194</td>\n",
       "      <td>-0.008751</td>\n",
       "      <td>-0.008227</td>\n",
       "      <td>-0.006520</td>\n",
       "      <td>0.004643</td>\n",
       "    </tr>\n",
       "    <tr>\n",
       "      <td>Soil_Type_35</td>\n",
       "      <td>0.083005</td>\n",
       "      <td>-0.021991</td>\n",
       "      <td>-0.022228</td>\n",
       "      <td>-0.005231</td>\n",
       "      <td>-0.006092</td>\n",
       "      <td>-0.003000</td>\n",
       "      <td>0.027870</td>\n",
       "      <td>0.005863</td>\n",
       "      <td>-0.016482</td>\n",
       "      <td>-0.000081</td>\n",
       "      <td>...</td>\n",
       "      <td>-0.018014</td>\n",
       "      <td>-0.016588</td>\n",
       "      <td>-0.003013</td>\n",
       "      <td>1.000000</td>\n",
       "      <td>-0.000818</td>\n",
       "      <td>-0.001294</td>\n",
       "      <td>-0.009483</td>\n",
       "      <td>-0.008915</td>\n",
       "      <td>-0.007066</td>\n",
       "      <td>0.080315</td>\n",
       "    </tr>\n",
       "    <tr>\n",
       "      <td>Soil_Type_36</td>\n",
       "      <td>0.021107</td>\n",
       "      <td>0.002281</td>\n",
       "      <td>0.002918</td>\n",
       "      <td>0.033421</td>\n",
       "      <td>0.012955</td>\n",
       "      <td>0.007550</td>\n",
       "      <td>0.007865</td>\n",
       "      <td>0.016239</td>\n",
       "      <td>0.001330</td>\n",
       "      <td>-0.010595</td>\n",
       "      <td>...</td>\n",
       "      <td>-0.004512</td>\n",
       "      <td>-0.004155</td>\n",
       "      <td>-0.000755</td>\n",
       "      <td>-0.000818</td>\n",
       "      <td>1.000000</td>\n",
       "      <td>-0.000324</td>\n",
       "      <td>-0.002375</td>\n",
       "      <td>-0.002233</td>\n",
       "      <td>-0.001770</td>\n",
       "      <td>0.025397</td>\n",
       "    </tr>\n",
       "    <tr>\n",
       "      <td>Soil_Type_37</td>\n",
       "      <td>0.035433</td>\n",
       "      <td>-0.020398</td>\n",
       "      <td>0.007848</td>\n",
       "      <td>-0.006802</td>\n",
       "      <td>-0.007520</td>\n",
       "      <td>0.016313</td>\n",
       "      <td>0.010332</td>\n",
       "      <td>-0.022707</td>\n",
       "      <td>-0.022064</td>\n",
       "      <td>0.004180</td>\n",
       "      <td>...</td>\n",
       "      <td>-0.007141</td>\n",
       "      <td>-0.006576</td>\n",
       "      <td>-0.001194</td>\n",
       "      <td>-0.001294</td>\n",
       "      <td>-0.000324</td>\n",
       "      <td>1.000000</td>\n",
       "      <td>-0.003759</td>\n",
       "      <td>-0.003534</td>\n",
       "      <td>-0.002801</td>\n",
       "      <td>0.080271</td>\n",
       "    </tr>\n",
       "    <tr>\n",
       "      <td>Soil_Type_38</td>\n",
       "      <td>0.217179</td>\n",
       "      <td>0.017706</td>\n",
       "      <td>-0.072208</td>\n",
       "      <td>0.043031</td>\n",
       "      <td>-0.008629</td>\n",
       "      <td>0.079778</td>\n",
       "      <td>0.015108</td>\n",
       "      <td>0.042952</td>\n",
       "      <td>0.022187</td>\n",
       "      <td>-0.019740</td>\n",
       "      <td>...</td>\n",
       "      <td>-0.052316</td>\n",
       "      <td>-0.048174</td>\n",
       "      <td>-0.008751</td>\n",
       "      <td>-0.009483</td>\n",
       "      <td>-0.002375</td>\n",
       "      <td>-0.003759</td>\n",
       "      <td>1.000000</td>\n",
       "      <td>-0.025891</td>\n",
       "      <td>-0.020521</td>\n",
       "      <td>0.160170</td>\n",
       "    </tr>\n",
       "    <tr>\n",
       "      <td>Soil_Type_39</td>\n",
       "      <td>0.193595</td>\n",
       "      <td>0.008294</td>\n",
       "      <td>0.093602</td>\n",
       "      <td>0.031922</td>\n",
       "      <td>0.043859</td>\n",
       "      <td>0.033762</td>\n",
       "      <td>-0.029620</td>\n",
       "      <td>-0.071961</td>\n",
       "      <td>-0.029040</td>\n",
       "      <td>-0.003301</td>\n",
       "      <td>...</td>\n",
       "      <td>-0.049182</td>\n",
       "      <td>-0.045288</td>\n",
       "      <td>-0.008227</td>\n",
       "      <td>-0.008915</td>\n",
       "      <td>-0.002233</td>\n",
       "      <td>-0.003534</td>\n",
       "      <td>-0.025891</td>\n",
       "      <td>1.000000</td>\n",
       "      <td>-0.019292</td>\n",
       "      <td>0.155668</td>\n",
       "    </tr>\n",
       "    <tr>\n",
       "      <td>Soil_Type_40</td>\n",
       "      <td>0.212612</td>\n",
       "      <td>-0.005866</td>\n",
       "      <td>0.025637</td>\n",
       "      <td>0.147020</td>\n",
       "      <td>0.179006</td>\n",
       "      <td>0.016052</td>\n",
       "      <td>-0.000016</td>\n",
       "      <td>-0.040176</td>\n",
       "      <td>-0.024254</td>\n",
       "      <td>0.008915</td>\n",
       "      <td>...</td>\n",
       "      <td>-0.038980</td>\n",
       "      <td>-0.035895</td>\n",
       "      <td>-0.006520</td>\n",
       "      <td>-0.007066</td>\n",
       "      <td>-0.001770</td>\n",
       "      <td>-0.002801</td>\n",
       "      <td>-0.020521</td>\n",
       "      <td>-0.019292</td>\n",
       "      <td>1.000000</td>\n",
       "      <td>0.128351</td>\n",
       "    </tr>\n",
       "    <tr>\n",
       "      <td>Cover_Type</td>\n",
       "      <td>-0.269554</td>\n",
       "      <td>0.017080</td>\n",
       "      <td>0.148285</td>\n",
       "      <td>-0.020317</td>\n",
       "      <td>0.081664</td>\n",
       "      <td>-0.153450</td>\n",
       "      <td>-0.035415</td>\n",
       "      <td>-0.096426</td>\n",
       "      <td>-0.048290</td>\n",
       "      <td>-0.108936</td>\n",
       "      <td>...</td>\n",
       "      <td>-0.075562</td>\n",
       "      <td>-0.062502</td>\n",
       "      <td>0.004643</td>\n",
       "      <td>0.080315</td>\n",
       "      <td>0.025397</td>\n",
       "      <td>0.080271</td>\n",
       "      <td>0.160170</td>\n",
       "      <td>0.155668</td>\n",
       "      <td>0.128351</td>\n",
       "      <td>1.000000</td>\n",
       "    </tr>\n",
       "  </tbody>\n",
       "</table>\n",
       "<p>55 rows × 55 columns</p>\n",
       "</div>"
      ],
      "text/plain": [
       "                Elevation    Aspect     Slope  Hor_Dist_Hyd  Ver_Dist_Hyd  \\\n",
       "Elevation        1.000000  0.015735 -0.242697      0.306229      0.093306   \n",
       "Aspect           0.015735  1.000000  0.078728      0.017376      0.070305   \n",
       "Slope           -0.242697  0.078728  1.000000     -0.010607      0.274976   \n",
       "Hor_Dist_Hyd     0.306229  0.017376 -0.010607      1.000000      0.606236   \n",
       "Ver_Dist_Hyd     0.093306  0.070305  0.274976      0.606236      1.000000   \n",
       "Hor_Dist_Road    0.365559  0.025121 -0.215914      0.072030     -0.046372   \n",
       "Hillshade_9am    0.112179 -0.579273 -0.327199     -0.027088     -0.166333   \n",
       "Hillshade_noon   0.205887  0.336103 -0.526911      0.046790     -0.110957   \n",
       "Hillshade_3pm    0.059148  0.646944 -0.175854      0.052330      0.034902   \n",
       "Hor_Dist_Fire    0.148022 -0.109172 -0.185662      0.051874     -0.069913   \n",
       "WA_1             0.131838 -0.140123 -0.234576     -0.097124     -0.180710   \n",
       "WA_2             0.238164  0.055988 -0.036253      0.055726     -0.008709   \n",
       "WA_3             0.066550  0.074904  0.125663      0.122028      0.146839   \n",
       "WA_4            -0.619374  0.082687  0.255503     -0.100433      0.077792   \n",
       "Soil_Type_1     -0.204512 -0.007574  0.107847     -0.035096      0.015275   \n",
       "Soil_Type_2     -0.187677 -0.005649 -0.018553     -0.011569      0.008954   \n",
       "Soil_Type_3     -0.182463 -0.002730  0.125497     -0.041211      0.008863   \n",
       "Soil_Type_4     -0.183521  0.017212  0.131847     -0.049071      0.025066   \n",
       "Soil_Type_5     -0.150376  0.008938  0.072311     -0.009370      0.026772   \n",
       "Soil_Type_6     -0.214606  0.010766  0.003673     -0.012916      0.046259   \n",
       "Soil_Type_7     -0.002252 -0.005052 -0.015661      0.004751     -0.008485   \n",
       "Soil_Type_8     -0.003021 -0.003366 -0.023359     -0.000795     -0.012915   \n",
       "Soil_Type_9     -0.060915 -0.020800 -0.032752     -0.021935     -0.028476   \n",
       "Soil_Type_10    -0.428746  0.049835  0.244037     -0.071653      0.055154   \n",
       "Soil_Type_11    -0.134227 -0.064344 -0.050894      0.001399     -0.020870   \n",
       "Soil_Type_12    -0.118905 -0.070209 -0.169300      0.014628     -0.044526   \n",
       "Soil_Type_13    -0.043984  0.054544  0.192423     -0.002032      0.083482   \n",
       "Soil_Type_14    -0.080825  0.007597  0.000228     -0.038478     -0.024281   \n",
       "Soil_Type_15    -0.007153 -0.002660  0.001081     -0.002667     -0.001744   \n",
       "Soil_Type_16    -0.059446  0.007846 -0.034791     -0.067448     -0.050909   \n",
       "Soil_Type_17    -0.111028 -0.000168 -0.040208     -0.071435     -0.054191   \n",
       "Soil_Type_18    -0.081811 -0.028353 -0.045851     -0.013340     -0.031692   \n",
       "Soil_Type_19     0.033144 -0.003635 -0.083743     -0.043236     -0.055635   \n",
       "Soil_Type_20    -0.043128 -0.029440 -0.077582     -0.078088     -0.076727   \n",
       "Soil_Type_21     0.017557  0.032998 -0.025461     -0.039953     -0.026116   \n",
       "Soil_Type_22     0.158959  0.021578 -0.053396     -0.051424     -0.075679   \n",
       "Soil_Type_23     0.124356  0.013676 -0.207397     -0.132244     -0.180098   \n",
       "Soil_Type_24     0.053582  0.018164  0.082434      0.021927      0.037066   \n",
       "Soil_Type_25     0.028753 -0.003265  0.026364      0.016099     -0.013471   \n",
       "Soil_Type_26    -0.016657 -0.010661 -0.021449      0.013408     -0.011212   \n",
       "Soil_Type_27     0.035254  0.011328  0.043695      0.052384      0.067086   \n",
       "Soil_Type_28    -0.029270  0.027535  0.067052      0.026210      0.071672   \n",
       "Soil_Type_29     0.074327 -0.062181 -0.082941     -0.001025     -0.075860   \n",
       "Soil_Type_30    -0.026667 -0.028922  0.075864     -0.049960     -0.011901   \n",
       "Soil_Type_31     0.070405  0.001763 -0.034610      0.073658      0.033609   \n",
       "Soil_Type_32     0.167077  0.056233 -0.133504      0.127217      0.039762   \n",
       "Soil_Type_33     0.070633  0.019163  0.208942      0.101195      0.167091   \n",
       "Soil_Type_34     0.011731  0.010861 -0.011002      0.070268      0.060274   \n",
       "Soil_Type_35     0.083005 -0.021991 -0.022228     -0.005231     -0.006092   \n",
       "Soil_Type_36     0.021107  0.002281  0.002918      0.033421      0.012955   \n",
       "Soil_Type_37     0.035433 -0.020398  0.007848     -0.006802     -0.007520   \n",
       "Soil_Type_38     0.217179  0.017706 -0.072208      0.043031     -0.008629   \n",
       "Soil_Type_39     0.193595  0.008294  0.093602      0.031922      0.043859   \n",
       "Soil_Type_40     0.212612 -0.005866  0.025637      0.147020      0.179006   \n",
       "Cover_Type      -0.269554  0.017080  0.148285     -0.020317      0.081664   \n",
       "\n",
       "                Hor_Dist_Road  Hillshade_9am  Hillshade_noon  Hillshade_3pm  \\\n",
       "Elevation            0.365559       0.112179        0.205887       0.059148   \n",
       "Aspect               0.025121      -0.579273        0.336103       0.646944   \n",
       "Slope               -0.215914      -0.327199       -0.526911      -0.175854   \n",
       "Hor_Dist_Hyd         0.072030      -0.027088        0.046790       0.052330   \n",
       "Ver_Dist_Hyd        -0.046372      -0.166333       -0.110957       0.034902   \n",
       "Hor_Dist_Road        1.000000       0.034349        0.189461       0.106119   \n",
       "Hillshade_9am        0.034349       1.000000        0.010037      -0.780296   \n",
       "Hillshade_noon       0.189461       0.010037        1.000000       0.594274   \n",
       "Hillshade_3pm        0.106119      -0.780296        0.594274       1.000000   \n",
       "Hor_Dist_Fire        0.331580       0.132669        0.057329      -0.047981   \n",
       "WA_1                 0.453913       0.201299        0.028728      -0.115155   \n",
       "WA_2                -0.200411      -0.006181        0.042392       0.034707   \n",
       "WA_3                -0.232933      -0.100565        0.048646       0.090757   \n",
       "WA_4                -0.270349      -0.200282       -0.195733       0.018860   \n",
       "Soil_Type_1         -0.083585      -0.000937       -0.052561      -0.050157   \n",
       "Soil_Type_2         -0.088026       0.036253        0.043250      -0.005276   \n",
       "Soil_Type_3         -0.084988       0.039648        0.002702      -0.060554   \n",
       "Soil_Type_4         -0.088524       0.023812        0.084397      -0.004670   \n",
       "Soil_Type_5         -0.061607      -0.046514       -0.062044      -0.006900   \n",
       "Soil_Type_6         -0.108328      -0.005665       -0.010497      -0.000556   \n",
       "Soil_Type_7          0.020107       0.003571        0.005282       0.001852   \n",
       "Soil_Type_8          0.025805       0.005000        0.009520       0.003576   \n",
       "Soil_Type_9         -0.045813       0.021741        0.005446      -0.010428   \n",
       "Soil_Type_10        -0.182955      -0.223782       -0.245854       0.019923   \n",
       "Soil_Type_11        -0.099293       0.048371       -0.011993      -0.035640   \n",
       "Soil_Type_12         0.054196       0.092364        0.058469      -0.020883   \n",
       "Soil_Type_13        -0.054968      -0.073390        0.061922       0.052648   \n",
       "Soil_Type_14        -0.033945      -0.010719        0.000969       0.009826   \n",
       "Soil_Type_15        -0.003144      -0.000522       -0.002872      -0.001120   \n",
       "Soil_Type_16         0.018083      -0.006590        0.015544       0.019312   \n",
       "Soil_Type_17        -0.051825       0.004700        0.028664       0.016858   \n",
       "Soil_Type_18        -0.051243       0.031293        0.015170      -0.011445   \n",
       "Soil_Type_19         0.068758       0.017103        0.037140       0.016273   \n",
       "Soil_Type_20         0.056595       0.024811        0.015826       0.000494   \n",
       "Soil_Type_21        -0.014890      -0.014162        0.029727       0.031423   \n",
       "Soil_Type_22         0.046979       0.000252        0.032096       0.027286   \n",
       "Soil_Type_23        -0.007067       0.036234        0.118746       0.063686   \n",
       "Soil_Type_24        -0.032451      -0.112379       -0.128597       0.020953   \n",
       "Soil_Type_25        -0.034842       0.032783        0.007276      -0.029094   \n",
       "Soil_Type_26         0.002521       0.027388        0.041220       0.002145   \n",
       "Soil_Type_27         0.003866       0.001638        0.019941       0.000383   \n",
       "Soil_Type_28        -0.032749      -0.091435       -0.004998       0.059661   \n",
       "Soil_Type_29         0.306324       0.081499       -0.017877      -0.059882   \n",
       "Soil_Type_30         0.077091       0.104003       -0.030526      -0.117380   \n",
       "Soil_Type_31        -0.058840      -0.035114       -0.000095       0.040475   \n",
       "Soil_Type_32        -0.089019       0.006494        0.125395       0.083066   \n",
       "Soil_Type_33        -0.082779      -0.064381       -0.086164      -0.024393   \n",
       "Soil_Type_34         0.006390       0.007154        0.043061       0.017757   \n",
       "Soil_Type_35        -0.003000       0.027870        0.005863      -0.016482   \n",
       "Soil_Type_36         0.007550       0.007865        0.016239       0.001330   \n",
       "Soil_Type_37         0.016313       0.010332       -0.022707      -0.022064   \n",
       "Soil_Type_38         0.079778       0.015108        0.042952       0.022187   \n",
       "Soil_Type_39         0.033762      -0.029620       -0.071961      -0.029040   \n",
       "Soil_Type_40         0.016052      -0.000016       -0.040176      -0.024254   \n",
       "Cover_Type          -0.153450      -0.035415       -0.096426      -0.048290   \n",
       "\n",
       "                Hor_Dist_Fire  ...  Soil_Type_32  Soil_Type_33  Soil_Type_34  \\\n",
       "Elevation            0.148022  ...      0.167077      0.070633      0.011731   \n",
       "Aspect              -0.109172  ...      0.056233      0.019163      0.010861   \n",
       "Slope               -0.185662  ...     -0.133504      0.208942     -0.011002   \n",
       "Hor_Dist_Hyd         0.051874  ...      0.127217      0.101195      0.070268   \n",
       "Ver_Dist_Hyd        -0.069913  ...      0.039762      0.167091      0.060274   \n",
       "Hor_Dist_Road        0.331580  ...     -0.089019     -0.082779      0.006390   \n",
       "Hillshade_9am        0.132669  ...      0.006494     -0.064381      0.007154   \n",
       "Hillshade_noon       0.057329  ...      0.125395     -0.086164      0.043061   \n",
       "Hillshade_3pm       -0.047981  ...      0.083066     -0.024393      0.017757   \n",
       "Hor_Dist_Fire        1.000000  ...     -0.089977     -0.059067     -0.035067   \n",
       "WA_1                 0.380568  ...     -0.284490     -0.261970     -0.047587   \n",
       "WA_2                 0.027473  ...      0.028797      0.014393     -0.012279   \n",
       "WA_3                -0.277510  ...      0.312961      0.293588      0.059964   \n",
       "WA_4                -0.236548  ...     -0.082174     -0.075669     -0.013745   \n",
       "Soil_Type_1         -0.073607  ...     -0.022828     -0.021021     -0.003819   \n",
       "Soil_Type_2         -0.081716  ...     -0.036110     -0.033252     -0.006040   \n",
       "Soil_Type_3         -0.076340  ...     -0.028841     -0.026558     -0.004824   \n",
       "Soil_Type_4         -0.076478  ...     -0.046545     -0.042860     -0.007786   \n",
       "Soil_Type_5         -0.051845  ...     -0.016550     -0.015240     -0.002768   \n",
       "Soil_Type_6         -0.087305  ...     -0.033726     -0.031056     -0.005641   \n",
       "Soil_Type_7          0.028390  ...     -0.004238     -0.003903     -0.000709   \n",
       "Soil_Type_8          0.032796  ...     -0.005534     -0.005096     -0.000926   \n",
       "Soil_Type_9         -0.036639  ...     -0.014020     -0.012910     -0.002345   \n",
       "Soil_Type_10        -0.175974  ...     -0.076901     -0.070814     -0.012863   \n",
       "Soil_Type_11        -0.042799  ...     -0.046572     -0.042885     -0.007790   \n",
       "Soil_Type_12         0.261720  ...     -0.073519     -0.067699     -0.012297   \n",
       "Soil_Type_13        -0.092053  ...     -0.055440     -0.051051     -0.009273   \n",
       "Soil_Type_14        -0.032645  ...     -0.010127     -0.009325     -0.001694   \n",
       "Soil_Type_15        -0.002541  ...     -0.000716     -0.000660     -0.000120   \n",
       "Soil_Type_16         0.073795  ...     -0.022113     -0.020363     -0.003699   \n",
       "Soil_Type_17        -0.021689  ...     -0.024264     -0.022344     -0.004059   \n",
       "Soil_Type_18         0.107228  ...     -0.018052     -0.016623     -0.003020   \n",
       "Soil_Type_19         0.006165  ...     -0.026316     -0.024233     -0.004402   \n",
       "Soil_Type_20         0.108575  ...     -0.040116     -0.036940     -0.006710   \n",
       "Soil_Type_21        -0.024113  ...     -0.011981     -0.011032     -0.002004   \n",
       "Soil_Type_22        -0.024772  ...     -0.077820     -0.071659     -0.013017   \n",
       "Soil_Type_23        -0.025421  ...     -0.104728     -0.096438     -0.017518   \n",
       "Soil_Type_24         0.007914  ...     -0.061463     -0.056598     -0.010281   \n",
       "Soil_Type_25         0.036232  ...     -0.009008     -0.008295     -0.001507   \n",
       "Soil_Type_26         0.021583  ...     -0.021090     -0.019421     -0.003528   \n",
       "Soil_Type_27        -0.003620  ...     -0.013642     -0.012562     -0.002282   \n",
       "Soil_Type_28        -0.018298  ...     -0.012731     -0.011723     -0.002129   \n",
       "Soil_Type_29         0.215194  ...     -0.156809     -0.144396     -0.026229   \n",
       "Soil_Type_30         0.054713  ...     -0.073776     -0.067936     -0.012340   \n",
       "Soil_Type_31        -0.066258  ...     -0.067770     -0.062405     -0.011336   \n",
       "Soil_Type_32        -0.089977  ...      1.000000     -0.091509     -0.016623   \n",
       "Soil_Type_33        -0.059067  ...     -0.091509      1.000000     -0.015307   \n",
       "Soil_Type_34        -0.035067  ...     -0.016623     -0.015307      1.000000   \n",
       "Soil_Type_35        -0.000081  ...     -0.018014     -0.016588     -0.003013   \n",
       "Soil_Type_36        -0.010595  ...     -0.004512     -0.004155     -0.000755   \n",
       "Soil_Type_37         0.004180  ...     -0.007141     -0.006576     -0.001194   \n",
       "Soil_Type_38        -0.019740  ...     -0.052316     -0.048174     -0.008751   \n",
       "Soil_Type_39        -0.003301  ...     -0.049182     -0.045288     -0.008227   \n",
       "Soil_Type_40         0.008915  ...     -0.038980     -0.035895     -0.006520   \n",
       "Cover_Type          -0.108936  ...     -0.075562     -0.062502      0.004643   \n",
       "\n",
       "                Soil_Type_35  Soil_Type_36  Soil_Type_37  Soil_Type_38  \\\n",
       "Elevation           0.083005      0.021107      0.035433      0.217179   \n",
       "Aspect             -0.021991      0.002281     -0.020398      0.017706   \n",
       "Slope              -0.022228      0.002918      0.007848     -0.072208   \n",
       "Hor_Dist_Hyd       -0.005231      0.033421     -0.006802      0.043031   \n",
       "Ver_Dist_Hyd       -0.006092      0.012955     -0.007520     -0.008629   \n",
       "Hor_Dist_Road      -0.003000      0.007550      0.016313      0.079778   \n",
       "Hillshade_9am       0.027870      0.007865      0.010332      0.015108   \n",
       "Hillshade_noon      0.005863      0.016239     -0.022707      0.042952   \n",
       "Hillshade_3pm      -0.016482      0.001330     -0.022064      0.022187   \n",
       "Hor_Dist_Fire      -0.000081     -0.010595      0.004180     -0.019740   \n",
       "WA_1               -0.011714     -0.012917      0.015014      0.011073   \n",
       "WA_2                0.055508     -0.003333     -0.005275      0.061369   \n",
       "WA_3               -0.005644      0.016276     -0.009803     -0.017148   \n",
       "WA_4               -0.014896     -0.003731     -0.005905     -0.043260   \n",
       "Soil_Type_1        -0.004138     -0.001036     -0.001640     -0.012018   \n",
       "Soil_Type_2        -0.006546     -0.001640     -0.002595     -0.019010   \n",
       "Soil_Type_3        -0.005228     -0.001309     -0.002073     -0.015183   \n",
       "Soil_Type_4        -0.008437     -0.002113     -0.003345     -0.024503   \n",
       "Soil_Type_5        -0.003000     -0.000751     -0.001189     -0.008713   \n",
       "Soil_Type_6        -0.006113     -0.001531     -0.002424     -0.017755   \n",
       "Soil_Type_7        -0.000768     -0.000192     -0.000305     -0.002231   \n",
       "Soil_Type_8        -0.001003     -0.000251     -0.000398     -0.002913   \n",
       "Soil_Type_9        -0.002541     -0.000637     -0.001008     -0.007381   \n",
       "Soil_Type_10       -0.013940     -0.003492     -0.005526     -0.040484   \n",
       "Soil_Type_11       -0.008442     -0.002114     -0.003347     -0.024517   \n",
       "Soil_Type_12       -0.013327     -0.003338     -0.005283     -0.038704   \n",
       "Soil_Type_13       -0.010049     -0.002517     -0.003984     -0.029186   \n",
       "Soil_Type_14       -0.001836     -0.000460     -0.000728     -0.005331   \n",
       "Soil_Type_15       -0.000130     -0.000033     -0.000051     -0.000377   \n",
       "Soil_Type_16       -0.004008     -0.001004     -0.001589     -0.011641   \n",
       "Soil_Type_17       -0.004398     -0.001102     -0.001744     -0.012774   \n",
       "Soil_Type_18       -0.003272     -0.000820     -0.001297     -0.009503   \n",
       "Soil_Type_19       -0.004770     -0.001195     -0.001891     -0.013854   \n",
       "Soil_Type_20       -0.007272     -0.001821     -0.002883     -0.021119   \n",
       "Soil_Type_21       -0.002172     -0.000544     -0.000861     -0.006307   \n",
       "Soil_Type_22       -0.014106     -0.003533     -0.005592     -0.040968   \n",
       "Soil_Type_23       -0.018984     -0.004755     -0.007526     -0.055134   \n",
       "Soil_Type_24       -0.011141     -0.002791     -0.004417     -0.032357   \n",
       "Soil_Type_25       -0.001633     -0.000409     -0.000647     -0.004742   \n",
       "Soil_Type_26       -0.003823     -0.000958     -0.001516     -0.011103   \n",
       "Soil_Type_27       -0.002473     -0.000619     -0.000980     -0.007182   \n",
       "Soil_Type_28       -0.002308     -0.000578     -0.000915     -0.006702   \n",
       "Soil_Type_29       -0.028424     -0.007120     -0.011268     -0.082551   \n",
       "Soil_Type_30       -0.013373     -0.003350     -0.005302     -0.038839   \n",
       "Soil_Type_31       -0.012285     -0.003077     -0.004870     -0.035677   \n",
       "Soil_Type_32       -0.018014     -0.004512     -0.007141     -0.052316   \n",
       "Soil_Type_33       -0.016588     -0.004155     -0.006576     -0.048174   \n",
       "Soil_Type_34       -0.003013     -0.000755     -0.001194     -0.008751   \n",
       "Soil_Type_35        1.000000     -0.000818     -0.001294     -0.009483   \n",
       "Soil_Type_36       -0.000818      1.000000     -0.000324     -0.002375   \n",
       "Soil_Type_37       -0.001294     -0.000324      1.000000     -0.003759   \n",
       "Soil_Type_38       -0.009483     -0.002375     -0.003759      1.000000   \n",
       "Soil_Type_39       -0.008915     -0.002233     -0.003534     -0.025891   \n",
       "Soil_Type_40       -0.007066     -0.001770     -0.002801     -0.020521   \n",
       "Cover_Type          0.080315      0.025397      0.080271      0.160170   \n",
       "\n",
       "                Soil_Type_39  Soil_Type_40  Cover_Type  \n",
       "Elevation           0.193595      0.212612   -0.269554  \n",
       "Aspect              0.008294     -0.005866    0.017080  \n",
       "Slope               0.093602      0.025637    0.148285  \n",
       "Hor_Dist_Hyd        0.031922      0.147020   -0.020317  \n",
       "Ver_Dist_Hyd        0.043859      0.179006    0.081664  \n",
       "Hor_Dist_Road       0.033762      0.016052   -0.153450  \n",
       "Hillshade_9am      -0.029620     -0.000016   -0.035415  \n",
       "Hillshade_noon     -0.071961     -0.040176   -0.096426  \n",
       "Hillshade_3pm      -0.029040     -0.024254   -0.048290  \n",
       "Hor_Dist_Fire      -0.003301      0.008915   -0.108936  \n",
       "WA_1                0.012745      0.011974   -0.203913  \n",
       "WA_2                0.011301      0.105050   -0.048059  \n",
       "WA_3                0.002201     -0.042936    0.066846  \n",
       "WA_4               -0.040669     -0.032233    0.323200  \n",
       "Soil_Type_1        -0.011298     -0.008955    0.090828  \n",
       "Soil_Type_2        -0.017871     -0.014164    0.118135  \n",
       "Soil_Type_3        -0.014274     -0.011313    0.068064  \n",
       "Soil_Type_4        -0.023035     -0.018257    0.099672  \n",
       "Soil_Type_5        -0.008191     -0.006492    0.077890  \n",
       "Soil_Type_6        -0.016691     -0.013229    0.112958  \n",
       "Soil_Type_7        -0.002098     -0.001662   -0.000496  \n",
       "Soil_Type_8        -0.002739     -0.002171   -0.003667  \n",
       "Soil_Type_9        -0.006939     -0.005500   -0.006110  \n",
       "Soil_Type_10       -0.038059     -0.030165    0.243876  \n",
       "Soil_Type_11       -0.023049     -0.018268    0.035379  \n",
       "Soil_Type_12       -0.036385     -0.028838   -0.023601  \n",
       "Soil_Type_13       -0.027438     -0.021747    0.024404  \n",
       "Soil_Type_14       -0.005012     -0.003972    0.065562  \n",
       "Soil_Type_15       -0.000355     -0.000281    0.006425  \n",
       "Soil_Type_16       -0.010944     -0.008674    0.009844  \n",
       "Soil_Type_17       -0.012009     -0.009518    0.090582  \n",
       "Soil_Type_18       -0.008934     -0.007081    0.007390  \n",
       "Soil_Type_19       -0.013024     -0.010323   -0.036452  \n",
       "Soil_Type_20       -0.019854     -0.015736   -0.028665  \n",
       "Soil_Type_21       -0.005929     -0.004699   -0.025400  \n",
       "Soil_Type_22       -0.038514     -0.030525   -0.141746  \n",
       "Soil_Type_23       -0.051831     -0.041080   -0.135055  \n",
       "Soil_Type_24       -0.030419     -0.024109   -0.068746  \n",
       "Soil_Type_25       -0.004458     -0.003533   -0.006449  \n",
       "Soil_Type_26       -0.010438     -0.008273   -0.000375  \n",
       "Soil_Type_27       -0.006751     -0.005351   -0.014407  \n",
       "Soil_Type_28       -0.006300     -0.004994   -0.001702  \n",
       "Soil_Type_29       -0.077606     -0.061509   -0.124933  \n",
       "Soil_Type_30       -0.036512     -0.028939   -0.010436  \n",
       "Soil_Type_31       -0.033540     -0.026583   -0.065347  \n",
       "Soil_Type_32       -0.049182     -0.038980   -0.075562  \n",
       "Soil_Type_33       -0.045288     -0.035895   -0.062502  \n",
       "Soil_Type_34       -0.008227     -0.006520    0.004643  \n",
       "Soil_Type_35       -0.008915     -0.007066    0.080315  \n",
       "Soil_Type_36       -0.002233     -0.001770    0.025397  \n",
       "Soil_Type_37       -0.003534     -0.002801    0.080271  \n",
       "Soil_Type_38       -0.025891     -0.020521    0.160170  \n",
       "Soil_Type_39        1.000000     -0.019292    0.155668  \n",
       "Soil_Type_40       -0.019292      1.000000    0.128351  \n",
       "Cover_Type          0.155668      0.128351    1.000000  \n",
       "\n",
       "[55 rows x 55 columns]"
      ]
     },
     "execution_count": 11,
     "metadata": {},
     "output_type": "execute_result"
    }
   ],
   "source": [
    "# View correlation matrix\n",
    "df.corr()"
   ]
  },
  {
   "cell_type": "code",
   "execution_count": 12,
   "metadata": {
    "ExecuteTime": {
     "end_time": "2019-11-22T15:30:01.836937Z",
     "start_time": "2019-11-22T15:29:57.500082Z"
    },
    "colab": {},
    "colab_type": "code",
    "id": "ii8svOSkHYUr",
    "outputId": "e3ac55d8-4323-485a-d409-8eb23c8ec7ad"
   },
   "outputs": [
    {
     "data": {
      "image/png": "[encoded data removed]",
      "text/plain": [
       "<Figure size 864x720 with 2 Axes>"
      ]
     },
     "metadata": {
      "needs_background": "light"
     },
     "output_type": "display_data"
    }
   ],
   "source": [
    "# Correlation heatmap\n",
    "plt.figure(figsize=(12,10))\n",
    "sns.heatmap(df.corr());"
   ]
  },
  {
   "cell_type": "markdown",
   "metadata": {
    "colab_type": "text",
    "id": "ym7xiXCkHYUt"
   },
   "source": [
    "It looks like +/-0.6 is about the strongest correlation among any two variables. If it were 0.8, I would be worried about multicollinearity, but I don't think 0.6 poses a real problem. At any rate, the Principal Components Analysis I'll do later will remove any multicollinearity.\n",
    "\n",
    "I suspect that not all of these features are useful for prediction (especially all those soil types). To test this, I will run a quick Random Forest model and look at the feature importances. If a number of features seem really unimportant for prediction, I can combine/eliminate them using Principal Components Analysis."
   ]
  },
  {
   "cell_type": "code",
   "execution_count": 13,
   "metadata": {
    "ExecuteTime": {
     "end_time": "2019-11-22T15:30:47.516471Z",
     "start_time": "2019-11-22T15:30:47.258362Z"
    },
    "colab": {},
    "colab_type": "code",
    "id": "Amj1NipTHYUu",
    "outputId": "c40b4c48-a734-447d-d02d-d77f14c4cf2c"
   },
   "outputs": [
    {
     "name": "stderr",
     "output_type": "stream",
     "text": [
      "/Users/jennykreiger/anaconda3/envs/learn-env/lib/python3.6/site-packages/sklearn/ensemble/forest.py:246: FutureWarning: The default value of n_estimators will change from 10 in version 0.20 to 100 in 0.22.\n",
      "  \"10 in version 0.20 to 100 in 0.22.\", FutureWarning)\n"
     ]
    },
    {
     "data": {
      "text/plain": [
       "RandomForestClassifier(bootstrap=True, class_weight=None, criterion='gini',\n",
       "            max_depth=None, max_features='auto', max_leaf_nodes=None,\n",
       "            min_impurity_decrease=0.0, min_impurity_split=None,\n",
       "            min_samples_leaf=1, min_samples_split=2,\n",
       "            min_weight_fraction_leaf=0.0, n_estimators=10, n_jobs=None,\n",
       "            oob_score=False, random_state=None, verbose=0,\n",
       "            warm_start=False)"
      ]
     },
     "execution_count": 13,
     "metadata": {},
     "output_type": "execute_result"
    }
   ],
   "source": [
    "# Get a random sample of observations for testing\n",
    "quick_sample = df.sample(10000, random_state=1)\n",
    "quick_sample_y = quick_sample['Cover_Type']\n",
    "quick_sample_x = quick_sample.drop('Cover_Type', axis=1)\n",
    "\n",
    "# Create and fit a Random Forest classifier to the quick sample data\n",
    "trial_forest = RandomForestClassifier()\n",
    "trial_forest.fit(quick_sample_x, quick_sample_y)"
   ]
  },
  {
   "cell_type": "code",
   "execution_count": 14,
   "metadata": {
    "ExecuteTime": {
     "end_time": "2019-11-22T15:30:49.463798Z",
     "start_time": "2019-11-22T15:30:48.068640Z"
    },
    "colab": {},
    "colab_type": "code",
    "id": "kli0Gi-LHYUx",
    "outputId": "8042f05d-8638-42bc-a03f-18f7becc74e3",
    "scrolled": false
   },
   "outputs": [
    {
     "name": "stdout",
     "output_type": "stream",
     "text": [
      "0.9903\n"
     ]
    },
    {
     "data": {
      "image/png": "[encoded data removed]",
      "text/plain": [
       "<Figure size 576x720 with 1 Axes>"
      ]
     },
     "metadata": {
      "needs_background": "light"
     },
     "output_type": "display_data"
    }
   ],
   "source": [
    "# Visualize the feature importances from the Random Forest trial\n",
    "print(trial_forest.score(quick_sample_x, quick_sample_y))\n",
    "n_features = quick_sample_x.shape[1]\n",
    "plt.figure(figsize=(8,10))\n",
    "plt.barh(range(n_features), trial_forest.feature_importances_, align='center') \n",
    "plt.yticks(np.arange(n_features), quick_sample_x.columns) \n",
    "plt.xlabel(\"Feature importance\")\n",
    "plt.ylabel(\"Feature (Component)\")\n",
    "plt.title('Feature Importances');"
   ]
  },
  {
   "cell_type": "markdown",
   "metadata": {
    "ExecuteTime": {
     "end_time": "2019-11-21T16:23:29.432257Z",
     "start_time": "2019-11-21T16:23:29.422831Z"
    },
    "colab_type": "text",
    "id": "Tt9NOVj6HYUz"
   },
   "source": [
    "Judging by this quick-and-dirty analysis, there may be about 14 features (all of them soil types) that have little importance for prediction. Rather than identify and eliminate them manually, I will use Principal Components Analysis (below) to reduce the dimensions of the dataset to 40."
   ]
  },
  {
   "cell_type": "markdown",
   "metadata": {
    "colab_type": "text",
    "id": "Hb5a9NIwqkfi"
   },
   "source": [
    "# Preprocessing"
   ]
  },
  {
   "cell_type": "markdown",
   "metadata": {
    "colab_type": "text",
    "id": "YM7cb0XkZ3xZ"
   },
   "source": [
    "In this section I manipulate the data to prepare it for modeling."
   ]
  },
  {
   "cell_type": "markdown",
   "metadata": {
    "colab_type": "text",
    "id": "F5I9owJ4qkfj"
   },
   "source": [
    "## Train-validation-test split"
   ]
  },
  {
   "cell_type": "markdown",
   "metadata": {
    "colab_type": "text",
    "id": "gEjap80BZ9-x"
   },
   "source": [
    "First up is the train-test split. Note that I am actually making two splits. First, I take 80% of the total dataset to use as my training data. Then I take the remaining 20% of the original dataset and devote half of that to validation and half to be used as a true holdout set, which I will only use to evaluate the final versions of each of my models.\n",
    "\n",
    "Note also that I am doing stratified splits so that each subset will contain all the classes in the same proportions as in the original dataset."
   ]
  },
  {
   "cell_type": "code",
   "execution_count": 36,
   "metadata": {
    "ExecuteTime": {
     "end_time": "2019-11-22T15:52:57.882367Z",
     "start_time": "2019-11-22T15:52:56.773975Z"
    },
    "colab": {},
    "colab_type": "code",
    "id": "h6yf-_EZqkfk"
   },
   "outputs": [],
   "source": [
    "# Split first into training and test datasets\n",
    "y = df['Cover_Type']\n",
    "X = df.drop('Cover_Type', axis=1)\n",
    "\n",
    "X_train, X_test, y_train, y_test = train_test_split(X, y, test_size=0.2,\n",
    "                                                    random_state=1,\n",
    "                                                    stratify=y)"
   ]
  },
  {
   "cell_type": "code",
   "execution_count": 37,
   "metadata": {
    "ExecuteTime": {
     "end_time": "2019-11-22T15:52:58.024860Z",
     "start_time": "2019-11-22T15:52:57.885588Z"
    },
    "colab": {},
    "colab_type": "code",
    "id": "9Yhs1Jvkqkfm"
   },
   "outputs": [],
   "source": [
    "# Split again into validation and true holdout (test) datasets\n",
    "X_val, X_test, y_val, y_test = train_test_split(X_test, y_test, test_size=0.5,\n",
    "                                                random_state=1,\n",
    "                                                stratify=y_test)"
   ]
  },
  {
   "cell_type": "code",
   "execution_count": 38,
   "metadata": {
    "ExecuteTime": {
     "end_time": "2019-11-22T15:52:58.658895Z",
     "start_time": "2019-11-22T15:52:58.653540Z"
    },
    "colab": {},
    "colab_type": "code",
    "id": "fnBUtqiXqkfo",
    "outputId": "dc84eeac-788f-40b5-a444-794504dcdb7e",
    "scrolled": true
   },
   "outputs": [
    {
     "name": "stdout",
     "output_type": "stream",
     "text": [
      "(464809, 54) (464809,)\n",
      "(58101, 54) (58101,)\n",
      "(58102, 54) (58102,)\n"
     ]
    }
   ],
   "source": [
    "# Examine shapes of the subsets\n",
    "print(X_train.shape, y_train.shape)\n",
    "print(X_val.shape, y_val.shape)\n",
    "print(X_test.shape, y_test.shape)"
   ]
  },
  {
   "cell_type": "markdown",
   "metadata": {
    "colab_type": "text",
    "id": "in8VwMTcaz9V"
   },
   "source": [
    "I know that later I will want to compare model performance on the raw data and the preprocessed version, so at this point (before preprocessing) I will save copies for later."
   ]
  },
  {
   "cell_type": "code",
   "execution_count": 39,
   "metadata": {
    "ExecuteTime": {
     "end_time": "2019-11-22T15:52:59.879872Z",
     "start_time": "2019-11-22T15:52:59.683587Z"
    },
    "colab": {},
    "colab_type": "code",
    "id": "3z1-4iBFHYU-"
   },
   "outputs": [],
   "source": [
    "# Save raw copies of train and validation sets before further preprocessing\n",
    "X_train_raw = X_train.copy()\n",
    "y_train_raw = y_train.copy()\n",
    "\n",
    "X_val_raw = X_val.copy()\n",
    "y_val_raw = y_val.copy()"
   ]
  },
  {
   "cell_type": "markdown",
   "metadata": {
    "colab_type": "text",
    "id": "Q6yIQr_mqkfq"
   },
   "source": [
    "## Resampling"
   ]
  },
  {
   "cell_type": "markdown",
   "metadata": {
    "colab_type": "text",
    "id": "JpVNCn6mbh8x"
   },
   "source": [
    "My next preprocessing step is to deal with the class imbalance. My overall strategy is to undersample the bigger classes and oversample the smaller ones so that every class is the same size as the median-sized class.\n",
    "\n",
    "First, I'll put the training data back into one DataFrame to make things a little easier."
   ]
  },
  {
   "cell_type": "code",
   "execution_count": 40,
   "metadata": {
    "ExecuteTime": {
     "end_time": "2019-11-22T15:53:01.032120Z",
     "start_time": "2019-11-22T15:53:00.862930Z"
    },
    "colab": {},
    "colab_type": "code",
    "id": "jfewFPpmqkfr",
    "outputId": "625966ef-cb77-4cb8-d16d-353963765d0d",
    "scrolled": true
   },
   "outputs": [
    {
     "name": "stdout",
     "output_type": "stream",
     "text": [
      "464809\n"
     ]
    },
    {
     "data": {
      "text/html": [
       "<div>\n",
       "<style scoped>\n",
       "    .dataframe tbody tr th:only-of-type {\n",
       "        vertical-align: middle;\n",
       "    }\n",
       "\n",
       "    .dataframe tbody tr th {\n",
       "        vertical-align: top;\n",
       "    }\n",
       "\n",
       "    .dataframe thead th {\n",
       "        text-align: right;\n",
       "    }\n",
       "</style>\n",
       "<table border=\"1\" class=\"dataframe\">\n",
       "  <thead>\n",
       "    <tr style=\"text-align: right;\">\n",
       "      <th></th>\n",
       "      <th>Elevation</th>\n",
       "      <th>Aspect</th>\n",
       "      <th>Slope</th>\n",
       "      <th>Hor_Dist_Hyd</th>\n",
       "      <th>Ver_Dist_Hyd</th>\n",
       "      <th>Hor_Dist_Road</th>\n",
       "      <th>Hillshade_9am</th>\n",
       "      <th>Hillshade_noon</th>\n",
       "      <th>Hillshade_3pm</th>\n",
       "      <th>Hor_Dist_Fire</th>\n",
       "      <th>...</th>\n",
       "      <th>Soil_Type_32</th>\n",
       "      <th>Soil_Type_33</th>\n",
       "      <th>Soil_Type_34</th>\n",
       "      <th>Soil_Type_35</th>\n",
       "      <th>Soil_Type_36</th>\n",
       "      <th>Soil_Type_37</th>\n",
       "      <th>Soil_Type_38</th>\n",
       "      <th>Soil_Type_39</th>\n",
       "      <th>Soil_Type_40</th>\n",
       "      <th>Cover_Type</th>\n",
       "    </tr>\n",
       "  </thead>\n",
       "  <tbody>\n",
       "    <tr>\n",
       "      <td>450015</td>\n",
       "      <td>3250</td>\n",
       "      <td>35</td>\n",
       "      <td>4</td>\n",
       "      <td>534</td>\n",
       "      <td>212</td>\n",
       "      <td>2969</td>\n",
       "      <td>219</td>\n",
       "      <td>231</td>\n",
       "      <td>148</td>\n",
       "      <td>3161</td>\n",
       "      <td>...</td>\n",
       "      <td>0</td>\n",
       "      <td>0</td>\n",
       "      <td>0</td>\n",
       "      <td>0</td>\n",
       "      <td>0</td>\n",
       "      <td>0</td>\n",
       "      <td>0</td>\n",
       "      <td>0</td>\n",
       "      <td>0</td>\n",
       "      <td>1</td>\n",
       "    </tr>\n",
       "    <tr>\n",
       "      <td>127010</td>\n",
       "      <td>2580</td>\n",
       "      <td>61</td>\n",
       "      <td>20</td>\n",
       "      <td>30</td>\n",
       "      <td>-1</td>\n",
       "      <td>1061</td>\n",
       "      <td>232</td>\n",
       "      <td>193</td>\n",
       "      <td>85</td>\n",
       "      <td>553</td>\n",
       "      <td>...</td>\n",
       "      <td>0</td>\n",
       "      <td>0</td>\n",
       "      <td>0</td>\n",
       "      <td>0</td>\n",
       "      <td>0</td>\n",
       "      <td>0</td>\n",
       "      <td>0</td>\n",
       "      <td>0</td>\n",
       "      <td>0</td>\n",
       "      <td>1</td>\n",
       "    </tr>\n",
       "    <tr>\n",
       "      <td>247694</td>\n",
       "      <td>2216</td>\n",
       "      <td>41</td>\n",
       "      <td>38</td>\n",
       "      <td>384</td>\n",
       "      <td>251</td>\n",
       "      <td>424</td>\n",
       "      <td>194</td>\n",
       "      <td>129</td>\n",
       "      <td>40</td>\n",
       "      <td>295</td>\n",
       "      <td>...</td>\n",
       "      <td>0</td>\n",
       "      <td>0</td>\n",
       "      <td>0</td>\n",
       "      <td>0</td>\n",
       "      <td>0</td>\n",
       "      <td>0</td>\n",
       "      <td>0</td>\n",
       "      <td>0</td>\n",
       "      <td>0</td>\n",
       "      <td>3</td>\n",
       "    </tr>\n",
       "    <tr>\n",
       "      <td>548749</td>\n",
       "      <td>3166</td>\n",
       "      <td>181</td>\n",
       "      <td>17</td>\n",
       "      <td>242</td>\n",
       "      <td>61</td>\n",
       "      <td>3252</td>\n",
       "      <td>224</td>\n",
       "      <td>248</td>\n",
       "      <td>152</td>\n",
       "      <td>630</td>\n",
       "      <td>...</td>\n",
       "      <td>0</td>\n",
       "      <td>0</td>\n",
       "      <td>1</td>\n",
       "      <td>0</td>\n",
       "      <td>0</td>\n",
       "      <td>0</td>\n",
       "      <td>0</td>\n",
       "      <td>0</td>\n",
       "      <td>0</td>\n",
       "      <td>2</td>\n",
       "    </tr>\n",
       "    <tr>\n",
       "      <td>29431</td>\n",
       "      <td>2900</td>\n",
       "      <td>296</td>\n",
       "      <td>25</td>\n",
       "      <td>210</td>\n",
       "      <td>92</td>\n",
       "      <td>5076</td>\n",
       "      <td>142</td>\n",
       "      <td>223</td>\n",
       "      <td>218</td>\n",
       "      <td>4763</td>\n",
       "      <td>...</td>\n",
       "      <td>0</td>\n",
       "      <td>0</td>\n",
       "      <td>0</td>\n",
       "      <td>0</td>\n",
       "      <td>0</td>\n",
       "      <td>0</td>\n",
       "      <td>0</td>\n",
       "      <td>0</td>\n",
       "      <td>0</td>\n",
       "      <td>1</td>\n",
       "    </tr>\n",
       "  </tbody>\n",
       "</table>\n",
       "<p>5 rows × 55 columns</p>\n",
       "</div>"
      ],
      "text/plain": [
       "        Elevation  Aspect  Slope  Hor_Dist_Hyd  Ver_Dist_Hyd  Hor_Dist_Road  \\\n",
       "450015       3250      35      4           534           212           2969   \n",
       "127010       2580      61     20            30            -1           1061   \n",
       "247694       2216      41     38           384           251            424   \n",
       "548749       3166     181     17           242            61           3252   \n",
       "29431        2900     296     25           210            92           5076   \n",
       "\n",
       "        Hillshade_9am  Hillshade_noon  Hillshade_3pm  Hor_Dist_Fire  ...  \\\n",
       "450015            219             231            148           3161  ...   \n",
       "127010            232             193             85            553  ...   \n",
       "247694            194             129             40            295  ...   \n",
       "548749            224             248            152            630  ...   \n",
       "29431             142             223            218           4763  ...   \n",
       "\n",
       "        Soil_Type_32  Soil_Type_33  Soil_Type_34  Soil_Type_35  Soil_Type_36  \\\n",
       "450015             0             0             0             0             0   \n",
       "127010             0             0             0             0             0   \n",
       "247694             0             0             0             0             0   \n",
       "548749             0             0             1             0             0   \n",
       "29431              0             0             0             0             0   \n",
       "\n",
       "        Soil_Type_37  Soil_Type_38  Soil_Type_39  Soil_Type_40  Cover_Type  \n",
       "450015             0             0             0             0           1  \n",
       "127010             0             0             0             0           1  \n",
       "247694             0             0             0             0           3  \n",
       "548749             0             0             0             0           2  \n",
       "29431              0             0             0             0           1  \n",
       "\n",
       "[5 rows x 55 columns]"
      ]
     },
     "execution_count": 40,
     "metadata": {},
     "output_type": "execute_result"
    }
   ],
   "source": [
    "# Concatenate X_train and y_train for resampling\n",
    "df_train = pd.concat([X_train, y_train], axis=1)\n",
    "print(len(df_train))\n",
    "df_train.head()"
   ]
  },
  {
   "cell_type": "markdown",
   "metadata": {
    "colab_type": "text",
    "id": "PKvg4ZOyb2-w"
   },
   "source": [
    "Next, let's review the current counts of all the classes."
   ]
  },
  {
   "cell_type": "code",
   "execution_count": 41,
   "metadata": {
    "ExecuteTime": {
     "end_time": "2019-11-22T15:53:03.227785Z",
     "start_time": "2019-11-22T15:53:03.212012Z"
    },
    "colab": {},
    "colab_type": "code",
    "id": "QuD1IC4oqkfu",
    "outputId": "33bbcb4e-5de6-40a1-a73a-87d77529706b",
    "scrolled": true
   },
   "outputs": [
    {
     "data": {
      "text/plain": [
       "2    226640\n",
       "1    169472\n",
       "3     28603\n",
       "7     16408\n",
       "6     13894\n",
       "5      7594\n",
       "4      2198\n",
       "Name: Cover_Type, dtype: int64"
      ]
     },
     "execution_count": 41,
     "metadata": {},
     "output_type": "execute_result"
    }
   ],
   "source": [
    "# Check for class imbalance\n",
    "df_train.Cover_Type.value_counts()"
   ]
  },
  {
   "cell_type": "markdown",
   "metadata": {},
   "source": [
    "Now I can use `RandomUnderSampler` and `SMOTE` to undersample the larger classes and oversample the smaller ones, aiming for every class to have 16,408 observations."
   ]
  },
  {
   "cell_type": "code",
   "execution_count": 42,
   "metadata": {
    "ExecuteTime": {
     "end_time": "2019-11-22T15:53:05.653711Z",
     "start_time": "2019-11-22T15:53:05.189352Z"
    }
   },
   "outputs": [
    {
     "data": {
      "text/plain": [
       "Counter({1: 16408, 2: 16408, 3: 16408, 4: 2198, 5: 7594, 6: 13894, 7: 16408})"
      ]
     },
     "execution_count": 42,
     "metadata": {},
     "output_type": "execute_result"
    }
   ],
   "source": [
    "# Randomly undersample the larger classes\n",
    "rus = RandomUnderSampler(random_state=3, \n",
    "                         sampling_strategy={1:16408, 2:16408, 3:16408,})\n",
    "\n",
    "\n",
    "X_rus, y_rus = rus.fit_resample(X_train, y_train)\n",
    "\n",
    "# Check class counts\n",
    "Counter(y_rus)"
   ]
  },
  {
   "cell_type": "code",
   "execution_count": 44,
   "metadata": {
    "ExecuteTime": {
     "end_time": "2019-11-22T15:53:24.229830Z",
     "start_time": "2019-11-22T15:53:22.983405Z"
    },
    "colab": {},
    "colab_type": "code",
    "id": "47hv1_90qkiV",
    "scrolled": true
   },
   "outputs": [
    {
     "data": {
      "text/plain": [
       "Counter({1: 16408, 2: 16408, 3: 16408, 4: 16408, 5: 16408, 6: 16408, 7: 16408})"
      ]
     },
     "execution_count": 44,
     "metadata": {},
     "output_type": "execute_result"
    }
   ],
   "source": [
    "# Randomly oversample the smaller classes\n",
    "smote = SMOTE(random_state=3, sampling_strategy={4:16408, 5:16408, 6:16408})\n",
    "\n",
    "X_resampled, y_resampled = smote.fit_resample(X_rus, y_rus)\n",
    "\n",
    "# Check class counts\n",
    "Counter(y_resampled)"
   ]
  },
  {
   "cell_type": "markdown",
   "metadata": {
    "colab_type": "text",
    "id": "QePR8XwucveY"
   },
   "source": [
    "The final count above shows that the classes are now balanced."
   ]
  },
  {
   "cell_type": "markdown",
   "metadata": {},
   "source": [
    "## Scaling"
   ]
  },
  {
   "cell_type": "markdown",
   "metadata": {
    "colab_type": "text",
    "id": "QePR8XwucveY"
   },
   "source": [
    "The next transformation I want to do is to standardize the features. This isn't required for Random Forests, but it is helpful for more complex algorithms like Support Vector Machines (plus it doesn't hurt Random Forests, so I may as well do it now)."
   ]
  },
  {
   "cell_type": "code",
   "execution_count": 45,
   "metadata": {
    "ExecuteTime": {
     "end_time": "2019-11-22T18:13:10.507953Z",
     "start_time": "2019-11-22T18:13:10.210541Z"
    },
    "colab": {},
    "colab_type": "code",
    "id": "W3osVJKVqkgF",
    "outputId": "6001df1f-616d-487e-ffd9-ae0adf14592b",
    "scrolled": true
   },
   "outputs": [
    {
     "name": "stderr",
     "output_type": "stream",
     "text": [
      "/Users/jennykreiger/anaconda3/envs/learn-env/lib/python3.6/site-packages/sklearn/utils/validation.py:595: DataConversionWarning: Data with input dtype int64 was converted to float64 by StandardScaler.\n",
      "  warnings.warn(msg, DataConversionWarning)\n",
      "/Users/jennykreiger/anaconda3/envs/learn-env/lib/python3.6/site-packages/sklearn/utils/validation.py:595: DataConversionWarning: Data with input dtype int64 was converted to float64 by StandardScaler.\n",
      "  warnings.warn(msg, DataConversionWarning)\n"
     ]
    }
   ],
   "source": [
    "# Scale the features\n",
    "scaler = StandardScaler()\n",
    "X_scaled = scaler.fit_transform(X_resampled)\n",
    "X_scaled = pd.DataFrame(X_scaled)"
   ]
  },
  {
   "cell_type": "code",
   "execution_count": 46,
   "metadata": {
    "ExecuteTime": {
     "end_time": "2019-11-22T18:13:13.567729Z",
     "start_time": "2019-11-22T18:13:12.434015Z"
    },
    "colab": {},
    "colab_type": "code",
    "id": "fdp1p0lzqkgH",
    "outputId": "a6a4b8df-946d-43cb-a2f5-8736338b3672",
    "scrolled": false
   },
   "outputs": [
    {
     "data": {
      "text/html": [
       "<div>\n",
       "<style scoped>\n",
       "    .dataframe tbody tr th:only-of-type {\n",
       "        vertical-align: middle;\n",
       "    }\n",
       "\n",
       "    .dataframe tbody tr th {\n",
       "        vertical-align: top;\n",
       "    }\n",
       "\n",
       "    .dataframe thead th {\n",
       "        text-align: right;\n",
       "    }\n",
       "</style>\n",
       "<table border=\"1\" class=\"dataframe\">\n",
       "  <thead>\n",
       "    <tr style=\"text-align: right;\">\n",
       "      <th></th>\n",
       "      <th>0</th>\n",
       "      <th>1</th>\n",
       "      <th>2</th>\n",
       "      <th>3</th>\n",
       "      <th>4</th>\n",
       "      <th>5</th>\n",
       "      <th>6</th>\n",
       "      <th>7</th>\n",
       "      <th>8</th>\n",
       "      <th>9</th>\n",
       "      <th>...</th>\n",
       "      <th>44</th>\n",
       "      <th>45</th>\n",
       "      <th>46</th>\n",
       "      <th>47</th>\n",
       "      <th>48</th>\n",
       "      <th>49</th>\n",
       "      <th>50</th>\n",
       "      <th>51</th>\n",
       "      <th>52</th>\n",
       "      <th>53</th>\n",
       "    </tr>\n",
       "  </thead>\n",
       "  <tbody>\n",
       "    <tr>\n",
       "      <td>count</td>\n",
       "      <td>1.148560e+05</td>\n",
       "      <td>1.148560e+05</td>\n",
       "      <td>1.148560e+05</td>\n",
       "      <td>1.148560e+05</td>\n",
       "      <td>1.148560e+05</td>\n",
       "      <td>1.148560e+05</td>\n",
       "      <td>1.148560e+05</td>\n",
       "      <td>1.148560e+05</td>\n",
       "      <td>1.148560e+05</td>\n",
       "      <td>1.148560e+05</td>\n",
       "      <td>...</td>\n",
       "      <td>1.148560e+05</td>\n",
       "      <td>1.148560e+05</td>\n",
       "      <td>1.148560e+05</td>\n",
       "      <td>1.148560e+05</td>\n",
       "      <td>1.148560e+05</td>\n",
       "      <td>1.148560e+05</td>\n",
       "      <td>1.148560e+05</td>\n",
       "      <td>1.148560e+05</td>\n",
       "      <td>1.148560e+05</td>\n",
       "      <td>1.148560e+05</td>\n",
       "    </tr>\n",
       "    <tr>\n",
       "      <td>mean</td>\n",
       "      <td>2.133063e-16</td>\n",
       "      <td>-3.402508e-18</td>\n",
       "      <td>1.299140e-17</td>\n",
       "      <td>-1.899218e-17</td>\n",
       "      <td>-2.822535e-17</td>\n",
       "      <td>5.765705e-17</td>\n",
       "      <td>3.554693e-16</td>\n",
       "      <td>-5.596817e-16</td>\n",
       "      <td>2.417637e-16</td>\n",
       "      <td>-3.315899e-17</td>\n",
       "      <td>...</td>\n",
       "      <td>-4.008774e-17</td>\n",
       "      <td>5.416175e-17</td>\n",
       "      <td>3.552528e-17</td>\n",
       "      <td>1.082616e-19</td>\n",
       "      <td>-3.181345e-17</td>\n",
       "      <td>-8.966383e-18</td>\n",
       "      <td>2.056971e-17</td>\n",
       "      <td>7.497891e-17</td>\n",
       "      <td>-4.751139e-17</td>\n",
       "      <td>3.136494e-17</td>\n",
       "    </tr>\n",
       "    <tr>\n",
       "      <td>std</td>\n",
       "      <td>1.000004e+00</td>\n",
       "      <td>1.000004e+00</td>\n",
       "      <td>1.000004e+00</td>\n",
       "      <td>1.000004e+00</td>\n",
       "      <td>1.000004e+00</td>\n",
       "      <td>1.000004e+00</td>\n",
       "      <td>1.000004e+00</td>\n",
       "      <td>1.000004e+00</td>\n",
       "      <td>1.000004e+00</td>\n",
       "      <td>1.000004e+00</td>\n",
       "      <td>...</td>\n",
       "      <td>1.000004e+00</td>\n",
       "      <td>1.000004e+00</td>\n",
       "      <td>1.000004e+00</td>\n",
       "      <td>1.000004e+00</td>\n",
       "      <td>1.000004e+00</td>\n",
       "      <td>1.000004e+00</td>\n",
       "      <td>1.000004e+00</td>\n",
       "      <td>1.000004e+00</td>\n",
       "      <td>1.000004e+00</td>\n",
       "      <td>1.000004e+00</td>\n",
       "    </tr>\n",
       "    <tr>\n",
       "      <td>min</td>\n",
       "      <td>-2.120858e+00</td>\n",
       "      <td>-1.423987e+00</td>\n",
       "      <td>-1.962208e+00</td>\n",
       "      <td>-1.090620e+00</td>\n",
       "      <td>-3.324786e+00</td>\n",
       "      <td>-1.287201e+00</td>\n",
       "      <td>-6.938578e+00</td>\n",
       "      <td>-7.290815e+00</td>\n",
       "      <td>-2.908838e+00</td>\n",
       "      <td>-1.375326e+00</td>\n",
       "      <td>...</td>\n",
       "      <td>-1.454026e-01</td>\n",
       "      <td>-2.144755e-01</td>\n",
       "      <td>-2.075198e-01</td>\n",
       "      <td>-4.113307e-02</td>\n",
       "      <td>-8.485013e-02</td>\n",
       "      <td>-2.107680e-02</td>\n",
       "      <td>-4.489173e-02</td>\n",
       "      <td>-2.248845e-01</td>\n",
       "      <td>-2.157161e-01</td>\n",
       "      <td>-1.715900e-01</td>\n",
       "    </tr>\n",
       "    <tr>\n",
       "      <td>25%</td>\n",
       "      <td>-8.945149e-01</td>\n",
       "      <td>-8.318577e-01</td>\n",
       "      <td>-7.743657e-01</td>\n",
       "      <td>-7.708600e-01</td>\n",
       "      <td>-7.533096e-01</td>\n",
       "      <td>-7.230251e-01</td>\n",
       "      <td>-5.451907e-01</td>\n",
       "      <td>-5.145001e-01</td>\n",
       "      <td>-6.167281e-01</td>\n",
       "      <td>-7.093079e-01</td>\n",
       "      <td>...</td>\n",
       "      <td>-1.454026e-01</td>\n",
       "      <td>-2.144755e-01</td>\n",
       "      <td>-2.075198e-01</td>\n",
       "      <td>-4.113307e-02</td>\n",
       "      <td>-8.485013e-02</td>\n",
       "      <td>-2.107680e-02</td>\n",
       "      <td>-4.489173e-02</td>\n",
       "      <td>-2.248845e-01</td>\n",
       "      <td>-2.157161e-01</td>\n",
       "      <td>-1.715900e-01</td>\n",
       "    </tr>\n",
       "    <tr>\n",
       "      <td>50%</td>\n",
       "      <td>1.014521e-02</td>\n",
       "      <td>-2.852769e-01</td>\n",
       "      <td>-1.804444e-01</td>\n",
       "      <td>-2.315627e-01</td>\n",
       "      <td>-3.110812e-01</td>\n",
       "      <td>-3.030859e-01</td>\n",
       "      <td>2.376729e-01</td>\n",
       "      <td>1.455306e-01</td>\n",
       "      <td>7.522952e-02</td>\n",
       "      <td>-2.251362e-01</td>\n",
       "      <td>...</td>\n",
       "      <td>-1.454026e-01</td>\n",
       "      <td>-2.144755e-01</td>\n",
       "      <td>-2.075198e-01</td>\n",
       "      <td>-4.113307e-02</td>\n",
       "      <td>-8.485013e-02</td>\n",
       "      <td>-2.107680e-02</td>\n",
       "      <td>-4.489173e-02</td>\n",
       "      <td>-2.248845e-01</td>\n",
       "      <td>-2.157161e-01</td>\n",
       "      <td>-1.715900e-01</td>\n",
       "    </tr>\n",
       "    <tr>\n",
       "      <td>75%</td>\n",
       "      <td>8.544149e-01</td>\n",
       "      <td>9.354203e-01</td>\n",
       "      <td>6.510454e-01</td>\n",
       "      <td>4.843186e-01</td>\n",
       "      <td>4.587237e-01</td>\n",
       "      <td>4.271125e-01</td>\n",
       "      <td>7.595821e-01</td>\n",
       "      <td>7.175571e-01</td>\n",
       "      <td>7.023161e-01</td>\n",
       "      <td>4.305037e-01</td>\n",
       "      <td>...</td>\n",
       "      <td>-1.454026e-01</td>\n",
       "      <td>-2.144755e-01</td>\n",
       "      <td>-2.075198e-01</td>\n",
       "      <td>-4.113307e-02</td>\n",
       "      <td>-8.485013e-02</td>\n",
       "      <td>-2.107680e-02</td>\n",
       "      <td>-4.489173e-02</td>\n",
       "      <td>-2.248845e-01</td>\n",
       "      <td>-2.157161e-01</td>\n",
       "      <td>-1.715900e-01</td>\n",
       "    </tr>\n",
       "    <tr>\n",
       "      <td>max</td>\n",
       "      <td>2.655364e+00</td>\n",
       "      <td>1.855498e+00</td>\n",
       "      <td>5.283631e+00</td>\n",
       "      <td>5.509806e+00</td>\n",
       "      <td>8.975714e+00</td>\n",
       "      <td>4.036787e+00</td>\n",
       "      <td>1.346730e+00</td>\n",
       "      <td>1.553596e+00</td>\n",
       "      <td>2.561952e+00</td>\n",
       "      <td>4.988848e+00</td>\n",
       "      <td>...</td>\n",
       "      <td>6.877457e+00</td>\n",
       "      <td>4.662538e+00</td>\n",
       "      <td>4.818818e+00</td>\n",
       "      <td>2.431134e+01</td>\n",
       "      <td>1.178549e+01</td>\n",
       "      <td>4.744553e+01</td>\n",
       "      <td>2.227582e+01</td>\n",
       "      <td>4.446727e+00</td>\n",
       "      <td>4.635722e+00</td>\n",
       "      <td>5.827845e+00</td>\n",
       "    </tr>\n",
       "  </tbody>\n",
       "</table>\n",
       "<p>8 rows × 54 columns</p>\n",
       "</div>"
      ],
      "text/plain": [
       "                 0             1             2             3             4   \\\n",
       "count  1.148560e+05  1.148560e+05  1.148560e+05  1.148560e+05  1.148560e+05   \n",
       "mean   2.133063e-16 -3.402508e-18  1.299140e-17 -1.899218e-17 -2.822535e-17   \n",
       "std    1.000004e+00  1.000004e+00  1.000004e+00  1.000004e+00  1.000004e+00   \n",
       "min   -2.120858e+00 -1.423987e+00 -1.962208e+00 -1.090620e+00 -3.324786e+00   \n",
       "25%   -8.945149e-01 -8.318577e-01 -7.743657e-01 -7.708600e-01 -7.533096e-01   \n",
       "50%    1.014521e-02 -2.852769e-01 -1.804444e-01 -2.315627e-01 -3.110812e-01   \n",
       "75%    8.544149e-01  9.354203e-01  6.510454e-01  4.843186e-01  4.587237e-01   \n",
       "max    2.655364e+00  1.855498e+00  5.283631e+00  5.509806e+00  8.975714e+00   \n",
       "\n",
       "                 5             6             7             8             9   \\\n",
       "count  1.148560e+05  1.148560e+05  1.148560e+05  1.148560e+05  1.148560e+05   \n",
       "mean   5.765705e-17  3.554693e-16 -5.596817e-16  2.417637e-16 -3.315899e-17   \n",
       "std    1.000004e+00  1.000004e+00  1.000004e+00  1.000004e+00  1.000004e+00   \n",
       "min   -1.287201e+00 -6.938578e+00 -7.290815e+00 -2.908838e+00 -1.375326e+00   \n",
       "25%   -7.230251e-01 -5.451907e-01 -5.145001e-01 -6.167281e-01 -7.093079e-01   \n",
       "50%   -3.030859e-01  2.376729e-01  1.455306e-01  7.522952e-02 -2.251362e-01   \n",
       "75%    4.271125e-01  7.595821e-01  7.175571e-01  7.023161e-01  4.305037e-01   \n",
       "max    4.036787e+00  1.346730e+00  1.553596e+00  2.561952e+00  4.988848e+00   \n",
       "\n",
       "       ...            44            45            46            47  \\\n",
       "count  ...  1.148560e+05  1.148560e+05  1.148560e+05  1.148560e+05   \n",
       "mean   ... -4.008774e-17  5.416175e-17  3.552528e-17  1.082616e-19   \n",
       "std    ...  1.000004e+00  1.000004e+00  1.000004e+00  1.000004e+00   \n",
       "min    ... -1.454026e-01 -2.144755e-01 -2.075198e-01 -4.113307e-02   \n",
       "25%    ... -1.454026e-01 -2.144755e-01 -2.075198e-01 -4.113307e-02   \n",
       "50%    ... -1.454026e-01 -2.144755e-01 -2.075198e-01 -4.113307e-02   \n",
       "75%    ... -1.454026e-01 -2.144755e-01 -2.075198e-01 -4.113307e-02   \n",
       "max    ...  6.877457e+00  4.662538e+00  4.818818e+00  2.431134e+01   \n",
       "\n",
       "                 48            49            50            51            52  \\\n",
       "count  1.148560e+05  1.148560e+05  1.148560e+05  1.148560e+05  1.148560e+05   \n",
       "mean  -3.181345e-17 -8.966383e-18  2.056971e-17  7.497891e-17 -4.751139e-17   \n",
       "std    1.000004e+00  1.000004e+00  1.000004e+00  1.000004e+00  1.000004e+00   \n",
       "min   -8.485013e-02 -2.107680e-02 -4.489173e-02 -2.248845e-01 -2.157161e-01   \n",
       "25%   -8.485013e-02 -2.107680e-02 -4.489173e-02 -2.248845e-01 -2.157161e-01   \n",
       "50%   -8.485013e-02 -2.107680e-02 -4.489173e-02 -2.248845e-01 -2.157161e-01   \n",
       "75%   -8.485013e-02 -2.107680e-02 -4.489173e-02 -2.248845e-01 -2.157161e-01   \n",
       "max    1.178549e+01  4.744553e+01  2.227582e+01  4.446727e+00  4.635722e+00   \n",
       "\n",
       "                 53  \n",
       "count  1.148560e+05  \n",
       "mean   3.136494e-17  \n",
       "std    1.000004e+00  \n",
       "min   -1.715900e-01  \n",
       "25%   -1.715900e-01  \n",
       "50%   -1.715900e-01  \n",
       "75%   -1.715900e-01  \n",
       "max    5.827845e+00  \n",
       "\n",
       "[8 rows x 54 columns]"
      ]
     },
     "execution_count": 46,
     "metadata": {},
     "output_type": "execute_result"
    }
   ],
   "source": [
    "# Check the results\n",
    "X_scaled.describe()"
   ]
  },
  {
   "cell_type": "markdown",
   "metadata": {
    "colab_type": "text",
    "id": "G5cW708tdNjv"
   },
   "source": [
    "The features have now been standardized so that they all have a mean of 0 and a standard deviation of 1.\n",
    "\n",
    "Let's just get a quick visual confirmation of this change with some histograms."
   ]
  },
  {
   "cell_type": "code",
   "execution_count": 48,
   "metadata": {
    "ExecuteTime": {
     "end_time": "2019-11-22T18:13:44.249850Z",
     "start_time": "2019-11-22T18:13:42.360699Z"
    },
    "colab": {},
    "colab_type": "code",
    "id": "ZwpszNZ7qkgK",
    "outputId": "2c450b38-a836-457c-cbc2-a8b7687c54c2",
    "scrolled": false
   },
   "outputs": [
    {
     "data": {
      "image/png": "[encoded data removed]",
      "text/plain": [
       "<Figure size 1152x864 with 12 Axes>"
      ]
     },
     "metadata": {
      "needs_background": "light"
     },
     "output_type": "display_data"
    }
   ],
   "source": [
    "# Visualize the distributions again\n",
    "X_scaled.loc[:,:9].hist(figsize=(16, 12));"
   ]
  },
  {
   "cell_type": "markdown",
   "metadata": {
    "colab_type": "text",
    "id": "pEHbbh11eA4k"
   },
   "source": [
    "Now that the training data has been scaled, I can move on to PCA."
   ]
  },
  {
   "cell_type": "markdown",
   "metadata": {
    "colab_type": "text",
    "id": "ew7WesYEqkgM"
   },
   "source": [
    "## PCA"
   ]
  },
  {
   "cell_type": "markdown",
   "metadata": {
    "colab_type": "text",
    "id": "5uOeSKJiqkgM"
   },
   "source": [
    "Principal Components Analysis takes the features we have and tries to combine them in ways that maximize the amount of variance the components can explain in the data. For datasets like the one I'm working with here, where there are lots of features, PCA can help us avoid the negative effects of having numerous features while still allowing us to account for as much variance as possible. For my analysis below, I aim to find a number of components that will explain at least 80% of the variance in the data.\n",
    "\n",
    "First, let's see how much variance we can explain with a wide range of components. If any of these look promising, we can drill down further."
   ]
  },
  {
   "cell_type": "code",
   "execution_count": 49,
   "metadata": {
    "ExecuteTime": {
     "end_time": "2019-11-22T18:14:28.288564Z",
     "start_time": "2019-11-22T18:14:17.312993Z"
    },
    "colab": {},
    "colab_type": "code",
    "id": "JJkBcgYnqkgN",
    "outputId": "917b0008-1f4f-4f7e-b475-a1024cb3dd5c",
    "scrolled": false
   },
   "outputs": [
    {
     "data": {
      "image/png": "[encoded data removed]",
      "text/plain": [
       "<Figure size 720x576 with 1 Axes>"
      ]
     },
     "metadata": {
      "needs_background": "light"
     },
     "output_type": "display_data"
    }
   ],
   "source": [
    "# Try several numbers of components to explain 80% of variance\n",
    "comps = [10, 15, 20, 25, 30, 35, 40, 45, 50, 54]\n",
    "var_sums = []\n",
    "for comp in comps:\n",
    "    pca = PCA(n_components=comp)\n",
    "    pca.fit_transform(X_scaled)\n",
    "    var_sums.append(np.sum(pca.explained_variance_ratio_))\n",
    "    \n",
    "# Visualize results\n",
    "plt.figure(figsize=(10,8))\n",
    "plt.plot(comps, var_sums)\n",
    "plt.xlabel('Number of components')\n",
    "plt.ylabel('% of variance explained')\n",
    "plt.title('Variance explained by n components')\n",
    "plt.xticks([10, 15, 20, 25, 30, 35, 40, 45, 50, 54])\n",
    "plt.show();"
   ]
  },
  {
   "cell_type": "markdown",
   "metadata": {
    "colab_type": "text",
    "id": "9YMAxEkIHYVr"
   },
   "source": [
    "Forty components seem to capture about 90% of the variance in the data, which aligns with what we expected based on the feature importances plot above."
   ]
  },
  {
   "cell_type": "code",
   "execution_count": 50,
   "metadata": {
    "ExecuteTime": {
     "end_time": "2019-11-22T18:14:53.542971Z",
     "start_time": "2019-11-22T18:14:53.536078Z"
    },
    "colab": {},
    "colab_type": "code",
    "id": "32BNWzJ4qkgP",
    "outputId": "35ae4c99-39c1-4709-df09-b1cb396a69cc",
    "scrolled": true
   },
   "outputs": [
    {
     "data": {
      "text/plain": [
       "[(10, 0.34824014116486507),\n",
       " (15, 0.445556521096915),\n",
       " (20, 0.5417261286459644),\n",
       " (25, 0.6370695639008744),\n",
       " (30, 0.7316361089412456),\n",
       " (35, 0.8252774059371302),\n",
       " (40, 0.9170275152039136),\n",
       " (45, 0.9736568637688149),\n",
       " (50, 0.9979901475164933),\n",
       " (54, 1.0)]"
      ]
     },
     "metadata": {},
     "output_type": "display_data"
    }
   ],
   "source": [
    "# View the % variance explained for each number of components\n",
    "display(list(zip(comps, var_sums)))"
   ]
  },
  {
   "cell_type": "markdown",
   "metadata": {
    "colab_type": "text",
    "id": "GCH1H7RUqkgR"
   },
   "source": [
    "From the plot and the list above, it's clear that we could explain over 90% of the variance in the data with 40 components (out of a possible 54). Using fewer features/components will help us avoid overfitting on the training data, but at the expense of a little bit of accuracy. I think it's a worthwhile trade."
   ]
  },
  {
   "cell_type": "markdown",
   "metadata": {},
   "source": [
    "## Preprocessing pipeline"
   ]
  },
  {
   "cell_type": "markdown",
   "metadata": {},
   "source": [
    "I know that I want to transform my data so that it is standardized and has 40 components. I will use a pipeline to do this so that I can easily transform my validation and test sets in the same way as my training set without leaking data from one set to another."
   ]
  },
  {
   "cell_type": "code",
   "execution_count": 51,
   "metadata": {
    "ExecuteTime": {
     "end_time": "2019-11-22T18:18:51.520058Z",
     "start_time": "2019-11-22T18:18:51.516512Z"
    }
   },
   "outputs": [],
   "source": [
    "# Build a pipeline for the preprocessing steps\n",
    "pipe_prepro = Pipeline([('scaler', StandardScaler()),\n",
    "                        ('pca', PCA(n_components=40))])"
   ]
  },
  {
   "cell_type": "markdown",
   "metadata": {},
   "source": [
    "I will fit the preprocessing pipeline to the training data (which has been resampled), then use the pipeline to transform the validation and test sets separately."
   ]
  },
  {
   "cell_type": "code",
   "execution_count": 56,
   "metadata": {
    "ExecuteTime": {
     "end_time": "2019-11-22T18:21:56.119910Z",
     "start_time": "2019-11-22T18:21:54.038784Z"
    },
    "colab": {},
    "colab_type": "code",
    "id": "uqh1MSiOqkgS",
    "outputId": "17ad4b26-96cc-4117-f3c0-446e922b78b5"
   },
   "outputs": [
    {
     "name": "stderr",
     "output_type": "stream",
     "text": [
      "/Users/jennykreiger/anaconda3/envs/learn-env/lib/python3.6/site-packages/sklearn/utils/validation.py:595: DataConversionWarning: Data with input dtype int64 was converted to float64 by StandardScaler.\n",
      "  warnings.warn(msg, DataConversionWarning)\n",
      "/Users/jennykreiger/anaconda3/envs/learn-env/lib/python3.6/site-packages/sklearn/utils/validation.py:595: DataConversionWarning: Data with input dtype int64 was converted to float64 by StandardScaler.\n",
      "  warnings.warn(msg, DataConversionWarning)\n"
     ]
    }
   ],
   "source": [
    "# Fit the pipeline and transform the training dataset\n",
    "X_train_trans = pipe_prepro.fit_transform(X_resampled)"
   ]
  },
  {
   "cell_type": "code",
   "execution_count": 57,
   "metadata": {
    "ExecuteTime": {
     "end_time": "2019-11-22T18:22:37.746348Z",
     "start_time": "2019-11-22T18:22:37.594591Z"
    },
    "colab": {},
    "colab_type": "code",
    "id": "uqh1MSiOqkgS",
    "outputId": "17ad4b26-96cc-4117-f3c0-446e922b78b5"
   },
   "outputs": [
    {
     "name": "stderr",
     "output_type": "stream",
     "text": [
      "/Users/jennykreiger/anaconda3/envs/learn-env/lib/python3.6/site-packages/sklearn/pipeline.py:451: DataConversionWarning: Data with input dtype int64 were all converted to float64 by StandardScaler.\n",
      "  Xt = transform.transform(Xt)\n",
      "/Users/jennykreiger/anaconda3/envs/learn-env/lib/python3.6/site-packages/sklearn/pipeline.py:451: DataConversionWarning: Data with input dtype int64 were all converted to float64 by StandardScaler.\n",
      "  Xt = transform.transform(Xt)\n"
     ]
    }
   ],
   "source": [
    "# Use the pipeline to transform the validation and test datasets\n",
    "X_val_trans = pipe_prepro.transform(X_val)\n",
    "X_test_trans = pipe_prepro.transform(X_test)"
   ]
  },
  {
   "cell_type": "markdown",
   "metadata": {
    "colab_type": "text",
    "id": "eeWyWValqkgW"
   },
   "source": [
    "This transformation will form part of the final pipeline, but by transforming the data now, I can more easily use it to build and evaluate my models."
   ]
  },
  {
   "cell_type": "code",
   "execution_count": 60,
   "metadata": {
    "ExecuteTime": {
     "end_time": "2019-11-22T18:45:08.121643Z",
     "start_time": "2019-11-22T18:45:08.116761Z"
    }
   },
   "outputs": [],
   "source": [
    "y_train_res = y_resampled.copy()"
   ]
  },
  {
   "cell_type": "markdown",
   "metadata": {
    "colab_type": "text",
    "id": "gB-b5Ljsqkgu"
   },
   "source": [
    "# Testing various algorithms"
   ]
  },
  {
   "cell_type": "markdown",
   "metadata": {
    "colab_type": "text",
    "heading_collapsed": true,
    "id": "-ennFIimHYWY"
   },
   "source": [
    "## Random Forest 1"
   ]
  },
  {
   "cell_type": "markdown",
   "metadata": {
    "colab_type": "text",
    "hidden": true,
    "id": "p3qdI08AHYWY"
   },
   "source": [
    "This is a Random Forest with no class balancing, standardization, or PCA."
   ]
  },
  {
   "cell_type": "markdown",
   "metadata": {
    "colab_type": "text",
    "hidden": true,
    "id": "6wY8DjoeHYWZ"
   },
   "source": [
    "### Baseline model"
   ]
  },
  {
   "cell_type": "code",
   "execution_count": 13,
   "metadata": {
    "ExecuteTime": {
     "end_time": "2019-11-21T19:34:32.286927Z",
     "start_time": "2019-11-21T19:34:13.783362Z"
    },
    "colab": {
     "base_uri": "https://localhost:8080/",
     "height": 513
    },
    "colab_type": "code",
    "hidden": true,
    "id": "BfORcz0SHYWZ",
    "outputId": "a224e1e1-42d4-4986-c5cc-830dd8dd1332"
   },
   "outputs": [
    {
     "name": "stderr",
     "output_type": "stream",
     "text": [
      "/usr/local/lib/python3.6/dist-packages/sklearn/ensemble/forest.py:245: FutureWarning: The default value of n_estimators will change from 10 in version 0.20 to 100 in 0.22.\n",
      "  \"10 in version 0.20 to 100 in 0.22.\", FutureWarning)\n"
     ]
    },
    {
     "name": "stdout",
     "output_type": "stream",
     "text": [
      "Accuracy: 0.997835670135475\n",
      "-------\n",
      "Confusion matrix:\n",
      "[[169282    178      0      0      2      0     10]\n",
      " [   424 226194     12      0      3      6      1]\n",
      " [     0     33  28558      3      2      7      0]\n",
      " [     0      0     16   2180      0      2      0]\n",
      " [     4    111      8      0   7470      1      0]\n",
      " [     1     22     78      7      0  13786      0]\n",
      " [    70      5      0      0      0      0  16333]]\n",
      "-------\n",
      "Classification report:\n",
      "              precision    recall  f1-score   support\n",
      "\n",
      "           1       1.00      1.00      1.00    169472\n",
      "           2       1.00      1.00      1.00    226640\n",
      "           3       1.00      1.00      1.00     28603\n",
      "           4       1.00      0.99      0.99      2198\n",
      "           5       1.00      0.98      0.99      7594\n",
      "           6       1.00      0.99      1.00     13894\n",
      "           7       1.00      1.00      1.00     16408\n",
      "\n",
      "    accuracy                           1.00    464809\n",
      "   macro avg       1.00      0.99      1.00    464809\n",
      "weighted avg       1.00      1.00      1.00    464809\n",
      "\n"
     ]
    }
   ],
   "source": [
    "# Fit and score a baseline RandomForestClassifier\n",
    "forest1 = RandomForestClassifier()\n",
    "forest1.fit(X_train_raw, y_train_raw)\n",
    "\n",
    "train_pred = forest1.predict(X_train_raw)\n",
    "\n",
    "print_metrics(y_train_raw, train_pred)"
   ]
  },
  {
   "cell_type": "code",
   "execution_count": 14,
   "metadata": {
    "ExecuteTime": {
     "end_time": "2019-11-21T19:35:14.204876Z",
     "start_time": "2019-11-21T19:35:13.770877Z"
    },
    "colab": {
     "base_uri": "https://localhost:8080/",
     "height": 459
    },
    "colab_type": "code",
    "hidden": true,
    "id": "Jl6JvqqJHYWc",
    "outputId": "18c293fb-6678-4433-b133-a17ad8afae0e",
    "scrolled": true
   },
   "outputs": [
    {
     "name": "stdout",
     "output_type": "stream",
     "text": [
      "Accuracy: 0.944940706700401\n",
      "-------\n",
      "Confusion matrix:\n",
      "[[20130  1003     0     0    10     4    37]\n",
      " [ 1112 27071    55     2    45    36     9]\n",
      " [    0    84  3408     9     3    71     0]\n",
      " [    0     0    50   220     0     5     0]\n",
      " [   24   224    18     0   677     7     0]\n",
      " [    3    56   184     7     3  1483     0]\n",
      " [  127    10     0     0     1     0  1913]]\n",
      "-------\n",
      "Classification report:\n",
      "              precision    recall  f1-score   support\n",
      "\n",
      "           1       0.94      0.95      0.95     21184\n",
      "           2       0.95      0.96      0.95     28330\n",
      "           3       0.92      0.95      0.93      3575\n",
      "           4       0.92      0.80      0.86       275\n",
      "           5       0.92      0.71      0.80       950\n",
      "           6       0.92      0.85      0.89      1736\n",
      "           7       0.98      0.93      0.95      2051\n",
      "\n",
      "    accuracy                           0.94     58101\n",
      "   macro avg       0.94      0.88      0.91     58101\n",
      "weighted avg       0.94      0.94      0.94     58101\n",
      "\n"
     ]
    }
   ],
   "source": [
    "# Validate\n",
    "val_pred = forest1.predict(X_val_raw)\n",
    "\n",
    "print_metrics(y_val_raw, val_pred)"
   ]
  },
  {
   "cell_type": "markdown",
   "metadata": {
    "colab_type": "text",
    "hidden": true,
    "id": "XNEKGQG6HYWe"
   },
   "source": [
    "### Tune parameters with GridSearchCV"
   ]
  },
  {
   "cell_type": "code",
   "execution_count": 15,
   "metadata": {
    "colab": {
     "base_uri": "https://localhost:8080/",
     "height": 394
    },
    "colab_type": "code",
    "hidden": true,
    "id": "HSsSLTnPHYWe",
    "outputId": "6e791119-2bf7-434c-a360-b8210a019723"
   },
   "outputs": [
    {
     "name": "stderr",
     "output_type": "stream",
     "text": [
      "/usr/local/lib/python3.6/dist-packages/joblib/externals/loky/process_executor.py:706: UserWarning: A worker stopped while some jobs were given to the executor. This can be caused by a too short worker timeout or by a memory leak.\n",
      "  \"timeout or by a memory leak.\", UserWarning\n"
     ]
    },
    {
     "data": {
      "text/plain": [
       "GridSearchCV(cv=3, error_score='raise-deprecating',\n",
       "             estimator=RandomForestClassifier(bootstrap=True, class_weight=None,\n",
       "                                              criterion='gini', max_depth=None,\n",
       "                                              max_features='auto',\n",
       "                                              max_leaf_nodes=None,\n",
       "                                              min_impurity_decrease=0.0,\n",
       "                                              min_impurity_split=None,\n",
       "                                              min_samples_leaf=1,\n",
       "                                              min_samples_split=2,\n",
       "                                              min_weight_fraction_leaf=0.0,\n",
       "                                              n_estimators=10, n_jobs=None,\n",
       "                                              oob_score=False,\n",
       "                                              random_state=None, verbose=0,\n",
       "                                              warm_start=False),\n",
       "             iid='warn', n_jobs=-1,\n",
       "             param_grid={'max_depth': [20, 25], 'max_features': [30, 40, 54],\n",
       "                         'n_estimators': [50, 100]},\n",
       "             pre_dispatch='2*n_jobs', refit=True, return_train_score=False,\n",
       "             scoring=None, verbose=0)"
      ]
     },
     "execution_count": 15,
     "metadata": {
      "tags": []
     },
     "output_type": "execute_result"
    }
   ],
   "source": [
    "# Use GridSearchCV to find best parameters for the Random Forest\n",
    "params = {'n_estimators': [50, 100],\n",
    "          'max_features': [30, 40, 54],\n",
    "          'max_depth': [20, 25]}\n",
    "\n",
    "grid_forest1 = GridSearchCV(forest1, params, cv=3, n_jobs=-1)\n",
    "\n",
    "grid_forest1.fit(X_train_raw, y_train_raw)"
   ]
  },
  {
   "cell_type": "code",
   "execution_count": 16,
   "metadata": {
    "colab": {
     "base_uri": "https://localhost:8080/",
     "height": 51
    },
    "colab_type": "code",
    "hidden": true,
    "id": "75o-bZXMHYWg",
    "outputId": "87567e7a-64cd-4fea-baf2-704f0e41adff"
   },
   "outputs": [
    {
     "name": "stdout",
     "output_type": "stream",
     "text": [
      "Best score: 0.9559324367643484\n",
      "Best params: {'max_depth': 25, 'max_features': 40, 'n_estimators': 100}\n"
     ]
    }
   ],
   "source": [
    "# View best score and parameters\n",
    "print('Best score:', grid_forest1.best_score_)\n",
    "print('Best params:', grid_forest1.best_params_)"
   ]
  },
  {
   "cell_type": "code",
   "execution_count": 17,
   "metadata": {
    "colab": {
     "base_uri": "https://localhost:8080/",
     "height": 459
    },
    "colab_type": "code",
    "hidden": true,
    "id": "a5gxirhYHYWh",
    "outputId": "9480af00-905a-41e3-f258-11d18fea8299"
   },
   "outputs": [
    {
     "name": "stdout",
     "output_type": "stream",
     "text": [
      "Accuracy: 0.9933822279689076\n",
      "-------\n",
      "Confusion matrix:\n",
      "[[167643   1824      0      0      5      0      0]\n",
      " [   179 226449      0      0      9      3      0]\n",
      " [     0    123  28480      0      0      0      0]\n",
      " [     0      0      0   2197      0      1      0]\n",
      " [     2    734      1      0   6857      0      0]\n",
      " [     0     86      0      0      0  13808      0]\n",
      " [   104      5      0      0      0      0  16299]]\n",
      "-------\n",
      "Classification report:\n",
      "              precision    recall  f1-score   support\n",
      "\n",
      "           1       1.00      0.99      0.99    169472\n",
      "           2       0.99      1.00      0.99    226640\n",
      "           3       1.00      1.00      1.00     28603\n",
      "           4       1.00      1.00      1.00      2198\n",
      "           5       1.00      0.90      0.95      7594\n",
      "           6       1.00      0.99      1.00     13894\n",
      "           7       1.00      0.99      1.00     16408\n",
      "\n",
      "    accuracy                           0.99    464809\n",
      "   macro avg       1.00      0.98      0.99    464809\n",
      "weighted avg       0.99      0.99      0.99    464809\n",
      "\n"
     ]
    }
   ],
   "source": [
    "# View training metrics for the best model\n",
    "y_pred = grid_forest1.predict(X_train_raw)\n",
    "print_metrics(y_train_raw, y_pred)"
   ]
  },
  {
   "cell_type": "code",
   "execution_count": 18,
   "metadata": {
    "colab": {
     "base_uri": "https://localhost:8080/",
     "height": 459
    },
    "colab_type": "code",
    "hidden": true,
    "id": "FqDe2zEtHYWj",
    "outputId": "0f1ead96-2204-4e2f-a4b6-b8a1257bd33e"
   },
   "outputs": [
    {
     "name": "stdout",
     "output_type": "stream",
     "text": [
      "Accuracy: 0.9639076780089844\n",
      "-------\n",
      "Confusion matrix:\n",
      "[[20247   894     0     0     4     0    39]\n",
      " [  456 27758    32     0    43    33     8]\n",
      " [    0    57  3453    11     3    51     0]\n",
      " [    0     0    32   238     0     5     0]\n",
      " [    9   200    14     0   723     4     0]\n",
      " [    2    36    78     4     2  1614     0]\n",
      " [   73     6     0     0     1     0  1971]]\n",
      "-------\n",
      "Classification report:\n",
      "              precision    recall  f1-score   support\n",
      "\n",
      "           1       0.97      0.96      0.96     21184\n",
      "           2       0.96      0.98      0.97     28330\n",
      "           3       0.96      0.97      0.96      3575\n",
      "           4       0.94      0.87      0.90       275\n",
      "           5       0.93      0.76      0.84       950\n",
      "           6       0.95      0.93      0.94      1736\n",
      "           7       0.98      0.96      0.97      2051\n",
      "\n",
      "    accuracy                           0.96     58101\n",
      "   macro avg       0.95      0.92      0.93     58101\n",
      "weighted avg       0.96      0.96      0.96     58101\n",
      "\n"
     ]
    }
   ],
   "source": [
    "# View validation metrics for the best model\n",
    "y_pred = grid_forest1.predict(X_val_raw)\n",
    "print_metrics(y_val_raw, y_pred)"
   ]
  },
  {
   "cell_type": "markdown",
   "metadata": {
    "colab_type": "text",
    "id": "aHb_nwSrqkgu"
   },
   "source": [
    "## Random Forest 2"
   ]
  },
  {
   "cell_type": "markdown",
   "metadata": {
    "colab_type": "text",
    "id": "BtNbt3piHYWk"
   },
   "source": [
    "This is a Random Forest using the training set that has been resampled, standardized, and transformed with PCA."
   ]
  },
  {
   "cell_type": "markdown",
   "metadata": {
    "colab_type": "text",
    "id": "HH2rqP2Fqkgv"
   },
   "source": [
    "### Baseline model"
   ]
  },
  {
   "cell_type": "code",
   "execution_count": 0,
   "metadata": {
    "ExecuteTime": {
     "end_time": "2019-11-21T19:41:28.649268Z",
     "start_time": "2019-11-21T19:41:17.312923Z"
    },
    "colab": {
     "base_uri": "https://localhost:8080/",
     "height": 493
    },
    "colab_type": "code",
    "id": "ndWfNqlJqkgv",
    "outputId": "f1a5c30a-8554-41bc-9e13-69a4df42dc63",
    "scrolled": true
   },
   "outputs": [
    {
     "name": "stderr",
     "output_type": "stream",
     "text": [
      "/Users/jennykreiger/anaconda3/envs/learn-env/lib/python3.6/site-packages/sklearn/ensemble/forest.py:246: FutureWarning: The default value of n_estimators will change from 10 in version 0.20 to 100 in 0.22.\n",
      "  \"10 in version 0.20 to 100 in 0.22.\", FutureWarning)\n"
     ]
    },
    {
     "name": "stdout",
     "output_type": "stream",
     "text": [
      "Accuracy: 0.9964738455109006\n",
      "-------\n",
      "Confusion matrix:\n",
      "[[16341    40     1     0     5     2    19]\n",
      " [  106 16262    13     0    16    10     1]\n",
      " [    0     4 16360    10     2    32     0]\n",
      " [    0     0     4 16403     0     1     0]\n",
      " [    3    16     7     0 16378     4     0]\n",
      " [    1     6    42    31     7 16321     0]\n",
      " [   18     4     0     0     0     0 16386]]\n",
      "-------\n",
      "Classification report:\n",
      "              precision    recall  f1-score   support\n",
      "\n",
      "           1       0.99      1.00      0.99     16408\n",
      "           2       1.00      0.99      0.99     16408\n",
      "           3       1.00      1.00      1.00     16408\n",
      "           4       1.00      1.00      1.00     16408\n",
      "           5       1.00      1.00      1.00     16408\n",
      "           6       1.00      0.99      1.00     16408\n",
      "           7       1.00      1.00      1.00     16408\n",
      "\n",
      "   micro avg       1.00      1.00      1.00    114856\n",
      "   macro avg       1.00      1.00      1.00    114856\n",
      "weighted avg       1.00      1.00      1.00    114856\n",
      "\n"
     ]
    }
   ],
   "source": [
    "# Fit and score a baseline RandomForestClassifier\n",
    "forest2 = RandomForestClassifier()\n",
    "forest2.fit(X_train_trans, y_train_res)\n",
    "\n",
    "y_pred = forest2.predict(X_train_trans)\n",
    "\n",
    "print_metrics(y_train_res, y_pred)"
   ]
  },
  {
   "cell_type": "code",
   "execution_count": 0,
   "metadata": {
    "ExecuteTime": {
     "end_time": "2019-11-21T19:41:48.192634Z",
     "start_time": "2019-11-21T19:41:47.963565Z"
    },
    "colab": {
     "base_uri": "https://localhost:8080/",
     "height": 34
    },
    "colab_type": "code",
    "id": "2gSJoyvzqkgx",
    "outputId": "5eb00303-ea6d-4ed3-dea3-14e0263a0d32"
   },
   "outputs": [
    {
     "name": "stdout",
     "output_type": "stream",
     "text": [
      "Accuracy: 0.17373194953615256\n",
      "-------\n",
      "Confusion matrix:\n",
      "[[ 3801  3115   660   306     3   491 12808]\n",
      " [ 4524  5046  1890   543     0   636 15691]\n",
      " [  965  1427    74    16     0   130   963]\n",
      " [  104    54     6     0     0     2   109]\n",
      " [  135   188    41    22     0    26   538]\n",
      " [  566   479    41     1     0    49   600]\n",
      " [  475   264    29    98     0    61  1124]]\n",
      "-------\n",
      "Classification report:\n",
      "              precision    recall  f1-score   support\n",
      "\n",
      "           1       0.36      0.18      0.24     21184\n",
      "           2       0.48      0.18      0.26     28330\n",
      "           3       0.03      0.02      0.02      3575\n",
      "           4       0.00      0.00      0.00       275\n",
      "           5       0.00      0.00      0.00       950\n",
      "           6       0.04      0.03      0.03      1736\n",
      "           7       0.04      0.55      0.07      2051\n",
      "\n",
      "   micro avg       0.17      0.17      0.17     58101\n",
      "   macro avg       0.13      0.14      0.09     58101\n",
      "weighted avg       0.37      0.17      0.22     58101\n",
      "\n"
     ]
    }
   ],
   "source": [
    "# Validate \n",
    "y_pred = forest2.predict(X_val_trans)\n",
    "print_metrics(y_val, y_pred)"
   ]
  },
  {
   "cell_type": "markdown",
   "metadata": {
    "colab_type": "text",
    "id": "NKbJ2wB7qkg0"
   },
   "source": [
    "The Random Forest scored over 99% accuracy on the training set, but only 17% on the validation set! The Random Forest is clearly overfit to the training data. Below I'll use a grid search to see if there are other parameters that would help the Random Forest perform better on the validation set.\n",
    "\n",
    "For now, let's take a look at the importance the Random Forest assigned to each of the 40 components."
   ]
  },
  {
   "cell_type": "code",
   "execution_count": 0,
   "metadata": {
    "ExecuteTime": {
     "end_time": "2019-11-21T17:07:07.217890Z",
     "start_time": "2019-11-21T17:07:07.206639Z"
    },
    "colab": {
     "base_uri": "https://localhost:8080/",
     "height": 68
    },
    "colab_type": "code",
    "id": "SOchhHInqkg1",
    "outputId": "64b8c0bb-baca-45f5-9c30-50b317c7c79d",
    "scrolled": false
   },
   "outputs": [
    {
     "data": {
      "text/plain": [
       "array([0.06553765, 0.01673424, 0.02214505, 0.01898937, 0.02673212,\n",
       "       0.01659235, 0.04410163, 0.01531569, 0.03025534, 0.02743305,\n",
       "       0.02303043, 0.02119864, 0.02616872, 0.01857692, 0.02535643,\n",
       "       0.02113854, 0.01760921, 0.0492609 , 0.02909827, 0.02845564,\n",
       "       0.02705693, 0.02015766, 0.03466314, 0.02182325, 0.02061755,\n",
       "       0.0417118 , 0.01587844, 0.02096205, 0.02142449, 0.01304749,\n",
       "       0.02004607, 0.0152457 , 0.02569983, 0.02490222, 0.02729378,\n",
       "       0.02161401, 0.04266143, 0.01645338, 0.01482689, 0.01018369])"
      ]
     },
     "execution_count": 84,
     "metadata": {
      "tags": []
     },
     "output_type": "execute_result"
    }
   ],
   "source": [
    "# Check the feature importances\n",
    "forest2.feature_importances_"
   ]
  },
  {
   "cell_type": "code",
   "execution_count": 0,
   "metadata": {
    "ExecuteTime": {
     "end_time": "2019-11-21T17:07:08.905707Z",
     "start_time": "2019-11-21T17:07:08.433064Z"
    },
    "colab": {
     "base_uri": "https://localhost:8080/",
     "height": 621
    },
    "colab_type": "code",
    "id": "pwdTTVcqqkg7",
    "outputId": "107291f8-af4c-48fd-94d5-feb049e776a7",
    "scrolled": false
   },
   "outputs": [
    {
     "data": {
      "image/png": "[encoded data removed]",
      "text/plain": [
       "<Figure size 576x720 with 1 Axes>"
      ]
     },
     "metadata": {
      "needs_background": "light",
      "tags": []
     },
     "output_type": "display_data"
    }
   ],
   "source": [
    "# Visualize feature importances\n",
    "plot_feature_importances(forest2)"
   ]
  },
  {
   "cell_type": "markdown",
   "metadata": {
    "colab_type": "text",
    "id": "1SD_DWUVqkg8"
   },
   "source": [
    "The plot above shows that there are a few features that are a bit more powerful than the rest. A grid search (below) will help me determine if a different maximum depth of tree or a different number of trees would improve performance."
   ]
  },
  {
   "cell_type": "markdown",
   "metadata": {
    "colab_type": "text",
    "id": "rzSrIVi_qkg9"
   },
   "source": [
    "### Tune parameters with GridSearchCV"
   ]
  },
  {
   "cell_type": "code",
   "execution_count": 0,
   "metadata": {
    "ExecuteTime": {
     "end_time": "2019-11-21T18:50:25.024805Z",
     "start_time": "2019-11-21T17:09:27.384337Z"
    },
    "colab": {
     "base_uri": "https://localhost:8080/",
     "height": 377
    },
    "colab_type": "code",
    "id": "LQBZhMTSqkg9",
    "outputId": "169dd7c8-6ee0-448b-8da5-75252fee5ba7"
   },
   "outputs": [
    {
     "ename": "KeyboardInterrupt",
     "evalue": "",
     "output_type": "error",
     "traceback": [
      "\u001b[0;31m---------------------------------------------------------------------------\u001b[0m",
      "\u001b[0;31mKeyboardInterrupt\u001b[0m                         Traceback (most recent call last)",
      "\u001b[0;32m<ipython-input-87-14213ca5abf6>\u001b[0m in \u001b[0;36m<module>\u001b[0;34m()\u001b[0m\n\u001b[1;32m      7\u001b[0m \u001b[0mgrid_forest\u001b[0m \u001b[0;34m=\u001b[0m \u001b[0mGridSearchCV\u001b[0m\u001b[0;34m(\u001b[0m\u001b[0mforest\u001b[0m\u001b[0;34m,\u001b[0m \u001b[0mparams\u001b[0m\u001b[0;34m,\u001b[0m \u001b[0mcv\u001b[0m\u001b[0;34m=\u001b[0m\u001b[0;36m3\u001b[0m\u001b[0;34m,\u001b[0m \u001b[0mscoring\u001b[0m\u001b[0;34m=\u001b[0m\u001b[0;34m'accuracy'\u001b[0m\u001b[0;34m,\u001b[0m \u001b[0mn_jobs\u001b[0m\u001b[0;34m=\u001b[0m\u001b[0;34m-\u001b[0m\u001b[0;36m1\u001b[0m\u001b[0;34m)\u001b[0m\u001b[0;34m\u001b[0m\u001b[0m\n\u001b[1;32m      8\u001b[0m \u001b[0;34m\u001b[0m\u001b[0m\n\u001b[0;32m----> 9\u001b[0;31m \u001b[0mgrid_forest\u001b[0m\u001b[0;34m.\u001b[0m\u001b[0mfit\u001b[0m\u001b[0;34m(\u001b[0m\u001b[0mX_train\u001b[0m\u001b[0;34m,\u001b[0m \u001b[0my_train\u001b[0m\u001b[0;34m)\u001b[0m\u001b[0;34m\u001b[0m\u001b[0m\n\u001b[0m",
      "\u001b[0;32m~/anaconda3/envs/learn-env/lib/python3.6/site-packages/sklearn/model_selection/_search.py\u001b[0m in \u001b[0;36mfit\u001b[0;34m(self, X, y, groups, **fit_params)\u001b[0m\n\u001b[1;32m    720\u001b[0m                 \u001b[0;32mreturn\u001b[0m \u001b[0mresults_container\u001b[0m\u001b[0;34m[\u001b[0m\u001b[0;36m0\u001b[0m\u001b[0;34m]\u001b[0m\u001b[0;34m\u001b[0m\u001b[0m\n\u001b[1;32m    721\u001b[0m \u001b[0;34m\u001b[0m\u001b[0m\n\u001b[0;32m--> 722\u001b[0;31m             \u001b[0mself\u001b[0m\u001b[0;34m.\u001b[0m\u001b[0m_run_search\u001b[0m\u001b[0;34m(\u001b[0m\u001b[0mevaluate_candidates\u001b[0m\u001b[0;34m)\u001b[0m\u001b[0;34m\u001b[0m\u001b[0m\n\u001b[0m\u001b[1;32m    723\u001b[0m \u001b[0;34m\u001b[0m\u001b[0m\n\u001b[1;32m    724\u001b[0m         \u001b[0mresults\u001b[0m \u001b[0;34m=\u001b[0m \u001b[0mresults_container\u001b[0m\u001b[0;34m[\u001b[0m\u001b[0;36m0\u001b[0m\u001b[0;34m]\u001b[0m\u001b[0;34m\u001b[0m\u001b[0m\n",
      "\u001b[0;32m~/anaconda3/envs/learn-env/lib/python3.6/site-packages/sklearn/model_selection/_search.py\u001b[0m in \u001b[0;36m_run_search\u001b[0;34m(self, evaluate_candidates)\u001b[0m\n\u001b[1;32m   1189\u001b[0m     \u001b[0;32mdef\u001b[0m \u001b[0m_run_search\u001b[0m\u001b[0;34m(\u001b[0m\u001b[0mself\u001b[0m\u001b[0;34m,\u001b[0m \u001b[0mevaluate_candidates\u001b[0m\u001b[0;34m)\u001b[0m\u001b[0;34m:\u001b[0m\u001b[0;34m\u001b[0m\u001b[0m\n\u001b[1;32m   1190\u001b[0m         \u001b[0;34m\"\"\"Search all candidates in param_grid\"\"\"\u001b[0m\u001b[0;34m\u001b[0m\u001b[0m\n\u001b[0;32m-> 1191\u001b[0;31m         \u001b[0mevaluate_candidates\u001b[0m\u001b[0;34m(\u001b[0m\u001b[0mParameterGrid\u001b[0m\u001b[0;34m(\u001b[0m\u001b[0mself\u001b[0m\u001b[0;34m.\u001b[0m\u001b[0mparam_grid\u001b[0m\u001b[0;34m)\u001b[0m\u001b[0;34m)\u001b[0m\u001b[0;34m\u001b[0m\u001b[0m\n\u001b[0m\u001b[1;32m   1192\u001b[0m \u001b[0;34m\u001b[0m\u001b[0m\n\u001b[1;32m   1193\u001b[0m \u001b[0;34m\u001b[0m\u001b[0m\n",
      "\u001b[0;32m~/anaconda3/envs/learn-env/lib/python3.6/site-packages/sklearn/model_selection/_search.py\u001b[0m in \u001b[0;36mevaluate_candidates\u001b[0;34m(candidate_params)\u001b[0m\n\u001b[1;32m    709\u001b[0m                                \u001b[0;32mfor\u001b[0m \u001b[0mparameters\u001b[0m\u001b[0;34m,\u001b[0m \u001b[0;34m(\u001b[0m\u001b[0mtrain\u001b[0m\u001b[0;34m,\u001b[0m \u001b[0mtest\u001b[0m\u001b[0;34m)\u001b[0m\u001b[0;34m\u001b[0m\u001b[0m\n\u001b[1;32m    710\u001b[0m                                in product(candidate_params,\n\u001b[0;32m--> 711\u001b[0;31m                                           cv.split(X, y, groups)))\n\u001b[0m\u001b[1;32m    712\u001b[0m \u001b[0;34m\u001b[0m\u001b[0m\n\u001b[1;32m    713\u001b[0m                 \u001b[0mall_candidate_params\u001b[0m\u001b[0;34m.\u001b[0m\u001b[0mextend\u001b[0m\u001b[0;34m(\u001b[0m\u001b[0mcandidate_params\u001b[0m\u001b[0;34m)\u001b[0m\u001b[0;34m\u001b[0m\u001b[0m\n",
      "\u001b[0;32m~/anaconda3/envs/learn-env/lib/python3.6/site-packages/sklearn/externals/joblib/parallel.py\u001b[0m in \u001b[0;36m__call__\u001b[0;34m(self, iterable)\u001b[0m\n\u001b[1;32m    928\u001b[0m \u001b[0;34m\u001b[0m\u001b[0m\n\u001b[1;32m    929\u001b[0m             \u001b[0;32mwith\u001b[0m \u001b[0mself\u001b[0m\u001b[0;34m.\u001b[0m\u001b[0m_backend\u001b[0m\u001b[0;34m.\u001b[0m\u001b[0mretrieval_context\u001b[0m\u001b[0;34m(\u001b[0m\u001b[0;34m)\u001b[0m\u001b[0;34m:\u001b[0m\u001b[0;34m\u001b[0m\u001b[0m\n\u001b[0;32m--> 930\u001b[0;31m                 \u001b[0mself\u001b[0m\u001b[0;34m.\u001b[0m\u001b[0mretrieve\u001b[0m\u001b[0;34m(\u001b[0m\u001b[0;34m)\u001b[0m\u001b[0;34m\u001b[0m\u001b[0m\n\u001b[0m\u001b[1;32m    931\u001b[0m             \u001b[0;31m# Make sure that we get a last message telling us we are done\u001b[0m\u001b[0;34m\u001b[0m\u001b[0;34m\u001b[0m\u001b[0m\n\u001b[1;32m    932\u001b[0m             \u001b[0melapsed_time\u001b[0m \u001b[0;34m=\u001b[0m \u001b[0mtime\u001b[0m\u001b[0;34m.\u001b[0m\u001b[0mtime\u001b[0m\u001b[0;34m(\u001b[0m\u001b[0;34m)\u001b[0m \u001b[0;34m-\u001b[0m \u001b[0mself\u001b[0m\u001b[0;34m.\u001b[0m\u001b[0m_start_time\u001b[0m\u001b[0;34m\u001b[0m\u001b[0m\n",
      "\u001b[0;32m~/anaconda3/envs/learn-env/lib/python3.6/site-packages/sklearn/externals/joblib/parallel.py\u001b[0m in \u001b[0;36mretrieve\u001b[0;34m(self)\u001b[0m\n\u001b[1;32m    831\u001b[0m             \u001b[0;32mtry\u001b[0m\u001b[0;34m:\u001b[0m\u001b[0;34m\u001b[0m\u001b[0m\n\u001b[1;32m    832\u001b[0m                 \u001b[0;32mif\u001b[0m \u001b[0mgetattr\u001b[0m\u001b[0;34m(\u001b[0m\u001b[0mself\u001b[0m\u001b[0;34m.\u001b[0m\u001b[0m_backend\u001b[0m\u001b[0;34m,\u001b[0m \u001b[0;34m'supports_timeout'\u001b[0m\u001b[0;34m,\u001b[0m \u001b[0;32mFalse\u001b[0m\u001b[0;34m)\u001b[0m\u001b[0;34m:\u001b[0m\u001b[0;34m\u001b[0m\u001b[0m\n\u001b[0;32m--> 833\u001b[0;31m                     \u001b[0mself\u001b[0m\u001b[0;34m.\u001b[0m\u001b[0m_output\u001b[0m\u001b[0;34m.\u001b[0m\u001b[0mextend\u001b[0m\u001b[0;34m(\u001b[0m\u001b[0mjob\u001b[0m\u001b[0;34m.\u001b[0m\u001b[0mget\u001b[0m\u001b[0;34m(\u001b[0m\u001b[0mtimeout\u001b[0m\u001b[0;34m=\u001b[0m\u001b[0mself\u001b[0m\u001b[0;34m.\u001b[0m\u001b[0mtimeout\u001b[0m\u001b[0;34m)\u001b[0m\u001b[0;34m)\u001b[0m\u001b[0;34m\u001b[0m\u001b[0m\n\u001b[0m\u001b[1;32m    834\u001b[0m                 \u001b[0;32melse\u001b[0m\u001b[0;34m:\u001b[0m\u001b[0;34m\u001b[0m\u001b[0m\n\u001b[1;32m    835\u001b[0m                     \u001b[0mself\u001b[0m\u001b[0;34m.\u001b[0m\u001b[0m_output\u001b[0m\u001b[0;34m.\u001b[0m\u001b[0mextend\u001b[0m\u001b[0;34m(\u001b[0m\u001b[0mjob\u001b[0m\u001b[0;34m.\u001b[0m\u001b[0mget\u001b[0m\u001b[0;34m(\u001b[0m\u001b[0;34m)\u001b[0m\u001b[0;34m)\u001b[0m\u001b[0;34m\u001b[0m\u001b[0m\n",
      "\u001b[0;32m~/anaconda3/envs/learn-env/lib/python3.6/site-packages/sklearn/externals/joblib/_parallel_backends.py\u001b[0m in \u001b[0;36mwrap_future_result\u001b[0;34m(future, timeout)\u001b[0m\n\u001b[1;32m    519\u001b[0m         AsyncResults.get from multiprocessing.\"\"\"\n\u001b[1;32m    520\u001b[0m         \u001b[0;32mtry\u001b[0m\u001b[0;34m:\u001b[0m\u001b[0;34m\u001b[0m\u001b[0m\n\u001b[0;32m--> 521\u001b[0;31m             \u001b[0;32mreturn\u001b[0m \u001b[0mfuture\u001b[0m\u001b[0;34m.\u001b[0m\u001b[0mresult\u001b[0m\u001b[0;34m(\u001b[0m\u001b[0mtimeout\u001b[0m\u001b[0;34m=\u001b[0m\u001b[0mtimeout\u001b[0m\u001b[0;34m)\u001b[0m\u001b[0;34m\u001b[0m\u001b[0m\n\u001b[0m\u001b[1;32m    522\u001b[0m         \u001b[0;32mexcept\u001b[0m \u001b[0mLokyTimeoutError\u001b[0m\u001b[0;34m:\u001b[0m\u001b[0;34m\u001b[0m\u001b[0m\n\u001b[1;32m    523\u001b[0m             \u001b[0;32mraise\u001b[0m \u001b[0mTimeoutError\u001b[0m\u001b[0;34m(\u001b[0m\u001b[0;34m)\u001b[0m\u001b[0;34m\u001b[0m\u001b[0m\n",
      "\u001b[0;32m~/anaconda3/envs/learn-env/lib/python3.6/concurrent/futures/_base.py\u001b[0m in \u001b[0;36mresult\u001b[0;34m(self, timeout)\u001b[0m\n\u001b[1;32m    425\u001b[0m                 \u001b[0;32mreturn\u001b[0m \u001b[0mself\u001b[0m\u001b[0;34m.\u001b[0m\u001b[0m__get_result\u001b[0m\u001b[0;34m(\u001b[0m\u001b[0;34m)\u001b[0m\u001b[0;34m\u001b[0m\u001b[0m\n\u001b[1;32m    426\u001b[0m \u001b[0;34m\u001b[0m\u001b[0m\n\u001b[0;32m--> 427\u001b[0;31m             \u001b[0mself\u001b[0m\u001b[0;34m.\u001b[0m\u001b[0m_condition\u001b[0m\u001b[0;34m.\u001b[0m\u001b[0mwait\u001b[0m\u001b[0;34m(\u001b[0m\u001b[0mtimeout\u001b[0m\u001b[0;34m)\u001b[0m\u001b[0;34m\u001b[0m\u001b[0m\n\u001b[0m\u001b[1;32m    428\u001b[0m \u001b[0;34m\u001b[0m\u001b[0m\n\u001b[1;32m    429\u001b[0m             \u001b[0;32mif\u001b[0m \u001b[0mself\u001b[0m\u001b[0;34m.\u001b[0m\u001b[0m_state\u001b[0m \u001b[0;32min\u001b[0m \u001b[0;34m[\u001b[0m\u001b[0mCANCELLED\u001b[0m\u001b[0;34m,\u001b[0m \u001b[0mCANCELLED_AND_NOTIFIED\u001b[0m\u001b[0;34m]\u001b[0m\u001b[0;34m:\u001b[0m\u001b[0;34m\u001b[0m\u001b[0m\n",
      "\u001b[0;32m~/anaconda3/envs/learn-env/lib/python3.6/threading.py\u001b[0m in \u001b[0;36mwait\u001b[0;34m(self, timeout)\u001b[0m\n\u001b[1;32m    293\u001b[0m         \u001b[0;32mtry\u001b[0m\u001b[0;34m:\u001b[0m    \u001b[0;31m# restore state no matter what (e.g., KeyboardInterrupt)\u001b[0m\u001b[0;34m\u001b[0m\u001b[0m\n\u001b[1;32m    294\u001b[0m             \u001b[0;32mif\u001b[0m \u001b[0mtimeout\u001b[0m \u001b[0;32mis\u001b[0m \u001b[0;32mNone\u001b[0m\u001b[0;34m:\u001b[0m\u001b[0;34m\u001b[0m\u001b[0m\n\u001b[0;32m--> 295\u001b[0;31m                 \u001b[0mwaiter\u001b[0m\u001b[0;34m.\u001b[0m\u001b[0macquire\u001b[0m\u001b[0;34m(\u001b[0m\u001b[0;34m)\u001b[0m\u001b[0;34m\u001b[0m\u001b[0m\n\u001b[0m\u001b[1;32m    296\u001b[0m                 \u001b[0mgotit\u001b[0m \u001b[0;34m=\u001b[0m \u001b[0;32mTrue\u001b[0m\u001b[0;34m\u001b[0m\u001b[0m\n\u001b[1;32m    297\u001b[0m             \u001b[0;32melse\u001b[0m\u001b[0;34m:\u001b[0m\u001b[0;34m\u001b[0m\u001b[0m\n",
      "\u001b[0;31mKeyboardInterrupt\u001b[0m: "
     ]
    }
   ],
   "source": [
    "# Use GridSearchCV to find best parameters for the Random Forest\n",
    "params = {'n_estimators': [100],\n",
    "          'max_features': [5, 20, 40],\n",
    "          'max_depth': [20, 25],\n",
    "          'min_samples_leaf': [5, 10, 20]}\n",
    "\n",
    "grid_forest2 = GridSearchCV(forest2, params, cv=3, n_jobs=-1)\n",
    "\n",
    "grid_forest2.fit(X_train_trans, y_train_res)"
   ]
  },
  {
   "cell_type": "code",
   "execution_count": 0,
   "metadata": {
    "ExecuteTime": {
     "end_time": "2019-11-19T23:28:51.643074Z",
     "start_time": "2019-11-19T22:57:01.746986Z"
    },
    "colab": {
     "base_uri": "https://localhost:8080/",
     "height": 51
    },
    "colab_type": "code",
    "id": "jv_yYoFXqkg_",
    "outputId": "75b9c70e-269e-4c09-e174-4baa30ec1a80",
    "scrolled": true
   },
   "outputs": [
    {
     "name": "stdout",
     "output_type": "stream",
     "text": [
      "Best score: 0.884124468900188\n",
      "Best params: {'max_depth': 20, 'n_estimators': 100}\n"
     ]
    }
   ],
   "source": [
    "# View best score and parameters\n",
    "print('Best score:', grid_forest2.best_score_)\n",
    "print('Best params:', grid_forest2.best_params_)"
   ]
  },
  {
   "cell_type": "code",
   "execution_count": 0,
   "metadata": {
    "ExecuteTime": {
     "end_time": "2019-11-19T17:06:05.998766Z",
     "start_time": "2019-11-19T17:06:05.889772Z"
    },
    "colab": {
     "base_uri": "https://localhost:8080/",
     "height": 459
    },
    "colab_type": "code",
    "id": "MNWMZF7HqkhJ",
    "outputId": "ce3b4512-5c4f-4e44-b85d-2f2eeef4b120",
    "scrolled": false
   },
   "outputs": [
    {
     "name": "stdout",
     "output_type": "stream",
     "text": [
      "Training accuracy: 0.983918994218848\n",
      "-------\n",
      "Confusion matrix:\n",
      "[[16048   167     2     0   122     4    65]\n",
      " [  235 15746    38     0   281   102     6]\n",
      " [    0     2 15812   153    40   401     0]\n",
      " [    0     0     1 16400     0     7     0]\n",
      " [    1     7    26     0 16368     6     0]\n",
      " [    0     3    46    81    20 16258     0]\n",
      " [   28     1     0     0     2     0 16377]]\n",
      "-------\n",
      "Classification report:\n",
      "              precision    recall  f1-score   support\n",
      "\n",
      "           1       0.98      0.98      0.98     16408\n",
      "           2       0.99      0.96      0.97     16408\n",
      "           3       0.99      0.96      0.98     16408\n",
      "           4       0.99      1.00      0.99     16408\n",
      "           5       0.97      1.00      0.98     16408\n",
      "           6       0.97      0.99      0.98     16408\n",
      "           7       1.00      1.00      1.00     16408\n",
      "\n",
      "    accuracy                           0.98    114856\n",
      "   macro avg       0.98      0.98      0.98    114856\n",
      "weighted avg       0.98      0.98      0.98    114856\n",
      "\n"
     ]
    }
   ],
   "source": [
    "# View the metrics for the best model\n",
    "y_pred = grid_forest2.predict(X_train_trans)\n",
    "print_metrics(y_train_res, y_pred)"
   ]
  },
  {
   "cell_type": "code",
   "execution_count": 0,
   "metadata": {
    "ExecuteTime": {
     "end_time": "2019-11-19T17:07:52.932588Z",
     "start_time": "2019-11-19T17:07:52.765541Z"
    },
    "colab": {
     "base_uri": "https://localhost:8080/",
     "height": 34
    },
    "colab_type": "code",
    "id": "Pyiv0bSuqkhL",
    "outputId": "945de37f-c197-409f-b9ea-88a799b93bae"
   },
   "outputs": [
    {
     "data": {
      "text/plain": [
       "0.2972582227500387"
      ]
     },
     "execution_count": 80,
     "metadata": {
      "tags": []
     },
     "output_type": "execute_result"
    }
   ],
   "source": [
    "# View the metrics for the best model\n",
    "y_pred = grid_forest2.predict(X_val_trans)\n",
    "print_metrics(y_val, y_pred)"
   ]
  },
  {
   "cell_type": "markdown",
   "metadata": {
    "colab_type": "text",
    "id": "O5tmcHM1qkhN"
   },
   "source": [
    "## Evaluating the best Random Forest classifier"
   ]
  },
  {
   "cell_type": "code",
   "execution_count": 0,
   "metadata": {
    "ExecuteTime": {
     "end_time": "2019-11-19T23:36:48.294479Z",
     "start_time": "2019-11-19T23:34:28.448021Z"
    },
    "colab": {
     "base_uri": "https://localhost:8080/",
     "height": 621
    },
    "colab_type": "code",
    "id": "fthQxjKnqkhN",
    "outputId": "88476b5f-850f-4be4-ccc2-275b65816b62",
    "scrolled": true
   },
   "outputs": [
    {
     "data": {
      "image/png": "[encoded data removed]",
      "text/plain": [
       "<Figure size 576x720 with 1 Axes>"
      ]
     },
     "metadata": {
      "tags": []
     },
     "output_type": "display_data"
    }
   ],
   "source": [
    "# Review feature importances for the model with the best parameters\n",
    "forest_best = RandomForestClassifier(max_depth=20, n_estimators=100)\n",
    "forest_best.fit(X_train_trans, y_train_res)\n",
    "\n",
    "plot_feature_importances(forest_best)"
   ]
  },
  {
   "cell_type": "code",
   "execution_count": 0,
   "metadata": {
    "ExecuteTime": {
     "end_time": "2019-11-19T23:38:13.497960Z",
     "start_time": "2019-11-19T23:38:13.479579Z"
    },
    "colab": {
     "base_uri": "https://localhost:8080/",
     "height": 459
    },
    "colab_type": "code",
    "id": "s2JAfBbOqkhP",
    "outputId": "c9e11fb2-6806-496e-89da-cc21bd834584",
    "scrolled": true
   },
   "outputs": [
    {
     "name": "stdout",
     "output_type": "stream",
     "text": [
      "Training accuracy: 0.9837100369157902\n",
      "-------\n",
      "Confusion matrix:\n",
      "[[16043   161     1     0   125     3    75]\n",
      " [  165 15792    43     0   301   100     7]\n",
      " [    0     5 15784   144    42   433     0]\n",
      " [    0     0     1 16396     0    11     0]\n",
      " [    1    10    30     0 16360     7     0]\n",
      " [    0     7    52   101    19 16229     0]\n",
      " [   24     1     0     0     2     0 16381]]\n",
      "-------\n",
      "Classification report:\n",
      "              precision    recall  f1-score   support\n",
      "\n",
      "           1       0.99      0.98      0.98     16408\n",
      "           2       0.99      0.96      0.98     16408\n",
      "           3       0.99      0.96      0.98     16408\n",
      "           4       0.99      1.00      0.99     16408\n",
      "           5       0.97      1.00      0.98     16408\n",
      "           6       0.97      0.99      0.98     16408\n",
      "           7       1.00      1.00      1.00     16408\n",
      "\n",
      "    accuracy                           0.98    114856\n",
      "   macro avg       0.98      0.98      0.98    114856\n",
      "weighted avg       0.98      0.98      0.98    114856\n",
      "\n"
     ]
    }
   ],
   "source": [
    "# View metrics for the optimized model\n",
    "y_pred = forest_best.predict(X_train_trans)\n",
    "print_metrics(y_train_res, y_pred)"
   ]
  },
  {
   "cell_type": "code",
   "execution_count": 0,
   "metadata": {
    "ExecuteTime": {
     "end_time": "2019-11-19T23:38:19.635768Z",
     "start_time": "2019-11-19T23:38:19.619738Z"
    },
    "colab": {
     "base_uri": "https://localhost:8080/",
     "height": 34
    },
    "colab_type": "code",
    "id": "uT9LdAdtqkhQ",
    "outputId": "bdabf390-e388-419d-8cc3-bab89633f864",
    "scrolled": false
   },
   "outputs": [
    {
     "data": {
      "text/plain": [
       "0.31147484552761573"
      ]
     },
     "execution_count": 83,
     "metadata": {
      "tags": []
     },
     "output_type": "execute_result"
    }
   ],
   "source": [
    "# View the metrics for the best model\n",
    "y_pred = forest_best.predict(X_val_trans)\n",
    "print_metrics(y_val, y_pred)"
   ]
  },
  {
   "cell_type": "code",
   "execution_count": 0,
   "metadata": {
    "ExecuteTime": {
     "end_time": "2019-11-19T17:33:51.466324Z",
     "start_time": "2019-11-19T17:33:51.292450Z"
    },
    "colab": {
     "base_uri": "https://localhost:8080/",
     "height": 513
    },
    "colab_type": "code",
    "id": "wT5MpFFKqkhU",
    "outputId": "540a5d63-7dc5-4681-a3af-e19304fa139d"
   },
   "outputs": [
    {
     "name": "stdout",
     "output_type": "stream",
     "text": [
      "Training accuracy: 0.31147484552761573\n",
      "-------\n",
      "Confusion matrix:\n",
      "[[17838     0     0     0     0     0  3346]\n",
      " [23105     0     0     0     0     0  5225]\n",
      " [ 1706     0     0     0     0     0  1869]\n",
      " [  199     0     0     0     0     0    76]\n",
      " [  598     0     0     0     0     0   352]\n",
      " [  934     0     0     0     0     0   802]\n",
      " [ 1792     0     0     0     0     0   259]]\n",
      "-------\n",
      "Classification report:\n",
      "              precision    recall  f1-score   support\n",
      "\n",
      "           1       0.39      0.84      0.53     21184\n",
      "           2       0.00      0.00      0.00     28330\n",
      "           3       0.00      0.00      0.00      3575\n",
      "           4       0.00      0.00      0.00       275\n",
      "           5       0.00      0.00      0.00       950\n",
      "           6       0.00      0.00      0.00      1736\n",
      "           7       0.02      0.13      0.04      2051\n",
      "\n",
      "    accuracy                           0.31     58101\n",
      "   macro avg       0.06      0.14      0.08     58101\n",
      "weighted avg       0.14      0.31      0.19     58101\n",
      "\n"
     ]
    },
    {
     "name": "stderr",
     "output_type": "stream",
     "text": [
      "/usr/local/lib/python3.6/dist-packages/sklearn/metrics/classification.py:1437: UndefinedMetricWarning: Precision and F-score are ill-defined and being set to 0.0 in labels with no predicted samples.\n",
      "  'precision', 'predicted', average, warn_for)\n"
     ]
    }
   ],
   "source": [
    "# View full metrics for the validation set\n",
    "y_val_pred = forest_best.predict(X_val_trans)\n",
    "print_metrics(y_val, y_val_pred)"
   ]
  },
  {
   "cell_type": "code",
   "execution_count": 0,
   "metadata": {
    "colab": {},
    "colab_type": "code",
    "id": "e5lEeqbOqkhX"
   },
   "outputs": [],
   "source": [
    "# Find AUC and plot ROC curve\n",
    "# y_score_forest = forest_best.fit(X_train_trans, y_train_res).decision_function(X_test_trans)\n",
    "\n",
    "roc_it(y_test, y_score_forest)"
   ]
  },
  {
   "cell_type": "markdown",
   "metadata": {
    "colab_type": "text",
    "id": "q-IXx5TeHYXX"
   },
   "source": [
    "## XGBoost"
   ]
  },
  {
   "cell_type": "markdown",
   "metadata": {
    "colab_type": "text",
    "id": "zIpOKID4HYXX"
   },
   "source": [
    "intro"
   ]
  },
  {
   "cell_type": "markdown",
   "metadata": {
    "colab_type": "text",
    "id": "_l1pRb4zqkhZ"
   },
   "source": [
    "### Baseline model"
   ]
  },
  {
   "cell_type": "code",
   "execution_count": 0,
   "metadata": {
    "ExecuteTime": {
     "end_time": "2019-11-19T16:48:10.688952Z",
     "start_time": "2019-11-19T16:48:10.683271Z"
    },
    "colab": {},
    "colab_type": "code",
    "id": "8kWxSQYWqkhb"
   },
   "outputs": [],
   "source": [
    "xg = xgb.XGBClassifier()"
   ]
  },
  {
   "cell_type": "code",
   "execution_count": 0,
   "metadata": {
    "ExecuteTime": {
     "start_time": "2019-11-19T16:48:11.575Z"
    },
    "colab": {
     "base_uri": "https://localhost:8080/",
     "height": 136
    },
    "colab_type": "code",
    "id": "OukWjZPVqkhe",
    "outputId": "01bfaa3e-be1e-4020-d549-918257489193"
   },
   "outputs": [
    {
     "data": {
      "text/plain": [
       "XGBClassifier(base_score=0.5, booster='gbtree', colsample_bylevel=1,\n",
       "              colsample_bynode=1, colsample_bytree=1, gamma=0,\n",
       "              learning_rate=0.1, max_delta_step=0, max_depth=3,\n",
       "              min_child_weight=1, missing=None, n_estimators=100, n_jobs=1,\n",
       "              nthread=None, objective='multi:softprob', random_state=0,\n",
       "              reg_alpha=0, reg_lambda=1, scale_pos_weight=1, seed=None,\n",
       "              silent=None, subsample=1, verbosity=1)"
      ]
     },
     "execution_count": 86,
     "metadata": {
      "tags": []
     },
     "output_type": "execute_result"
    }
   ],
   "source": [
    "xg.fit(X_train_trans, y_train_res)"
   ]
  },
  {
   "cell_type": "code",
   "execution_count": 0,
   "metadata": {
    "ExecuteTime": {
     "start_time": "2019-11-19T15:33:53.906Z"
    },
    "colab": {
     "base_uri": "https://localhost:8080/",
     "height": 459
    },
    "colab_type": "code",
    "id": "FZ7mznGAqkhf",
    "outputId": "816d4a90-398e-4f19-b347-40af9d0aa03b"
   },
   "outputs": [
    {
     "name": "stdout",
     "output_type": "stream",
     "text": [
      "Training accuracy: 0.7035331197325346\n",
      "-------\n",
      "Confusion matrix:\n",
      "[[10286  2744    26     0  1060   128  2164]\n",
      " [ 4276  7305   326    10  3313   937   241]\n",
      " [    0    21 10899  1819   690  2979     0]\n",
      " [    0     0   811 15210     0   387     0]\n",
      " [  610  1489   694     0 12976   639     0]\n",
      " [   22   101  3841  1626   826  9992     0]\n",
      " [ 2146    45     0     0    80     0 14137]]\n",
      "-------\n",
      "Classification report:\n",
      "              precision    recall  f1-score   support\n",
      "\n",
      "           1       0.59      0.63      0.61     16408\n",
      "           2       0.62      0.45      0.52     16408\n",
      "           3       0.66      0.66      0.66     16408\n",
      "           4       0.81      0.93      0.87     16408\n",
      "           5       0.68      0.79      0.73     16408\n",
      "           6       0.66      0.61      0.64     16408\n",
      "           7       0.85      0.86      0.86     16408\n",
      "\n",
      "    accuracy                           0.70    114856\n",
      "   macro avg       0.70      0.70      0.70    114856\n",
      "weighted avg       0.70      0.70      0.70    114856\n",
      "\n"
     ]
    }
   ],
   "source": [
    "y_pred = xg.predict(X_train_trans)\n",
    "\n",
    "print_metrics(y_train_res, y_pred)"
   ]
  },
  {
   "cell_type": "code",
   "execution_count": 0,
   "metadata": {
    "colab": {
     "base_uri": "https://localhost:8080/",
     "height": 34
    },
    "colab_type": "code",
    "id": "UYyKeErFqkhg",
    "outputId": "276acb4f-42a0-4ba3-cac7-086fce6ce414"
   },
   "outputs": [
    {
     "data": {
      "text/plain": [
       "0.03530059723584792"
      ]
     },
     "execution_count": 88,
     "metadata": {
      "tags": []
     },
     "output_type": "execute_result"
    }
   ],
   "source": [
    "y_pred = xg.predict(X_val_trans)\n",
    "\n",
    "print_metrics(y_val, y_pred)"
   ]
  },
  {
   "cell_type": "markdown",
   "metadata": {
    "colab_type": "text",
    "id": "H11q0IphHYXg"
   },
   "source": [
    "### Tune parameters with GridSearchCV"
   ]
  },
  {
   "cell_type": "code",
   "execution_count": 0,
   "metadata": {
    "colab": {
     "base_uri": "https://localhost:8080/",
     "height": 51
    },
    "colab_type": "code",
    "id": "eWbZB4k6HYXh",
    "outputId": "db35ead4-4270-411d-f150-ea792e853467"
   },
   "outputs": [
    {
     "name": "stdout",
     "output_type": "stream",
     "text": [
      "Best score: 0.6970206171205684\n",
      "Best params: {'learning_rate': 0.1, 'n_estimators': 100}\n"
     ]
    }
   ],
   "source": [
    "params = {'learning_rate': [0.01, 0.1],\n",
    "          'n_estimators': [5, 30, 100]\n",
    "}\n",
    "\n",
    "grid_xgb = GridSearchCV(xg, params, scoring='accuracy', cv=3, n_jobs=-1)\n",
    "grid_xgb.fit(X_train_trans, y_train_res)\n",
    "\n",
    "print('Best score:', grid_xgb.best_score_)\n",
    "print('Best params:', grid_xgb.best_params_)"
   ]
  },
  {
   "cell_type": "code",
   "execution_count": 0,
   "metadata": {
    "colab": {},
    "colab_type": "code",
    "id": "t-rSDwqLHYXj"
   },
   "outputs": [],
   "source": [
    "y_pred = grid_xgb.predict(X_train_trans)\n",
    "\n",
    "print_metrics(y_train_res, y_pred)"
   ]
  },
  {
   "cell_type": "code",
   "execution_count": 0,
   "metadata": {
    "colab": {
     "base_uri": "https://localhost:8080/",
     "height": 34
    },
    "colab_type": "code",
    "id": "ipVjUSJXHYXl",
    "outputId": "a40d1752-94a1-432f-fcb5-2750191e2b39"
   },
   "outputs": [
    {
     "data": {
      "text/plain": [
       "0.03530059723584792"
      ]
     },
     "execution_count": 91,
     "metadata": {
      "tags": []
     },
     "output_type": "execute_result"
    }
   ],
   "source": [
    "y_pred = grid_xgb.predict(X_val_trans)\n",
    "\n",
    "print_metrics(y_val, y_pred)"
   ]
  },
  {
   "cell_type": "markdown",
   "metadata": {
    "colab_type": "text",
    "id": "Kt-ju9pcqkhr"
   },
   "source": [
    "## Evaluating the best XGBoost classifier"
   ]
  },
  {
   "cell_type": "code",
   "execution_count": 0,
   "metadata": {
    "colab": {},
    "colab_type": "code",
    "id": "vXegbFN0qkhr"
   },
   "outputs": [],
   "source": [
    "# Build the optimized model\n",
    "# xgb_best = XGBClassifier() # insert best params\n",
    "# xgb_best.fit(X_train_trans, y_train_res)"
   ]
  },
  {
   "cell_type": "code",
   "execution_count": 0,
   "metadata": {
    "colab": {},
    "colab_type": "code",
    "id": "5xP7gG3-qkht"
   },
   "outputs": [],
   "source": [
    "# View metrics for the optimized model\n",
    "# y_pred = xgb_best.predict(X_train_trans)\n",
    "# print_metrics(y_train_res, y_pred)"
   ]
  },
  {
   "cell_type": "code",
   "execution_count": 0,
   "metadata": {
    "colab": {},
    "colab_type": "code",
    "id": "k4ocKvx1qkhu"
   },
   "outputs": [],
   "source": [
    "# Score the model on the validation set\n",
    "# xgb_best.score(X_val_trans, y_val)"
   ]
  },
  {
   "cell_type": "code",
   "execution_count": 0,
   "metadata": {
    "colab": {},
    "colab_type": "code",
    "id": "6PfuAenrqkhx"
   },
   "outputs": [],
   "source": [
    "# View full metrics for the validation set\n",
    "# y_val_pred = xgb_best.predict(X_val_trans)\n",
    "# print_metrics(y_val, y_val_pred)"
   ]
  },
  {
   "cell_type": "code",
   "execution_count": 0,
   "metadata": {
    "colab": {},
    "colab_type": "code",
    "id": "goaOZXVqqkhy"
   },
   "outputs": [],
   "source": [
    "# Find AUC and plot ROC curve\n",
    "# y_score_xg = xgb_best.fit(X_train_trans, y_train_res).decision_function(X_test_trans)\n",
    "\n",
    "# roc_it(y_test, y_score_xg)"
   ]
  },
  {
   "cell_type": "markdown",
   "metadata": {
    "colab_type": "text",
    "id": "7mtVTAw9qkh0"
   },
   "source": [
    "## Support Vector Machine"
   ]
  },
  {
   "cell_type": "markdown",
   "metadata": {
    "colab_type": "text",
    "id": "8FyvM4QRqkh2"
   },
   "source": [
    "### Baseline model"
   ]
  },
  {
   "cell_type": "code",
   "execution_count": 0,
   "metadata": {
    "ExecuteTime": {
     "end_time": "2019-11-20T00:05:09.674293Z",
     "start_time": "2019-11-20T00:02:57.330353Z"
    },
    "colab": {
     "base_uri": "https://localhost:8080/",
     "height": 85
    },
    "colab_type": "code",
    "id": "uiDB6xT1qkh3",
    "outputId": "a57ebb0a-621f-46f1-da28-510ee5138536",
    "scrolled": true
   },
   "outputs": [
    {
     "data": {
      "text/plain": [
       "SVC(C=1.0, cache_size=200, class_weight=None, coef0=0.0,\n",
       "    decision_function_shape='ovr', degree=3, gamma='auto', kernel='rbf',\n",
       "    max_iter=-1, probability=False, random_state=None, shrinking=True,\n",
       "    tol=0.001, verbose=False)"
      ]
     },
     "execution_count": 92,
     "metadata": {
      "tags": []
     },
     "output_type": "execute_result"
    }
   ],
   "source": [
    "# Build a baseline model\n",
    "svc = SVC(gamma='auto')\n",
    "svc.fit(X_train_trans, y_train_res)"
   ]
  },
  {
   "cell_type": "code",
   "execution_count": 0,
   "metadata": {
    "ExecuteTime": {
     "end_time": "2019-11-20T00:06:47.273005Z",
     "start_time": "2019-11-20T00:05:16.857938Z"
    },
    "colab": {
     "base_uri": "https://localhost:8080/",
     "height": 459
    },
    "colab_type": "code",
    "id": "3-Py93Tmqkh5",
    "outputId": "d8471afa-e1b4-4c29-eddf-e2021ac9a02d",
    "scrolled": false
   },
   "outputs": [
    {
     "name": "stdout",
     "output_type": "stream",
     "text": [
      "Training accuracy: 0.6426830117712614\n",
      "-------\n",
      "Confusion matrix:\n",
      "[[ 8493  4939    12     0  1103    91  1770]\n",
      " [ 3204  9045   328    18  2973   766    74]\n",
      " [    0   108  8891  2699   601  4109     0]\n",
      " [    0     0  1548 14003     0   857     0]\n",
      " [  587  2880  1363     0 11024   554     0]\n",
      " [    1   337  3484  2050  1075  9461     0]\n",
      " [ 2714   680    63     0    52     0 12899]]\n",
      "-------\n",
      "Classification report:\n",
      "              precision    recall  f1-score   support\n",
      "\n",
      "           1       0.57      0.52      0.54     16408\n",
      "           2       0.50      0.55      0.53     16408\n",
      "           3       0.57      0.54      0.55     16408\n",
      "           4       0.75      0.85      0.80     16408\n",
      "           5       0.66      0.67      0.66     16408\n",
      "           6       0.60      0.58      0.59     16408\n",
      "           7       0.87      0.79      0.83     16408\n",
      "\n",
      "    accuracy                           0.64    114856\n",
      "   macro avg       0.64      0.64      0.64    114856\n",
      "weighted avg       0.64      0.64      0.64    114856\n",
      "\n"
     ]
    }
   ],
   "source": [
    "y_pred = svc.predict(X_train_trans)\n",
    "print_metrics(y_train_res, y_pred)"
   ]
  },
  {
   "cell_type": "code",
   "execution_count": 0,
   "metadata": {
    "ExecuteTime": {
     "end_time": "2019-11-20T00:07:45.399445Z",
     "start_time": "2019-11-20T00:07:34.157310Z"
    },
    "colab": {
     "base_uri": "https://localhost:8080/",
     "height": 34
    },
    "colab_type": "code",
    "id": "7U8v2L48qkh7",
    "outputId": "e950f495-2d91-48ec-c1fc-f0804221e11f"
   },
   "outputs": [
    {
     "data": {
      "text/plain": [
       "0.061530782602709076"
      ]
     },
     "execution_count": 94,
     "metadata": {
      "tags": []
     },
     "output_type": "execute_result"
    }
   ],
   "source": [
    "svc.score(X_val_trans, y_val)"
   ]
  },
  {
   "cell_type": "markdown",
   "metadata": {
    "colab_type": "text",
    "id": "reG8hzSHqkh8"
   },
   "source": [
    "### Tune parameters with GridSearchCV"
   ]
  },
  {
   "cell_type": "code",
   "execution_count": null,
   "metadata": {
    "ExecuteTime": {
     "end_time": "2019-11-20T00:13:37.895411Z",
     "start_time": "2019-11-20T00:09:56.568187Z"
    },
    "colab": {},
    "colab_type": "code",
    "id": "NHA3Nm4Zqkh9",
    "outputId": "d6c430e1-29b3-4930-bb24-79f9adfc9688"
   },
   "outputs": [],
   "source": [
    "params = {'gamma': [0.1, 1.0, 100.0],\n",
    "          'C': [0.1, 1.0, 10.0]}\n",
    "\n",
    "grid_svc = GridSearchCV(svc, params, cv=3, scoring='accuracy')\n",
    "grid_svc.fit(X_train_trans, y_train_res)"
   ]
  },
  {
   "cell_type": "code",
   "execution_count": 0,
   "metadata": {
    "ExecuteTime": {
     "end_time": "2019-11-20T00:13:37.895411Z",
     "start_time": "2019-11-20T00:09:56.568187Z"
    },
    "colab": {},
    "colab_type": "code",
    "id": "NHA3Nm4Zqkh9",
    "outputId": "d6c430e1-29b3-4930-bb24-79f9adfc9688",
    "scrolled": true
   },
   "outputs": [
    {
     "ename": "KeyboardInterrupt",
     "evalue": "",
     "output_type": "error",
     "traceback": [
      "\u001b[0;31m---------------------------------------------------------------------------\u001b[0m",
      "\u001b[0;31mKeyboardInterrupt\u001b[0m                         Traceback (most recent call last)",
      "\u001b[0;32m<ipython-input-48-c077c017e42d>\u001b[0m in \u001b[0;36m<module>\u001b[0;34m()\u001b[0m\n\u001b[1;32m      3\u001b[0m \u001b[0;34m\u001b[0m\u001b[0m\n\u001b[1;32m      4\u001b[0m \u001b[0mgrid_svc\u001b[0m \u001b[0;34m=\u001b[0m \u001b[0mGridSearchCV\u001b[0m\u001b[0;34m(\u001b[0m\u001b[0msvc\u001b[0m\u001b[0;34m,\u001b[0m \u001b[0mparams\u001b[0m\u001b[0;34m,\u001b[0m \u001b[0mcv\u001b[0m\u001b[0;34m=\u001b[0m\u001b[0;36m3\u001b[0m\u001b[0;34m,\u001b[0m \u001b[0mscoring\u001b[0m\u001b[0;34m=\u001b[0m\u001b[0;34m'accuracy'\u001b[0m\u001b[0;34m)\u001b[0m\u001b[0;34m\u001b[0m\u001b[0m\n\u001b[0;32m----> 5\u001b[0;31m \u001b[0mgrid_svc\u001b[0m\u001b[0;34m.\u001b[0m\u001b[0mfit\u001b[0m\u001b[0;34m(\u001b[0m\u001b[0mX_train\u001b[0m\u001b[0;34m,\u001b[0m \u001b[0my_train\u001b[0m\u001b[0;34m)\u001b[0m\u001b[0;34m\u001b[0m\u001b[0m\n\u001b[0m\u001b[1;32m      6\u001b[0m \u001b[0;34m\u001b[0m\u001b[0m\n\u001b[1;32m      7\u001b[0m \u001b[0;34m\u001b[0m\u001b[0m\n",
      "\u001b[0;32m~/anaconda3/envs/learn-env/lib/python3.6/site-packages/sklearn/model_selection/_search.py\u001b[0m in \u001b[0;36mfit\u001b[0;34m(self, X, y, groups, **fit_params)\u001b[0m\n\u001b[1;32m    720\u001b[0m                 \u001b[0;32mreturn\u001b[0m \u001b[0mresults_container\u001b[0m\u001b[0;34m[\u001b[0m\u001b[0;36m0\u001b[0m\u001b[0;34m]\u001b[0m\u001b[0;34m\u001b[0m\u001b[0m\n\u001b[1;32m    721\u001b[0m \u001b[0;34m\u001b[0m\u001b[0m\n\u001b[0;32m--> 722\u001b[0;31m             \u001b[0mself\u001b[0m\u001b[0;34m.\u001b[0m\u001b[0m_run_search\u001b[0m\u001b[0;34m(\u001b[0m\u001b[0mevaluate_candidates\u001b[0m\u001b[0;34m)\u001b[0m\u001b[0;34m\u001b[0m\u001b[0m\n\u001b[0m\u001b[1;32m    723\u001b[0m \u001b[0;34m\u001b[0m\u001b[0m\n\u001b[1;32m    724\u001b[0m         \u001b[0mresults\u001b[0m \u001b[0;34m=\u001b[0m \u001b[0mresults_container\u001b[0m\u001b[0;34m[\u001b[0m\u001b[0;36m0\u001b[0m\u001b[0;34m]\u001b[0m\u001b[0;34m\u001b[0m\u001b[0m\n",
      "\u001b[0;32m~/anaconda3/envs/learn-env/lib/python3.6/site-packages/sklearn/model_selection/_search.py\u001b[0m in \u001b[0;36m_run_search\u001b[0;34m(self, evaluate_candidates)\u001b[0m\n\u001b[1;32m   1189\u001b[0m     \u001b[0;32mdef\u001b[0m \u001b[0m_run_search\u001b[0m\u001b[0;34m(\u001b[0m\u001b[0mself\u001b[0m\u001b[0;34m,\u001b[0m \u001b[0mevaluate_candidates\u001b[0m\u001b[0;34m)\u001b[0m\u001b[0;34m:\u001b[0m\u001b[0;34m\u001b[0m\u001b[0m\n\u001b[1;32m   1190\u001b[0m         \u001b[0;34m\"\"\"Search all candidates in param_grid\"\"\"\u001b[0m\u001b[0;34m\u001b[0m\u001b[0m\n\u001b[0;32m-> 1191\u001b[0;31m         \u001b[0mevaluate_candidates\u001b[0m\u001b[0;34m(\u001b[0m\u001b[0mParameterGrid\u001b[0m\u001b[0;34m(\u001b[0m\u001b[0mself\u001b[0m\u001b[0;34m.\u001b[0m\u001b[0mparam_grid\u001b[0m\u001b[0;34m)\u001b[0m\u001b[0;34m)\u001b[0m\u001b[0;34m\u001b[0m\u001b[0m\n\u001b[0m\u001b[1;32m   1192\u001b[0m \u001b[0;34m\u001b[0m\u001b[0m\n\u001b[1;32m   1193\u001b[0m \u001b[0;34m\u001b[0m\u001b[0m\n",
      "\u001b[0;32m~/anaconda3/envs/learn-env/lib/python3.6/site-packages/sklearn/model_selection/_search.py\u001b[0m in \u001b[0;36mevaluate_candidates\u001b[0;34m(candidate_params)\u001b[0m\n\u001b[1;32m    709\u001b[0m                                \u001b[0;32mfor\u001b[0m \u001b[0mparameters\u001b[0m\u001b[0;34m,\u001b[0m \u001b[0;34m(\u001b[0m\u001b[0mtrain\u001b[0m\u001b[0;34m,\u001b[0m \u001b[0mtest\u001b[0m\u001b[0;34m)\u001b[0m\u001b[0;34m\u001b[0m\u001b[0m\n\u001b[1;32m    710\u001b[0m                                in product(candidate_params,\n\u001b[0;32m--> 711\u001b[0;31m                                           cv.split(X, y, groups)))\n\u001b[0m\u001b[1;32m    712\u001b[0m \u001b[0;34m\u001b[0m\u001b[0m\n\u001b[1;32m    713\u001b[0m                 \u001b[0mall_candidate_params\u001b[0m\u001b[0;34m.\u001b[0m\u001b[0mextend\u001b[0m\u001b[0;34m(\u001b[0m\u001b[0mcandidate_params\u001b[0m\u001b[0;34m)\u001b[0m\u001b[0;34m\u001b[0m\u001b[0m\n",
      "\u001b[0;32m~/anaconda3/envs/learn-env/lib/python3.6/site-packages/sklearn/externals/joblib/parallel.py\u001b[0m in \u001b[0;36m__call__\u001b[0;34m(self, iterable)\u001b[0m\n\u001b[1;32m    918\u001b[0m                 \u001b[0mself\u001b[0m\u001b[0;34m.\u001b[0m\u001b[0m_iterating\u001b[0m \u001b[0;34m=\u001b[0m \u001b[0mself\u001b[0m\u001b[0;34m.\u001b[0m\u001b[0m_original_iterator\u001b[0m \u001b[0;32mis\u001b[0m \u001b[0;32mnot\u001b[0m \u001b[0;32mNone\u001b[0m\u001b[0;34m\u001b[0m\u001b[0m\n\u001b[1;32m    919\u001b[0m \u001b[0;34m\u001b[0m\u001b[0m\n\u001b[0;32m--> 920\u001b[0;31m             \u001b[0;32mwhile\u001b[0m \u001b[0mself\u001b[0m\u001b[0;34m.\u001b[0m\u001b[0mdispatch_one_batch\u001b[0m\u001b[0;34m(\u001b[0m\u001b[0miterator\u001b[0m\u001b[0;34m)\u001b[0m\u001b[0;34m:\u001b[0m\u001b[0;34m\u001b[0m\u001b[0m\n\u001b[0m\u001b[1;32m    921\u001b[0m                 \u001b[0;32mpass\u001b[0m\u001b[0;34m\u001b[0m\u001b[0m\n\u001b[1;32m    922\u001b[0m \u001b[0;34m\u001b[0m\u001b[0m\n",
      "\u001b[0;32m~/anaconda3/envs/learn-env/lib/python3.6/site-packages/sklearn/externals/joblib/parallel.py\u001b[0m in \u001b[0;36mdispatch_one_batch\u001b[0;34m(self, iterator)\u001b[0m\n\u001b[1;32m    757\u001b[0m                 \u001b[0;32mreturn\u001b[0m \u001b[0;32mFalse\u001b[0m\u001b[0;34m\u001b[0m\u001b[0m\n\u001b[1;32m    758\u001b[0m             \u001b[0;32melse\u001b[0m\u001b[0;34m:\u001b[0m\u001b[0;34m\u001b[0m\u001b[0m\n\u001b[0;32m--> 759\u001b[0;31m                 \u001b[0mself\u001b[0m\u001b[0;34m.\u001b[0m\u001b[0m_dispatch\u001b[0m\u001b[0;34m(\u001b[0m\u001b[0mtasks\u001b[0m\u001b[0;34m)\u001b[0m\u001b[0;34m\u001b[0m\u001b[0m\n\u001b[0m\u001b[1;32m    760\u001b[0m                 \u001b[0;32mreturn\u001b[0m \u001b[0;32mTrue\u001b[0m\u001b[0;34m\u001b[0m\u001b[0m\n\u001b[1;32m    761\u001b[0m \u001b[0;34m\u001b[0m\u001b[0m\n",
      "\u001b[0;32m~/anaconda3/envs/learn-env/lib/python3.6/site-packages/sklearn/externals/joblib/parallel.py\u001b[0m in \u001b[0;36m_dispatch\u001b[0;34m(self, batch)\u001b[0m\n\u001b[1;32m    714\u001b[0m         \u001b[0;32mwith\u001b[0m \u001b[0mself\u001b[0m\u001b[0;34m.\u001b[0m\u001b[0m_lock\u001b[0m\u001b[0;34m:\u001b[0m\u001b[0;34m\u001b[0m\u001b[0m\n\u001b[1;32m    715\u001b[0m             \u001b[0mjob_idx\u001b[0m \u001b[0;34m=\u001b[0m \u001b[0mlen\u001b[0m\u001b[0;34m(\u001b[0m\u001b[0mself\u001b[0m\u001b[0;34m.\u001b[0m\u001b[0m_jobs\u001b[0m\u001b[0;34m)\u001b[0m\u001b[0;34m\u001b[0m\u001b[0m\n\u001b[0;32m--> 716\u001b[0;31m             \u001b[0mjob\u001b[0m \u001b[0;34m=\u001b[0m \u001b[0mself\u001b[0m\u001b[0;34m.\u001b[0m\u001b[0m_backend\u001b[0m\u001b[0;34m.\u001b[0m\u001b[0mapply_async\u001b[0m\u001b[0;34m(\u001b[0m\u001b[0mbatch\u001b[0m\u001b[0;34m,\u001b[0m \u001b[0mcallback\u001b[0m\u001b[0;34m=\u001b[0m\u001b[0mcb\u001b[0m\u001b[0;34m)\u001b[0m\u001b[0;34m\u001b[0m\u001b[0m\n\u001b[0m\u001b[1;32m    717\u001b[0m             \u001b[0;31m# A job can complete so quickly than its callback is\u001b[0m\u001b[0;34m\u001b[0m\u001b[0;34m\u001b[0m\u001b[0m\n\u001b[1;32m    718\u001b[0m             \u001b[0;31m# called before we get here, causing self._jobs to\u001b[0m\u001b[0;34m\u001b[0m\u001b[0;34m\u001b[0m\u001b[0m\n",
      "\u001b[0;32m~/anaconda3/envs/learn-env/lib/python3.6/site-packages/sklearn/externals/joblib/_parallel_backends.py\u001b[0m in \u001b[0;36mapply_async\u001b[0;34m(self, func, callback)\u001b[0m\n\u001b[1;32m    180\u001b[0m     \u001b[0;32mdef\u001b[0m \u001b[0mapply_async\u001b[0m\u001b[0;34m(\u001b[0m\u001b[0mself\u001b[0m\u001b[0;34m,\u001b[0m \u001b[0mfunc\u001b[0m\u001b[0;34m,\u001b[0m \u001b[0mcallback\u001b[0m\u001b[0;34m=\u001b[0m\u001b[0;32mNone\u001b[0m\u001b[0;34m)\u001b[0m\u001b[0;34m:\u001b[0m\u001b[0;34m\u001b[0m\u001b[0m\n\u001b[1;32m    181\u001b[0m         \u001b[0;34m\"\"\"Schedule a func to be run\"\"\"\u001b[0m\u001b[0;34m\u001b[0m\u001b[0m\n\u001b[0;32m--> 182\u001b[0;31m         \u001b[0mresult\u001b[0m \u001b[0;34m=\u001b[0m \u001b[0mImmediateResult\u001b[0m\u001b[0;34m(\u001b[0m\u001b[0mfunc\u001b[0m\u001b[0;34m)\u001b[0m\u001b[0;34m\u001b[0m\u001b[0m\n\u001b[0m\u001b[1;32m    183\u001b[0m         \u001b[0;32mif\u001b[0m \u001b[0mcallback\u001b[0m\u001b[0;34m:\u001b[0m\u001b[0;34m\u001b[0m\u001b[0m\n\u001b[1;32m    184\u001b[0m             \u001b[0mcallback\u001b[0m\u001b[0;34m(\u001b[0m\u001b[0mresult\u001b[0m\u001b[0;34m)\u001b[0m\u001b[0;34m\u001b[0m\u001b[0m\n",
      "\u001b[0;32m~/anaconda3/envs/learn-env/lib/python3.6/site-packages/sklearn/externals/joblib/_parallel_backends.py\u001b[0m in \u001b[0;36m__init__\u001b[0;34m(self, batch)\u001b[0m\n\u001b[1;32m    547\u001b[0m         \u001b[0;31m# Don't delay the application, to avoid keeping the input\u001b[0m\u001b[0;34m\u001b[0m\u001b[0;34m\u001b[0m\u001b[0m\n\u001b[1;32m    548\u001b[0m         \u001b[0;31m# arguments in memory\u001b[0m\u001b[0;34m\u001b[0m\u001b[0;34m\u001b[0m\u001b[0m\n\u001b[0;32m--> 549\u001b[0;31m         \u001b[0mself\u001b[0m\u001b[0;34m.\u001b[0m\u001b[0mresults\u001b[0m \u001b[0;34m=\u001b[0m \u001b[0mbatch\u001b[0m\u001b[0;34m(\u001b[0m\u001b[0;34m)\u001b[0m\u001b[0;34m\u001b[0m\u001b[0m\n\u001b[0m\u001b[1;32m    550\u001b[0m \u001b[0;34m\u001b[0m\u001b[0m\n\u001b[1;32m    551\u001b[0m     \u001b[0;32mdef\u001b[0m \u001b[0mget\u001b[0m\u001b[0;34m(\u001b[0m\u001b[0mself\u001b[0m\u001b[0;34m)\u001b[0m\u001b[0;34m:\u001b[0m\u001b[0;34m\u001b[0m\u001b[0m\n",
      "\u001b[0;32m~/anaconda3/envs/learn-env/lib/python3.6/site-packages/sklearn/externals/joblib/parallel.py\u001b[0m in \u001b[0;36m__call__\u001b[0;34m(self)\u001b[0m\n\u001b[1;32m    223\u001b[0m         \u001b[0;32mwith\u001b[0m \u001b[0mparallel_backend\u001b[0m\u001b[0;34m(\u001b[0m\u001b[0mself\u001b[0m\u001b[0;34m.\u001b[0m\u001b[0m_backend\u001b[0m\u001b[0;34m,\u001b[0m \u001b[0mn_jobs\u001b[0m\u001b[0;34m=\u001b[0m\u001b[0mself\u001b[0m\u001b[0;34m.\u001b[0m\u001b[0m_n_jobs\u001b[0m\u001b[0;34m)\u001b[0m\u001b[0;34m:\u001b[0m\u001b[0;34m\u001b[0m\u001b[0m\n\u001b[1;32m    224\u001b[0m             return [func(*args, **kwargs)\n\u001b[0;32m--> 225\u001b[0;31m                     for func, args, kwargs in self.items]\n\u001b[0m\u001b[1;32m    226\u001b[0m \u001b[0;34m\u001b[0m\u001b[0m\n\u001b[1;32m    227\u001b[0m     \u001b[0;32mdef\u001b[0m \u001b[0m__len__\u001b[0m\u001b[0;34m(\u001b[0m\u001b[0mself\u001b[0m\u001b[0;34m)\u001b[0m\u001b[0;34m:\u001b[0m\u001b[0;34m\u001b[0m\u001b[0m\n",
      "\u001b[0;32m~/anaconda3/envs/learn-env/lib/python3.6/site-packages/sklearn/externals/joblib/parallel.py\u001b[0m in \u001b[0;36m<listcomp>\u001b[0;34m(.0)\u001b[0m\n\u001b[1;32m    223\u001b[0m         \u001b[0;32mwith\u001b[0m \u001b[0mparallel_backend\u001b[0m\u001b[0;34m(\u001b[0m\u001b[0mself\u001b[0m\u001b[0;34m.\u001b[0m\u001b[0m_backend\u001b[0m\u001b[0;34m,\u001b[0m \u001b[0mn_jobs\u001b[0m\u001b[0;34m=\u001b[0m\u001b[0mself\u001b[0m\u001b[0;34m.\u001b[0m\u001b[0m_n_jobs\u001b[0m\u001b[0;34m)\u001b[0m\u001b[0;34m:\u001b[0m\u001b[0;34m\u001b[0m\u001b[0m\n\u001b[1;32m    224\u001b[0m             return [func(*args, **kwargs)\n\u001b[0;32m--> 225\u001b[0;31m                     for func, args, kwargs in self.items]\n\u001b[0m\u001b[1;32m    226\u001b[0m \u001b[0;34m\u001b[0m\u001b[0m\n\u001b[1;32m    227\u001b[0m     \u001b[0;32mdef\u001b[0m \u001b[0m__len__\u001b[0m\u001b[0;34m(\u001b[0m\u001b[0mself\u001b[0m\u001b[0;34m)\u001b[0m\u001b[0;34m:\u001b[0m\u001b[0;34m\u001b[0m\u001b[0m\n",
      "\u001b[0;32m~/anaconda3/envs/learn-env/lib/python3.6/site-packages/sklearn/model_selection/_validation.py\u001b[0m in \u001b[0;36m_fit_and_score\u001b[0;34m(estimator, X, y, scorer, train, test, verbose, parameters, fit_params, return_train_score, return_parameters, return_n_test_samples, return_times, return_estimator, error_score)\u001b[0m\n\u001b[1;32m    566\u001b[0m         \u001b[0mfit_time\u001b[0m \u001b[0;34m=\u001b[0m \u001b[0mtime\u001b[0m\u001b[0;34m.\u001b[0m\u001b[0mtime\u001b[0m\u001b[0;34m(\u001b[0m\u001b[0;34m)\u001b[0m \u001b[0;34m-\u001b[0m \u001b[0mstart_time\u001b[0m\u001b[0;34m\u001b[0m\u001b[0m\n\u001b[1;32m    567\u001b[0m         \u001b[0;31m# _score will return dict if is_multimetric is True\u001b[0m\u001b[0;34m\u001b[0m\u001b[0;34m\u001b[0m\u001b[0m\n\u001b[0;32m--> 568\u001b[0;31m         \u001b[0mtest_scores\u001b[0m \u001b[0;34m=\u001b[0m \u001b[0m_score\u001b[0m\u001b[0;34m(\u001b[0m\u001b[0mestimator\u001b[0m\u001b[0;34m,\u001b[0m \u001b[0mX_test\u001b[0m\u001b[0;34m,\u001b[0m \u001b[0my_test\u001b[0m\u001b[0;34m,\u001b[0m \u001b[0mscorer\u001b[0m\u001b[0;34m,\u001b[0m \u001b[0mis_multimetric\u001b[0m\u001b[0;34m)\u001b[0m\u001b[0;34m\u001b[0m\u001b[0m\n\u001b[0m\u001b[1;32m    569\u001b[0m         \u001b[0mscore_time\u001b[0m \u001b[0;34m=\u001b[0m \u001b[0mtime\u001b[0m\u001b[0;34m.\u001b[0m\u001b[0mtime\u001b[0m\u001b[0;34m(\u001b[0m\u001b[0;34m)\u001b[0m \u001b[0;34m-\u001b[0m \u001b[0mstart_time\u001b[0m \u001b[0;34m-\u001b[0m \u001b[0mfit_time\u001b[0m\u001b[0;34m\u001b[0m\u001b[0m\n\u001b[1;32m    570\u001b[0m         \u001b[0;32mif\u001b[0m \u001b[0mreturn_train_score\u001b[0m\u001b[0;34m:\u001b[0m\u001b[0;34m\u001b[0m\u001b[0m\n",
      "\u001b[0;32m~/anaconda3/envs/learn-env/lib/python3.6/site-packages/sklearn/model_selection/_validation.py\u001b[0m in \u001b[0;36m_score\u001b[0;34m(estimator, X_test, y_test, scorer, is_multimetric)\u001b[0m\n\u001b[1;32m    603\u001b[0m     \"\"\"\n\u001b[1;32m    604\u001b[0m     \u001b[0;32mif\u001b[0m \u001b[0mis_multimetric\u001b[0m\u001b[0;34m:\u001b[0m\u001b[0;34m\u001b[0m\u001b[0m\n\u001b[0;32m--> 605\u001b[0;31m         \u001b[0;32mreturn\u001b[0m \u001b[0m_multimetric_score\u001b[0m\u001b[0;34m(\u001b[0m\u001b[0mestimator\u001b[0m\u001b[0;34m,\u001b[0m \u001b[0mX_test\u001b[0m\u001b[0;34m,\u001b[0m \u001b[0my_test\u001b[0m\u001b[0;34m,\u001b[0m \u001b[0mscorer\u001b[0m\u001b[0;34m)\u001b[0m\u001b[0;34m\u001b[0m\u001b[0m\n\u001b[0m\u001b[1;32m    606\u001b[0m     \u001b[0;32melse\u001b[0m\u001b[0;34m:\u001b[0m\u001b[0;34m\u001b[0m\u001b[0m\n\u001b[1;32m    607\u001b[0m         \u001b[0;32mif\u001b[0m \u001b[0my_test\u001b[0m \u001b[0;32mis\u001b[0m \u001b[0;32mNone\u001b[0m\u001b[0;34m:\u001b[0m\u001b[0;34m\u001b[0m\u001b[0m\n",
      "\u001b[0;32m~/anaconda3/envs/learn-env/lib/python3.6/site-packages/sklearn/model_selection/_validation.py\u001b[0m in \u001b[0;36m_multimetric_score\u001b[0;34m(estimator, X_test, y_test, scorers)\u001b[0m\n\u001b[1;32m    633\u001b[0m             \u001b[0mscore\u001b[0m \u001b[0;34m=\u001b[0m \u001b[0mscorer\u001b[0m\u001b[0;34m(\u001b[0m\u001b[0mestimator\u001b[0m\u001b[0;34m,\u001b[0m \u001b[0mX_test\u001b[0m\u001b[0;34m)\u001b[0m\u001b[0;34m\u001b[0m\u001b[0m\n\u001b[1;32m    634\u001b[0m         \u001b[0;32melse\u001b[0m\u001b[0;34m:\u001b[0m\u001b[0;34m\u001b[0m\u001b[0m\n\u001b[0;32m--> 635\u001b[0;31m             \u001b[0mscore\u001b[0m \u001b[0;34m=\u001b[0m \u001b[0mscorer\u001b[0m\u001b[0;34m(\u001b[0m\u001b[0mestimator\u001b[0m\u001b[0;34m,\u001b[0m \u001b[0mX_test\u001b[0m\u001b[0;34m,\u001b[0m \u001b[0my_test\u001b[0m\u001b[0;34m)\u001b[0m\u001b[0;34m\u001b[0m\u001b[0m\n\u001b[0m\u001b[1;32m    636\u001b[0m \u001b[0;34m\u001b[0m\u001b[0m\n\u001b[1;32m    637\u001b[0m         \u001b[0;32mif\u001b[0m \u001b[0mhasattr\u001b[0m\u001b[0;34m(\u001b[0m\u001b[0mscore\u001b[0m\u001b[0;34m,\u001b[0m \u001b[0;34m'item'\u001b[0m\u001b[0;34m)\u001b[0m\u001b[0;34m:\u001b[0m\u001b[0;34m\u001b[0m\u001b[0m\n",
      "\u001b[0;32m~/anaconda3/envs/learn-env/lib/python3.6/site-packages/sklearn/metrics/scorer.py\u001b[0m in \u001b[0;36m__call__\u001b[0;34m(self, estimator, X, y_true, sample_weight)\u001b[0m\n\u001b[1;32m     89\u001b[0m         \"\"\"\n\u001b[1;32m     90\u001b[0m \u001b[0;34m\u001b[0m\u001b[0m\n\u001b[0;32m---> 91\u001b[0;31m         \u001b[0my_pred\u001b[0m \u001b[0;34m=\u001b[0m \u001b[0mestimator\u001b[0m\u001b[0;34m.\u001b[0m\u001b[0mpredict\u001b[0m\u001b[0;34m(\u001b[0m\u001b[0mX\u001b[0m\u001b[0;34m)\u001b[0m\u001b[0;34m\u001b[0m\u001b[0m\n\u001b[0m\u001b[1;32m     92\u001b[0m         \u001b[0;32mif\u001b[0m \u001b[0msample_weight\u001b[0m \u001b[0;32mis\u001b[0m \u001b[0;32mnot\u001b[0m \u001b[0;32mNone\u001b[0m\u001b[0;34m:\u001b[0m\u001b[0;34m\u001b[0m\u001b[0m\n\u001b[1;32m     93\u001b[0m             return self._sign * self._score_func(y_true, y_pred,\n",
      "\u001b[0;32m~/anaconda3/envs/learn-env/lib/python3.6/site-packages/sklearn/svm/base.py\u001b[0m in \u001b[0;36mpredict\u001b[0;34m(self, X)\u001b[0m\n\u001b[1;32m    574\u001b[0m             \u001b[0mClass\u001b[0m \u001b[0mlabels\u001b[0m \u001b[0;32mfor\u001b[0m \u001b[0msamples\u001b[0m \u001b[0;32min\u001b[0m \u001b[0mX\u001b[0m\u001b[0;34m.\u001b[0m\u001b[0;34m\u001b[0m\u001b[0m\n\u001b[1;32m    575\u001b[0m         \"\"\"\n\u001b[0;32m--> 576\u001b[0;31m         \u001b[0my\u001b[0m \u001b[0;34m=\u001b[0m \u001b[0msuper\u001b[0m\u001b[0;34m(\u001b[0m\u001b[0mBaseSVC\u001b[0m\u001b[0;34m,\u001b[0m \u001b[0mself\u001b[0m\u001b[0;34m)\u001b[0m\u001b[0;34m.\u001b[0m\u001b[0mpredict\u001b[0m\u001b[0;34m(\u001b[0m\u001b[0mX\u001b[0m\u001b[0;34m)\u001b[0m\u001b[0;34m\u001b[0m\u001b[0m\n\u001b[0m\u001b[1;32m    577\u001b[0m         \u001b[0;32mreturn\u001b[0m \u001b[0mself\u001b[0m\u001b[0;34m.\u001b[0m\u001b[0mclasses_\u001b[0m\u001b[0;34m.\u001b[0m\u001b[0mtake\u001b[0m\u001b[0;34m(\u001b[0m\u001b[0mnp\u001b[0m\u001b[0;34m.\u001b[0m\u001b[0masarray\u001b[0m\u001b[0;34m(\u001b[0m\u001b[0my\u001b[0m\u001b[0;34m,\u001b[0m \u001b[0mdtype\u001b[0m\u001b[0;34m=\u001b[0m\u001b[0mnp\u001b[0m\u001b[0;34m.\u001b[0m\u001b[0mintp\u001b[0m\u001b[0;34m)\u001b[0m\u001b[0;34m)\u001b[0m\u001b[0;34m\u001b[0m\u001b[0m\n\u001b[1;32m    578\u001b[0m \u001b[0;34m\u001b[0m\u001b[0m\n",
      "\u001b[0;32m~/anaconda3/envs/learn-env/lib/python3.6/site-packages/sklearn/svm/base.py\u001b[0m in \u001b[0;36mpredict\u001b[0;34m(self, X)\u001b[0m\n\u001b[1;32m    325\u001b[0m         \u001b[0mX\u001b[0m \u001b[0;34m=\u001b[0m \u001b[0mself\u001b[0m\u001b[0;34m.\u001b[0m\u001b[0m_validate_for_predict\u001b[0m\u001b[0;34m(\u001b[0m\u001b[0mX\u001b[0m\u001b[0;34m)\u001b[0m\u001b[0;34m\u001b[0m\u001b[0m\n\u001b[1;32m    326\u001b[0m         \u001b[0mpredict\u001b[0m \u001b[0;34m=\u001b[0m \u001b[0mself\u001b[0m\u001b[0;34m.\u001b[0m\u001b[0m_sparse_predict\u001b[0m \u001b[0;32mif\u001b[0m \u001b[0mself\u001b[0m\u001b[0;34m.\u001b[0m\u001b[0m_sparse\u001b[0m \u001b[0;32melse\u001b[0m \u001b[0mself\u001b[0m\u001b[0;34m.\u001b[0m\u001b[0m_dense_predict\u001b[0m\u001b[0;34m\u001b[0m\u001b[0m\n\u001b[0;32m--> 327\u001b[0;31m         \u001b[0;32mreturn\u001b[0m \u001b[0mpredict\u001b[0m\u001b[0;34m(\u001b[0m\u001b[0mX\u001b[0m\u001b[0;34m)\u001b[0m\u001b[0;34m\u001b[0m\u001b[0m\n\u001b[0m\u001b[1;32m    328\u001b[0m \u001b[0;34m\u001b[0m\u001b[0m\n\u001b[1;32m    329\u001b[0m     \u001b[0;32mdef\u001b[0m \u001b[0m_dense_predict\u001b[0m\u001b[0;34m(\u001b[0m\u001b[0mself\u001b[0m\u001b[0;34m,\u001b[0m \u001b[0mX\u001b[0m\u001b[0;34m)\u001b[0m\u001b[0;34m:\u001b[0m\u001b[0;34m\u001b[0m\u001b[0m\n",
      "\u001b[0;32m~/anaconda3/envs/learn-env/lib/python3.6/site-packages/sklearn/svm/base.py\u001b[0m in \u001b[0;36m_dense_predict\u001b[0;34m(self, X)\u001b[0m\n\u001b[1;32m    348\u001b[0m             \u001b[0mself\u001b[0m\u001b[0;34m.\u001b[0m\u001b[0mprobA_\u001b[0m\u001b[0;34m,\u001b[0m \u001b[0mself\u001b[0m\u001b[0;34m.\u001b[0m\u001b[0mprobB_\u001b[0m\u001b[0;34m,\u001b[0m \u001b[0msvm_type\u001b[0m\u001b[0;34m=\u001b[0m\u001b[0msvm_type\u001b[0m\u001b[0;34m,\u001b[0m \u001b[0mkernel\u001b[0m\u001b[0;34m=\u001b[0m\u001b[0mkernel\u001b[0m\u001b[0;34m,\u001b[0m\u001b[0;34m\u001b[0m\u001b[0m\n\u001b[1;32m    349\u001b[0m             \u001b[0mdegree\u001b[0m\u001b[0;34m=\u001b[0m\u001b[0mself\u001b[0m\u001b[0;34m.\u001b[0m\u001b[0mdegree\u001b[0m\u001b[0;34m,\u001b[0m \u001b[0mcoef0\u001b[0m\u001b[0;34m=\u001b[0m\u001b[0mself\u001b[0m\u001b[0;34m.\u001b[0m\u001b[0mcoef0\u001b[0m\u001b[0;34m,\u001b[0m \u001b[0mgamma\u001b[0m\u001b[0;34m=\u001b[0m\u001b[0mself\u001b[0m\u001b[0;34m.\u001b[0m\u001b[0m_gamma\u001b[0m\u001b[0;34m,\u001b[0m\u001b[0;34m\u001b[0m\u001b[0m\n\u001b[0;32m--> 350\u001b[0;31m             cache_size=self.cache_size)\n\u001b[0m\u001b[1;32m    351\u001b[0m \u001b[0;34m\u001b[0m\u001b[0m\n\u001b[1;32m    352\u001b[0m     \u001b[0;32mdef\u001b[0m \u001b[0m_sparse_predict\u001b[0m\u001b[0;34m(\u001b[0m\u001b[0mself\u001b[0m\u001b[0;34m,\u001b[0m \u001b[0mX\u001b[0m\u001b[0;34m)\u001b[0m\u001b[0;34m:\u001b[0m\u001b[0;34m\u001b[0m\u001b[0m\n",
      "\u001b[0;31mKeyboardInterrupt\u001b[0m: "
     ]
    }
   ],
   "source": [
    "print('Best score:', grid_svc.best_score_)\n",
    "print('Best params:', grid_svc.best_params_)"
   ]
  },
  {
   "cell_type": "code",
   "execution_count": 0,
   "metadata": {
    "colab": {},
    "colab_type": "code",
    "id": "UZB30SSrqkh-"
   },
   "outputs": [],
   "source": [
    "y_pred = grid_svc.predict(X_train_trans)\n",
    "print_metrics(y_train_res, y_pred)"
   ]
  },
  {
   "cell_type": "code",
   "execution_count": 0,
   "metadata": {
    "colab": {},
    "colab_type": "code",
    "id": "qs3wIhxbqkh_"
   },
   "outputs": [],
   "source": [
    "y_pred = grid_svc.predict(X_val_trans)\n",
    "print_metrics(y_val, y_pred)"
   ]
  },
  {
   "cell_type": "markdown",
   "metadata": {
    "colab_type": "text",
    "id": "dkzbS7ltqkiB"
   },
   "source": [
    "### Evaluating the best Support Vector classifier"
   ]
  },
  {
   "cell_type": "code",
   "execution_count": 0,
   "metadata": {
    "colab": {},
    "colab_type": "code",
    "id": "mY1XD3KgqkiC"
   },
   "outputs": [],
   "source": [
    "# Build the optimized model\n",
    "# svc_best = SVC() # insert best params\n",
    "# svc_best.fit(X_train_trans, y_train_res)"
   ]
  },
  {
   "cell_type": "code",
   "execution_count": 0,
   "metadata": {
    "colab": {},
    "colab_type": "code",
    "id": "AZA-UeZXqkiD"
   },
   "outputs": [],
   "source": [
    "# View metrics for the optimized model\n",
    "# y_pred = svc_best.predict(X_train_trans)\n",
    "# print_metrics(y_train_res, y_pred)"
   ]
  },
  {
   "cell_type": "code",
   "execution_count": 0,
   "metadata": {
    "colab": {},
    "colab_type": "code",
    "id": "LXKg_Xv9qkiE"
   },
   "outputs": [],
   "source": [
    "# Score the model on the validation set\n",
    "# svc_best.score(X_val_trans, y_val)"
   ]
  },
  {
   "cell_type": "code",
   "execution_count": 0,
   "metadata": {
    "colab": {},
    "colab_type": "code",
    "id": "zREibo0LqkiG"
   },
   "outputs": [],
   "source": [
    "# View full metrics for the validation set\n",
    "# y_val_pred = svc_best.predict(X_val_trans)\n",
    "# print_metrics(y_val, y_val_pred)"
   ]
  },
  {
   "cell_type": "code",
   "execution_count": 0,
   "metadata": {
    "colab": {},
    "colab_type": "code",
    "id": "N_gHaZ5qqkiH"
   },
   "outputs": [],
   "source": [
    "# Find AUC and plot ROC curve\n",
    "# y_score_svc = svc_best.fit(X_train_trans, y_train_res).decision_function(X_test_trans)\n",
    "\n",
    "# roc_it(y_test, y_score_xg)"
   ]
  },
  {
   "cell_type": "markdown",
   "metadata": {
    "colab_type": "text",
    "id": "N71gTQx_qkiM"
   },
   "source": [
    "# Pipeline"
   ]
  },
  {
   "cell_type": "code",
   "execution_count": 0,
   "metadata": {
    "colab": {},
    "colab_type": "code",
    "id": "Fnb5M81oqkiU"
   },
   "outputs": [],
   "source": [
    "pipe = Pipeline([('scaler', StandardScaler),\n",
    "                 ('pca', PCA(n_components=40)),\n",
    "                ])\n",
    "\n"
   ]
  },
  {
   "cell_type": "markdown",
   "metadata": {
    "colab_type": "text",
    "id": "cDot5z_tqkiY"
   },
   "source": [
    "# Interpretations and recommendations"
   ]
  },
  {
   "cell_type": "code",
   "execution_count": 0,
   "metadata": {
    "colab": {},
    "colab_type": "code",
    "id": "XjBaJwSFqkiZ"
   },
   "outputs": [],
   "source": []
  },
  {
   "cell_type": "markdown",
   "metadata": {
    "heading_collapsed": true
   },
   "source": [
    "# To cut"
   ]
  },
  {
   "cell_type": "markdown",
   "metadata": {
    "colab_type": "text",
    "heading_collapsed": true,
    "hidden": true,
    "id": "nytFxN-XqkgZ"
   },
   "source": [
    "### Save copy of the training set"
   ]
  },
  {
   "cell_type": "code",
   "execution_count": 0,
   "metadata": {
    "ExecuteTime": {
     "end_time": "2019-11-21T19:27:48.211281Z",
     "start_time": "2019-11-21T19:27:38.978539Z"
    },
    "colab": {},
    "colab_type": "code",
    "hidden": true,
    "id": "1ViS4VfVqkga"
   },
   "outputs": [],
   "source": [
    "# Save the clean dataset for easier access later\n",
    "y_train = pd.DataFrame(y_smote, columns=['Cover_Type'])\n",
    "X_train = pd.DataFrame(X_train_pca)\n",
    "sample_to_save = pd.concat([X_train, y_train], axis=1)\n",
    "sample_to_save.to_csv('trees_train.csv')"
   ]
  },
  {
   "cell_type": "code",
   "execution_count": 0,
   "metadata": {
    "ExecuteTime": {
     "end_time": "2019-11-21T19:28:18.947376Z",
     "start_time": "2019-11-21T19:27:49.443231Z"
    },
    "colab": {},
    "colab_type": "code",
    "hidden": true,
    "id": "Kv31OTzcHYV5"
   },
   "outputs": [],
   "source": [
    "raw_to_save = pd.concat([X_train_raw, y_train_raw], axis=1)\n",
    "raw_to_save.to_csv('trees_train_raw.csv')"
   ]
  },
  {
   "cell_type": "markdown",
   "metadata": {
    "colab_type": "text",
    "heading_collapsed": true,
    "hidden": true,
    "id": "v7ul_veYqkgc"
   },
   "source": [
    "### Save a copy of the validation set"
   ]
  },
  {
   "cell_type": "code",
   "execution_count": 0,
   "metadata": {
    "ExecuteTime": {
     "end_time": "2019-11-21T19:28:50.888410Z",
     "start_time": "2019-11-21T19:28:50.862811Z"
    },
    "colab": {},
    "colab_type": "code",
    "hidden": true,
    "id": "qTuNqDq6qkgd"
   },
   "outputs": [],
   "source": [
    "y_val = pd.DataFrame(y_val, columns=['Cover_Type'])\n",
    "y_val.reset_index(inplace=True)\n",
    "y_val.drop('index', axis=1, inplace=True)"
   ]
  },
  {
   "cell_type": "code",
   "execution_count": 0,
   "metadata": {
    "ExecuteTime": {
     "end_time": "2019-11-21T19:28:51.525557Z",
     "start_time": "2019-11-21T19:28:51.518742Z"
    },
    "colab": {},
    "colab_type": "code",
    "hidden": true,
    "id": "JogMycnwqkgf"
   },
   "outputs": [],
   "source": [
    "X_val = pd.DataFrame(X_val_pca)"
   ]
  },
  {
   "cell_type": "code",
   "execution_count": 0,
   "metadata": {
    "ExecuteTime": {
     "end_time": "2019-11-21T19:28:52.299990Z",
     "start_time": "2019-11-21T19:28:52.260721Z"
    },
    "colab": {},
    "colab_type": "code",
    "hidden": true,
    "id": "ApbDpmyeqkgh",
    "outputId": "ad84e560-ef3e-43fa-b822-d59b6a887b08"
   },
   "outputs": [
    {
     "data": {
      "text/plain": [
       "58101"
      ]
     },
     "execution_count": 39,
     "metadata": {
      "tags": []
     },
     "output_type": "execute_result"
    }
   ],
   "source": [
    "val_to_save = pd.concat([X_val, y_val], axis=1, ignore_index=True)\n",
    "len(val_to_save)"
   ]
  },
  {
   "cell_type": "code",
   "execution_count": 0,
   "metadata": {
    "ExecuteTime": {
     "end_time": "2019-11-21T19:28:57.918275Z",
     "start_time": "2019-11-21T19:28:52.973265Z"
    },
    "colab": {},
    "colab_type": "code",
    "hidden": true,
    "id": "0wTF44dpqkgk"
   },
   "outputs": [],
   "source": [
    "val_to_save.to_csv('trees_val.csv')"
   ]
  },
  {
   "cell_type": "code",
   "execution_count": 0,
   "metadata": {
    "ExecuteTime": {
     "end_time": "2019-11-21T19:29:03.624709Z",
     "start_time": "2019-11-21T19:28:59.137917Z"
    },
    "colab": {},
    "colab_type": "code",
    "hidden": true,
    "id": "Y72-UGJwHYWH"
   },
   "outputs": [],
   "source": [
    "val_raw_to_save = pd.concat([X_val_raw, y_val_raw], axis=1)\n",
    "val_raw_to_save.to_csv('trees_val_raw.csv')"
   ]
  },
  {
   "cell_type": "markdown",
   "metadata": {
    "colab_type": "text",
    "heading_collapsed": true,
    "hidden": true,
    "id": "x3ZM9irZqkgn"
   },
   "source": [
    "### Reconstitute training and validation sets"
   ]
  },
  {
   "cell_type": "code",
   "execution_count": 7,
   "metadata": {
    "ExecuteTime": {
     "end_time": "2019-11-21T19:29:43.436347Z",
     "start_time": "2019-11-21T19:29:41.976212Z"
    },
    "colab": {
     "base_uri": "https://localhost:8080/",
     "height": 224
    },
    "colab_type": "code",
    "hidden": true,
    "id": "7H84DKEdqkgo",
    "outputId": "960dd9b1-6fbe-4b82-802a-f3244185bbfa",
    "scrolled": true
   },
   "outputs": [
    {
     "data": {
      "text/html": [
       "<div>\n",
       "<style scoped>\n",
       "    .dataframe tbody tr th:only-of-type {\n",
       "        vertical-align: middle;\n",
       "    }\n",
       "\n",
       "    .dataframe tbody tr th {\n",
       "        vertical-align: top;\n",
       "    }\n",
       "\n",
       "    .dataframe thead th {\n",
       "        text-align: right;\n",
       "    }\n",
       "</style>\n",
       "<table border=\"1\" class=\"dataframe\">\n",
       "  <thead>\n",
       "    <tr style=\"text-align: right;\">\n",
       "      <th></th>\n",
       "      <th>0</th>\n",
       "      <th>1</th>\n",
       "      <th>2</th>\n",
       "      <th>3</th>\n",
       "      <th>4</th>\n",
       "      <th>5</th>\n",
       "      <th>6</th>\n",
       "      <th>7</th>\n",
       "      <th>8</th>\n",
       "      <th>9</th>\n",
       "      <th>10</th>\n",
       "      <th>11</th>\n",
       "      <th>12</th>\n",
       "      <th>13</th>\n",
       "      <th>14</th>\n",
       "      <th>15</th>\n",
       "      <th>16</th>\n",
       "      <th>17</th>\n",
       "      <th>18</th>\n",
       "      <th>19</th>\n",
       "      <th>20</th>\n",
       "      <th>21</th>\n",
       "      <th>22</th>\n",
       "      <th>23</th>\n",
       "      <th>24</th>\n",
       "      <th>25</th>\n",
       "      <th>26</th>\n",
       "      <th>27</th>\n",
       "      <th>28</th>\n",
       "      <th>29</th>\n",
       "      <th>30</th>\n",
       "      <th>31</th>\n",
       "      <th>32</th>\n",
       "      <th>33</th>\n",
       "      <th>34</th>\n",
       "      <th>35</th>\n",
       "      <th>36</th>\n",
       "      <th>37</th>\n",
       "      <th>38</th>\n",
       "      <th>39</th>\n",
       "      <th>Cover_Type</th>\n",
       "    </tr>\n",
       "  </thead>\n",
       "  <tbody>\n",
       "    <tr>\n",
       "      <th>0</th>\n",
       "      <td>-1.919642</td>\n",
       "      <td>1.545429</td>\n",
       "      <td>-2.154026</td>\n",
       "      <td>0.465190</td>\n",
       "      <td>-0.039087</td>\n",
       "      <td>-0.898641</td>\n",
       "      <td>-0.726181</td>\n",
       "      <td>-0.518156</td>\n",
       "      <td>-0.795170</td>\n",
       "      <td>1.832770</td>\n",
       "      <td>-0.138805</td>\n",
       "      <td>0.128179</td>\n",
       "      <td>0.312822</td>\n",
       "      <td>0.642169</td>\n",
       "      <td>-0.338050</td>\n",
       "      <td>0.345284</td>\n",
       "      <td>-0.143583</td>\n",
       "      <td>-0.230057</td>\n",
       "      <td>0.398625</td>\n",
       "      <td>0.214304</td>\n",
       "      <td>-0.206256</td>\n",
       "      <td>0.246812</td>\n",
       "      <td>0.127521</td>\n",
       "      <td>0.001343</td>\n",
       "      <td>0.139274</td>\n",
       "      <td>-0.053826</td>\n",
       "      <td>-0.072864</td>\n",
       "      <td>0.038964</td>\n",
       "      <td>0.130061</td>\n",
       "      <td>-0.094863</td>\n",
       "      <td>-0.073763</td>\n",
       "      <td>-0.016226</td>\n",
       "      <td>-0.025170</td>\n",
       "      <td>0.043097</td>\n",
       "      <td>-0.013932</td>\n",
       "      <td>-0.002199</td>\n",
       "      <td>-0.036792</td>\n",
       "      <td>0.000732</td>\n",
       "      <td>0.005547</td>\n",
       "      <td>0.380143</td>\n",
       "      <td>1</td>\n",
       "    </tr>\n",
       "    <tr>\n",
       "      <th>1</th>\n",
       "      <td>-0.729440</td>\n",
       "      <td>2.842710</td>\n",
       "      <td>-0.805643</td>\n",
       "      <td>0.700709</td>\n",
       "      <td>-0.368983</td>\n",
       "      <td>-0.577724</td>\n",
       "      <td>-0.114275</td>\n",
       "      <td>-0.166068</td>\n",
       "      <td>-0.601834</td>\n",
       "      <td>1.773628</td>\n",
       "      <td>-0.094106</td>\n",
       "      <td>0.195288</td>\n",
       "      <td>0.346119</td>\n",
       "      <td>0.715567</td>\n",
       "      <td>-0.401542</td>\n",
       "      <td>0.401931</td>\n",
       "      <td>-0.058230</td>\n",
       "      <td>-0.296643</td>\n",
       "      <td>0.449127</td>\n",
       "      <td>0.308890</td>\n",
       "      <td>-0.197934</td>\n",
       "      <td>0.328951</td>\n",
       "      <td>0.198096</td>\n",
       "      <td>0.073676</td>\n",
       "      <td>0.192417</td>\n",
       "      <td>-0.052386</td>\n",
       "      <td>-0.060271</td>\n",
       "      <td>0.037031</td>\n",
       "      <td>0.156051</td>\n",
       "      <td>-0.132952</td>\n",
       "      <td>-0.051246</td>\n",
       "      <td>-0.017335</td>\n",
       "      <td>-0.008949</td>\n",
       "      <td>0.047760</td>\n",
       "      <td>0.002531</td>\n",
       "      <td>-0.007379</td>\n",
       "      <td>-0.044616</td>\n",
       "      <td>-0.000500</td>\n",
       "      <td>0.006419</td>\n",
       "      <td>0.723786</td>\n",
       "      <td>1</td>\n",
       "    </tr>\n",
       "    <tr>\n",
       "      <th>2</th>\n",
       "      <td>-1.414295</td>\n",
       "      <td>0.465655</td>\n",
       "      <td>-0.421006</td>\n",
       "      <td>-1.710639</td>\n",
       "      <td>-0.866943</td>\n",
       "      <td>1.473237</td>\n",
       "      <td>-0.564235</td>\n",
       "      <td>-0.119146</td>\n",
       "      <td>-0.177979</td>\n",
       "      <td>0.144611</td>\n",
       "      <td>-0.351753</td>\n",
       "      <td>-1.359997</td>\n",
       "      <td>-2.321331</td>\n",
       "      <td>-1.576757</td>\n",
       "      <td>-0.653744</td>\n",
       "      <td>0.731353</td>\n",
       "      <td>0.039865</td>\n",
       "      <td>-1.274285</td>\n",
       "      <td>-0.129857</td>\n",
       "      <td>-0.005465</td>\n",
       "      <td>0.443443</td>\n",
       "      <td>-0.142586</td>\n",
       "      <td>0.285028</td>\n",
       "      <td>0.579230</td>\n",
       "      <td>-0.012948</td>\n",
       "      <td>-0.130535</td>\n",
       "      <td>0.106990</td>\n",
       "      <td>-0.034389</td>\n",
       "      <td>-0.203800</td>\n",
       "      <td>-0.162897</td>\n",
       "      <td>-0.034065</td>\n",
       "      <td>-0.040310</td>\n",
       "      <td>-0.122626</td>\n",
       "      <td>-0.078465</td>\n",
       "      <td>-0.025126</td>\n",
       "      <td>-0.004162</td>\n",
       "      <td>-0.032245</td>\n",
       "      <td>0.003648</td>\n",
       "      <td>0.005026</td>\n",
       "      <td>0.723705</td>\n",
       "      <td>1</td>\n",
       "    </tr>\n",
       "    <tr>\n",
       "      <th>3</th>\n",
       "      <td>-1.719740</td>\n",
       "      <td>0.537204</td>\n",
       "      <td>-1.976603</td>\n",
       "      <td>2.532597</td>\n",
       "      <td>-0.914213</td>\n",
       "      <td>-0.833309</td>\n",
       "      <td>-0.546785</td>\n",
       "      <td>-0.474177</td>\n",
       "      <td>0.074945</td>\n",
       "      <td>1.508607</td>\n",
       "      <td>-0.116700</td>\n",
       "      <td>0.031932</td>\n",
       "      <td>0.328077</td>\n",
       "      <td>0.738780</td>\n",
       "      <td>-0.271144</td>\n",
       "      <td>0.298669</td>\n",
       "      <td>-0.077510</td>\n",
       "      <td>-0.320026</td>\n",
       "      <td>0.450990</td>\n",
       "      <td>0.371441</td>\n",
       "      <td>-0.073971</td>\n",
       "      <td>0.401843</td>\n",
       "      <td>0.156568</td>\n",
       "      <td>-0.052216</td>\n",
       "      <td>0.093633</td>\n",
       "      <td>0.000771</td>\n",
       "      <td>-0.051709</td>\n",
       "      <td>0.070042</td>\n",
       "      <td>0.123255</td>\n",
       "      <td>-0.108564</td>\n",
       "      <td>-0.093112</td>\n",
       "      <td>0.012405</td>\n",
       "      <td>-0.039666</td>\n",
       "      <td>0.069022</td>\n",
       "      <td>-0.000290</td>\n",
       "      <td>-0.012513</td>\n",
       "      <td>-0.033794</td>\n",
       "      <td>-0.004891</td>\n",
       "      <td>0.000309</td>\n",
       "      <td>-0.194112</td>\n",
       "      <td>1</td>\n",
       "    </tr>\n",
       "    <tr>\n",
       "      <th>4</th>\n",
       "      <td>-1.661729</td>\n",
       "      <td>-0.161570</td>\n",
       "      <td>0.811565</td>\n",
       "      <td>-2.110810</td>\n",
       "      <td>-0.110697</td>\n",
       "      <td>-0.049399</td>\n",
       "      <td>0.393778</td>\n",
       "      <td>1.151023</td>\n",
       "      <td>-0.598367</td>\n",
       "      <td>0.079608</td>\n",
       "      <td>0.876281</td>\n",
       "      <td>-0.290931</td>\n",
       "      <td>-2.049247</td>\n",
       "      <td>3.027078</td>\n",
       "      <td>0.037458</td>\n",
       "      <td>-1.519455</td>\n",
       "      <td>0.907814</td>\n",
       "      <td>-0.314155</td>\n",
       "      <td>0.416904</td>\n",
       "      <td>-0.099493</td>\n",
       "      <td>-0.086155</td>\n",
       "      <td>-0.068519</td>\n",
       "      <td>-0.265700</td>\n",
       "      <td>0.240311</td>\n",
       "      <td>0.029959</td>\n",
       "      <td>-0.126690</td>\n",
       "      <td>-0.378482</td>\n",
       "      <td>-0.051779</td>\n",
       "      <td>-0.116483</td>\n",
       "      <td>0.001089</td>\n",
       "      <td>-0.078067</td>\n",
       "      <td>0.048836</td>\n",
       "      <td>-0.085332</td>\n",
       "      <td>-0.066123</td>\n",
       "      <td>-0.053483</td>\n",
       "      <td>-0.013638</td>\n",
       "      <td>0.028344</td>\n",
       "      <td>-0.002567</td>\n",
       "      <td>-0.006874</td>\n",
       "      <td>0.288379</td>\n",
       "      <td>1</td>\n",
       "    </tr>\n",
       "  </tbody>\n",
       "</table>\n",
       "</div>"
      ],
      "text/plain": [
       "          0         1         2  ...        38        39  Cover_Type\n",
       "0 -1.919642  1.545429 -2.154026  ...  0.005547  0.380143           1\n",
       "1 -0.729440  2.842710 -0.805643  ...  0.006419  0.723786           1\n",
       "2 -1.414295  0.465655 -0.421006  ...  0.005026  0.723705           1\n",
       "3 -1.719740  0.537204 -1.976603  ...  0.000309 -0.194112           1\n",
       "4 -1.661729 -0.161570  0.811565  ... -0.006874  0.288379           1\n",
       "\n",
       "[5 rows x 41 columns]"
      ]
     },
     "execution_count": 7,
     "metadata": {
      "tags": []
     },
     "output_type": "execute_result"
    }
   ],
   "source": [
    "train_trans = pd.read_csv('/content/drive/My Drive/fs-project-4/trees_train.csv')\n",
    "train_trans.drop('Unnamed: 0', axis=1, inplace=True)\n",
    "train_trans.head()"
   ]
  },
  {
   "cell_type": "code",
   "execution_count": 8,
   "metadata": {
    "ExecuteTime": {
     "end_time": "2019-11-21T19:30:00.358458Z",
     "start_time": "2019-11-21T19:29:57.819268Z"
    },
    "colab": {
     "base_uri": "https://localhost:8080/",
     "height": 224
    },
    "colab_type": "code",
    "hidden": true,
    "id": "tocb5REXHYWO",
    "outputId": "99c7e696-f610-4842-ba88-6ce96d4e116a"
   },
   "outputs": [
    {
     "data": {
      "text/html": [
       "<div>\n",
       "<style scoped>\n",
       "    .dataframe tbody tr th:only-of-type {\n",
       "        vertical-align: middle;\n",
       "    }\n",
       "\n",
       "    .dataframe tbody tr th {\n",
       "        vertical-align: top;\n",
       "    }\n",
       "\n",
       "    .dataframe thead th {\n",
       "        text-align: right;\n",
       "    }\n",
       "</style>\n",
       "<table border=\"1\" class=\"dataframe\">\n",
       "  <thead>\n",
       "    <tr style=\"text-align: right;\">\n",
       "      <th></th>\n",
       "      <th>Elevation</th>\n",
       "      <th>Aspect</th>\n",
       "      <th>Slope</th>\n",
       "      <th>Hor_Dist_Hyd</th>\n",
       "      <th>Ver_Dist_Hyd</th>\n",
       "      <th>Hor_Dist_Road</th>\n",
       "      <th>Hillshade_9am</th>\n",
       "      <th>Hillshade_noon</th>\n",
       "      <th>Hillshade_3pm</th>\n",
       "      <th>Hor_Dist_Fire</th>\n",
       "      <th>WA_1</th>\n",
       "      <th>WA_2</th>\n",
       "      <th>WA_3</th>\n",
       "      <th>WA_4</th>\n",
       "      <th>Soil_Type_1</th>\n",
       "      <th>Soil_Type_2</th>\n",
       "      <th>Soil_Type_3</th>\n",
       "      <th>Soil_Type_4</th>\n",
       "      <th>Soil_Type_5</th>\n",
       "      <th>Soil_Type_6</th>\n",
       "      <th>Soil_Type_7</th>\n",
       "      <th>Soil_Type_8</th>\n",
       "      <th>Soil_Type_9</th>\n",
       "      <th>Soil_Type_10</th>\n",
       "      <th>Soil_Type_11</th>\n",
       "      <th>Soil_Type_12</th>\n",
       "      <th>Soil_Type_13</th>\n",
       "      <th>Soil_Type_14</th>\n",
       "      <th>Soil_Type_15</th>\n",
       "      <th>Soil_Type_16</th>\n",
       "      <th>Soil_Type_17</th>\n",
       "      <th>Soil_Type_18</th>\n",
       "      <th>Soil_Type_19</th>\n",
       "      <th>Soil_Type_20</th>\n",
       "      <th>Soil_Type_21</th>\n",
       "      <th>Soil_Type_22</th>\n",
       "      <th>Soil_Type_23</th>\n",
       "      <th>Soil_Type_24</th>\n",
       "      <th>Soil_Type_25</th>\n",
       "      <th>Soil_Type_26</th>\n",
       "      <th>Soil_Type_27</th>\n",
       "      <th>Soil_Type_28</th>\n",
       "      <th>Soil_Type_29</th>\n",
       "      <th>Soil_Type_30</th>\n",
       "      <th>Soil_Type_31</th>\n",
       "      <th>Soil_Type_32</th>\n",
       "      <th>Soil_Type_33</th>\n",
       "      <th>Soil_Type_34</th>\n",
       "      <th>Soil_Type_35</th>\n",
       "      <th>Soil_Type_36</th>\n",
       "      <th>Soil_Type_37</th>\n",
       "      <th>Soil_Type_38</th>\n",
       "      <th>Soil_Type_39</th>\n",
       "      <th>Soil_Type_40</th>\n",
       "      <th>Cover_Type</th>\n",
       "    </tr>\n",
       "  </thead>\n",
       "  <tbody>\n",
       "    <tr>\n",
       "      <th>0</th>\n",
       "      <td>3250</td>\n",
       "      <td>35</td>\n",
       "      <td>4</td>\n",
       "      <td>534</td>\n",
       "      <td>212</td>\n",
       "      <td>2969</td>\n",
       "      <td>219</td>\n",
       "      <td>231</td>\n",
       "      <td>148</td>\n",
       "      <td>3161</td>\n",
       "      <td>0</td>\n",
       "      <td>0</td>\n",
       "      <td>1</td>\n",
       "      <td>0</td>\n",
       "      <td>0</td>\n",
       "      <td>0</td>\n",
       "      <td>0</td>\n",
       "      <td>0</td>\n",
       "      <td>0</td>\n",
       "      <td>0</td>\n",
       "      <td>0</td>\n",
       "      <td>0</td>\n",
       "      <td>0</td>\n",
       "      <td>0</td>\n",
       "      <td>0</td>\n",
       "      <td>0</td>\n",
       "      <td>0</td>\n",
       "      <td>0</td>\n",
       "      <td>0</td>\n",
       "      <td>0</td>\n",
       "      <td>0</td>\n",
       "      <td>0</td>\n",
       "      <td>0</td>\n",
       "      <td>0</td>\n",
       "      <td>0</td>\n",
       "      <td>0</td>\n",
       "      <td>0</td>\n",
       "      <td>0</td>\n",
       "      <td>0</td>\n",
       "      <td>0</td>\n",
       "      <td>0</td>\n",
       "      <td>0</td>\n",
       "      <td>0</td>\n",
       "      <td>0</td>\n",
       "      <td>1</td>\n",
       "      <td>0</td>\n",
       "      <td>0</td>\n",
       "      <td>0</td>\n",
       "      <td>0</td>\n",
       "      <td>0</td>\n",
       "      <td>0</td>\n",
       "      <td>0</td>\n",
       "      <td>0</td>\n",
       "      <td>0</td>\n",
       "      <td>1</td>\n",
       "    </tr>\n",
       "    <tr>\n",
       "      <th>1</th>\n",
       "      <td>2580</td>\n",
       "      <td>61</td>\n",
       "      <td>20</td>\n",
       "      <td>30</td>\n",
       "      <td>-1</td>\n",
       "      <td>1061</td>\n",
       "      <td>232</td>\n",
       "      <td>193</td>\n",
       "      <td>85</td>\n",
       "      <td>553</td>\n",
       "      <td>1</td>\n",
       "      <td>0</td>\n",
       "      <td>0</td>\n",
       "      <td>0</td>\n",
       "      <td>0</td>\n",
       "      <td>0</td>\n",
       "      <td>0</td>\n",
       "      <td>0</td>\n",
       "      <td>0</td>\n",
       "      <td>0</td>\n",
       "      <td>0</td>\n",
       "      <td>0</td>\n",
       "      <td>1</td>\n",
       "      <td>0</td>\n",
       "      <td>0</td>\n",
       "      <td>0</td>\n",
       "      <td>0</td>\n",
       "      <td>0</td>\n",
       "      <td>0</td>\n",
       "      <td>0</td>\n",
       "      <td>0</td>\n",
       "      <td>0</td>\n",
       "      <td>0</td>\n",
       "      <td>0</td>\n",
       "      <td>0</td>\n",
       "      <td>0</td>\n",
       "      <td>0</td>\n",
       "      <td>0</td>\n",
       "      <td>0</td>\n",
       "      <td>0</td>\n",
       "      <td>0</td>\n",
       "      <td>0</td>\n",
       "      <td>0</td>\n",
       "      <td>0</td>\n",
       "      <td>0</td>\n",
       "      <td>0</td>\n",
       "      <td>0</td>\n",
       "      <td>0</td>\n",
       "      <td>0</td>\n",
       "      <td>0</td>\n",
       "      <td>0</td>\n",
       "      <td>0</td>\n",
       "      <td>0</td>\n",
       "      <td>0</td>\n",
       "      <td>1</td>\n",
       "    </tr>\n",
       "    <tr>\n",
       "      <th>2</th>\n",
       "      <td>2216</td>\n",
       "      <td>41</td>\n",
       "      <td>38</td>\n",
       "      <td>384</td>\n",
       "      <td>251</td>\n",
       "      <td>424</td>\n",
       "      <td>194</td>\n",
       "      <td>129</td>\n",
       "      <td>40</td>\n",
       "      <td>295</td>\n",
       "      <td>0</td>\n",
       "      <td>0</td>\n",
       "      <td>0</td>\n",
       "      <td>1</td>\n",
       "      <td>0</td>\n",
       "      <td>0</td>\n",
       "      <td>0</td>\n",
       "      <td>0</td>\n",
       "      <td>0</td>\n",
       "      <td>0</td>\n",
       "      <td>0</td>\n",
       "      <td>0</td>\n",
       "      <td>0</td>\n",
       "      <td>1</td>\n",
       "      <td>0</td>\n",
       "      <td>0</td>\n",
       "      <td>0</td>\n",
       "      <td>0</td>\n",
       "      <td>0</td>\n",
       "      <td>0</td>\n",
       "      <td>0</td>\n",
       "      <td>0</td>\n",
       "      <td>0</td>\n",
       "      <td>0</td>\n",
       "      <td>0</td>\n",
       "      <td>0</td>\n",
       "      <td>0</td>\n",
       "      <td>0</td>\n",
       "      <td>0</td>\n",
       "      <td>0</td>\n",
       "      <td>0</td>\n",
       "      <td>0</td>\n",
       "      <td>0</td>\n",
       "      <td>0</td>\n",
       "      <td>0</td>\n",
       "      <td>0</td>\n",
       "      <td>0</td>\n",
       "      <td>0</td>\n",
       "      <td>0</td>\n",
       "      <td>0</td>\n",
       "      <td>0</td>\n",
       "      <td>0</td>\n",
       "      <td>0</td>\n",
       "      <td>0</td>\n",
       "      <td>3</td>\n",
       "    </tr>\n",
       "    <tr>\n",
       "      <th>3</th>\n",
       "      <td>3166</td>\n",
       "      <td>181</td>\n",
       "      <td>17</td>\n",
       "      <td>242</td>\n",
       "      <td>61</td>\n",
       "      <td>3252</td>\n",
       "      <td>224</td>\n",
       "      <td>248</td>\n",
       "      <td>152</td>\n",
       "      <td>630</td>\n",
       "      <td>0</td>\n",
       "      <td>0</td>\n",
       "      <td>1</td>\n",
       "      <td>0</td>\n",
       "      <td>0</td>\n",
       "      <td>0</td>\n",
       "      <td>0</td>\n",
       "      <td>0</td>\n",
       "      <td>0</td>\n",
       "      <td>0</td>\n",
       "      <td>0</td>\n",
       "      <td>0</td>\n",
       "      <td>0</td>\n",
       "      <td>0</td>\n",
       "      <td>0</td>\n",
       "      <td>0</td>\n",
       "      <td>0</td>\n",
       "      <td>0</td>\n",
       "      <td>0</td>\n",
       "      <td>0</td>\n",
       "      <td>0</td>\n",
       "      <td>0</td>\n",
       "      <td>0</td>\n",
       "      <td>0</td>\n",
       "      <td>0</td>\n",
       "      <td>0</td>\n",
       "      <td>0</td>\n",
       "      <td>0</td>\n",
       "      <td>0</td>\n",
       "      <td>0</td>\n",
       "      <td>0</td>\n",
       "      <td>0</td>\n",
       "      <td>0</td>\n",
       "      <td>0</td>\n",
       "      <td>0</td>\n",
       "      <td>0</td>\n",
       "      <td>0</td>\n",
       "      <td>1</td>\n",
       "      <td>0</td>\n",
       "      <td>0</td>\n",
       "      <td>0</td>\n",
       "      <td>0</td>\n",
       "      <td>0</td>\n",
       "      <td>0</td>\n",
       "      <td>2</td>\n",
       "    </tr>\n",
       "    <tr>\n",
       "      <th>4</th>\n",
       "      <td>2900</td>\n",
       "      <td>296</td>\n",
       "      <td>25</td>\n",
       "      <td>210</td>\n",
       "      <td>92</td>\n",
       "      <td>5076</td>\n",
       "      <td>142</td>\n",
       "      <td>223</td>\n",
       "      <td>218</td>\n",
       "      <td>4763</td>\n",
       "      <td>1</td>\n",
       "      <td>0</td>\n",
       "      <td>0</td>\n",
       "      <td>0</td>\n",
       "      <td>0</td>\n",
       "      <td>0</td>\n",
       "      <td>0</td>\n",
       "      <td>0</td>\n",
       "      <td>0</td>\n",
       "      <td>0</td>\n",
       "      <td>0</td>\n",
       "      <td>0</td>\n",
       "      <td>0</td>\n",
       "      <td>0</td>\n",
       "      <td>0</td>\n",
       "      <td>0</td>\n",
       "      <td>0</td>\n",
       "      <td>0</td>\n",
       "      <td>0</td>\n",
       "      <td>0</td>\n",
       "      <td>0</td>\n",
       "      <td>0</td>\n",
       "      <td>0</td>\n",
       "      <td>0</td>\n",
       "      <td>0</td>\n",
       "      <td>0</td>\n",
       "      <td>0</td>\n",
       "      <td>1</td>\n",
       "      <td>0</td>\n",
       "      <td>0</td>\n",
       "      <td>0</td>\n",
       "      <td>0</td>\n",
       "      <td>0</td>\n",
       "      <td>0</td>\n",
       "      <td>0</td>\n",
       "      <td>0</td>\n",
       "      <td>0</td>\n",
       "      <td>0</td>\n",
       "      <td>0</td>\n",
       "      <td>0</td>\n",
       "      <td>0</td>\n",
       "      <td>0</td>\n",
       "      <td>0</td>\n",
       "      <td>0</td>\n",
       "      <td>1</td>\n",
       "    </tr>\n",
       "  </tbody>\n",
       "</table>\n",
       "</div>"
      ],
      "text/plain": [
       "   Elevation  Aspect  Slope  ...  Soil_Type_39  Soil_Type_40  Cover_Type\n",
       "0       3250      35      4  ...             0             0           1\n",
       "1       2580      61     20  ...             0             0           1\n",
       "2       2216      41     38  ...             0             0           3\n",
       "3       3166     181     17  ...             0             0           2\n",
       "4       2900     296     25  ...             0             0           1\n",
       "\n",
       "[5 rows x 55 columns]"
      ]
     },
     "execution_count": 8,
     "metadata": {
      "tags": []
     },
     "output_type": "execute_result"
    }
   ],
   "source": [
    "train_raw = pd.read_csv('/content/drive/My Drive/fs-project-4/trees_train_raw.csv')\n",
    "train_raw.drop('Unnamed: 0', axis=1, inplace=True)\n",
    "train_raw.head()"
   ]
  },
  {
   "cell_type": "code",
   "execution_count": 0,
   "metadata": {
    "ExecuteTime": {
     "end_time": "2019-11-21T19:30:21.143865Z",
     "start_time": "2019-11-21T19:30:20.428394Z"
    },
    "colab": {},
    "colab_type": "code",
    "hidden": true,
    "id": "Z8v3Ee2Sqkgq"
   },
   "outputs": [],
   "source": [
    "val_trans = pd.read_csv('/content/drive/My Drive/fs-project-4/trees_val.csv')\n",
    "val_trans.drop('Unnamed: 0', axis=1, inplace=True)\n",
    "val_trans.rename(columns={'40':'Cover_Type'}, inplace=True)"
   ]
  },
  {
   "cell_type": "code",
   "execution_count": 0,
   "metadata": {
    "ExecuteTime": {
     "end_time": "2019-11-21T19:31:36.075787Z",
     "start_time": "2019-11-21T19:31:35.709716Z"
    },
    "colab": {},
    "colab_type": "code",
    "hidden": true,
    "id": "AgcZbleOHYWS"
   },
   "outputs": [],
   "source": [
    "val_raw = pd.read_csv('/content/drive/My Drive/fs-project-4/trees_val_raw.csv')\n",
    "val_raw.drop('Unnamed: 0', axis=1, inplace=True)"
   ]
  },
  {
   "cell_type": "code",
   "execution_count": 11,
   "metadata": {
    "ExecuteTime": {
     "end_time": "2019-11-21T19:34:02.139763Z",
     "start_time": "2019-11-21T19:34:01.886168Z"
    },
    "colab": {
     "base_uri": "https://localhost:8080/",
     "height": 153
    },
    "colab_type": "code",
    "hidden": true,
    "id": "KqTH4qj3qkgr",
    "outputId": "3ad6b867-65a4-4b9c-86b3-5db2e813a12d"
   },
   "outputs": [
    {
     "name": "stdout",
     "output_type": "stream",
     "text": [
      "Transformed train & val datasets\n",
      "Train shape: (114856, 40) (114856,)\n",
      "Val shape: (58101, 40) (58101,)\n",
      "\n",
      "\n",
      "Raw train and val datasets\n",
      "Train shape: (464809, 54) (464809,)\n",
      "Val shape: (58101, 54) (58101,)\n"
     ]
    }
   ],
   "source": [
    "y_train = train_trans['Cover_Type']\n",
    "X_train = train_trans.drop('Cover_Type', axis=1)\n",
    "\n",
    "y_train_raw = train_raw['Cover_Type']\n",
    "X_train_raw = train_raw.drop('Cover_Type', axis=1)\n",
    "\n",
    "y_val = val_trans['Cover_Type']\n",
    "X_val = val_trans.drop('Cover_Type', axis=1)\n",
    "\n",
    "y_val_raw = val_raw['Cover_Type']\n",
    "X_val_raw = val_raw.drop('Cover_Type', axis=1)\n",
    "\n",
    "print('Transformed train & val datasets')\n",
    "print('Train shape:', X_train.shape, y_train.shape)\n",
    "print('Val shape:', X_val.shape, y_val.shape)\n",
    "print('\\n')\n",
    "print('Raw train and val datasets')\n",
    "print('Train shape:', X_train_raw.shape, y_train_raw.shape)\n",
    "print('Val shape:', X_val_raw.shape, y_val_raw.shape)"
   ]
  }
 ],
 "metadata": {
  "accelerator": "GPU",
  "colab": {
   "name": "trees.ipynb",
   "provenance": [],
   "toc_visible": true
  },
  "kernelspec": {
   "display_name": "Python 3",
   "language": "python",
   "name": "python3"
  },
  "language_info": {
   "codemirror_mode": {
    "name": "ipython",
    "version": 3
   },
   "file_extension": ".py",
   "mimetype": "text/x-python",
   "name": "python",
   "nbconvert_exporter": "python",
   "pygments_lexer": "ipython3",
   "version": "3.6.6"
  },
  "toc": {
   "base_numbering": 1,
   "nav_menu": {},
   "number_sections": true,
   "sideBar": true,
   "skip_h1_title": false,
   "title_cell": "Table of Contents",
   "title_sidebar": "Contents",
   "toc_cell": false,
   "toc_position": {
    "height": "calc(100% - 180px)",
    "left": "10px",
    "top": "150px",
    "width": "339.815px"
   },
   "toc_section_display": true,
   "toc_window_display": true
  }
 },
 "nbformat": 4,
 "nbformat_minor": 1
}
