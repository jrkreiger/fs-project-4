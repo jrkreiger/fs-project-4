{
 "cells": [
  {
   "cell_type": "markdown",
   "metadata": {
    "colab_type": "text",
    "id": "mt_4qLfiqke-"
   },
   "source": [
    "header"
   ]
  },
  {
   "cell_type": "markdown",
   "metadata": {
    "colab_type": "text",
    "id": "N2gIANi6qkfA"
   },
   "source": [
    "# Introduction"
   ]
  },
  {
   "cell_type": "markdown",
   "metadata": {
    "colab_type": "text",
    "id": "8GmDpAL0qkfB"
   },
   "source": [
    "## Business case"
   ]
  },
  {
   "cell_type": "markdown",
   "metadata": {
    "colab_type": "text",
    "id": "kPsF0i6rqkfC"
   },
   "source": [
    "narrative text. be sure to look at the paper based on this dataset and cite it."
   ]
  },
  {
   "cell_type": "markdown",
   "metadata": {
    "colab_type": "text",
    "heading_collapsed": true,
    "id": "Y7nO8fqxqkfD"
   },
   "source": [
    "## Custom functions"
   ]
  },
  {
   "cell_type": "code",
   "execution_count": 0,
   "metadata": {
    "ExecuteTime": {
     "end_time": "2019-11-20T20:12:05.319144Z",
     "start_time": "2019-11-20T20:12:05.312130Z"
    },
    "colab": {},
    "colab_type": "code",
    "hidden": true,
    "id": "kbl8hcbEqkfE"
   },
   "outputs": [],
   "source": [
    "# Define a function to print selected model metrics\n",
    "def print_metrics(y_train, y_pred):\n",
    "    acc_score = accuracy_score(y_train, y_pred)\n",
    "    conf_matrix = confusion_matrix(y_train, y_pred)\n",
    "    class_report = classification_report(y_train, y_pred)\n",
    "    print('Training accuracy:', acc_score)\n",
    "    print('-------')\n",
    "    print('Confusion matrix:')\n",
    "    print(conf_matrix)\n",
    "    print('-------')\n",
    "    print('Classification report:')\n",
    "    print(class_report)\n"
   ]
  },
  {
   "cell_type": "code",
   "execution_count": 0,
   "metadata": {
    "ExecuteTime": {
     "end_time": "2019-11-20T20:12:06.017235Z",
     "start_time": "2019-11-20T20:12:06.012456Z"
    },
    "colab": {},
    "colab_type": "code",
    "hidden": true,
    "id": "bH89zaH1qkfJ"
   },
   "outputs": [],
   "source": [
    "# Define a function to visualize feature importances\n",
    "def plot_feature_importances(model):\n",
    "    n_features = X_train.shape[1]\n",
    "    plt.figure(figsize=(8,10))\n",
    "    plt.barh(range(n_features), model.feature_importances_, align='center') \n",
    "    plt.yticks(np.arange(n_features), range(1, n_features+1)) \n",
    "    plt.xlabel(\"Feature importance\")\n",
    "    plt.ylabel(\"Feature (Component)\")\n",
    "    plt.title('Feature Importances')"
   ]
  },
  {
   "cell_type": "code",
   "execution_count": 0,
   "metadata": {
    "ExecuteTime": {
     "end_time": "2019-11-20T20:12:06.663425Z",
     "start_time": "2019-11-20T20:12:06.654507Z"
    },
    "colab": {},
    "colab_type": "code",
    "hidden": true,
    "id": "R2c2YL-oqkfM"
   },
   "outputs": [],
   "source": [
    "# Define a function to calculate AUC and plot ROC curve\n",
    "def roc_it(y_test, y_score):\n",
    "    fpr, tpr, thresholds = roc_curve(y_test, y_score)\n",
    "\n",
    "    sns.set_style(\"darkgrid\", {\"axes.facecolor\": \".9\"})\n",
    "\n",
    "    print('AUC: {}'.format(auc(fpr, tpr)))\n",
    "    plt.figure(figsize=(10,8))\n",
    "\n",
    "    plt.plot(fpr, tpr, color='darkorange',\n",
    "             lw=2, label='ROC curve')\n",
    "    plt.plot([0, 1], [0, 1], color='navy', lw=2, linestyle='--')\n",
    "    plt.xlim([0.0, 1.0])\n",
    "    plt.ylim([0.0, 1.05])\n",
    "    plt.yticks([i/20.0 for i in range(21)])\n",
    "    plt.xticks([i/20.0 for i in range(21)])\n",
    "    plt.xlabel('False Positive Rate')\n",
    "    plt.ylabel('True Positive Rate')\n",
    "    plt.title('Receiver operating characteristic (ROC) Curve')\n",
    "    plt.legend(loc=\"lower right\")\n",
    "    plt.show();\n",
    "\n",
    "    print('AUC: {}'.format(auc(fpr, tpr)))"
   ]
  },
  {
   "cell_type": "markdown",
   "metadata": {
    "colab_type": "text",
    "id": "i4zMCNKNqkfO"
   },
   "source": [
    "## Load and clean data"
   ]
  },
  {
   "cell_type": "code",
   "execution_count": 1,
   "metadata": {
    "ExecuteTime": {
     "end_time": "2019-11-20T22:56:54.144065Z",
     "start_time": "2019-11-20T22:56:50.454537Z"
    },
    "colab": {},
    "colab_type": "code",
    "id": "WEXFtpI4qkfP"
   },
   "outputs": [
    {
     "name": "stderr",
     "output_type": "stream",
     "text": [
      "Using TensorFlow backend.\n"
     ]
    }
   ],
   "source": [
    "# Import packages\n",
    "import pandas as pd\n",
    "import numpy as np\n",
    "import matplotlib.pyplot as plt\n",
    "%matplotlib inline\n",
    "import seaborn as sns\n",
    "\n",
    "from collections import Counter\n",
    "from imblearn.over_sampling import SMOTE\n",
    "from sklearn.preprocessing import MinMaxScaler\n",
    "from sklearn.decomposition import PCA\n",
    "from sklearn.model_selection import train_test_split\n",
    "from sklearn.model_selection import GridSearchCV\n",
    "import xgboost as xgb\n",
    "from sklearn.svm import SVC\n",
    "from sklearn.ensemble import RandomForestClassifier\n",
    "from sklearn.model_selection import train_test_split\n",
    "from sklearn.metrics import accuracy_score, confusion_matrix, classification_report"
   ]
  },
  {
   "cell_type": "code",
   "execution_count": 2,
   "metadata": {
    "ExecuteTime": {
     "end_time": "2019-11-20T22:56:57.673370Z",
     "start_time": "2019-11-20T22:56:54.980420Z"
    },
    "colab": {},
    "colab_type": "code",
    "id": "1rZ4WrOtqkfU",
    "outputId": "95e459aa-269d-45dc-e357-2768f681b56a",
    "scrolled": true
   },
   "outputs": [
    {
     "data": {
      "text/html": [
       "<div>\n",
       "<style scoped>\n",
       "    .dataframe tbody tr th:only-of-type {\n",
       "        vertical-align: middle;\n",
       "    }\n",
       "\n",
       "    .dataframe tbody tr th {\n",
       "        vertical-align: top;\n",
       "    }\n",
       "\n",
       "    .dataframe thead th {\n",
       "        text-align: right;\n",
       "    }\n",
       "</style>\n",
       "<table border=\"1\" class=\"dataframe\">\n",
       "  <thead>\n",
       "    <tr style=\"text-align: right;\">\n",
       "      <th></th>\n",
       "      <th>0</th>\n",
       "      <th>1</th>\n",
       "      <th>2</th>\n",
       "      <th>3</th>\n",
       "      <th>4</th>\n",
       "      <th>5</th>\n",
       "      <th>6</th>\n",
       "      <th>7</th>\n",
       "      <th>8</th>\n",
       "      <th>9</th>\n",
       "      <th>...</th>\n",
       "      <th>45</th>\n",
       "      <th>46</th>\n",
       "      <th>47</th>\n",
       "      <th>48</th>\n",
       "      <th>49</th>\n",
       "      <th>50</th>\n",
       "      <th>51</th>\n",
       "      <th>52</th>\n",
       "      <th>53</th>\n",
       "      <th>54</th>\n",
       "    </tr>\n",
       "  </thead>\n",
       "  <tbody>\n",
       "    <tr>\n",
       "      <td>0</td>\n",
       "      <td>2596</td>\n",
       "      <td>51</td>\n",
       "      <td>3</td>\n",
       "      <td>258</td>\n",
       "      <td>0</td>\n",
       "      <td>510</td>\n",
       "      <td>221</td>\n",
       "      <td>232</td>\n",
       "      <td>148</td>\n",
       "      <td>6279</td>\n",
       "      <td>...</td>\n",
       "      <td>0</td>\n",
       "      <td>0</td>\n",
       "      <td>0</td>\n",
       "      <td>0</td>\n",
       "      <td>0</td>\n",
       "      <td>0</td>\n",
       "      <td>0</td>\n",
       "      <td>0</td>\n",
       "      <td>0</td>\n",
       "      <td>5</td>\n",
       "    </tr>\n",
       "    <tr>\n",
       "      <td>1</td>\n",
       "      <td>2590</td>\n",
       "      <td>56</td>\n",
       "      <td>2</td>\n",
       "      <td>212</td>\n",
       "      <td>-6</td>\n",
       "      <td>390</td>\n",
       "      <td>220</td>\n",
       "      <td>235</td>\n",
       "      <td>151</td>\n",
       "      <td>6225</td>\n",
       "      <td>...</td>\n",
       "      <td>0</td>\n",
       "      <td>0</td>\n",
       "      <td>0</td>\n",
       "      <td>0</td>\n",
       "      <td>0</td>\n",
       "      <td>0</td>\n",
       "      <td>0</td>\n",
       "      <td>0</td>\n",
       "      <td>0</td>\n",
       "      <td>5</td>\n",
       "    </tr>\n",
       "    <tr>\n",
       "      <td>2</td>\n",
       "      <td>2804</td>\n",
       "      <td>139</td>\n",
       "      <td>9</td>\n",
       "      <td>268</td>\n",
       "      <td>65</td>\n",
       "      <td>3180</td>\n",
       "      <td>234</td>\n",
       "      <td>238</td>\n",
       "      <td>135</td>\n",
       "      <td>6121</td>\n",
       "      <td>...</td>\n",
       "      <td>0</td>\n",
       "      <td>0</td>\n",
       "      <td>0</td>\n",
       "      <td>0</td>\n",
       "      <td>0</td>\n",
       "      <td>0</td>\n",
       "      <td>0</td>\n",
       "      <td>0</td>\n",
       "      <td>0</td>\n",
       "      <td>2</td>\n",
       "    </tr>\n",
       "    <tr>\n",
       "      <td>3</td>\n",
       "      <td>2785</td>\n",
       "      <td>155</td>\n",
       "      <td>18</td>\n",
       "      <td>242</td>\n",
       "      <td>118</td>\n",
       "      <td>3090</td>\n",
       "      <td>238</td>\n",
       "      <td>238</td>\n",
       "      <td>122</td>\n",
       "      <td>6211</td>\n",
       "      <td>...</td>\n",
       "      <td>0</td>\n",
       "      <td>0</td>\n",
       "      <td>0</td>\n",
       "      <td>0</td>\n",
       "      <td>0</td>\n",
       "      <td>0</td>\n",
       "      <td>0</td>\n",
       "      <td>0</td>\n",
       "      <td>0</td>\n",
       "      <td>2</td>\n",
       "    </tr>\n",
       "    <tr>\n",
       "      <td>4</td>\n",
       "      <td>2595</td>\n",
       "      <td>45</td>\n",
       "      <td>2</td>\n",
       "      <td>153</td>\n",
       "      <td>-1</td>\n",
       "      <td>391</td>\n",
       "      <td>220</td>\n",
       "      <td>234</td>\n",
       "      <td>150</td>\n",
       "      <td>6172</td>\n",
       "      <td>...</td>\n",
       "      <td>0</td>\n",
       "      <td>0</td>\n",
       "      <td>0</td>\n",
       "      <td>0</td>\n",
       "      <td>0</td>\n",
       "      <td>0</td>\n",
       "      <td>0</td>\n",
       "      <td>0</td>\n",
       "      <td>0</td>\n",
       "      <td>5</td>\n",
       "    </tr>\n",
       "  </tbody>\n",
       "</table>\n",
       "<p>5 rows × 55 columns</p>\n",
       "</div>"
      ],
      "text/plain": [
       "     0    1   2    3    4     5    6    7    8     9   ...  45  46  47  48  \\\n",
       "0  2596   51   3  258    0   510  221  232  148  6279  ...   0   0   0   0   \n",
       "1  2590   56   2  212   -6   390  220  235  151  6225  ...   0   0   0   0   \n",
       "2  2804  139   9  268   65  3180  234  238  135  6121  ...   0   0   0   0   \n",
       "3  2785  155  18  242  118  3090  238  238  122  6211  ...   0   0   0   0   \n",
       "4  2595   45   2  153   -1   391  220  234  150  6172  ...   0   0   0   0   \n",
       "\n",
       "   49  50  51  52  53  54  \n",
       "0   0   0   0   0   0   5  \n",
       "1   0   0   0   0   0   5  \n",
       "2   0   0   0   0   0   2  \n",
       "3   0   0   0   0   0   2  \n",
       "4   0   0   0   0   0   5  \n",
       "\n",
       "[5 rows x 55 columns]"
      ]
     },
     "execution_count": 2,
     "metadata": {},
     "output_type": "execute_result"
    }
   ],
   "source": [
    "# Get the data\n",
    "df = pd.read_table(\"covtype.data\", sep=',', header=None)\n",
    "df.head()"
   ]
  },
  {
   "cell_type": "code",
   "execution_count": 3,
   "metadata": {
    "ExecuteTime": {
     "end_time": "2019-11-20T22:56:58.713810Z",
     "start_time": "2019-11-20T22:56:58.707629Z"
    },
    "colab": {},
    "colab_type": "code",
    "id": "VTyDUbnlqkfY",
    "outputId": "a879af42-62be-4eaa-98f8-f0b5bd8943fe"
   },
   "outputs": [
    {
     "name": "stdout",
     "output_type": "stream",
     "text": [
      "['Soil_Type_1', 'Soil_Type_2', 'Soil_Type_3', 'Soil_Type_4', 'Soil_Type_5', 'Soil_Type_6', 'Soil_Type_7', 'Soil_Type_8', 'Soil_Type_9', 'Soil_Type_10', 'Soil_Type_11', 'Soil_Type_12', 'Soil_Type_13', 'Soil_Type_14', 'Soil_Type_15', 'Soil_Type_16', 'Soil_Type_17', 'Soil_Type_18', 'Soil_Type_19', 'Soil_Type_20', 'Soil_Type_21', 'Soil_Type_22', 'Soil_Type_23', 'Soil_Type_24', 'Soil_Type_25', 'Soil_Type_26', 'Soil_Type_27', 'Soil_Type_28', 'Soil_Type_29', 'Soil_Type_30', 'Soil_Type_31', 'Soil_Type_32', 'Soil_Type_33', 'Soil_Type_34', 'Soil_Type_35', 'Soil_Type_36', 'Soil_Type_37', 'Soil_Type_38', 'Soil_Type_39', 'Soil_Type_40']\n"
     ]
    }
   ],
   "source": [
    "# Generate column names for the 40 soil type columns\n",
    "soil_types = []\n",
    "for n in range(1, 41):\n",
    "    str_n = str(n)\n",
    "    name = 'Soil_Type_' + str_n\n",
    "    soil_types.append(name)\n",
    "    \n",
    "print(soil_types)"
   ]
  },
  {
   "cell_type": "code",
   "execution_count": 4,
   "metadata": {
    "ExecuteTime": {
     "end_time": "2019-11-20T22:56:59.507701Z",
     "start_time": "2019-11-20T22:56:59.325420Z"
    },
    "colab": {},
    "colab_type": "code",
    "id": "d_05VXDgqkfa",
    "outputId": "89b2004d-6ad9-4c9f-b72f-5125c27a25b7"
   },
   "outputs": [
    {
     "name": "stdout",
     "output_type": "stream",
     "text": [
      "<class 'pandas.core.frame.DataFrame'>\n",
      "RangeIndex: 581012 entries, 0 to 581011\n",
      "Data columns (total 55 columns):\n",
      "Elevation         581012 non-null int64\n",
      "Aspect            581012 non-null int64\n",
      "Slope             581012 non-null int64\n",
      "Hor_Dist_Hyd      581012 non-null int64\n",
      "Ver_Dist_Hyd      581012 non-null int64\n",
      "Hor_Dist_Road     581012 non-null int64\n",
      "Hillshade_9am     581012 non-null int64\n",
      "Hillshade_noon    581012 non-null int64\n",
      "Hillshade_3pm     581012 non-null int64\n",
      "Hor_Dist_Fire     581012 non-null int64\n",
      "WA_1              581012 non-null int64\n",
      "WA_2              581012 non-null int64\n",
      "WA_3              581012 non-null int64\n",
      "WA_4              581012 non-null int64\n",
      "Soil_Type_1       581012 non-null int64\n",
      "Soil_Type_2       581012 non-null int64\n",
      "Soil_Type_3       581012 non-null int64\n",
      "Soil_Type_4       581012 non-null int64\n",
      "Soil_Type_5       581012 non-null int64\n",
      "Soil_Type_6       581012 non-null int64\n",
      "Soil_Type_7       581012 non-null int64\n",
      "Soil_Type_8       581012 non-null int64\n",
      "Soil_Type_9       581012 non-null int64\n",
      "Soil_Type_10      581012 non-null int64\n",
      "Soil_Type_11      581012 non-null int64\n",
      "Soil_Type_12      581012 non-null int64\n",
      "Soil_Type_13      581012 non-null int64\n",
      "Soil_Type_14      581012 non-null int64\n",
      "Soil_Type_15      581012 non-null int64\n",
      "Soil_Type_16      581012 non-null int64\n",
      "Soil_Type_17      581012 non-null int64\n",
      "Soil_Type_18      581012 non-null int64\n",
      "Soil_Type_19      581012 non-null int64\n",
      "Soil_Type_20      581012 non-null int64\n",
      "Soil_Type_21      581012 non-null int64\n",
      "Soil_Type_22      581012 non-null int64\n",
      "Soil_Type_23      581012 non-null int64\n",
      "Soil_Type_24      581012 non-null int64\n",
      "Soil_Type_25      581012 non-null int64\n",
      "Soil_Type_26      581012 non-null int64\n",
      "Soil_Type_27      581012 non-null int64\n",
      "Soil_Type_28      581012 non-null int64\n",
      "Soil_Type_29      581012 non-null int64\n",
      "Soil_Type_30      581012 non-null int64\n",
      "Soil_Type_31      581012 non-null int64\n",
      "Soil_Type_32      581012 non-null int64\n",
      "Soil_Type_33      581012 non-null int64\n",
      "Soil_Type_34      581012 non-null int64\n",
      "Soil_Type_35      581012 non-null int64\n",
      "Soil_Type_36      581012 non-null int64\n",
      "Soil_Type_37      581012 non-null int64\n",
      "Soil_Type_38      581012 non-null int64\n",
      "Soil_Type_39      581012 non-null int64\n",
      "Soil_Type_40      581012 non-null int64\n",
      "Cover_Type        581012 non-null int64\n",
      "dtypes: int64(55)\n",
      "memory usage: 243.8 MB\n"
     ]
    }
   ],
   "source": [
    "# Name the columns\n",
    "colnames = ['Elevation', 'Aspect', 'Slope', 'Hor_Dist_Hyd', 'Ver_Dist_Hyd',\n",
    "            'Hor_Dist_Road', 'Hillshade_9am', 'Hillshade_noon', 'Hillshade_3pm',\n",
    "            'Hor_Dist_Fire', 'WA_1', 'WA_2', 'WA_3', 'WA_4', 'Soil_Type_1', \n",
    "            'Soil_Type_2', 'Soil_Type_3', 'Soil_Type_4', 'Soil_Type_5', \n",
    "            'Soil_Type_6', 'Soil_Type_7', 'Soil_Type_8', 'Soil_Type_9', \n",
    "            'Soil_Type_10', 'Soil_Type_11', 'Soil_Type_12', 'Soil_Type_13', \n",
    "            'Soil_Type_14', 'Soil_Type_15', 'Soil_Type_16', 'Soil_Type_17', \n",
    "            'Soil_Type_18', 'Soil_Type_19', 'Soil_Type_20', 'Soil_Type_21', \n",
    "            'Soil_Type_22', 'Soil_Type_23', 'Soil_Type_24', 'Soil_Type_25', \n",
    "            'Soil_Type_26', 'Soil_Type_27', 'Soil_Type_28', 'Soil_Type_29', \n",
    "            'Soil_Type_30', 'Soil_Type_31', 'Soil_Type_32', 'Soil_Type_33', \n",
    "            'Soil_Type_34', 'Soil_Type_35', 'Soil_Type_36', 'Soil_Type_37', \n",
    "            'Soil_Type_38', 'Soil_Type_39', 'Soil_Type_40', 'Cover_Type',]\n",
    "df.columns = colnames\n",
    "df.info()"
   ]
  },
  {
   "cell_type": "code",
   "execution_count": 5,
   "metadata": {
    "ExecuteTime": {
     "end_time": "2019-11-20T22:57:00.113115Z",
     "start_time": "2019-11-20T22:57:00.090374Z"
    },
    "colab": {},
    "colab_type": "code",
    "id": "snL5i8Wgqkfd",
    "outputId": "c738f5bf-f232-444b-9918-e5e296d319f1",
    "scrolled": false
   },
   "outputs": [
    {
     "data": {
      "text/plain": [
       "2    283301\n",
       "1    211840\n",
       "3     35754\n",
       "7     20510\n",
       "6     17367\n",
       "5      9493\n",
       "4      2747\n",
       "Name: Cover_Type, dtype: int64"
      ]
     },
     "execution_count": 5,
     "metadata": {},
     "output_type": "execute_result"
    }
   ],
   "source": [
    "# Check class balance\n",
    "df.Cover_Type.value_counts()"
   ]
  },
  {
   "cell_type": "markdown",
   "metadata": {
    "colab_type": "text",
    "id": "JX8r_D4Bqkff"
   },
   "source": [
    "## EDA"
   ]
  },
  {
   "cell_type": "code",
   "execution_count": 6,
   "metadata": {
    "ExecuteTime": {
     "end_time": "2019-11-20T22:57:04.063434Z",
     "start_time": "2019-11-20T22:57:01.874369Z"
    },
    "colab": {},
    "colab_type": "code",
    "id": "SOIToKlNqkfg",
    "outputId": "d0bc6e7d-566a-429f-e0de-4624a0904db9",
    "scrolled": true
   },
   "outputs": [
    {
     "data": {
      "image/png": "[encoded data removed]",
      "text/plain": [
       "<Figure size 1152x1008 with 10 Axes>"
      ]
     },
     "metadata": {
      "needs_background": "light"
     },
     "output_type": "display_data"
    }
   ],
   "source": [
    "# Visualize distributions of continuous variables\n",
    "to_hist = ['Elevation', 'Aspect', 'Slope', 'Hor_Dist_Hyd', 'Ver_Dist_Hyd',\n",
    "           'Hor_Dist_Road', 'Hillshade_9am', 'Hillshade_noon', 'Hillshade_3pm',\n",
    "           'Hor_Dist_Fire']\n",
    "\n",
    "plt.figure(figsize=(16,14))\n",
    "for idx, col in enumerate(to_hist):\n",
    "    plt.subplot(3, 4, idx+1)\n",
    "    plt.hist(df[col])\n",
    "    plt.title(col)\n",
    "plt.tight_layout();\n"
   ]
  },
  {
   "cell_type": "markdown",
   "metadata": {
    "colab_type": "text",
    "id": "Hb5a9NIwqkfi"
   },
   "source": [
    "# Preprocessing"
   ]
  },
  {
   "cell_type": "markdown",
   "metadata": {
    "colab_type": "text",
    "id": "F5I9owJ4qkfj"
   },
   "source": [
    "## Train-validation-test split"
   ]
  },
  {
   "cell_type": "code",
   "execution_count": 7,
   "metadata": {
    "ExecuteTime": {
     "end_time": "2019-11-20T22:57:17.217559Z",
     "start_time": "2019-11-20T22:57:16.135274Z"
    },
    "colab": {},
    "colab_type": "code",
    "id": "h6yf-_EZqkfk"
   },
   "outputs": [],
   "source": [
    "# Create training, validation, and test datasets\n",
    "y = df['Cover_Type']\n",
    "X = df.drop('Cover_Type', axis=1)\n",
    "\n",
    "X_train, X_test, y_train, y_test = train_test_split(X, y, test_size=0.2,\n",
    "                                                    random_state=1,\n",
    "                                                    stratify=y)"
   ]
  },
  {
   "cell_type": "code",
   "execution_count": 9,
   "metadata": {
    "ExecuteTime": {
     "end_time": "2019-11-20T22:57:34.666503Z",
     "start_time": "2019-11-20T22:57:34.490754Z"
    },
    "colab": {},
    "colab_type": "code",
    "id": "9Yhs1Jvkqkfm"
   },
   "outputs": [],
   "source": [
    "X_val, X_test, y_val, y_test = train_test_split(X_test, y_test, test_size=0.5,\n",
    "                                                random_state=1,\n",
    "                                                stratify=y_test)"
   ]
  },
  {
   "cell_type": "code",
   "execution_count": 12,
   "metadata": {
    "ExecuteTime": {
     "end_time": "2019-11-20T22:58:49.453122Z",
     "start_time": "2019-11-20T22:58:49.444043Z"
    },
    "colab": {},
    "colab_type": "code",
    "id": "fnBUtqiXqkfo",
    "outputId": "dc84eeac-788f-40b5-a444-794504dcdb7e"
   },
   "outputs": [
    {
     "name": "stdout",
     "output_type": "stream",
     "text": [
      "(464809, 54) (464809,)\n",
      "(58101, 54) (58101,)\n",
      "(58102, 54) (58102,)\n"
     ]
    }
   ],
   "source": [
    "# Examine shapes of the subsets\n",
    "print(X_train.shape, y_train.shape)\n",
    "print(X_val.shape, y_val.shape)\n",
    "print(X_test.shape, y_test.shape)"
   ]
  },
  {
   "cell_type": "markdown",
   "metadata": {
    "colab_type": "text",
    "id": "Q6yIQr_mqkfq"
   },
   "source": [
    "## Resampling and scaling"
   ]
  },
  {
   "cell_type": "code",
   "execution_count": 13,
   "metadata": {
    "ExecuteTime": {
     "end_time": "2019-11-20T22:59:03.137496Z",
     "start_time": "2019-11-20T22:59:02.895253Z"
    },
    "colab": {},
    "colab_type": "code",
    "id": "jfewFPpmqkfr",
    "outputId": "625966ef-cb77-4cb8-d16d-353963765d0d",
    "scrolled": true
   },
   "outputs": [
    {
     "data": {
      "text/html": [
       "<div>\n",
       "<style scoped>\n",
       "    .dataframe tbody tr th:only-of-type {\n",
       "        vertical-align: middle;\n",
       "    }\n",
       "\n",
       "    .dataframe tbody tr th {\n",
       "        vertical-align: top;\n",
       "    }\n",
       "\n",
       "    .dataframe thead th {\n",
       "        text-align: right;\n",
       "    }\n",
       "</style>\n",
       "<table border=\"1\" class=\"dataframe\">\n",
       "  <thead>\n",
       "    <tr style=\"text-align: right;\">\n",
       "      <th></th>\n",
       "      <th>Elevation</th>\n",
       "      <th>Aspect</th>\n",
       "      <th>Slope</th>\n",
       "      <th>Hor_Dist_Hyd</th>\n",
       "      <th>Ver_Dist_Hyd</th>\n",
       "      <th>Hor_Dist_Road</th>\n",
       "      <th>Hillshade_9am</th>\n",
       "      <th>Hillshade_noon</th>\n",
       "      <th>Hillshade_3pm</th>\n",
       "      <th>Hor_Dist_Fire</th>\n",
       "      <th>...</th>\n",
       "      <th>Soil_Type_32</th>\n",
       "      <th>Soil_Type_33</th>\n",
       "      <th>Soil_Type_34</th>\n",
       "      <th>Soil_Type_35</th>\n",
       "      <th>Soil_Type_36</th>\n",
       "      <th>Soil_Type_37</th>\n",
       "      <th>Soil_Type_38</th>\n",
       "      <th>Soil_Type_39</th>\n",
       "      <th>Soil_Type_40</th>\n",
       "      <th>Cover_Type</th>\n",
       "    </tr>\n",
       "  </thead>\n",
       "  <tbody>\n",
       "    <tr>\n",
       "      <td>450015</td>\n",
       "      <td>3250</td>\n",
       "      <td>35</td>\n",
       "      <td>4</td>\n",
       "      <td>534</td>\n",
       "      <td>212</td>\n",
       "      <td>2969</td>\n",
       "      <td>219</td>\n",
       "      <td>231</td>\n",
       "      <td>148</td>\n",
       "      <td>3161</td>\n",
       "      <td>...</td>\n",
       "      <td>0</td>\n",
       "      <td>0</td>\n",
       "      <td>0</td>\n",
       "      <td>0</td>\n",
       "      <td>0</td>\n",
       "      <td>0</td>\n",
       "      <td>0</td>\n",
       "      <td>0</td>\n",
       "      <td>0</td>\n",
       "      <td>1</td>\n",
       "    </tr>\n",
       "    <tr>\n",
       "      <td>127010</td>\n",
       "      <td>2580</td>\n",
       "      <td>61</td>\n",
       "      <td>20</td>\n",
       "      <td>30</td>\n",
       "      <td>-1</td>\n",
       "      <td>1061</td>\n",
       "      <td>232</td>\n",
       "      <td>193</td>\n",
       "      <td>85</td>\n",
       "      <td>553</td>\n",
       "      <td>...</td>\n",
       "      <td>0</td>\n",
       "      <td>0</td>\n",
       "      <td>0</td>\n",
       "      <td>0</td>\n",
       "      <td>0</td>\n",
       "      <td>0</td>\n",
       "      <td>0</td>\n",
       "      <td>0</td>\n",
       "      <td>0</td>\n",
       "      <td>1</td>\n",
       "    </tr>\n",
       "    <tr>\n",
       "      <td>247694</td>\n",
       "      <td>2216</td>\n",
       "      <td>41</td>\n",
       "      <td>38</td>\n",
       "      <td>384</td>\n",
       "      <td>251</td>\n",
       "      <td>424</td>\n",
       "      <td>194</td>\n",
       "      <td>129</td>\n",
       "      <td>40</td>\n",
       "      <td>295</td>\n",
       "      <td>...</td>\n",
       "      <td>0</td>\n",
       "      <td>0</td>\n",
       "      <td>0</td>\n",
       "      <td>0</td>\n",
       "      <td>0</td>\n",
       "      <td>0</td>\n",
       "      <td>0</td>\n",
       "      <td>0</td>\n",
       "      <td>0</td>\n",
       "      <td>3</td>\n",
       "    </tr>\n",
       "    <tr>\n",
       "      <td>548749</td>\n",
       "      <td>3166</td>\n",
       "      <td>181</td>\n",
       "      <td>17</td>\n",
       "      <td>242</td>\n",
       "      <td>61</td>\n",
       "      <td>3252</td>\n",
       "      <td>224</td>\n",
       "      <td>248</td>\n",
       "      <td>152</td>\n",
       "      <td>630</td>\n",
       "      <td>...</td>\n",
       "      <td>0</td>\n",
       "      <td>0</td>\n",
       "      <td>1</td>\n",
       "      <td>0</td>\n",
       "      <td>0</td>\n",
       "      <td>0</td>\n",
       "      <td>0</td>\n",
       "      <td>0</td>\n",
       "      <td>0</td>\n",
       "      <td>2</td>\n",
       "    </tr>\n",
       "    <tr>\n",
       "      <td>29431</td>\n",
       "      <td>2900</td>\n",
       "      <td>296</td>\n",
       "      <td>25</td>\n",
       "      <td>210</td>\n",
       "      <td>92</td>\n",
       "      <td>5076</td>\n",
       "      <td>142</td>\n",
       "      <td>223</td>\n",
       "      <td>218</td>\n",
       "      <td>4763</td>\n",
       "      <td>...</td>\n",
       "      <td>0</td>\n",
       "      <td>0</td>\n",
       "      <td>0</td>\n",
       "      <td>0</td>\n",
       "      <td>0</td>\n",
       "      <td>0</td>\n",
       "      <td>0</td>\n",
       "      <td>0</td>\n",
       "      <td>0</td>\n",
       "      <td>1</td>\n",
       "    </tr>\n",
       "  </tbody>\n",
       "</table>\n",
       "<p>5 rows × 55 columns</p>\n",
       "</div>"
      ],
      "text/plain": [
       "        Elevation  Aspect  Slope  Hor_Dist_Hyd  Ver_Dist_Hyd  Hor_Dist_Road  \\\n",
       "450015       3250      35      4           534           212           2969   \n",
       "127010       2580      61     20            30            -1           1061   \n",
       "247694       2216      41     38           384           251            424   \n",
       "548749       3166     181     17           242            61           3252   \n",
       "29431        2900     296     25           210            92           5076   \n",
       "\n",
       "        Hillshade_9am  Hillshade_noon  Hillshade_3pm  Hor_Dist_Fire  ...  \\\n",
       "450015            219             231            148           3161  ...   \n",
       "127010            232             193             85            553  ...   \n",
       "247694            194             129             40            295  ...   \n",
       "548749            224             248            152            630  ...   \n",
       "29431             142             223            218           4763  ...   \n",
       "\n",
       "        Soil_Type_32  Soil_Type_33  Soil_Type_34  Soil_Type_35  Soil_Type_36  \\\n",
       "450015             0             0             0             0             0   \n",
       "127010             0             0             0             0             0   \n",
       "247694             0             0             0             0             0   \n",
       "548749             0             0             1             0             0   \n",
       "29431              0             0             0             0             0   \n",
       "\n",
       "        Soil_Type_37  Soil_Type_38  Soil_Type_39  Soil_Type_40  Cover_Type  \n",
       "450015             0             0             0             0           1  \n",
       "127010             0             0             0             0           1  \n",
       "247694             0             0             0             0           3  \n",
       "548749             0             0             0             0           2  \n",
       "29431              0             0             0             0           1  \n",
       "\n",
       "[5 rows x 55 columns]"
      ]
     },
     "execution_count": 13,
     "metadata": {},
     "output_type": "execute_result"
    }
   ],
   "source": [
    "# Concatenate X_train and y_train for resampling\n",
    "df_train = pd.concat([X_train, y_train], axis=1)\n",
    "df_train.head()"
   ]
  },
  {
   "cell_type": "code",
   "execution_count": 14,
   "metadata": {
    "ExecuteTime": {
     "end_time": "2019-11-20T22:59:10.275222Z",
     "start_time": "2019-11-20T22:59:10.266775Z"
    }
   },
   "outputs": [
    {
     "data": {
      "text/plain": [
       "464809"
      ]
     },
     "execution_count": 14,
     "metadata": {},
     "output_type": "execute_result"
    }
   ],
   "source": [
    "len(df_train)"
   ]
  },
  {
   "cell_type": "code",
   "execution_count": 15,
   "metadata": {
    "ExecuteTime": {
     "end_time": "2019-11-20T22:59:28.380373Z",
     "start_time": "2019-11-20T22:59:28.363724Z"
    },
    "colab": {},
    "colab_type": "code",
    "id": "QuD1IC4oqkfu",
    "outputId": "33bbcb4e-5de6-40a1-a73a-87d77529706b"
   },
   "outputs": [
    {
     "data": {
      "text/plain": [
       "2    226640\n",
       "1    169472\n",
       "3     28603\n",
       "7     16408\n",
       "6     13894\n",
       "5      7594\n",
       "4      2198\n",
       "Name: Cover_Type, dtype: int64"
      ]
     },
     "execution_count": 15,
     "metadata": {},
     "output_type": "execute_result"
    }
   ],
   "source": [
    "# Check for class imbalance\n",
    "df_train.Cover_Type.value_counts()"
   ]
  },
  {
   "cell_type": "code",
   "execution_count": 16,
   "metadata": {
    "ExecuteTime": {
     "end_time": "2019-11-20T22:59:46.992977Z",
     "start_time": "2019-11-20T22:59:46.237512Z"
    },
    "colab": {},
    "colab_type": "code",
    "id": "G-jFpB3qqkfw"
   },
   "outputs": [],
   "source": [
    "# Subset the cover types\n",
    "cover_1 = df_train[df_train.Cover_Type == 1]\n",
    "cover_2 = df_train[df_train.Cover_Type == 2]\n",
    "cover_3 = df_train[df_train.Cover_Type == 3]\n",
    "cover_4 = df_train[df_train.Cover_Type == 4]\n",
    "cover_5 = df_train[df_train.Cover_Type == 5]\n",
    "cover_6 = df_train[df_train.Cover_Type == 6]\n",
    "cover_7 = df_train[df_train.Cover_Type == 7]"
   ]
  },
  {
   "cell_type": "code",
   "execution_count": 17,
   "metadata": {
    "ExecuteTime": {
     "end_time": "2019-11-20T23:00:35.828634Z",
     "start_time": "2019-11-20T23:00:35.746867Z"
    },
    "colab": {},
    "colab_type": "code",
    "id": "_NirBMI4qkfz"
   },
   "outputs": [],
   "source": [
    "# Sample the cover type subsets\n",
    "cover_1 = cover_1.sample(16408, random_state=1)\n",
    "cover_2 = cover_2.sample(16408, random_state=1)\n",
    "cover_3 = cover_3.sample(16408, random_state=1)"
   ]
  },
  {
   "cell_type": "code",
   "execution_count": 18,
   "metadata": {
    "ExecuteTime": {
     "end_time": "2019-11-20T23:00:36.570499Z",
     "start_time": "2019-11-20T23:00:36.565457Z"
    },
    "colab": {},
    "colab_type": "code",
    "id": "15gjIC55qkf1",
    "outputId": "4d8fb250-d5d8-416a-de74-dd8fa64eae4d"
   },
   "outputs": [
    {
     "data": {
      "text/plain": [
       "16408"
      ]
     },
     "execution_count": 18,
     "metadata": {},
     "output_type": "execute_result"
    }
   ],
   "source": [
    "# Check that sampling was successful\n",
    "len(cover_1)"
   ]
  },
  {
   "cell_type": "code",
   "execution_count": 19,
   "metadata": {
    "ExecuteTime": {
     "end_time": "2019-11-20T23:00:42.094165Z",
     "start_time": "2019-11-20T23:00:42.022059Z"
    },
    "colab": {},
    "colab_type": "code",
    "id": "Tchmenfiqkf4",
    "outputId": "48b3712b-a2cf-4a37-8427-654e78f1d41d"
   },
   "outputs": [
    {
     "name": "stdout",
     "output_type": "stream",
     "text": [
      "<class 'pandas.core.frame.DataFrame'>\n",
      "RangeIndex: 89318 entries, 0 to 89317\n",
      "Data columns (total 55 columns):\n",
      "Elevation         89318 non-null int64\n",
      "Aspect            89318 non-null int64\n",
      "Slope             89318 non-null int64\n",
      "Hor_Dist_Hyd      89318 non-null int64\n",
      "Ver_Dist_Hyd      89318 non-null int64\n",
      "Hor_Dist_Road     89318 non-null int64\n",
      "Hillshade_9am     89318 non-null int64\n",
      "Hillshade_noon    89318 non-null int64\n",
      "Hillshade_3pm     89318 non-null int64\n",
      "Hor_Dist_Fire     89318 non-null int64\n",
      "WA_1              89318 non-null int64\n",
      "WA_2              89318 non-null int64\n",
      "WA_3              89318 non-null int64\n",
      "WA_4              89318 non-null int64\n",
      "Soil_Type_1       89318 non-null int64\n",
      "Soil_Type_2       89318 non-null int64\n",
      "Soil_Type_3       89318 non-null int64\n",
      "Soil_Type_4       89318 non-null int64\n",
      "Soil_Type_5       89318 non-null int64\n",
      "Soil_Type_6       89318 non-null int64\n",
      "Soil_Type_7       89318 non-null int64\n",
      "Soil_Type_8       89318 non-null int64\n",
      "Soil_Type_9       89318 non-null int64\n",
      "Soil_Type_10      89318 non-null int64\n",
      "Soil_Type_11      89318 non-null int64\n",
      "Soil_Type_12      89318 non-null int64\n",
      "Soil_Type_13      89318 non-null int64\n",
      "Soil_Type_14      89318 non-null int64\n",
      "Soil_Type_15      89318 non-null int64\n",
      "Soil_Type_16      89318 non-null int64\n",
      "Soil_Type_17      89318 non-null int64\n",
      "Soil_Type_18      89318 non-null int64\n",
      "Soil_Type_19      89318 non-null int64\n",
      "Soil_Type_20      89318 non-null int64\n",
      "Soil_Type_21      89318 non-null int64\n",
      "Soil_Type_22      89318 non-null int64\n",
      "Soil_Type_23      89318 non-null int64\n",
      "Soil_Type_24      89318 non-null int64\n",
      "Soil_Type_25      89318 non-null int64\n",
      "Soil_Type_26      89318 non-null int64\n",
      "Soil_Type_27      89318 non-null int64\n",
      "Soil_Type_28      89318 non-null int64\n",
      "Soil_Type_29      89318 non-null int64\n",
      "Soil_Type_30      89318 non-null int64\n",
      "Soil_Type_31      89318 non-null int64\n",
      "Soil_Type_32      89318 non-null int64\n",
      "Soil_Type_33      89318 non-null int64\n",
      "Soil_Type_34      89318 non-null int64\n",
      "Soil_Type_35      89318 non-null int64\n",
      "Soil_Type_36      89318 non-null int64\n",
      "Soil_Type_37      89318 non-null int64\n",
      "Soil_Type_38      89318 non-null int64\n",
      "Soil_Type_39      89318 non-null int64\n",
      "Soil_Type_40      89318 non-null int64\n",
      "Cover_Type        89318 non-null int64\n",
      "dtypes: int64(55)\n",
      "memory usage: 37.5 MB\n"
     ]
    }
   ],
   "source": [
    "# Concatenate the subsets into one DataFrame\n",
    "sample = pd.concat([cover_1, cover_2, cover_3, cover_4, cover_5, cover_6, \n",
    "                    cover_7], axis=0, ignore_index=True)\n",
    "sample.info()"
   ]
  },
  {
   "cell_type": "code",
   "execution_count": 20,
   "metadata": {
    "ExecuteTime": {
     "end_time": "2019-11-20T23:00:54.069030Z",
     "start_time": "2019-11-20T23:00:54.055200Z"
    },
    "colab": {},
    "colab_type": "code",
    "id": "1mliM9w8qkf-",
    "outputId": "8bd364d2-3ffe-4c56-9158-f33a3cdc2138",
    "scrolled": false
   },
   "outputs": [
    {
     "data": {
      "text/plain": [
       "7    16408\n",
       "3    16408\n",
       "2    16408\n",
       "1    16408\n",
       "6    13894\n",
       "5     7594\n",
       "4     2198\n",
       "Name: Cover_Type, dtype: int64"
      ]
     },
     "execution_count": 20,
     "metadata": {},
     "output_type": "execute_result"
    }
   ],
   "source": [
    "# Confirm that 6 of the 7 classes are balanced\n",
    "sample.Cover_Type.value_counts()"
   ]
  },
  {
   "cell_type": "code",
   "execution_count": 21,
   "metadata": {
    "ExecuteTime": {
     "end_time": "2019-11-20T23:01:01.162475Z",
     "start_time": "2019-11-20T23:00:59.673270Z"
    },
    "colab": {},
    "colab_type": "code",
    "id": "BsdGVO9GqkgD",
    "outputId": "c8495e3c-6e74-4189-b149-9c3af36e1272",
    "scrolled": false
   },
   "outputs": [
    {
     "data": {
      "text/plain": [
       "Counter({1: 16408, 2: 16408, 3: 16408, 4: 16408, 5: 16408, 6: 16408, 7: 16408})"
      ]
     },
     "execution_count": 21,
     "metadata": {},
     "output_type": "execute_result"
    }
   ],
   "source": [
    "# Use SMOTE to oversample the minority class\n",
    "smote = SMOTE(random_state=3)\n",
    "                                                 \n",
    "y_for_smote = sample['Cover_Type']\n",
    "X_for_smote = sample.drop('Cover_Type', axis=1)\n",
    "\n",
    "X_smote, y_smote = smote.fit_resample(X_for_smote, y_for_smote)\n",
    "\n",
    "# Check count of each class\n",
    "Counter(y_smote)"
   ]
  },
  {
   "cell_type": "code",
   "execution_count": 22,
   "metadata": {
    "ExecuteTime": {
     "end_time": "2019-11-20T23:01:17.029715Z",
     "start_time": "2019-11-20T23:01:16.863886Z"
    },
    "colab": {},
    "colab_type": "code",
    "id": "W3osVJKVqkgF",
    "outputId": "6001df1f-616d-487e-ffd9-ae0adf14592b",
    "scrolled": true
   },
   "outputs": [
    {
     "name": "stderr",
     "output_type": "stream",
     "text": [
      "/Users/jennykreiger/anaconda3/envs/learn-env/lib/python3.6/site-packages/sklearn/utils/validation.py:595: DataConversionWarning: Data with input dtype int64 was converted to float64 by MinMaxScaler.\n",
      "  warnings.warn(msg, DataConversionWarning)\n"
     ]
    }
   ],
   "source": [
    "# Scale the features\n",
    "scaler = MinMaxScaler()\n",
    "X_train = scaler.fit_transform(X_smote)\n",
    "X_train = pd.DataFrame(X_train)"
   ]
  },
  {
   "cell_type": "code",
   "execution_count": 23,
   "metadata": {
    "ExecuteTime": {
     "end_time": "2019-11-20T23:01:20.564540Z",
     "start_time": "2019-11-20T23:01:19.427377Z"
    },
    "colab": {},
    "colab_type": "code",
    "id": "fdp1p0lzqkgH",
    "outputId": "a6a4b8df-946d-43cb-a2f5-8736338b3672",
    "scrolled": true
   },
   "outputs": [
    {
     "data": {
      "text/html": [
       "<div>\n",
       "<style scoped>\n",
       "    .dataframe tbody tr th:only-of-type {\n",
       "        vertical-align: middle;\n",
       "    }\n",
       "\n",
       "    .dataframe tbody tr th {\n",
       "        vertical-align: top;\n",
       "    }\n",
       "\n",
       "    .dataframe thead th {\n",
       "        text-align: right;\n",
       "    }\n",
       "</style>\n",
       "<table border=\"1\" class=\"dataframe\">\n",
       "  <thead>\n",
       "    <tr style=\"text-align: right;\">\n",
       "      <th></th>\n",
       "      <th>0</th>\n",
       "      <th>1</th>\n",
       "      <th>2</th>\n",
       "      <th>3</th>\n",
       "      <th>4</th>\n",
       "      <th>5</th>\n",
       "      <th>6</th>\n",
       "      <th>7</th>\n",
       "      <th>8</th>\n",
       "      <th>9</th>\n",
       "      <th>...</th>\n",
       "      <th>44</th>\n",
       "      <th>45</th>\n",
       "      <th>46</th>\n",
       "      <th>47</th>\n",
       "      <th>48</th>\n",
       "      <th>49</th>\n",
       "      <th>50</th>\n",
       "      <th>51</th>\n",
       "      <th>52</th>\n",
       "      <th>53</th>\n",
       "    </tr>\n",
       "  </thead>\n",
       "  <tbody>\n",
       "    <tr>\n",
       "      <td>count</td>\n",
       "      <td>114856.000000</td>\n",
       "      <td>114856.000000</td>\n",
       "      <td>114856.000000</td>\n",
       "      <td>114856.000000</td>\n",
       "      <td>114856.000000</td>\n",
       "      <td>114856.000000</td>\n",
       "      <td>114856.000000</td>\n",
       "      <td>114856.000000</td>\n",
       "      <td>114856.000000</td>\n",
       "      <td>114856.000000</td>\n",
       "      <td>...</td>\n",
       "      <td>114856.000000</td>\n",
       "      <td>114856.000000</td>\n",
       "      <td>114856.000000</td>\n",
       "      <td>114856.000000</td>\n",
       "      <td>114856.000000</td>\n",
       "      <td>114856.000000</td>\n",
       "      <td>114856.000000</td>\n",
       "      <td>114856.000000</td>\n",
       "      <td>114856.000000</td>\n",
       "      <td>114856.000000</td>\n",
       "    </tr>\n",
       "    <tr>\n",
       "      <td>mean</td>\n",
       "      <td>0.444131</td>\n",
       "      <td>0.433975</td>\n",
       "      <td>0.306512</td>\n",
       "      <td>0.164121</td>\n",
       "      <td>0.296440</td>\n",
       "      <td>0.244005</td>\n",
       "      <td>0.837319</td>\n",
       "      <td>0.790768</td>\n",
       "      <td>0.529475</td>\n",
       "      <td>0.214838</td>\n",
       "      <td>...</td>\n",
       "      <td>0.020756</td>\n",
       "      <td>0.042862</td>\n",
       "      <td>0.040842</td>\n",
       "      <td>0.001680</td>\n",
       "      <td>0.007174</td>\n",
       "      <td>0.000453</td>\n",
       "      <td>0.002011</td>\n",
       "      <td>0.048139</td>\n",
       "      <td>0.044499</td>\n",
       "      <td>0.028627</td>\n",
       "    </tr>\n",
       "    <tr>\n",
       "      <td>std</td>\n",
       "      <td>0.209522</td>\n",
       "      <td>0.304804</td>\n",
       "      <td>0.155844</td>\n",
       "      <td>0.150671</td>\n",
       "      <td>0.085271</td>\n",
       "      <td>0.190128</td>\n",
       "      <td>0.120740</td>\n",
       "      <td>0.135087</td>\n",
       "      <td>0.182158</td>\n",
       "      <td>0.156485</td>\n",
       "      <td>...</td>\n",
       "      <td>0.142568</td>\n",
       "      <td>0.202548</td>\n",
       "      <td>0.197926</td>\n",
       "      <td>0.040958</td>\n",
       "      <td>0.084397</td>\n",
       "      <td>0.021273</td>\n",
       "      <td>0.044802</td>\n",
       "      <td>0.214060</td>\n",
       "      <td>0.206202</td>\n",
       "      <td>0.166757</td>\n",
       "    </tr>\n",
       "    <tr>\n",
       "      <td>min</td>\n",
       "      <td>0.000000</td>\n",
       "      <td>0.000000</td>\n",
       "      <td>0.000000</td>\n",
       "      <td>0.000000</td>\n",
       "      <td>0.000000</td>\n",
       "      <td>0.000000</td>\n",
       "      <td>0.000000</td>\n",
       "      <td>0.000000</td>\n",
       "      <td>0.000000</td>\n",
       "      <td>0.000000</td>\n",
       "      <td>...</td>\n",
       "      <td>0.000000</td>\n",
       "      <td>0.000000</td>\n",
       "      <td>0.000000</td>\n",
       "      <td>0.000000</td>\n",
       "      <td>0.000000</td>\n",
       "      <td>0.000000</td>\n",
       "      <td>0.000000</td>\n",
       "      <td>0.000000</td>\n",
       "      <td>0.000000</td>\n",
       "      <td>0.000000</td>\n",
       "    </tr>\n",
       "    <tr>\n",
       "      <td>25%</td>\n",
       "      <td>0.256885</td>\n",
       "      <td>0.180556</td>\n",
       "      <td>0.185185</td>\n",
       "      <td>0.048201</td>\n",
       "      <td>0.232168</td>\n",
       "      <td>0.106670</td>\n",
       "      <td>0.771654</td>\n",
       "      <td>0.715976</td>\n",
       "      <td>0.417323</td>\n",
       "      <td>0.103896</td>\n",
       "      <td>...</td>\n",
       "      <td>0.000000</td>\n",
       "      <td>0.000000</td>\n",
       "      <td>0.000000</td>\n",
       "      <td>0.000000</td>\n",
       "      <td>0.000000</td>\n",
       "      <td>0.000000</td>\n",
       "      <td>0.000000</td>\n",
       "      <td>0.000000</td>\n",
       "      <td>0.000000</td>\n",
       "      <td>0.000000</td>\n",
       "    </tr>\n",
       "    <tr>\n",
       "      <td>50%</td>\n",
       "      <td>0.445669</td>\n",
       "      <td>0.347222</td>\n",
       "      <td>0.277778</td>\n",
       "      <td>0.129496</td>\n",
       "      <td>0.269930</td>\n",
       "      <td>0.186602</td>\n",
       "      <td>0.866142</td>\n",
       "      <td>0.810651</td>\n",
       "      <td>0.543307</td>\n",
       "      <td>0.179701</td>\n",
       "      <td>...</td>\n",
       "      <td>0.000000</td>\n",
       "      <td>0.000000</td>\n",
       "      <td>0.000000</td>\n",
       "      <td>0.000000</td>\n",
       "      <td>0.000000</td>\n",
       "      <td>0.000000</td>\n",
       "      <td>0.000000</td>\n",
       "      <td>0.000000</td>\n",
       "      <td>0.000000</td>\n",
       "      <td>0.000000</td>\n",
       "    </tr>\n",
       "    <tr>\n",
       "      <td>75%</td>\n",
       "      <td>0.623435</td>\n",
       "      <td>0.719444</td>\n",
       "      <td>0.407407</td>\n",
       "      <td>0.237410</td>\n",
       "      <td>0.335664</td>\n",
       "      <td>0.324563</td>\n",
       "      <td>0.929134</td>\n",
       "      <td>0.887574</td>\n",
       "      <td>0.657480</td>\n",
       "      <td>0.281621</td>\n",
       "      <td>...</td>\n",
       "      <td>0.000000</td>\n",
       "      <td>0.000000</td>\n",
       "      <td>0.000000</td>\n",
       "      <td>0.000000</td>\n",
       "      <td>0.000000</td>\n",
       "      <td>0.000000</td>\n",
       "      <td>0.000000</td>\n",
       "      <td>0.000000</td>\n",
       "      <td>0.000000</td>\n",
       "      <td>0.000000</td>\n",
       "    </tr>\n",
       "    <tr>\n",
       "      <td>max</td>\n",
       "      <td>1.000000</td>\n",
       "      <td>1.000000</td>\n",
       "      <td>1.000000</td>\n",
       "      <td>1.000000</td>\n",
       "      <td>1.000000</td>\n",
       "      <td>1.000000</td>\n",
       "      <td>1.000000</td>\n",
       "      <td>1.000000</td>\n",
       "      <td>1.000000</td>\n",
       "      <td>1.000000</td>\n",
       "      <td>...</td>\n",
       "      <td>1.000000</td>\n",
       "      <td>1.000000</td>\n",
       "      <td>1.000000</td>\n",
       "      <td>1.000000</td>\n",
       "      <td>1.000000</td>\n",
       "      <td>1.000000</td>\n",
       "      <td>1.000000</td>\n",
       "      <td>1.000000</td>\n",
       "      <td>1.000000</td>\n",
       "      <td>1.000000</td>\n",
       "    </tr>\n",
       "  </tbody>\n",
       "</table>\n",
       "<p>8 rows × 54 columns</p>\n",
       "</div>"
      ],
      "text/plain": [
       "                  0              1              2              3   \\\n",
       "count  114856.000000  114856.000000  114856.000000  114856.000000   \n",
       "mean        0.444131       0.433975       0.306512       0.164121   \n",
       "std         0.209522       0.304804       0.155844       0.150671   \n",
       "min         0.000000       0.000000       0.000000       0.000000   \n",
       "25%         0.256885       0.180556       0.185185       0.048201   \n",
       "50%         0.445669       0.347222       0.277778       0.129496   \n",
       "75%         0.623435       0.719444       0.407407       0.237410   \n",
       "max         1.000000       1.000000       1.000000       1.000000   \n",
       "\n",
       "                  4              5              6              7   \\\n",
       "count  114856.000000  114856.000000  114856.000000  114856.000000   \n",
       "mean        0.296440       0.244005       0.837319       0.790768   \n",
       "std         0.085271       0.190128       0.120740       0.135087   \n",
       "min         0.000000       0.000000       0.000000       0.000000   \n",
       "25%         0.232168       0.106670       0.771654       0.715976   \n",
       "50%         0.269930       0.186602       0.866142       0.810651   \n",
       "75%         0.335664       0.324563       0.929134       0.887574   \n",
       "max         1.000000       1.000000       1.000000       1.000000   \n",
       "\n",
       "                  8              9   ...             44             45  \\\n",
       "count  114856.000000  114856.000000  ...  114856.000000  114856.000000   \n",
       "mean        0.529475       0.214838  ...       0.020756       0.042862   \n",
       "std         0.182158       0.156485  ...       0.142568       0.202548   \n",
       "min         0.000000       0.000000  ...       0.000000       0.000000   \n",
       "25%         0.417323       0.103896  ...       0.000000       0.000000   \n",
       "50%         0.543307       0.179701  ...       0.000000       0.000000   \n",
       "75%         0.657480       0.281621  ...       0.000000       0.000000   \n",
       "max         1.000000       1.000000  ...       1.000000       1.000000   \n",
       "\n",
       "                  46             47             48             49  \\\n",
       "count  114856.000000  114856.000000  114856.000000  114856.000000   \n",
       "mean        0.040842       0.001680       0.007174       0.000453   \n",
       "std         0.197926       0.040958       0.084397       0.021273   \n",
       "min         0.000000       0.000000       0.000000       0.000000   \n",
       "25%         0.000000       0.000000       0.000000       0.000000   \n",
       "50%         0.000000       0.000000       0.000000       0.000000   \n",
       "75%         0.000000       0.000000       0.000000       0.000000   \n",
       "max         1.000000       1.000000       1.000000       1.000000   \n",
       "\n",
       "                  50             51             52             53  \n",
       "count  114856.000000  114856.000000  114856.000000  114856.000000  \n",
       "mean        0.002011       0.048139       0.044499       0.028627  \n",
       "std         0.044802       0.214060       0.206202       0.166757  \n",
       "min         0.000000       0.000000       0.000000       0.000000  \n",
       "25%         0.000000       0.000000       0.000000       0.000000  \n",
       "50%         0.000000       0.000000       0.000000       0.000000  \n",
       "75%         0.000000       0.000000       0.000000       0.000000  \n",
       "max         1.000000       1.000000       1.000000       1.000000  \n",
       "\n",
       "[8 rows x 54 columns]"
      ]
     },
     "execution_count": 23,
     "metadata": {},
     "output_type": "execute_result"
    }
   ],
   "source": [
    "# Check the results\n",
    "X_train.describe()"
   ]
  },
  {
   "cell_type": "code",
   "execution_count": 25,
   "metadata": {
    "ExecuteTime": {
     "end_time": "2019-11-20T23:01:41.680980Z",
     "start_time": "2019-11-20T23:01:39.640548Z"
    },
    "colab": {},
    "colab_type": "code",
    "id": "ZwpszNZ7qkgK",
    "outputId": "2c450b38-a836-457c-cbc2-a8b7687c54c2",
    "scrolled": true
   },
   "outputs": [
    {
     "data": {
      "image/png": "[encoded data removed]",
      "text/plain": [
       "<Figure size 1152x1440 with 12 Axes>"
      ]
     },
     "metadata": {
      "needs_background": "light"
     },
     "output_type": "display_data"
    }
   ],
   "source": [
    "# Visualize the distributions again\n",
    "X_train.loc[:,:9].hist(figsize=(16, 20));"
   ]
  },
  {
   "cell_type": "markdown",
   "metadata": {
    "colab_type": "text",
    "id": "ew7WesYEqkgM"
   },
   "source": [
    "## PCA"
   ]
  },
  {
   "cell_type": "markdown",
   "metadata": {
    "colab_type": "text",
    "id": "5uOeSKJiqkgM"
   },
   "source": [
    "Principal Components Analysis takes the features we have and tries to combine them in ways that maximize the amount of variance the components can explain in the data. For datasets like the one I'm working with here, where there are lots of features, PCA can help us avoid the negative effects of having numerous features while still allowing us to account for as much variance as possible. For my analysis below, I aim to find a number of components that will explain at least 80% of the variance in the data.\n",
    "\n",
    "First, let's see how much variance we can explain with a wide range of components. If any of these look promising, we can drill down further."
   ]
  },
  {
   "cell_type": "code",
   "execution_count": 26,
   "metadata": {
    "ExecuteTime": {
     "end_time": "2019-11-20T23:02:10.731099Z",
     "start_time": "2019-11-20T23:01:59.697111Z"
    },
    "colab": {},
    "colab_type": "code",
    "id": "JJkBcgYnqkgN",
    "outputId": "917b0008-1f4f-4f7e-b475-a1024cb3dd5c",
    "scrolled": false
   },
   "outputs": [
    {
     "data": {
      "image/png": "[encoded data removed]",
      "text/plain": [
       "<Figure size 720x576 with 1 Axes>"
      ]
     },
     "metadata": {
      "needs_background": "light"
     },
     "output_type": "display_data"
    }
   ],
   "source": [
    "# Try several numbers of components to explain 80% of variance\n",
    "comps = [10, 15, 20, 25, 30, 35, 40, 45, 50, 54]\n",
    "var_sums = []\n",
    "for comp in comps:\n",
    "    pca = PCA(n_components=comp)\n",
    "    pca.fit_transform(X_train)\n",
    "    var_sums.append(np.sum(pca.explained_variance_ratio_))\n",
    "    \n",
    "# Visualize results\n",
    "plt.figure(figsize=(10,8))\n",
    "plt.plot(comps, var_sums)\n",
    "plt.xlabel('Number of components')\n",
    "plt.ylabel('% of variance explained')\n",
    "plt.title('Variance explained by n components')\n",
    "plt.xticks([10, 15, 20, 25, 30, 35, 40, 45, 50, 54])\n",
    "plt.show();"
   ]
  },
  {
   "cell_type": "code",
   "execution_count": 27,
   "metadata": {
    "ExecuteTime": {
     "end_time": "2019-11-20T23:02:19.336652Z",
     "start_time": "2019-11-20T23:02:19.330606Z"
    },
    "colab": {},
    "colab_type": "code",
    "id": "32BNWzJ4qkgP",
    "outputId": "35ae4c99-39c1-4709-df09-b1cb396a69cc",
    "scrolled": true
   },
   "outputs": [
    {
     "data": {
      "text/plain": [
       "[(10, 0.7065035574909448),\n",
       " (15, 0.8125587761323032),\n",
       " (20, 0.8867075382086652),\n",
       " (25, 0.9369596880275936),\n",
       " (30, 0.9695106924934629),\n",
       " (35, 0.9873158588769906),\n",
       " (40, 0.9955309417189532),\n",
       " (45, 0.9988692434769496),\n",
       " (50, 0.9998719319153926),\n",
       " (54, 0.9999999999999998)]"
      ]
     },
     "metadata": {},
     "output_type": "display_data"
    }
   ],
   "source": [
    "# View the % variance explained for each number of components\n",
    "display(list(zip(comps, var_sums)))"
   ]
  },
  {
   "cell_type": "markdown",
   "metadata": {
    "colab_type": "text",
    "id": "GCH1H7RUqkgR"
   },
   "source": [
    "From the plot and the list above, it's clear that we could explain over 80% of the variance in the data with 15 components (out of a possible 54). Using fewer features/components will help us avoid overfitting on the training data, but at the expense of a little bit of accuracy. I think it's a worthwhile trade, so from here onward I will use a transformed version of the dataset with 15 components for developing my models."
   ]
  },
  {
   "cell_type": "code",
   "execution_count": 28,
   "metadata": {
    "ExecuteTime": {
     "end_time": "2019-11-20T23:03:46.144388Z",
     "start_time": "2019-11-20T23:03:45.323503Z"
    },
    "colab": {},
    "colab_type": "code",
    "id": "uqh1MSiOqkgS",
    "outputId": "17ad4b26-96cc-4117-f3c0-446e922b78b5"
   },
   "outputs": [
    {
     "data": {
      "text/plain": [
       "0.8125571189239493"
      ]
     },
     "execution_count": 28,
     "metadata": {},
     "output_type": "execute_result"
    }
   ],
   "source": [
    "# Transform the dataset to have 15 principal components\n",
    "pca = PCA(n_components=15)\n",
    "X_train_pca = pca.fit_transform(X_train)\n",
    "np.sum(pca.explained_variance_ratio_)"
   ]
  },
  {
   "cell_type": "code",
   "execution_count": 29,
   "metadata": {
    "ExecuteTime": {
     "end_time": "2019-11-20T23:03:48.992998Z",
     "start_time": "2019-11-20T23:03:48.939770Z"
    },
    "colab": {},
    "colab_type": "code",
    "id": "8_BN69RfqkgU"
   },
   "outputs": [],
   "source": [
    "X_val_pca = pca.transform(X_val)"
   ]
  },
  {
   "cell_type": "markdown",
   "metadata": {
    "colab_type": "text",
    "id": "eeWyWValqkgW"
   },
   "source": [
    "This transformation will form part of the final pipeline."
   ]
  },
  {
   "cell_type": "markdown",
   "metadata": {
    "colab_type": "text",
    "id": "hs5OCsuaqkgX"
   },
   "source": [
    "## Save preprocessed training and validation datasets"
   ]
  },
  {
   "cell_type": "markdown",
   "metadata": {
    "colab_type": "text",
    "id": "nytFxN-XqkgZ"
   },
   "source": [
    "### Save copy of the training set"
   ]
  },
  {
   "cell_type": "code",
   "execution_count": 30,
   "metadata": {
    "ExecuteTime": {
     "end_time": "2019-11-20T23:03:56.969490Z",
     "start_time": "2019-11-20T23:03:53.130937Z"
    },
    "colab": {},
    "colab_type": "code",
    "id": "1ViS4VfVqkga"
   },
   "outputs": [],
   "source": [
    "# Save the clean dataset for easier access later\n",
    "y_train = pd.DataFrame(y_smote, columns=['Cover_Type'])\n",
    "X_train = pd.DataFrame(X_train_pca)\n",
    "sample_to_save = pd.concat([X_train, y_train], axis=1)\n",
    "sample_to_save.to_csv('trees.csv')"
   ]
  },
  {
   "cell_type": "markdown",
   "metadata": {
    "colab_type": "text",
    "id": "v7ul_veYqkgc"
   },
   "source": [
    "### Save a copy of the validation set"
   ]
  },
  {
   "cell_type": "code",
   "execution_count": 31,
   "metadata": {
    "ExecuteTime": {
     "end_time": "2019-11-20T23:03:58.383243Z",
     "start_time": "2019-11-20T23:03:58.356816Z"
    },
    "colab": {},
    "colab_type": "code",
    "id": "qTuNqDq6qkgd"
   },
   "outputs": [],
   "source": [
    "y_val = pd.DataFrame(y_val, columns=['Cover_Type'])\n",
    "y_val.reset_index(inplace=True)\n",
    "y_val.drop('index', axis=1, inplace=True)"
   ]
  },
  {
   "cell_type": "code",
   "execution_count": 32,
   "metadata": {
    "ExecuteTime": {
     "end_time": "2019-11-20T23:03:59.346515Z",
     "start_time": "2019-11-20T23:03:59.330820Z"
    },
    "colab": {},
    "colab_type": "code",
    "id": "JogMycnwqkgf"
   },
   "outputs": [],
   "source": [
    "X_val = pd.DataFrame(X_val_pca)"
   ]
  },
  {
   "cell_type": "code",
   "execution_count": 33,
   "metadata": {
    "ExecuteTime": {
     "end_time": "2019-11-20T23:03:59.954536Z",
     "start_time": "2019-11-20T23:03:59.932144Z"
    },
    "colab": {},
    "colab_type": "code",
    "id": "ApbDpmyeqkgh",
    "outputId": "ad84e560-ef3e-43fa-b822-d59b6a887b08"
   },
   "outputs": [
    {
     "data": {
      "text/plain": [
       "58101"
      ]
     },
     "execution_count": 33,
     "metadata": {},
     "output_type": "execute_result"
    }
   ],
   "source": [
    "val_to_save = pd.concat([X_val, y_val], axis=1, ignore_index=True)\n",
    "len(val_to_save)"
   ]
  },
  {
   "cell_type": "code",
   "execution_count": 34,
   "metadata": {
    "ExecuteTime": {
     "end_time": "2019-11-20T23:04:02.453328Z",
     "start_time": "2019-11-20T23:04:00.602389Z"
    },
    "colab": {},
    "colab_type": "code",
    "id": "0wTF44dpqkgk"
   },
   "outputs": [],
   "source": [
    "val_to_save.to_csv('trees_val.csv')"
   ]
  },
  {
   "cell_type": "markdown",
   "metadata": {
    "colab_type": "text",
    "id": "kIrrk6Ybqkgn"
   },
   "source": [
    "# Shortcut: preprocessed data"
   ]
  },
  {
   "cell_type": "markdown",
   "metadata": {
    "colab_type": "text",
    "id": "x3ZM9irZqkgn"
   },
   "source": [
    "### Reconstitute training and validation sets"
   ]
  },
  {
   "cell_type": "code",
   "execution_count": 16,
   "metadata": {
    "ExecuteTime": {
     "end_time": "2019-11-20T20:12:24.781940Z",
     "start_time": "2019-11-20T20:12:24.120140Z"
    },
    "colab": {
     "base_uri": "https://localhost:8080/",
     "height": 224
    },
    "colab_type": "code",
    "id": "7H84DKEdqkgo",
    "outputId": "49cd3f24-c92c-4bf9-9f90-7f62e5d349de",
    "scrolled": false
   },
   "outputs": [
    {
     "data": {
      "text/html": [
       "<div>\n",
       "<style scoped>\n",
       "    .dataframe tbody tr th:only-of-type {\n",
       "        vertical-align: middle;\n",
       "    }\n",
       "\n",
       "    .dataframe tbody tr th {\n",
       "        vertical-align: top;\n",
       "    }\n",
       "\n",
       "    .dataframe thead th {\n",
       "        text-align: right;\n",
       "    }\n",
       "</style>\n",
       "<table border=\"1\" class=\"dataframe\">\n",
       "  <thead>\n",
       "    <tr style=\"text-align: right;\">\n",
       "      <th></th>\n",
       "      <th>0</th>\n",
       "      <th>1</th>\n",
       "      <th>2</th>\n",
       "      <th>3</th>\n",
       "      <th>4</th>\n",
       "      <th>5</th>\n",
       "      <th>6</th>\n",
       "      <th>7</th>\n",
       "      <th>8</th>\n",
       "      <th>9</th>\n",
       "      <th>10</th>\n",
       "      <th>11</th>\n",
       "      <th>12</th>\n",
       "      <th>13</th>\n",
       "      <th>14</th>\n",
       "      <th>15</th>\n",
       "      <th>16</th>\n",
       "      <th>17</th>\n",
       "      <th>18</th>\n",
       "      <th>19</th>\n",
       "      <th>20</th>\n",
       "      <th>21</th>\n",
       "      <th>22</th>\n",
       "      <th>23</th>\n",
       "      <th>24</th>\n",
       "      <th>25</th>\n",
       "      <th>26</th>\n",
       "      <th>27</th>\n",
       "      <th>28</th>\n",
       "      <th>29</th>\n",
       "      <th>30</th>\n",
       "      <th>31</th>\n",
       "      <th>32</th>\n",
       "      <th>33</th>\n",
       "      <th>34</th>\n",
       "      <th>35</th>\n",
       "      <th>36</th>\n",
       "      <th>37</th>\n",
       "      <th>38</th>\n",
       "      <th>39</th>\n",
       "      <th>Cover_Type</th>\n",
       "    </tr>\n",
       "  </thead>\n",
       "  <tbody>\n",
       "    <tr>\n",
       "      <th>0</th>\n",
       "      <td>-0.109499</td>\n",
       "      <td>1.164250</td>\n",
       "      <td>0.166353</td>\n",
       "      <td>0.005914</td>\n",
       "      <td>-0.577643</td>\n",
       "      <td>-0.199181</td>\n",
       "      <td>-0.012353</td>\n",
       "      <td>0.023821</td>\n",
       "      <td>0.011069</td>\n",
       "      <td>-0.015904</td>\n",
       "      <td>0.035054</td>\n",
       "      <td>0.011001</td>\n",
       "      <td>0.037933</td>\n",
       "      <td>0.011919</td>\n",
       "      <td>0.066494</td>\n",
       "      <td>-0.110838</td>\n",
       "      <td>-0.077705</td>\n",
       "      <td>-0.043333</td>\n",
       "      <td>-0.006033</td>\n",
       "      <td>0.044633</td>\n",
       "      <td>-0.071194</td>\n",
       "      <td>-0.227052</td>\n",
       "      <td>0.013112</td>\n",
       "      <td>-0.036236</td>\n",
       "      <td>0.019265</td>\n",
       "      <td>0.093228</td>\n",
       "      <td>-0.131848</td>\n",
       "      <td>-0.175866</td>\n",
       "      <td>0.116097</td>\n",
       "      <td>0.033015</td>\n",
       "      <td>-0.021008</td>\n",
       "      <td>-0.039985</td>\n",
       "      <td>0.004825</td>\n",
       "      <td>-0.000292</td>\n",
       "      <td>0.010841</td>\n",
       "      <td>0.003256</td>\n",
       "      <td>-0.017034</td>\n",
       "      <td>-0.008738</td>\n",
       "      <td>0.002672</td>\n",
       "      <td>0.045033</td>\n",
       "      <td>1</td>\n",
       "    </tr>\n",
       "    <tr>\n",
       "      <th>1</th>\n",
       "      <td>-0.041592</td>\n",
       "      <td>1.140934</td>\n",
       "      <td>-0.061292</td>\n",
       "      <td>0.212198</td>\n",
       "      <td>-0.540963</td>\n",
       "      <td>-0.142123</td>\n",
       "      <td>0.071379</td>\n",
       "      <td>-0.061710</td>\n",
       "      <td>0.071147</td>\n",
       "      <td>-0.097264</td>\n",
       "      <td>0.108512</td>\n",
       "      <td>0.070737</td>\n",
       "      <td>0.056302</td>\n",
       "      <td>-0.030619</td>\n",
       "      <td>0.164041</td>\n",
       "      <td>-0.239611</td>\n",
       "      <td>-0.113499</td>\n",
       "      <td>-0.119156</td>\n",
       "      <td>0.038746</td>\n",
       "      <td>0.011222</td>\n",
       "      <td>0.051530</td>\n",
       "      <td>0.011849</td>\n",
       "      <td>0.087537</td>\n",
       "      <td>-0.186157</td>\n",
       "      <td>0.010255</td>\n",
       "      <td>0.062481</td>\n",
       "      <td>-0.117854</td>\n",
       "      <td>0.017835</td>\n",
       "      <td>0.015643</td>\n",
       "      <td>-0.009521</td>\n",
       "      <td>-0.022076</td>\n",
       "      <td>0.030818</td>\n",
       "      <td>0.048077</td>\n",
       "      <td>-0.011367</td>\n",
       "      <td>0.040806</td>\n",
       "      <td>0.003784</td>\n",
       "      <td>0.038351</td>\n",
       "      <td>0.050673</td>\n",
       "      <td>0.111306</td>\n",
       "      <td>0.031296</td>\n",
       "      <td>1</td>\n",
       "    </tr>\n",
       "    <tr>\n",
       "      <th>2</th>\n",
       "      <td>-0.671663</td>\n",
       "      <td>-0.237555</td>\n",
       "      <td>-0.233301</td>\n",
       "      <td>0.059341</td>\n",
       "      <td>0.192650</td>\n",
       "      <td>-0.077593</td>\n",
       "      <td>-0.367639</td>\n",
       "      <td>0.794701</td>\n",
       "      <td>0.070582</td>\n",
       "      <td>-0.090325</td>\n",
       "      <td>-0.143198</td>\n",
       "      <td>0.055467</td>\n",
       "      <td>-0.145586</td>\n",
       "      <td>-0.161835</td>\n",
       "      <td>0.098309</td>\n",
       "      <td>-0.105382</td>\n",
       "      <td>0.029873</td>\n",
       "      <td>-0.215819</td>\n",
       "      <td>0.140515</td>\n",
       "      <td>0.019127</td>\n",
       "      <td>0.068240</td>\n",
       "      <td>-0.075320</td>\n",
       "      <td>-0.030237</td>\n",
       "      <td>0.113086</td>\n",
       "      <td>-0.022895</td>\n",
       "      <td>-0.042838</td>\n",
       "      <td>0.045154</td>\n",
       "      <td>0.094059</td>\n",
       "      <td>0.095231</td>\n",
       "      <td>-0.063344</td>\n",
       "      <td>-0.058291</td>\n",
       "      <td>0.016579</td>\n",
       "      <td>0.073403</td>\n",
       "      <td>-0.005546</td>\n",
       "      <td>-0.011325</td>\n",
       "      <td>0.002119</td>\n",
       "      <td>0.006053</td>\n",
       "      <td>-0.023987</td>\n",
       "      <td>-0.000069</td>\n",
       "      <td>0.024012</td>\n",
       "      <td>1</td>\n",
       "    </tr>\n",
       "    <tr>\n",
       "      <th>3</th>\n",
       "      <td>-0.090224</td>\n",
       "      <td>1.095624</td>\n",
       "      <td>0.605992</td>\n",
       "      <td>-0.218132</td>\n",
       "      <td>-0.569790</td>\n",
       "      <td>0.010645</td>\n",
       "      <td>0.264100</td>\n",
       "      <td>-0.039178</td>\n",
       "      <td>0.035517</td>\n",
       "      <td>-0.124097</td>\n",
       "      <td>0.040652</td>\n",
       "      <td>0.044695</td>\n",
       "      <td>0.044115</td>\n",
       "      <td>-0.022164</td>\n",
       "      <td>0.109353</td>\n",
       "      <td>-0.148134</td>\n",
       "      <td>-0.064870</td>\n",
       "      <td>-0.099784</td>\n",
       "      <td>0.047233</td>\n",
       "      <td>0.004234</td>\n",
       "      <td>0.116093</td>\n",
       "      <td>0.062642</td>\n",
       "      <td>-0.075440</td>\n",
       "      <td>0.000807</td>\n",
       "      <td>-0.096711</td>\n",
       "      <td>-0.049878</td>\n",
       "      <td>-0.012402</td>\n",
       "      <td>0.072863</td>\n",
       "      <td>-0.019563</td>\n",
       "      <td>-0.027850</td>\n",
       "      <td>-0.015516</td>\n",
       "      <td>0.037963</td>\n",
       "      <td>0.031902</td>\n",
       "      <td>-0.016969</td>\n",
       "      <td>-0.056497</td>\n",
       "      <td>-0.022879</td>\n",
       "      <td>0.046491</td>\n",
       "      <td>0.042869</td>\n",
       "      <td>0.032362</td>\n",
       "      <td>0.045994</td>\n",
       "      <td>1</td>\n",
       "    </tr>\n",
       "    <tr>\n",
       "      <th>4</th>\n",
       "      <td>-0.717021</td>\n",
       "      <td>-0.346657</td>\n",
       "      <td>-0.191363</td>\n",
       "      <td>0.000991</td>\n",
       "      <td>-0.014794</td>\n",
       "      <td>-0.159953</td>\n",
       "      <td>-0.087454</td>\n",
       "      <td>-0.023365</td>\n",
       "      <td>-0.303085</td>\n",
       "      <td>-0.104132</td>\n",
       "      <td>0.532805</td>\n",
       "      <td>-0.516580</td>\n",
       "      <td>-0.254636</td>\n",
       "      <td>0.054687</td>\n",
       "      <td>-0.188519</td>\n",
       "      <td>-0.208302</td>\n",
       "      <td>0.167058</td>\n",
       "      <td>-0.003995</td>\n",
       "      <td>-0.016679</td>\n",
       "      <td>-0.046422</td>\n",
       "      <td>0.049062</td>\n",
       "      <td>-0.010062</td>\n",
       "      <td>-0.099425</td>\n",
       "      <td>0.002693</td>\n",
       "      <td>-0.131768</td>\n",
       "      <td>-0.006725</td>\n",
       "      <td>-0.033336</td>\n",
       "      <td>0.041404</td>\n",
       "      <td>-0.070993</td>\n",
       "      <td>-0.011936</td>\n",
       "      <td>-0.060528</td>\n",
       "      <td>0.036979</td>\n",
       "      <td>0.014657</td>\n",
       "      <td>-0.039238</td>\n",
       "      <td>0.063909</td>\n",
       "      <td>-0.030330</td>\n",
       "      <td>0.042209</td>\n",
       "      <td>0.017956</td>\n",
       "      <td>0.006830</td>\n",
       "      <td>0.042754</td>\n",
       "      <td>1</td>\n",
       "    </tr>\n",
       "  </tbody>\n",
       "</table>\n",
       "</div>"
      ],
      "text/plain": [
       "          0         1         2  ...        38        39  Cover_Type\n",
       "0 -0.109499  1.164250  0.166353  ...  0.002672  0.045033           1\n",
       "1 -0.041592  1.140934 -0.061292  ...  0.111306  0.031296           1\n",
       "2 -0.671663 -0.237555 -0.233301  ... -0.000069  0.024012           1\n",
       "3 -0.090224  1.095624  0.605992  ...  0.032362  0.045994           1\n",
       "4 -0.717021 -0.346657 -0.191363  ...  0.006830  0.042754           1\n",
       "\n",
       "[5 rows x 41 columns]"
      ]
     },
     "execution_count": 16,
     "metadata": {
      "tags": []
     },
     "output_type": "execute_result"
    }
   ],
   "source": [
    "sample = pd.read_csv('trees.csv')\n",
    "sample.drop('Unnamed: 0', axis=1, inplace=True)\n",
    "sample.head()"
   ]
  },
  {
   "cell_type": "code",
   "execution_count": 0,
   "metadata": {
    "ExecuteTime": {
     "end_time": "2019-11-20T20:12:27.320378Z",
     "start_time": "2019-11-20T20:12:26.655250Z"
    },
    "colab": {},
    "colab_type": "code",
    "id": "Z8v3Ee2Sqkgq"
   },
   "outputs": [],
   "source": [
    "val_set = pd.read_csv('trees_val.csv')\n",
    "val_set.drop('Unnamed: 0', axis=1, inplace=True)\n",
    "val_set.rename(columns={'40':'Cover_Type'}, inplace=True)"
   ]
  },
  {
   "cell_type": "code",
   "execution_count": 18,
   "metadata": {
    "ExecuteTime": {
     "end_time": "2019-11-20T20:12:27.875504Z",
     "start_time": "2019-11-20T20:12:27.847051Z"
    },
    "colab": {
     "base_uri": "https://localhost:8080/",
     "height": 51
    },
    "colab_type": "code",
    "id": "KqTH4qj3qkgr",
    "outputId": "26f80d84-1845-4198-9dcf-f57775e453c6"
   },
   "outputs": [
    {
     "name": "stdout",
     "output_type": "stream",
     "text": [
      "(53158, 40) (53158,)\n",
      "(58101, 40) (58101,)\n"
     ]
    }
   ],
   "source": [
    "y_train = sample['Cover_Type']\n",
    "X_train = sample.drop('Cover_Type', axis=1)\n",
    "\n",
    "y_val = val_set['Cover_Type']\n",
    "X_val = val_set.drop('Cover_Type', axis=1)\n",
    "\n",
    "print(X_train.shape, y_train.shape)\n",
    "print(X_val.shape, y_val.shape)"
   ]
  },
  {
   "cell_type": "markdown",
   "metadata": {
    "colab_type": "text",
    "id": "gB-b5Ljsqkgu"
   },
   "source": [
    "# Testing various algorithms"
   ]
  },
  {
   "cell_type": "markdown",
   "metadata": {
    "colab_type": "text",
    "id": "aHb_nwSrqkgu"
   },
   "source": [
    "## Random Forest"
   ]
  },
  {
   "cell_type": "markdown",
   "metadata": {
    "colab_type": "text",
    "id": "HH2rqP2Fqkgv"
   },
   "source": [
    "### Baseline model"
   ]
  },
  {
   "cell_type": "code",
   "execution_count": 19,
   "metadata": {
    "ExecuteTime": {
     "end_time": "2019-11-20T20:12:40.526892Z",
     "start_time": "2019-11-20T20:12:35.831149Z"
    },
    "colab": {
     "base_uri": "https://localhost:8080/",
     "height": 493
    },
    "colab_type": "code",
    "id": "ndWfNqlJqkgv",
    "outputId": "6d560b88-3796-40fd-a8f5-a94f14c99316",
    "scrolled": true
   },
   "outputs": [
    {
     "name": "stderr",
     "output_type": "stream",
     "text": [
      "/usr/local/lib/python3.6/dist-packages/sklearn/ensemble/forest.py:245: FutureWarning: The default value of n_estimators will change from 10 in version 0.20 to 100 in 0.22.\n",
      "  \"10 in version 0.20 to 100 in 0.22.\", FutureWarning)\n"
     ]
    },
    {
     "name": "stdout",
     "output_type": "stream",
     "text": [
      "Training accuracy: 0.9955415929869446\n",
      "-------\n",
      "Confusion matrix:\n",
      "[[7561   21    0    0    3    0    9]\n",
      " [  75 7500    8    0    5    4    2]\n",
      " [   0    1 7564    6    2   21    0]\n",
      " [   0    0    6 7586    0    2    0]\n",
      " [   1    6    5    0 7580    2    0]\n",
      " [   0    4   33    6    0 7551    0]\n",
      " [  13    1    0    0    1    0 7579]]\n",
      "-------\n",
      "Classification report:\n",
      "              precision    recall  f1-score   support\n",
      "\n",
      "           1       0.99      1.00      0.99      7594\n",
      "           2       1.00      0.99      0.99      7594\n",
      "           3       0.99      1.00      0.99      7594\n",
      "           4       1.00      1.00      1.00      7594\n",
      "           5       1.00      1.00      1.00      7594\n",
      "           6       1.00      0.99      1.00      7594\n",
      "           7       1.00      1.00      1.00      7594\n",
      "\n",
      "    accuracy                           1.00     53158\n",
      "   macro avg       1.00      1.00      1.00     53158\n",
      "weighted avg       1.00      1.00      1.00     53158\n",
      "\n"
     ]
    }
   ],
   "source": [
    "# Fit and score a baseline RandomForestClassifier\n",
    "forest = RandomForestClassifier()\n",
    "forest.fit(X_train, y_train)\n",
    "\n",
    "y_pred = forest.predict(X_train)\n",
    "\n",
    "print_metrics(y_train, y_pred)"
   ]
  },
  {
   "cell_type": "code",
   "execution_count": 20,
   "metadata": {
    "ExecuteTime": {
     "end_time": "2019-11-20T20:12:48.309670Z",
     "start_time": "2019-11-20T20:12:48.207412Z"
    },
    "colab": {
     "base_uri": "https://localhost:8080/",
     "height": 34
    },
    "colab_type": "code",
    "id": "2gSJoyvzqkgx",
    "outputId": "41ee60f9-3b5e-4d4f-d315-e9c0133c469b"
   },
   "outputs": [
    {
     "data": {
      "text/plain": [
       "0.35477874735374604"
      ]
     },
     "execution_count": 20,
     "metadata": {
      "tags": []
     },
     "output_type": "execute_result"
    }
   ],
   "source": [
    "forest.score(X_val, y_val)"
   ]
  },
  {
   "cell_type": "markdown",
   "metadata": {
    "colab_type": "text",
    "id": "NKbJ2wB7qkg0"
   },
   "source": [
    "The Random Forest scored over 99% accuracy on the training set, but only 35% on the validation set! The Random Forest is clearly overfit to the training data. Below I'll use a grid search to see if there are other parameters that would help the Random Forest perform better on the validation set.\n",
    "\n",
    "For now, let's take a look at the importance the Random Forest assigned to each of the 40 components."
   ]
  },
  {
   "cell_type": "code",
   "execution_count": 21,
   "metadata": {
    "ExecuteTime": {
     "end_time": "2019-11-20T20:14:58.377629Z",
     "start_time": "2019-11-20T20:14:58.365309Z"
    },
    "colab": {
     "base_uri": "https://localhost:8080/",
     "height": 153
    },
    "colab_type": "code",
    "id": "SOchhHInqkg1",
    "outputId": "fe772cff-1566-4326-8492-fbbc726b6b06",
    "scrolled": false
   },
   "outputs": [
    {
     "data": {
      "text/plain": [
       "array([0.09994967, 0.0634874 , 0.02520329, 0.03733803, 0.08358371,\n",
       "       0.03761717, 0.02356606, 0.02940383, 0.02388705, 0.02329163,\n",
       "       0.03253492, 0.01337563, 0.02419115, 0.02105086, 0.02486659,\n",
       "       0.01852055, 0.01228441, 0.01262797, 0.01913898, 0.02056701,\n",
       "       0.01106363, 0.01443042, 0.01395432, 0.02417957, 0.01076244,\n",
       "       0.01297184, 0.01085416, 0.01765889, 0.0234517 , 0.01492488,\n",
       "       0.01637919, 0.01862696, 0.02768381, 0.01750393, 0.0118673 ,\n",
       "       0.01767508, 0.0333327 , 0.0149238 , 0.01022612, 0.03104337])"
      ]
     },
     "execution_count": 21,
     "metadata": {
      "tags": []
     },
     "output_type": "execute_result"
    }
   ],
   "source": [
    "# Check the feature importances\n",
    "forest.feature_importances_"
   ]
  },
  {
   "cell_type": "code",
   "execution_count": 22,
   "metadata": {
    "ExecuteTime": {
     "end_time": "2019-11-20T20:15:17.726018Z",
     "start_time": "2019-11-20T20:15:17.203868Z"
    },
    "colab": {
     "base_uri": "https://localhost:8080/",
     "height": 621
    },
    "colab_type": "code",
    "id": "pwdTTVcqqkg7",
    "outputId": "e2a52580-a250-4ab2-b0a5-49f3a9198f13",
    "scrolled": false
   },
   "outputs": [
    {
     "data": {
      "image/png": "[encoded data removed]",
      "text/plain": [
       "<Figure size 576x720 with 1 Axes>"
      ]
     },
     "metadata": {
      "tags": []
     },
     "output_type": "display_data"
    }
   ],
   "source": [
    "# Visualize feature importances\n",
    "plot_feature_importances(forest)"
   ]
  },
  {
   "cell_type": "markdown",
   "metadata": {
    "colab_type": "text",
    "id": "1SD_DWUVqkg8"
   },
   "source": [
    "The plot above shows that there are a few features that are a bit more powerful than the rest. A grid search (below) will help me determine if any of the less important features could be eliminated."
   ]
  },
  {
   "cell_type": "markdown",
   "metadata": {
    "colab_type": "text",
    "id": "rzSrIVi_qkg9"
   },
   "source": [
    "### Tune parameters with GridSearchCV"
   ]
  },
  {
   "cell_type": "code",
   "execution_count": 42,
   "metadata": {
    "ExecuteTime": {
     "end_time": "2019-11-20T21:00:31.224126Z",
     "start_time": "2019-11-20T20:15:43.619359Z"
    },
    "colab": {
     "base_uri": "https://localhost:8080/",
     "height": 340
    },
    "colab_type": "code",
    "id": "LQBZhMTSqkg9",
    "outputId": "af18b22c-36f5-4e61-a688-84dcec0c2961"
   },
   "outputs": [
    {
     "data": {
      "text/plain": [
       "GridSearchCV(cv=3, error_score='raise-deprecating',\n",
       "             estimator=RandomForestClassifier(bootstrap=True, class_weight=None,\n",
       "                                              criterion='gini', max_depth=None,\n",
       "                                              max_features='auto',\n",
       "                                              max_leaf_nodes=None,\n",
       "                                              min_impurity_decrease=0.0,\n",
       "                                              min_impurity_split=None,\n",
       "                                              min_samples_leaf=1,\n",
       "                                              min_samples_split=2,\n",
       "                                              min_weight_fraction_leaf=0.0,\n",
       "                                              n_estimators=10, n_jobs=None,\n",
       "                                              oob_score=False,\n",
       "                                              random_state=None, verbose=0,\n",
       "                                              warm_start=False),\n",
       "             iid='warn', n_jobs=-1,\n",
       "             param_grid={'max_depth': [5, 10], 'max_features': [20, 40],\n",
       "                         'n_estimators': [50, 100]},\n",
       "             pre_dispatch='2*n_jobs', refit=True, return_train_score=False,\n",
       "             scoring='accuracy', verbose=0)"
      ]
     },
     "execution_count": 42,
     "metadata": {
      "tags": []
     },
     "output_type": "execute_result"
    }
   ],
   "source": [
    "# Use GridSearchCV to find best parameters for the Random Forest\n",
    "params = {'n_estimators': [50, 100],\n",
    "          'max_depth': [5, 10],\n",
    "          'max_features': [20, 40]}\n",
    "\n",
    "grid_forest = GridSearchCV(forest, params, cv=3, scoring='accuracy', n_jobs=-1)\n",
    "\n",
    "grid_forest.fit(X_train, y_train)"
   ]
  },
  {
   "cell_type": "code",
   "execution_count": 43,
   "metadata": {
    "ExecuteTime": {
     "end_time": "2019-11-19T23:28:51.643074Z",
     "start_time": "2019-11-19T22:57:01.746986Z"
    },
    "colab": {
     "base_uri": "https://localhost:8080/",
     "height": 51
    },
    "colab_type": "code",
    "id": "jv_yYoFXqkg_",
    "outputId": "6b25ade2-2fb6-4296-9f38-3d9ab9ba5ebe",
    "scrolled": true
   },
   "outputs": [
    {
     "name": "stdout",
     "output_type": "stream",
     "text": [
      "Best score: 0.8321042928627864\n",
      "Best params: {'max_depth': 10, 'max_features': 20, 'n_estimators': 100}\n"
     ]
    }
   ],
   "source": [
    "# View best score and parameters\n",
    "print('Best score:', grid_forest.best_score_)\n",
    "print('Best params:', grid_forest.best_params_)"
   ]
  },
  {
   "cell_type": "code",
   "execution_count": 44,
   "metadata": {
    "ExecuteTime": {
     "end_time": "2019-11-19T17:06:05.998766Z",
     "start_time": "2019-11-19T17:06:05.889772Z"
    },
    "colab": {
     "base_uri": "https://localhost:8080/",
     "height": 459
    },
    "colab_type": "code",
    "id": "MNWMZF7HqkhJ",
    "outputId": "4dff4ae7-850a-4716-abfc-a832821156e6",
    "scrolled": false
   },
   "outputs": [
    {
     "name": "stdout",
     "output_type": "stream",
     "text": [
      "Training accuracy: 0.8676774897475451\n",
      "-------\n",
      "Confusion matrix:\n",
      "[[6076  998    2    0  215   17  286]\n",
      " [1242 5241  105    1  781  202   22]\n",
      " [   0   11 6223  262  183  915    0]\n",
      " [   0    0   34 7454    0  106    0]\n",
      " [  20  341  137    0 7043   53    0]\n",
      " [  12   36  491  111  122 6822    0]\n",
      " [ 327    0    0    0    2    0 7265]]\n",
      "-------\n",
      "Classification report:\n",
      "              precision    recall  f1-score   support\n",
      "\n",
      "           1       0.79      0.80      0.80      7594\n",
      "           2       0.79      0.69      0.74      7594\n",
      "           3       0.89      0.82      0.85      7594\n",
      "           4       0.95      0.98      0.97      7594\n",
      "           5       0.84      0.93      0.88      7594\n",
      "           6       0.84      0.90      0.87      7594\n",
      "           7       0.96      0.96      0.96      7594\n",
      "\n",
      "    accuracy                           0.87     53158\n",
      "   macro avg       0.87      0.87      0.87     53158\n",
      "weighted avg       0.87      0.87      0.87     53158\n",
      "\n"
     ]
    }
   ],
   "source": [
    "# View the metrics for the best model\n",
    "y_pred = grid_forest.predict(X_train)\n",
    "print_metrics(y_train, y_pred)"
   ]
  },
  {
   "cell_type": "code",
   "execution_count": 45,
   "metadata": {
    "ExecuteTime": {
     "end_time": "2019-11-19T17:07:52.932588Z",
     "start_time": "2019-11-19T17:07:52.765541Z"
    },
    "colab": {
     "base_uri": "https://localhost:8080/",
     "height": 34
    },
    "colab_type": "code",
    "id": "Pyiv0bSuqkhL",
    "outputId": "a88bb9af-05a5-4b39-812e-b897ce0e6206"
   },
   "outputs": [
    {
     "data": {
      "text/plain": [
       "0.184024371353333"
      ]
     },
     "execution_count": 45,
     "metadata": {
      "tags": []
     },
     "output_type": "execute_result"
    }
   ],
   "source": [
    "# Check the model's score for the validation dataset\n",
    "grid_forest.score(X_val, y_val)"
   ]
  },
  {
   "cell_type": "markdown",
   "metadata": {
    "colab_type": "text",
    "id": "O5tmcHM1qkhN"
   },
   "source": [
    "### Evaluating the best Random Forest classifier"
   ]
  },
  {
   "cell_type": "code",
   "execution_count": 46,
   "metadata": {
    "ExecuteTime": {
     "end_time": "2019-11-19T23:36:48.294479Z",
     "start_time": "2019-11-19T23:34:28.448021Z"
    },
    "colab": {
     "base_uri": "https://localhost:8080/",
     "height": 621
    },
    "colab_type": "code",
    "id": "fthQxjKnqkhN",
    "outputId": "5bf34380-9950-465a-a58b-1e799206bcf9",
    "scrolled": true
   },
   "outputs": [
    {
     "data": {
      "image/png": "[encoded data removed]",
      "text/plain": [
       "<Figure size 576x720 with 1 Axes>"
      ]
     },
     "metadata": {
      "tags": []
     },
     "output_type": "display_data"
    }
   ],
   "source": [
    "# Review feature importances for the model with the best parameters\n",
    "forest_best = RandomForestClassifier(max_depth=10, max_features=20, \n",
    "                                     n_estimators=100)\n",
    "forest_best.fit(X_train, y_train)\n",
    "\n",
    "plot_feature_importances(forest_best)"
   ]
  },
  {
   "cell_type": "code",
   "execution_count": 47,
   "metadata": {
    "ExecuteTime": {
     "end_time": "2019-11-19T23:38:13.497960Z",
     "start_time": "2019-11-19T23:38:13.479579Z"
    },
    "colab": {
     "base_uri": "https://localhost:8080/",
     "height": 459
    },
    "colab_type": "code",
    "id": "s2JAfBbOqkhP",
    "outputId": "730898d4-14cf-44ce-d489-9d5926815163",
    "scrolled": true
   },
   "outputs": [
    {
     "name": "stdout",
     "output_type": "stream",
     "text": [
      "Training accuracy: 0.8678656081869145\n",
      "-------\n",
      "Confusion matrix:\n",
      "[[6061 1030    2    0  199    9  293]\n",
      " [1262 5225  105    1  778  197   26]\n",
      " [   0   12 6233  266  178  905    0]\n",
      " [   0    0   33 7450    0  111    0]\n",
      " [  14  346  103    0 7083   48    0]\n",
      " [  11   40  471  116  130 6826    0]\n",
      " [ 336    0    0    0    2    0 7256]]\n",
      "-------\n",
      "Classification report:\n",
      "              precision    recall  f1-score   support\n",
      "\n",
      "           1       0.79      0.80      0.79      7594\n",
      "           2       0.79      0.69      0.73      7594\n",
      "           3       0.90      0.82      0.86      7594\n",
      "           4       0.95      0.98      0.97      7594\n",
      "           5       0.85      0.93      0.89      7594\n",
      "           6       0.84      0.90      0.87      7594\n",
      "           7       0.96      0.96      0.96      7594\n",
      "\n",
      "    accuracy                           0.87     53158\n",
      "   macro avg       0.87      0.87      0.87     53158\n",
      "weighted avg       0.87      0.87      0.87     53158\n",
      "\n"
     ]
    }
   ],
   "source": [
    "# View metrics for the optimized model\n",
    "y_pred = forest_best.predict(X_train)\n",
    "print_metrics(y_train, y_pred)"
   ]
  },
  {
   "cell_type": "code",
   "execution_count": 48,
   "metadata": {
    "ExecuteTime": {
     "end_time": "2019-11-19T23:38:19.635768Z",
     "start_time": "2019-11-19T23:38:19.619738Z"
    },
    "colab": {
     "base_uri": "https://localhost:8080/",
     "height": 34
    },
    "colab_type": "code",
    "id": "uT9LdAdtqkhQ",
    "outputId": "0021d044-e415-43df-c8a0-b49d31f16128",
    "scrolled": false
   },
   "outputs": [
    {
     "data": {
      "text/plain": [
       "0.18207948228085574"
      ]
     },
     "execution_count": 48,
     "metadata": {
      "tags": []
     },
     "output_type": "execute_result"
    }
   ],
   "source": [
    "# Score the model on the validation set\n",
    "forest_best.score(X_val, y_val)"
   ]
  },
  {
   "cell_type": "code",
   "execution_count": 49,
   "metadata": {
    "ExecuteTime": {
     "end_time": "2019-11-19T17:33:51.466324Z",
     "start_time": "2019-11-19T17:33:51.292450Z"
    },
    "colab": {
     "base_uri": "https://localhost:8080/",
     "height": 513
    },
    "colab_type": "code",
    "id": "wT5MpFFKqkhU",
    "outputId": "423e63ba-6e3a-4eeb-9132-db7708b907a4"
   },
   "outputs": [
    {
     "name": "stdout",
     "output_type": "stream",
     "text": [
      "Training accuracy: 0.18207948228085574\n",
      "-------\n",
      "Confusion matrix:\n",
      "[[ 9335     0     0     0     0     0 11849]\n",
      " [11464     0     0     0     0     0 16866]\n",
      " [ 1011     0     0     0     0     0  2564]\n",
      " [  105     0     0     0     0     0   170]\n",
      " [  268     0     0     0     0     0   682]\n",
      " [  469     0     0     0     0     0  1267]\n",
      " [  807     0     0     0     0     0  1244]]\n",
      "-------\n",
      "Classification report:\n",
      "              precision    recall  f1-score   support\n",
      "\n",
      "           1       0.40      0.44      0.42     21184\n",
      "           2       0.00      0.00      0.00     28330\n",
      "           3       0.00      0.00      0.00      3575\n",
      "           4       0.00      0.00      0.00       275\n",
      "           5       0.00      0.00      0.00       950\n",
      "           6       0.00      0.00      0.00      1736\n",
      "           7       0.04      0.61      0.07      2051\n",
      "\n",
      "    accuracy                           0.18     58101\n",
      "   macro avg       0.06      0.15      0.07     58101\n",
      "weighted avg       0.15      0.18      0.15     58101\n",
      "\n"
     ]
    },
    {
     "name": "stderr",
     "output_type": "stream",
     "text": [
      "/usr/local/lib/python3.6/dist-packages/sklearn/metrics/classification.py:1437: UndefinedMetricWarning: Precision and F-score are ill-defined and being set to 0.0 in labels with no predicted samples.\n",
      "  'precision', 'predicted', average, warn_for)\n"
     ]
    }
   ],
   "source": [
    "# View full metrics for the validation set\n",
    "y_val_pred = forest_best.predict(X_val)\n",
    "print_metrics(y_val, y_val_pred)"
   ]
  },
  {
   "cell_type": "code",
   "execution_count": 0,
   "metadata": {
    "colab": {},
    "colab_type": "code",
    "id": "e5lEeqbOqkhX"
   },
   "outputs": [],
   "source": [
    "# Find AUC and plot ROC curve\n",
    "# y_score_forest = forest_best.fit(X_train, y_train).decision_function(X_test)\n",
    "\n",
    "roc_it(y_test, y_score_forest)"
   ]
  },
  {
   "cell_type": "markdown",
   "metadata": {
    "colab_type": "text",
    "id": "U-aHhFb1qkhZ"
   },
   "source": [
    "## XGBoost"
   ]
  },
  {
   "cell_type": "markdown",
   "metadata": {
    "colab_type": "text",
    "id": "_l1pRb4zqkhZ"
   },
   "source": [
    "### Baseline model"
   ]
  },
  {
   "cell_type": "code",
   "execution_count": 0,
   "metadata": {
    "ExecuteTime": {
     "end_time": "2019-11-19T16:48:10.688952Z",
     "start_time": "2019-11-19T16:48:10.683271Z"
    },
    "colab": {},
    "colab_type": "code",
    "id": "8kWxSQYWqkhb"
   },
   "outputs": [],
   "source": [
    "xg = xgb.XGBClassifier()"
   ]
  },
  {
   "cell_type": "code",
   "execution_count": 35,
   "metadata": {
    "ExecuteTime": {
     "start_time": "2019-11-19T16:48:11.575Z"
    },
    "colab": {
     "base_uri": "https://localhost:8080/",
     "height": 136
    },
    "colab_type": "code",
    "id": "OukWjZPVqkhe",
    "outputId": "8fd1eb1b-62c8-47c2-866b-4270ef664a44"
   },
   "outputs": [
    {
     "data": {
      "text/plain": [
       "XGBClassifier(base_score=0.5, booster='gbtree', colsample_bylevel=1,\n",
       "              colsample_bynode=1, colsample_bytree=1, gamma=0,\n",
       "              learning_rate=0.1, max_delta_step=0, max_depth=3,\n",
       "              min_child_weight=1, missing=None, n_estimators=100, n_jobs=1,\n",
       "              nthread=None, objective='multi:softprob', random_state=0,\n",
       "              reg_alpha=0, reg_lambda=1, scale_pos_weight=1, seed=None,\n",
       "              silent=None, subsample=1, verbosity=1)"
      ]
     },
     "execution_count": 35,
     "metadata": {
      "tags": []
     },
     "output_type": "execute_result"
    }
   ],
   "source": [
    "xg.fit(X_train, y_train)"
   ]
  },
  {
   "cell_type": "code",
   "execution_count": 36,
   "metadata": {
    "ExecuteTime": {
     "start_time": "2019-11-19T15:33:53.906Z"
    },
    "colab": {
     "base_uri": "https://localhost:8080/",
     "height": 459
    },
    "colab_type": "code",
    "id": "FZ7mznGAqkhf",
    "outputId": "c190ab3f-8f9d-47fe-8fea-d9b61e0af246"
   },
   "outputs": [
    {
     "name": "stdout",
     "output_type": "stream",
     "text": [
      "Training accuracy: 0.7627262124233417\n",
      "-------\n",
      "Confusion matrix:\n",
      "[[5395 1111    7    0  312   51  718]\n",
      " [1838 3979  168    3 1198  355   53]\n",
      " [   0    5 5186  706  273 1424    0]\n",
      " [   0    0  224 7195    0  175    0]\n",
      " [  95  555  271    0 6419  254    0]\n",
      " [   4   88 1563  445  212 5282    0]\n",
      " [ 476    3    0    0   26    0 7089]]\n",
      "-------\n",
      "Classification report:\n",
      "              precision    recall  f1-score   support\n",
      "\n",
      "           1       0.69      0.71      0.70      7594\n",
      "           2       0.69      0.52      0.60      7594\n",
      "           3       0.70      0.68      0.69      7594\n",
      "           4       0.86      0.95      0.90      7594\n",
      "           5       0.76      0.85      0.80      7594\n",
      "           6       0.70      0.70      0.70      7594\n",
      "           7       0.90      0.93      0.92      7594\n",
      "\n",
      "    accuracy                           0.76     53158\n",
      "   macro avg       0.76      0.76      0.76     53158\n",
      "weighted avg       0.76      0.76      0.76     53158\n",
      "\n"
     ]
    }
   ],
   "source": [
    "y_pred = xg.predict(X_train)\n",
    "\n",
    "print_metrics(y_train, y_pred)"
   ]
  },
  {
   "cell_type": "code",
   "execution_count": 37,
   "metadata": {
    "colab": {
     "base_uri": "https://localhost:8080/",
     "height": 34
    },
    "colab_type": "code",
    "id": "UYyKeErFqkhg",
    "outputId": "dc59e076-7742-4687-b12c-64b5abbd1574"
   },
   "outputs": [
    {
     "data": {
      "text/plain": [
       "0.03729712053148827"
      ]
     },
     "execution_count": 37,
     "metadata": {
      "tags": []
     },
     "output_type": "execute_result"
    }
   ],
   "source": [
    "xg.score(X_val, y_val)"
   ]
  },
  {
   "cell_type": "markdown",
   "metadata": {
    "colab_type": "text",
    "id": "CSv_svD3qkhj"
   },
   "source": [
    "### Tune parameters with GridSearchCV"
   ]
  },
  {
   "cell_type": "code",
   "execution_count": 40,
   "metadata": {
    "colab": {
     "base_uri": "https://localhost:8080/",
     "height": 375
    },
    "colab_type": "code",
    "id": "29PuCamHqkhk",
    "outputId": "7a519926-b011-40f6-fb53-64ccaa19c56a"
   },
   "outputs": [
    {
     "ename": "KeyboardInterrupt",
     "evalue": "ignored",
     "output_type": "error",
     "traceback": [
      "\u001b[0;31m---------------------------------------------------------------------------\u001b[0m",
      "\u001b[0;31mKeyboardInterrupt\u001b[0m                         Traceback (most recent call last)",
      "\u001b[0;32m<ipython-input-40-0bc38c8736a3>\u001b[0m in \u001b[0;36m<module>\u001b[0;34m()\u001b[0m\n\u001b[1;32m      5\u001b[0m \u001b[0;34m\u001b[0m\u001b[0m\n\u001b[1;32m      6\u001b[0m \u001b[0mgrid_xgb\u001b[0m \u001b[0;34m=\u001b[0m \u001b[0mGridSearchCV\u001b[0m\u001b[0;34m(\u001b[0m\u001b[0mxg\u001b[0m\u001b[0;34m,\u001b[0m \u001b[0mparams\u001b[0m\u001b[0;34m,\u001b[0m \u001b[0mscoring\u001b[0m\u001b[0;34m=\u001b[0m\u001b[0;34m'accuracy'\u001b[0m\u001b[0;34m,\u001b[0m \u001b[0mcv\u001b[0m\u001b[0;34m=\u001b[0m\u001b[0;36m3\u001b[0m\u001b[0;34m,\u001b[0m \u001b[0mn_jobs\u001b[0m\u001b[0;34m=\u001b[0m\u001b[0;34m-\u001b[0m\u001b[0;36m1\u001b[0m\u001b[0;34m)\u001b[0m\u001b[0;34m\u001b[0m\u001b[0;34m\u001b[0m\u001b[0m\n\u001b[0;32m----> 7\u001b[0;31m \u001b[0mgrid_xgb\u001b[0m\u001b[0;34m.\u001b[0m\u001b[0mfit\u001b[0m\u001b[0;34m(\u001b[0m\u001b[0mX_train\u001b[0m\u001b[0;34m,\u001b[0m \u001b[0my_train\u001b[0m\u001b[0;34m)\u001b[0m\u001b[0;34m\u001b[0m\u001b[0;34m\u001b[0m\u001b[0m\n\u001b[0m\u001b[1;32m      8\u001b[0m \u001b[0;34m\u001b[0m\u001b[0m\n\u001b[1;32m      9\u001b[0m \u001b[0mprint\u001b[0m\u001b[0;34m(\u001b[0m\u001b[0;34m'Best score:'\u001b[0m\u001b[0;34m,\u001b[0m \u001b[0mgrid_xgb\u001b[0m\u001b[0;34m.\u001b[0m\u001b[0mbest_score_\u001b[0m\u001b[0;34m)\u001b[0m\u001b[0;34m\u001b[0m\u001b[0;34m\u001b[0m\u001b[0m\n",
      "\u001b[0;32m/usr/local/lib/python3.6/dist-packages/sklearn/model_selection/_search.py\u001b[0m in \u001b[0;36mfit\u001b[0;34m(self, X, y, groups, **fit_params)\u001b[0m\n\u001b[1;32m    686\u001b[0m                 \u001b[0;32mreturn\u001b[0m \u001b[0mresults\u001b[0m\u001b[0;34m\u001b[0m\u001b[0;34m\u001b[0m\u001b[0m\n\u001b[1;32m    687\u001b[0m \u001b[0;34m\u001b[0m\u001b[0m\n\u001b[0;32m--> 688\u001b[0;31m             \u001b[0mself\u001b[0m\u001b[0;34m.\u001b[0m\u001b[0m_run_search\u001b[0m\u001b[0;34m(\u001b[0m\u001b[0mevaluate_candidates\u001b[0m\u001b[0;34m)\u001b[0m\u001b[0;34m\u001b[0m\u001b[0;34m\u001b[0m\u001b[0m\n\u001b[0m\u001b[1;32m    689\u001b[0m \u001b[0;34m\u001b[0m\u001b[0m\n\u001b[1;32m    690\u001b[0m         \u001b[0;31m# For multi-metric evaluation, store the best_index_, best_params_ and\u001b[0m\u001b[0;34m\u001b[0m\u001b[0;34m\u001b[0m\u001b[0;34m\u001b[0m\u001b[0m\n",
      "\u001b[0;32m/usr/local/lib/python3.6/dist-packages/sklearn/model_selection/_search.py\u001b[0m in \u001b[0;36m_run_search\u001b[0;34m(self, evaluate_candidates)\u001b[0m\n\u001b[1;32m   1147\u001b[0m     \u001b[0;32mdef\u001b[0m \u001b[0m_run_search\u001b[0m\u001b[0;34m(\u001b[0m\u001b[0mself\u001b[0m\u001b[0;34m,\u001b[0m \u001b[0mevaluate_candidates\u001b[0m\u001b[0;34m)\u001b[0m\u001b[0;34m:\u001b[0m\u001b[0;34m\u001b[0m\u001b[0;34m\u001b[0m\u001b[0m\n\u001b[1;32m   1148\u001b[0m         \u001b[0;34m\"\"\"Search all candidates in param_grid\"\"\"\u001b[0m\u001b[0;34m\u001b[0m\u001b[0;34m\u001b[0m\u001b[0m\n\u001b[0;32m-> 1149\u001b[0;31m         \u001b[0mevaluate_candidates\u001b[0m\u001b[0;34m(\u001b[0m\u001b[0mParameterGrid\u001b[0m\u001b[0;34m(\u001b[0m\u001b[0mself\u001b[0m\u001b[0;34m.\u001b[0m\u001b[0mparam_grid\u001b[0m\u001b[0;34m)\u001b[0m\u001b[0;34m)\u001b[0m\u001b[0;34m\u001b[0m\u001b[0;34m\u001b[0m\u001b[0m\n\u001b[0m\u001b[1;32m   1150\u001b[0m \u001b[0;34m\u001b[0m\u001b[0m\n\u001b[1;32m   1151\u001b[0m \u001b[0;34m\u001b[0m\u001b[0m\n",
      "\u001b[0;32m/usr/local/lib/python3.6/dist-packages/sklearn/model_selection/_search.py\u001b[0m in \u001b[0;36mevaluate_candidates\u001b[0;34m(candidate_params)\u001b[0m\n\u001b[1;32m    665\u001b[0m                                \u001b[0;32mfor\u001b[0m \u001b[0mparameters\u001b[0m\u001b[0;34m,\u001b[0m \u001b[0;34m(\u001b[0m\u001b[0mtrain\u001b[0m\u001b[0;34m,\u001b[0m \u001b[0mtest\u001b[0m\u001b[0;34m)\u001b[0m\u001b[0;34m\u001b[0m\u001b[0;34m\u001b[0m\u001b[0m\n\u001b[1;32m    666\u001b[0m                                in product(candidate_params,\n\u001b[0;32m--> 667\u001b[0;31m                                           cv.split(X, y, groups)))\n\u001b[0m\u001b[1;32m    668\u001b[0m \u001b[0;34m\u001b[0m\u001b[0m\n\u001b[1;32m    669\u001b[0m                 \u001b[0;32mif\u001b[0m \u001b[0mlen\u001b[0m\u001b[0;34m(\u001b[0m\u001b[0mout\u001b[0m\u001b[0;34m)\u001b[0m \u001b[0;34m<\u001b[0m \u001b[0;36m1\u001b[0m\u001b[0;34m:\u001b[0m\u001b[0;34m\u001b[0m\u001b[0;34m\u001b[0m\u001b[0m\n",
      "\u001b[0;32m/usr/local/lib/python3.6/dist-packages/joblib/parallel.py\u001b[0m in \u001b[0;36m__call__\u001b[0;34m(self, iterable)\u001b[0m\n\u001b[1;32m   1014\u001b[0m \u001b[0;34m\u001b[0m\u001b[0m\n\u001b[1;32m   1015\u001b[0m             \u001b[0;32mwith\u001b[0m \u001b[0mself\u001b[0m\u001b[0;34m.\u001b[0m\u001b[0m_backend\u001b[0m\u001b[0;34m.\u001b[0m\u001b[0mretrieval_context\u001b[0m\u001b[0;34m(\u001b[0m\u001b[0;34m)\u001b[0m\u001b[0;34m:\u001b[0m\u001b[0;34m\u001b[0m\u001b[0;34m\u001b[0m\u001b[0m\n\u001b[0;32m-> 1016\u001b[0;31m                 \u001b[0mself\u001b[0m\u001b[0;34m.\u001b[0m\u001b[0mretrieve\u001b[0m\u001b[0;34m(\u001b[0m\u001b[0;34m)\u001b[0m\u001b[0;34m\u001b[0m\u001b[0;34m\u001b[0m\u001b[0m\n\u001b[0m\u001b[1;32m   1017\u001b[0m             \u001b[0;31m# Make sure that we get a last message telling us we are done\u001b[0m\u001b[0;34m\u001b[0m\u001b[0;34m\u001b[0m\u001b[0;34m\u001b[0m\u001b[0m\n\u001b[1;32m   1018\u001b[0m             \u001b[0melapsed_time\u001b[0m \u001b[0;34m=\u001b[0m \u001b[0mtime\u001b[0m\u001b[0;34m.\u001b[0m\u001b[0mtime\u001b[0m\u001b[0;34m(\u001b[0m\u001b[0;34m)\u001b[0m \u001b[0;34m-\u001b[0m \u001b[0mself\u001b[0m\u001b[0;34m.\u001b[0m\u001b[0m_start_time\u001b[0m\u001b[0;34m\u001b[0m\u001b[0;34m\u001b[0m\u001b[0m\n",
      "\u001b[0;32m/usr/local/lib/python3.6/dist-packages/joblib/parallel.py\u001b[0m in \u001b[0;36mretrieve\u001b[0;34m(self)\u001b[0m\n\u001b[1;32m    906\u001b[0m             \u001b[0;32mtry\u001b[0m\u001b[0;34m:\u001b[0m\u001b[0;34m\u001b[0m\u001b[0;34m\u001b[0m\u001b[0m\n\u001b[1;32m    907\u001b[0m                 \u001b[0;32mif\u001b[0m \u001b[0mgetattr\u001b[0m\u001b[0;34m(\u001b[0m\u001b[0mself\u001b[0m\u001b[0;34m.\u001b[0m\u001b[0m_backend\u001b[0m\u001b[0;34m,\u001b[0m \u001b[0;34m'supports_timeout'\u001b[0m\u001b[0;34m,\u001b[0m \u001b[0;32mFalse\u001b[0m\u001b[0;34m)\u001b[0m\u001b[0;34m:\u001b[0m\u001b[0;34m\u001b[0m\u001b[0;34m\u001b[0m\u001b[0m\n\u001b[0;32m--> 908\u001b[0;31m                     \u001b[0mself\u001b[0m\u001b[0;34m.\u001b[0m\u001b[0m_output\u001b[0m\u001b[0;34m.\u001b[0m\u001b[0mextend\u001b[0m\u001b[0;34m(\u001b[0m\u001b[0mjob\u001b[0m\u001b[0;34m.\u001b[0m\u001b[0mget\u001b[0m\u001b[0;34m(\u001b[0m\u001b[0mtimeout\u001b[0m\u001b[0;34m=\u001b[0m\u001b[0mself\u001b[0m\u001b[0;34m.\u001b[0m\u001b[0mtimeout\u001b[0m\u001b[0;34m)\u001b[0m\u001b[0;34m)\u001b[0m\u001b[0;34m\u001b[0m\u001b[0;34m\u001b[0m\u001b[0m\n\u001b[0m\u001b[1;32m    909\u001b[0m                 \u001b[0;32melse\u001b[0m\u001b[0;34m:\u001b[0m\u001b[0;34m\u001b[0m\u001b[0;34m\u001b[0m\u001b[0m\n\u001b[1;32m    910\u001b[0m                     \u001b[0mself\u001b[0m\u001b[0;34m.\u001b[0m\u001b[0m_output\u001b[0m\u001b[0;34m.\u001b[0m\u001b[0mextend\u001b[0m\u001b[0;34m(\u001b[0m\u001b[0mjob\u001b[0m\u001b[0;34m.\u001b[0m\u001b[0mget\u001b[0m\u001b[0;34m(\u001b[0m\u001b[0;34m)\u001b[0m\u001b[0;34m)\u001b[0m\u001b[0;34m\u001b[0m\u001b[0;34m\u001b[0m\u001b[0m\n",
      "\u001b[0;32m/usr/local/lib/python3.6/dist-packages/joblib/_parallel_backends.py\u001b[0m in \u001b[0;36mwrap_future_result\u001b[0;34m(future, timeout)\u001b[0m\n\u001b[1;32m    552\u001b[0m         AsyncResults.get from multiprocessing.\"\"\"\n\u001b[1;32m    553\u001b[0m         \u001b[0;32mtry\u001b[0m\u001b[0;34m:\u001b[0m\u001b[0;34m\u001b[0m\u001b[0;34m\u001b[0m\u001b[0m\n\u001b[0;32m--> 554\u001b[0;31m             \u001b[0;32mreturn\u001b[0m \u001b[0mfuture\u001b[0m\u001b[0;34m.\u001b[0m\u001b[0mresult\u001b[0m\u001b[0;34m(\u001b[0m\u001b[0mtimeout\u001b[0m\u001b[0;34m=\u001b[0m\u001b[0mtimeout\u001b[0m\u001b[0;34m)\u001b[0m\u001b[0;34m\u001b[0m\u001b[0;34m\u001b[0m\u001b[0m\n\u001b[0m\u001b[1;32m    555\u001b[0m         \u001b[0;32mexcept\u001b[0m \u001b[0mLokyTimeoutError\u001b[0m\u001b[0;34m:\u001b[0m\u001b[0;34m\u001b[0m\u001b[0;34m\u001b[0m\u001b[0m\n\u001b[1;32m    556\u001b[0m             \u001b[0;32mraise\u001b[0m \u001b[0mTimeoutError\u001b[0m\u001b[0;34m(\u001b[0m\u001b[0;34m)\u001b[0m\u001b[0;34m\u001b[0m\u001b[0;34m\u001b[0m\u001b[0m\n",
      "\u001b[0;32m/usr/lib/python3.6/concurrent/futures/_base.py\u001b[0m in \u001b[0;36mresult\u001b[0;34m(self, timeout)\u001b[0m\n\u001b[1;32m    425\u001b[0m                 \u001b[0;32mreturn\u001b[0m \u001b[0mself\u001b[0m\u001b[0;34m.\u001b[0m\u001b[0m__get_result\u001b[0m\u001b[0;34m(\u001b[0m\u001b[0;34m)\u001b[0m\u001b[0;34m\u001b[0m\u001b[0;34m\u001b[0m\u001b[0m\n\u001b[1;32m    426\u001b[0m \u001b[0;34m\u001b[0m\u001b[0m\n\u001b[0;32m--> 427\u001b[0;31m             \u001b[0mself\u001b[0m\u001b[0;34m.\u001b[0m\u001b[0m_condition\u001b[0m\u001b[0;34m.\u001b[0m\u001b[0mwait\u001b[0m\u001b[0;34m(\u001b[0m\u001b[0mtimeout\u001b[0m\u001b[0;34m)\u001b[0m\u001b[0;34m\u001b[0m\u001b[0;34m\u001b[0m\u001b[0m\n\u001b[0m\u001b[1;32m    428\u001b[0m \u001b[0;34m\u001b[0m\u001b[0m\n\u001b[1;32m    429\u001b[0m             \u001b[0;32mif\u001b[0m \u001b[0mself\u001b[0m\u001b[0;34m.\u001b[0m\u001b[0m_state\u001b[0m \u001b[0;32min\u001b[0m \u001b[0;34m[\u001b[0m\u001b[0mCANCELLED\u001b[0m\u001b[0;34m,\u001b[0m \u001b[0mCANCELLED_AND_NOTIFIED\u001b[0m\u001b[0;34m]\u001b[0m\u001b[0;34m:\u001b[0m\u001b[0;34m\u001b[0m\u001b[0;34m\u001b[0m\u001b[0m\n",
      "\u001b[0;32m/usr/lib/python3.6/threading.py\u001b[0m in \u001b[0;36mwait\u001b[0;34m(self, timeout)\u001b[0m\n\u001b[1;32m    293\u001b[0m         \u001b[0;32mtry\u001b[0m\u001b[0;34m:\u001b[0m    \u001b[0;31m# restore state no matter what (e.g., KeyboardInterrupt)\u001b[0m\u001b[0;34m\u001b[0m\u001b[0;34m\u001b[0m\u001b[0m\n\u001b[1;32m    294\u001b[0m             \u001b[0;32mif\u001b[0m \u001b[0mtimeout\u001b[0m \u001b[0;32mis\u001b[0m \u001b[0;32mNone\u001b[0m\u001b[0;34m:\u001b[0m\u001b[0;34m\u001b[0m\u001b[0;34m\u001b[0m\u001b[0m\n\u001b[0;32m--> 295\u001b[0;31m                 \u001b[0mwaiter\u001b[0m\u001b[0;34m.\u001b[0m\u001b[0macquire\u001b[0m\u001b[0;34m(\u001b[0m\u001b[0;34m)\u001b[0m\u001b[0;34m\u001b[0m\u001b[0;34m\u001b[0m\u001b[0m\n\u001b[0m\u001b[1;32m    296\u001b[0m                 \u001b[0mgotit\u001b[0m \u001b[0;34m=\u001b[0m \u001b[0;32mTrue\u001b[0m\u001b[0;34m\u001b[0m\u001b[0;34m\u001b[0m\u001b[0m\n\u001b[1;32m    297\u001b[0m             \u001b[0;32melse\u001b[0m\u001b[0;34m:\u001b[0m\u001b[0;34m\u001b[0m\u001b[0;34m\u001b[0m\u001b[0m\n",
      "\u001b[0;31mKeyboardInterrupt\u001b[0m: "
     ]
    }
   ],
   "source": [
    "params = {'learning_rate': [0.01, 0.1],\n",
    "          'n_estimators': [5, 30, 100]\n",
    "}\n",
    "\n",
    "grid_xgb = GridSearchCV(xg, params, scoring='accuracy', cv=3, n_jobs=-1)\n",
    "grid_xgb.fit(X_train, y_train)\n",
    "\n",
    "print('Best score:', grid_xgb.best_score_)\n",
    "print('Best params:', grid_xgb.best_params_)"
   ]
  },
  {
   "cell_type": "code",
   "execution_count": 0,
   "metadata": {
    "colab": {},
    "colab_type": "code",
    "id": "TFDtlZowqkhl"
   },
   "outputs": [],
   "source": [
    "y_pred = grid_xgb.predict(X_train)\n",
    "\n",
    "print_metrics(y_train, y_pred)"
   ]
  },
  {
   "cell_type": "code",
   "execution_count": 0,
   "metadata": {
    "colab": {},
    "colab_type": "code",
    "id": "d2qky9pOqkho"
   },
   "outputs": [],
   "source": [
    "grid_xgb.score(X_val, y_val)"
   ]
  },
  {
   "cell_type": "markdown",
   "metadata": {
    "colab_type": "text",
    "id": "Kt-ju9pcqkhr"
   },
   "source": [
    "### Evaluating the best XGBoost classifier"
   ]
  },
  {
   "cell_type": "code",
   "execution_count": 0,
   "metadata": {
    "colab": {},
    "colab_type": "code",
    "id": "vXegbFN0qkhr"
   },
   "outputs": [],
   "source": [
    "# Build the optimized model\n",
    "# xgb_best = XGBClassifier() # insert best params\n",
    "# xgb_best.fit(X_train, y_train)"
   ]
  },
  {
   "cell_type": "code",
   "execution_count": 0,
   "metadata": {
    "colab": {},
    "colab_type": "code",
    "id": "5xP7gG3-qkht"
   },
   "outputs": [],
   "source": [
    "# View metrics for the optimized model\n",
    "# y_pred = xgb_best.predict(X_train)\n",
    "# print_metrics(y_train, y_pred)"
   ]
  },
  {
   "cell_type": "code",
   "execution_count": 0,
   "metadata": {
    "colab": {},
    "colab_type": "code",
    "id": "k4ocKvx1qkhu"
   },
   "outputs": [],
   "source": [
    "# Score the model on the validation set\n",
    "# xgb_best.score(X_val_trans, y_val)"
   ]
  },
  {
   "cell_type": "code",
   "execution_count": 0,
   "metadata": {
    "colab": {},
    "colab_type": "code",
    "id": "6PfuAenrqkhx"
   },
   "outputs": [],
   "source": [
    "# View full metrics for the validation set\n",
    "# y_val_pred = xgb_best.predict(X_val_trans)\n",
    "# print_metrics(y_val, y_val_pred)"
   ]
  },
  {
   "cell_type": "code",
   "execution_count": 0,
   "metadata": {
    "colab": {},
    "colab_type": "code",
    "id": "goaOZXVqqkhy"
   },
   "outputs": [],
   "source": [
    "# Find AUC and plot ROC curve\n",
    "# y_score_xg = xgb_best.fit(X_train, y_train).decision_function(X_test)\n",
    "\n",
    "# roc_it(y_test, y_score_xg)"
   ]
  },
  {
   "cell_type": "markdown",
   "metadata": {
    "colab_type": "text",
    "id": "7mtVTAw9qkh0"
   },
   "source": [
    "## Support Vector Machine"
   ]
  },
  {
   "cell_type": "markdown",
   "metadata": {
    "colab_type": "text",
    "heading_collapsed": true,
    "id": "8FyvM4QRqkh2"
   },
   "source": [
    "### Baseline model"
   ]
  },
  {
   "cell_type": "code",
   "execution_count": 0,
   "metadata": {
    "ExecuteTime": {
     "end_time": "2019-11-20T00:05:09.674293Z",
     "start_time": "2019-11-20T00:02:57.330353Z"
    },
    "colab": {},
    "colab_type": "code",
    "hidden": true,
    "id": "uiDB6xT1qkh3",
    "outputId": "7b56aed0-5c4c-4129-d143-6521ffa893b4",
    "scrolled": true
   },
   "outputs": [
    {
     "name": "stderr",
     "output_type": "stream",
     "text": [
      "/Users/jennykreiger/anaconda3/envs/learn-env/lib/python3.6/site-packages/sklearn/svm/base.py:196: FutureWarning: The default value of gamma will change from 'auto' to 'scale' in version 0.22 to account better for unscaled features. Set gamma explicitly to 'auto' or 'scale' to avoid this warning.\n",
      "  \"avoid this warning.\", FutureWarning)\n"
     ]
    },
    {
     "data": {
      "text/plain": [
       "SVC(C=1.0, cache_size=200, class_weight=None, coef0=0.0,\n",
       "  decision_function_shape='ovr', degree=3, gamma='auto_deprecated',\n",
       "  kernel='rbf', max_iter=-1, probability=False, random_state=None,\n",
       "  shrinking=True, tol=0.001, verbose=False)"
      ]
     },
     "execution_count": 45,
     "metadata": {
      "tags": []
     },
     "output_type": "execute_result"
    }
   ],
   "source": [
    "# Build a baseline model\n",
    "svc = SVC(gamma='auto')\n",
    "svc.fit(X_train, y_train)"
   ]
  },
  {
   "cell_type": "code",
   "execution_count": 0,
   "metadata": {
    "ExecuteTime": {
     "end_time": "2019-11-20T00:06:47.273005Z",
     "start_time": "2019-11-20T00:05:16.857938Z"
    },
    "colab": {},
    "colab_type": "code",
    "hidden": true,
    "id": "3-Py93Tmqkh5",
    "outputId": "ff688f51-fb27-41a4-81be-9ddeab01bf5b",
    "scrolled": false
   },
   "outputs": [
    {
     "name": "stdout",
     "output_type": "stream",
     "text": [
      "Training accuracy: 0.6421674055216609\n",
      "-------\n",
      "Confusion matrix:\n",
      "[[4630 1731    9  281   61  800]\n",
      " [1710 4102  189 1206  323   41]\n",
      " [   0   28 4567  307 2713    0]\n",
      " [ 169 1486  691 5008  244    0]\n",
      " [   0  341 1985  472 4825    0]\n",
      " [1491    0   27    0    0 6129]]\n",
      "-------\n",
      "Classification report:\n",
      "              precision    recall  f1-score   support\n",
      "\n",
      "           1       0.58      0.62      0.60      7512\n",
      "           2       0.53      0.54      0.54      7571\n",
      "           3       0.61      0.60      0.61      7615\n",
      "           5       0.69      0.66      0.67      7598\n",
      "           6       0.59      0.63      0.61      7623\n",
      "           7       0.88      0.80      0.84      7647\n",
      "\n",
      "   micro avg       0.64      0.64      0.64     45566\n",
      "   macro avg       0.65      0.64      0.64     45566\n",
      "weighted avg       0.65      0.64      0.64     45566\n",
      "\n"
     ]
    }
   ],
   "source": [
    "y_pred = svc.predict(X_train)\n",
    "print_metrics(y_train, y_pred)"
   ]
  },
  {
   "cell_type": "code",
   "execution_count": 0,
   "metadata": {
    "ExecuteTime": {
     "end_time": "2019-11-20T00:07:45.399445Z",
     "start_time": "2019-11-20T00:07:34.157310Z"
    },
    "colab": {},
    "colab_type": "code",
    "hidden": true,
    "id": "7U8v2L48qkh7",
    "outputId": "68a8d94f-7709-4b44-b1b2-6c6dc372ded8"
   },
   "outputs": [
    {
     "data": {
      "text/plain": [
       "0.6346558988764045"
      ]
     },
     "execution_count": 47,
     "metadata": {
      "tags": []
     },
     "output_type": "execute_result"
    }
   ],
   "source": [
    "svc.score(X_val, y_val)"
   ]
  },
  {
   "cell_type": "markdown",
   "metadata": {
    "colab_type": "text",
    "id": "reG8hzSHqkh8"
   },
   "source": [
    "### Tune parameters with GridSearchCV"
   ]
  },
  {
   "cell_type": "code",
   "execution_count": 0,
   "metadata": {
    "ExecuteTime": {
     "end_time": "2019-11-20T00:13:37.895411Z",
     "start_time": "2019-11-20T00:09:56.568187Z"
    },
    "colab": {},
    "colab_type": "code",
    "id": "NHA3Nm4Zqkh9",
    "outputId": "d6c430e1-29b3-4930-bb24-79f9adfc9688",
    "scrolled": true
   },
   "outputs": [
    {
     "ename": "KeyboardInterrupt",
     "evalue": "",
     "output_type": "error",
     "traceback": [
      "\u001b[0;31m---------------------------------------------------------------------------\u001b[0m",
      "\u001b[0;31mKeyboardInterrupt\u001b[0m                         Traceback (most recent call last)",
      "\u001b[0;32m<ipython-input-48-c077c017e42d>\u001b[0m in \u001b[0;36m<module>\u001b[0;34m()\u001b[0m\n\u001b[1;32m      3\u001b[0m \u001b[0;34m\u001b[0m\u001b[0m\n\u001b[1;32m      4\u001b[0m \u001b[0mgrid_svc\u001b[0m \u001b[0;34m=\u001b[0m \u001b[0mGridSearchCV\u001b[0m\u001b[0;34m(\u001b[0m\u001b[0msvc\u001b[0m\u001b[0;34m,\u001b[0m \u001b[0mparams\u001b[0m\u001b[0;34m,\u001b[0m \u001b[0mcv\u001b[0m\u001b[0;34m=\u001b[0m\u001b[0;36m3\u001b[0m\u001b[0;34m,\u001b[0m \u001b[0mscoring\u001b[0m\u001b[0;34m=\u001b[0m\u001b[0;34m'accuracy'\u001b[0m\u001b[0;34m)\u001b[0m\u001b[0;34m\u001b[0m\u001b[0m\n\u001b[0;32m----> 5\u001b[0;31m \u001b[0mgrid_svc\u001b[0m\u001b[0;34m.\u001b[0m\u001b[0mfit\u001b[0m\u001b[0;34m(\u001b[0m\u001b[0mX_train\u001b[0m\u001b[0;34m,\u001b[0m \u001b[0my_train\u001b[0m\u001b[0;34m)\u001b[0m\u001b[0;34m\u001b[0m\u001b[0m\n\u001b[0m\u001b[1;32m      6\u001b[0m \u001b[0;34m\u001b[0m\u001b[0m\n\u001b[1;32m      7\u001b[0m \u001b[0;34m\u001b[0m\u001b[0m\n",
      "\u001b[0;32m~/anaconda3/envs/learn-env/lib/python3.6/site-packages/sklearn/model_selection/_search.py\u001b[0m in \u001b[0;36mfit\u001b[0;34m(self, X, y, groups, **fit_params)\u001b[0m\n\u001b[1;32m    720\u001b[0m                 \u001b[0;32mreturn\u001b[0m \u001b[0mresults_container\u001b[0m\u001b[0;34m[\u001b[0m\u001b[0;36m0\u001b[0m\u001b[0;34m]\u001b[0m\u001b[0;34m\u001b[0m\u001b[0m\n\u001b[1;32m    721\u001b[0m \u001b[0;34m\u001b[0m\u001b[0m\n\u001b[0;32m--> 722\u001b[0;31m             \u001b[0mself\u001b[0m\u001b[0;34m.\u001b[0m\u001b[0m_run_search\u001b[0m\u001b[0;34m(\u001b[0m\u001b[0mevaluate_candidates\u001b[0m\u001b[0;34m)\u001b[0m\u001b[0;34m\u001b[0m\u001b[0m\n\u001b[0m\u001b[1;32m    723\u001b[0m \u001b[0;34m\u001b[0m\u001b[0m\n\u001b[1;32m    724\u001b[0m         \u001b[0mresults\u001b[0m \u001b[0;34m=\u001b[0m \u001b[0mresults_container\u001b[0m\u001b[0;34m[\u001b[0m\u001b[0;36m0\u001b[0m\u001b[0;34m]\u001b[0m\u001b[0;34m\u001b[0m\u001b[0m\n",
      "\u001b[0;32m~/anaconda3/envs/learn-env/lib/python3.6/site-packages/sklearn/model_selection/_search.py\u001b[0m in \u001b[0;36m_run_search\u001b[0;34m(self, evaluate_candidates)\u001b[0m\n\u001b[1;32m   1189\u001b[0m     \u001b[0;32mdef\u001b[0m \u001b[0m_run_search\u001b[0m\u001b[0;34m(\u001b[0m\u001b[0mself\u001b[0m\u001b[0;34m,\u001b[0m \u001b[0mevaluate_candidates\u001b[0m\u001b[0;34m)\u001b[0m\u001b[0;34m:\u001b[0m\u001b[0;34m\u001b[0m\u001b[0m\n\u001b[1;32m   1190\u001b[0m         \u001b[0;34m\"\"\"Search all candidates in param_grid\"\"\"\u001b[0m\u001b[0;34m\u001b[0m\u001b[0m\n\u001b[0;32m-> 1191\u001b[0;31m         \u001b[0mevaluate_candidates\u001b[0m\u001b[0;34m(\u001b[0m\u001b[0mParameterGrid\u001b[0m\u001b[0;34m(\u001b[0m\u001b[0mself\u001b[0m\u001b[0;34m.\u001b[0m\u001b[0mparam_grid\u001b[0m\u001b[0;34m)\u001b[0m\u001b[0;34m)\u001b[0m\u001b[0;34m\u001b[0m\u001b[0m\n\u001b[0m\u001b[1;32m   1192\u001b[0m \u001b[0;34m\u001b[0m\u001b[0m\n\u001b[1;32m   1193\u001b[0m \u001b[0;34m\u001b[0m\u001b[0m\n",
      "\u001b[0;32m~/anaconda3/envs/learn-env/lib/python3.6/site-packages/sklearn/model_selection/_search.py\u001b[0m in \u001b[0;36mevaluate_candidates\u001b[0;34m(candidate_params)\u001b[0m\n\u001b[1;32m    709\u001b[0m                                \u001b[0;32mfor\u001b[0m \u001b[0mparameters\u001b[0m\u001b[0;34m,\u001b[0m \u001b[0;34m(\u001b[0m\u001b[0mtrain\u001b[0m\u001b[0;34m,\u001b[0m \u001b[0mtest\u001b[0m\u001b[0;34m)\u001b[0m\u001b[0;34m\u001b[0m\u001b[0m\n\u001b[1;32m    710\u001b[0m                                in product(candidate_params,\n\u001b[0;32m--> 711\u001b[0;31m                                           cv.split(X, y, groups)))\n\u001b[0m\u001b[1;32m    712\u001b[0m \u001b[0;34m\u001b[0m\u001b[0m\n\u001b[1;32m    713\u001b[0m                 \u001b[0mall_candidate_params\u001b[0m\u001b[0;34m.\u001b[0m\u001b[0mextend\u001b[0m\u001b[0;34m(\u001b[0m\u001b[0mcandidate_params\u001b[0m\u001b[0;34m)\u001b[0m\u001b[0;34m\u001b[0m\u001b[0m\n",
      "\u001b[0;32m~/anaconda3/envs/learn-env/lib/python3.6/site-packages/sklearn/externals/joblib/parallel.py\u001b[0m in \u001b[0;36m__call__\u001b[0;34m(self, iterable)\u001b[0m\n\u001b[1;32m    918\u001b[0m                 \u001b[0mself\u001b[0m\u001b[0;34m.\u001b[0m\u001b[0m_iterating\u001b[0m \u001b[0;34m=\u001b[0m \u001b[0mself\u001b[0m\u001b[0;34m.\u001b[0m\u001b[0m_original_iterator\u001b[0m \u001b[0;32mis\u001b[0m \u001b[0;32mnot\u001b[0m \u001b[0;32mNone\u001b[0m\u001b[0;34m\u001b[0m\u001b[0m\n\u001b[1;32m    919\u001b[0m \u001b[0;34m\u001b[0m\u001b[0m\n\u001b[0;32m--> 920\u001b[0;31m             \u001b[0;32mwhile\u001b[0m \u001b[0mself\u001b[0m\u001b[0;34m.\u001b[0m\u001b[0mdispatch_one_batch\u001b[0m\u001b[0;34m(\u001b[0m\u001b[0miterator\u001b[0m\u001b[0;34m)\u001b[0m\u001b[0;34m:\u001b[0m\u001b[0;34m\u001b[0m\u001b[0m\n\u001b[0m\u001b[1;32m    921\u001b[0m                 \u001b[0;32mpass\u001b[0m\u001b[0;34m\u001b[0m\u001b[0m\n\u001b[1;32m    922\u001b[0m \u001b[0;34m\u001b[0m\u001b[0m\n",
      "\u001b[0;32m~/anaconda3/envs/learn-env/lib/python3.6/site-packages/sklearn/externals/joblib/parallel.py\u001b[0m in \u001b[0;36mdispatch_one_batch\u001b[0;34m(self, iterator)\u001b[0m\n\u001b[1;32m    757\u001b[0m                 \u001b[0;32mreturn\u001b[0m \u001b[0;32mFalse\u001b[0m\u001b[0;34m\u001b[0m\u001b[0m\n\u001b[1;32m    758\u001b[0m             \u001b[0;32melse\u001b[0m\u001b[0;34m:\u001b[0m\u001b[0;34m\u001b[0m\u001b[0m\n\u001b[0;32m--> 759\u001b[0;31m                 \u001b[0mself\u001b[0m\u001b[0;34m.\u001b[0m\u001b[0m_dispatch\u001b[0m\u001b[0;34m(\u001b[0m\u001b[0mtasks\u001b[0m\u001b[0;34m)\u001b[0m\u001b[0;34m\u001b[0m\u001b[0m\n\u001b[0m\u001b[1;32m    760\u001b[0m                 \u001b[0;32mreturn\u001b[0m \u001b[0;32mTrue\u001b[0m\u001b[0;34m\u001b[0m\u001b[0m\n\u001b[1;32m    761\u001b[0m \u001b[0;34m\u001b[0m\u001b[0m\n",
      "\u001b[0;32m~/anaconda3/envs/learn-env/lib/python3.6/site-packages/sklearn/externals/joblib/parallel.py\u001b[0m in \u001b[0;36m_dispatch\u001b[0;34m(self, batch)\u001b[0m\n\u001b[1;32m    714\u001b[0m         \u001b[0;32mwith\u001b[0m \u001b[0mself\u001b[0m\u001b[0;34m.\u001b[0m\u001b[0m_lock\u001b[0m\u001b[0;34m:\u001b[0m\u001b[0;34m\u001b[0m\u001b[0m\n\u001b[1;32m    715\u001b[0m             \u001b[0mjob_idx\u001b[0m \u001b[0;34m=\u001b[0m \u001b[0mlen\u001b[0m\u001b[0;34m(\u001b[0m\u001b[0mself\u001b[0m\u001b[0;34m.\u001b[0m\u001b[0m_jobs\u001b[0m\u001b[0;34m)\u001b[0m\u001b[0;34m\u001b[0m\u001b[0m\n\u001b[0;32m--> 716\u001b[0;31m             \u001b[0mjob\u001b[0m \u001b[0;34m=\u001b[0m \u001b[0mself\u001b[0m\u001b[0;34m.\u001b[0m\u001b[0m_backend\u001b[0m\u001b[0;34m.\u001b[0m\u001b[0mapply_async\u001b[0m\u001b[0;34m(\u001b[0m\u001b[0mbatch\u001b[0m\u001b[0;34m,\u001b[0m \u001b[0mcallback\u001b[0m\u001b[0;34m=\u001b[0m\u001b[0mcb\u001b[0m\u001b[0;34m)\u001b[0m\u001b[0;34m\u001b[0m\u001b[0m\n\u001b[0m\u001b[1;32m    717\u001b[0m             \u001b[0;31m# A job can complete so quickly than its callback is\u001b[0m\u001b[0;34m\u001b[0m\u001b[0;34m\u001b[0m\u001b[0m\n\u001b[1;32m    718\u001b[0m             \u001b[0;31m# called before we get here, causing self._jobs to\u001b[0m\u001b[0;34m\u001b[0m\u001b[0;34m\u001b[0m\u001b[0m\n",
      "\u001b[0;32m~/anaconda3/envs/learn-env/lib/python3.6/site-packages/sklearn/externals/joblib/_parallel_backends.py\u001b[0m in \u001b[0;36mapply_async\u001b[0;34m(self, func, callback)\u001b[0m\n\u001b[1;32m    180\u001b[0m     \u001b[0;32mdef\u001b[0m \u001b[0mapply_async\u001b[0m\u001b[0;34m(\u001b[0m\u001b[0mself\u001b[0m\u001b[0;34m,\u001b[0m \u001b[0mfunc\u001b[0m\u001b[0;34m,\u001b[0m \u001b[0mcallback\u001b[0m\u001b[0;34m=\u001b[0m\u001b[0;32mNone\u001b[0m\u001b[0;34m)\u001b[0m\u001b[0;34m:\u001b[0m\u001b[0;34m\u001b[0m\u001b[0m\n\u001b[1;32m    181\u001b[0m         \u001b[0;34m\"\"\"Schedule a func to be run\"\"\"\u001b[0m\u001b[0;34m\u001b[0m\u001b[0m\n\u001b[0;32m--> 182\u001b[0;31m         \u001b[0mresult\u001b[0m \u001b[0;34m=\u001b[0m \u001b[0mImmediateResult\u001b[0m\u001b[0;34m(\u001b[0m\u001b[0mfunc\u001b[0m\u001b[0;34m)\u001b[0m\u001b[0;34m\u001b[0m\u001b[0m\n\u001b[0m\u001b[1;32m    183\u001b[0m         \u001b[0;32mif\u001b[0m \u001b[0mcallback\u001b[0m\u001b[0;34m:\u001b[0m\u001b[0;34m\u001b[0m\u001b[0m\n\u001b[1;32m    184\u001b[0m             \u001b[0mcallback\u001b[0m\u001b[0;34m(\u001b[0m\u001b[0mresult\u001b[0m\u001b[0;34m)\u001b[0m\u001b[0;34m\u001b[0m\u001b[0m\n",
      "\u001b[0;32m~/anaconda3/envs/learn-env/lib/python3.6/site-packages/sklearn/externals/joblib/_parallel_backends.py\u001b[0m in \u001b[0;36m__init__\u001b[0;34m(self, batch)\u001b[0m\n\u001b[1;32m    547\u001b[0m         \u001b[0;31m# Don't delay the application, to avoid keeping the input\u001b[0m\u001b[0;34m\u001b[0m\u001b[0;34m\u001b[0m\u001b[0m\n\u001b[1;32m    548\u001b[0m         \u001b[0;31m# arguments in memory\u001b[0m\u001b[0;34m\u001b[0m\u001b[0;34m\u001b[0m\u001b[0m\n\u001b[0;32m--> 549\u001b[0;31m         \u001b[0mself\u001b[0m\u001b[0;34m.\u001b[0m\u001b[0mresults\u001b[0m \u001b[0;34m=\u001b[0m \u001b[0mbatch\u001b[0m\u001b[0;34m(\u001b[0m\u001b[0;34m)\u001b[0m\u001b[0;34m\u001b[0m\u001b[0m\n\u001b[0m\u001b[1;32m    550\u001b[0m \u001b[0;34m\u001b[0m\u001b[0m\n\u001b[1;32m    551\u001b[0m     \u001b[0;32mdef\u001b[0m \u001b[0mget\u001b[0m\u001b[0;34m(\u001b[0m\u001b[0mself\u001b[0m\u001b[0;34m)\u001b[0m\u001b[0;34m:\u001b[0m\u001b[0;34m\u001b[0m\u001b[0m\n",
      "\u001b[0;32m~/anaconda3/envs/learn-env/lib/python3.6/site-packages/sklearn/externals/joblib/parallel.py\u001b[0m in \u001b[0;36m__call__\u001b[0;34m(self)\u001b[0m\n\u001b[1;32m    223\u001b[0m         \u001b[0;32mwith\u001b[0m \u001b[0mparallel_backend\u001b[0m\u001b[0;34m(\u001b[0m\u001b[0mself\u001b[0m\u001b[0;34m.\u001b[0m\u001b[0m_backend\u001b[0m\u001b[0;34m,\u001b[0m \u001b[0mn_jobs\u001b[0m\u001b[0;34m=\u001b[0m\u001b[0mself\u001b[0m\u001b[0;34m.\u001b[0m\u001b[0m_n_jobs\u001b[0m\u001b[0;34m)\u001b[0m\u001b[0;34m:\u001b[0m\u001b[0;34m\u001b[0m\u001b[0m\n\u001b[1;32m    224\u001b[0m             return [func(*args, **kwargs)\n\u001b[0;32m--> 225\u001b[0;31m                     for func, args, kwargs in self.items]\n\u001b[0m\u001b[1;32m    226\u001b[0m \u001b[0;34m\u001b[0m\u001b[0m\n\u001b[1;32m    227\u001b[0m     \u001b[0;32mdef\u001b[0m \u001b[0m__len__\u001b[0m\u001b[0;34m(\u001b[0m\u001b[0mself\u001b[0m\u001b[0;34m)\u001b[0m\u001b[0;34m:\u001b[0m\u001b[0;34m\u001b[0m\u001b[0m\n",
      "\u001b[0;32m~/anaconda3/envs/learn-env/lib/python3.6/site-packages/sklearn/externals/joblib/parallel.py\u001b[0m in \u001b[0;36m<listcomp>\u001b[0;34m(.0)\u001b[0m\n\u001b[1;32m    223\u001b[0m         \u001b[0;32mwith\u001b[0m \u001b[0mparallel_backend\u001b[0m\u001b[0;34m(\u001b[0m\u001b[0mself\u001b[0m\u001b[0;34m.\u001b[0m\u001b[0m_backend\u001b[0m\u001b[0;34m,\u001b[0m \u001b[0mn_jobs\u001b[0m\u001b[0;34m=\u001b[0m\u001b[0mself\u001b[0m\u001b[0;34m.\u001b[0m\u001b[0m_n_jobs\u001b[0m\u001b[0;34m)\u001b[0m\u001b[0;34m:\u001b[0m\u001b[0;34m\u001b[0m\u001b[0m\n\u001b[1;32m    224\u001b[0m             return [func(*args, **kwargs)\n\u001b[0;32m--> 225\u001b[0;31m                     for func, args, kwargs in self.items]\n\u001b[0m\u001b[1;32m    226\u001b[0m \u001b[0;34m\u001b[0m\u001b[0m\n\u001b[1;32m    227\u001b[0m     \u001b[0;32mdef\u001b[0m \u001b[0m__len__\u001b[0m\u001b[0;34m(\u001b[0m\u001b[0mself\u001b[0m\u001b[0;34m)\u001b[0m\u001b[0;34m:\u001b[0m\u001b[0;34m\u001b[0m\u001b[0m\n",
      "\u001b[0;32m~/anaconda3/envs/learn-env/lib/python3.6/site-packages/sklearn/model_selection/_validation.py\u001b[0m in \u001b[0;36m_fit_and_score\u001b[0;34m(estimator, X, y, scorer, train, test, verbose, parameters, fit_params, return_train_score, return_parameters, return_n_test_samples, return_times, return_estimator, error_score)\u001b[0m\n\u001b[1;32m    566\u001b[0m         \u001b[0mfit_time\u001b[0m \u001b[0;34m=\u001b[0m \u001b[0mtime\u001b[0m\u001b[0;34m.\u001b[0m\u001b[0mtime\u001b[0m\u001b[0;34m(\u001b[0m\u001b[0;34m)\u001b[0m \u001b[0;34m-\u001b[0m \u001b[0mstart_time\u001b[0m\u001b[0;34m\u001b[0m\u001b[0m\n\u001b[1;32m    567\u001b[0m         \u001b[0;31m# _score will return dict if is_multimetric is True\u001b[0m\u001b[0;34m\u001b[0m\u001b[0;34m\u001b[0m\u001b[0m\n\u001b[0;32m--> 568\u001b[0;31m         \u001b[0mtest_scores\u001b[0m \u001b[0;34m=\u001b[0m \u001b[0m_score\u001b[0m\u001b[0;34m(\u001b[0m\u001b[0mestimator\u001b[0m\u001b[0;34m,\u001b[0m \u001b[0mX_test\u001b[0m\u001b[0;34m,\u001b[0m \u001b[0my_test\u001b[0m\u001b[0;34m,\u001b[0m \u001b[0mscorer\u001b[0m\u001b[0;34m,\u001b[0m \u001b[0mis_multimetric\u001b[0m\u001b[0;34m)\u001b[0m\u001b[0;34m\u001b[0m\u001b[0m\n\u001b[0m\u001b[1;32m    569\u001b[0m         \u001b[0mscore_time\u001b[0m \u001b[0;34m=\u001b[0m \u001b[0mtime\u001b[0m\u001b[0;34m.\u001b[0m\u001b[0mtime\u001b[0m\u001b[0;34m(\u001b[0m\u001b[0;34m)\u001b[0m \u001b[0;34m-\u001b[0m \u001b[0mstart_time\u001b[0m \u001b[0;34m-\u001b[0m \u001b[0mfit_time\u001b[0m\u001b[0;34m\u001b[0m\u001b[0m\n\u001b[1;32m    570\u001b[0m         \u001b[0;32mif\u001b[0m \u001b[0mreturn_train_score\u001b[0m\u001b[0;34m:\u001b[0m\u001b[0;34m\u001b[0m\u001b[0m\n",
      "\u001b[0;32m~/anaconda3/envs/learn-env/lib/python3.6/site-packages/sklearn/model_selection/_validation.py\u001b[0m in \u001b[0;36m_score\u001b[0;34m(estimator, X_test, y_test, scorer, is_multimetric)\u001b[0m\n\u001b[1;32m    603\u001b[0m     \"\"\"\n\u001b[1;32m    604\u001b[0m     \u001b[0;32mif\u001b[0m \u001b[0mis_multimetric\u001b[0m\u001b[0;34m:\u001b[0m\u001b[0;34m\u001b[0m\u001b[0m\n\u001b[0;32m--> 605\u001b[0;31m         \u001b[0;32mreturn\u001b[0m \u001b[0m_multimetric_score\u001b[0m\u001b[0;34m(\u001b[0m\u001b[0mestimator\u001b[0m\u001b[0;34m,\u001b[0m \u001b[0mX_test\u001b[0m\u001b[0;34m,\u001b[0m \u001b[0my_test\u001b[0m\u001b[0;34m,\u001b[0m \u001b[0mscorer\u001b[0m\u001b[0;34m)\u001b[0m\u001b[0;34m\u001b[0m\u001b[0m\n\u001b[0m\u001b[1;32m    606\u001b[0m     \u001b[0;32melse\u001b[0m\u001b[0;34m:\u001b[0m\u001b[0;34m\u001b[0m\u001b[0m\n\u001b[1;32m    607\u001b[0m         \u001b[0;32mif\u001b[0m \u001b[0my_test\u001b[0m \u001b[0;32mis\u001b[0m \u001b[0;32mNone\u001b[0m\u001b[0;34m:\u001b[0m\u001b[0;34m\u001b[0m\u001b[0m\n",
      "\u001b[0;32m~/anaconda3/envs/learn-env/lib/python3.6/site-packages/sklearn/model_selection/_validation.py\u001b[0m in \u001b[0;36m_multimetric_score\u001b[0;34m(estimator, X_test, y_test, scorers)\u001b[0m\n\u001b[1;32m    633\u001b[0m             \u001b[0mscore\u001b[0m \u001b[0;34m=\u001b[0m \u001b[0mscorer\u001b[0m\u001b[0;34m(\u001b[0m\u001b[0mestimator\u001b[0m\u001b[0;34m,\u001b[0m \u001b[0mX_test\u001b[0m\u001b[0;34m)\u001b[0m\u001b[0;34m\u001b[0m\u001b[0m\n\u001b[1;32m    634\u001b[0m         \u001b[0;32melse\u001b[0m\u001b[0;34m:\u001b[0m\u001b[0;34m\u001b[0m\u001b[0m\n\u001b[0;32m--> 635\u001b[0;31m             \u001b[0mscore\u001b[0m \u001b[0;34m=\u001b[0m \u001b[0mscorer\u001b[0m\u001b[0;34m(\u001b[0m\u001b[0mestimator\u001b[0m\u001b[0;34m,\u001b[0m \u001b[0mX_test\u001b[0m\u001b[0;34m,\u001b[0m \u001b[0my_test\u001b[0m\u001b[0;34m)\u001b[0m\u001b[0;34m\u001b[0m\u001b[0m\n\u001b[0m\u001b[1;32m    636\u001b[0m \u001b[0;34m\u001b[0m\u001b[0m\n\u001b[1;32m    637\u001b[0m         \u001b[0;32mif\u001b[0m \u001b[0mhasattr\u001b[0m\u001b[0;34m(\u001b[0m\u001b[0mscore\u001b[0m\u001b[0;34m,\u001b[0m \u001b[0;34m'item'\u001b[0m\u001b[0;34m)\u001b[0m\u001b[0;34m:\u001b[0m\u001b[0;34m\u001b[0m\u001b[0m\n",
      "\u001b[0;32m~/anaconda3/envs/learn-env/lib/python3.6/site-packages/sklearn/metrics/scorer.py\u001b[0m in \u001b[0;36m__call__\u001b[0;34m(self, estimator, X, y_true, sample_weight)\u001b[0m\n\u001b[1;32m     89\u001b[0m         \"\"\"\n\u001b[1;32m     90\u001b[0m \u001b[0;34m\u001b[0m\u001b[0m\n\u001b[0;32m---> 91\u001b[0;31m         \u001b[0my_pred\u001b[0m \u001b[0;34m=\u001b[0m \u001b[0mestimator\u001b[0m\u001b[0;34m.\u001b[0m\u001b[0mpredict\u001b[0m\u001b[0;34m(\u001b[0m\u001b[0mX\u001b[0m\u001b[0;34m)\u001b[0m\u001b[0;34m\u001b[0m\u001b[0m\n\u001b[0m\u001b[1;32m     92\u001b[0m         \u001b[0;32mif\u001b[0m \u001b[0msample_weight\u001b[0m \u001b[0;32mis\u001b[0m \u001b[0;32mnot\u001b[0m \u001b[0;32mNone\u001b[0m\u001b[0;34m:\u001b[0m\u001b[0;34m\u001b[0m\u001b[0m\n\u001b[1;32m     93\u001b[0m             return self._sign * self._score_func(y_true, y_pred,\n",
      "\u001b[0;32m~/anaconda3/envs/learn-env/lib/python3.6/site-packages/sklearn/svm/base.py\u001b[0m in \u001b[0;36mpredict\u001b[0;34m(self, X)\u001b[0m\n\u001b[1;32m    574\u001b[0m             \u001b[0mClass\u001b[0m \u001b[0mlabels\u001b[0m \u001b[0;32mfor\u001b[0m \u001b[0msamples\u001b[0m \u001b[0;32min\u001b[0m \u001b[0mX\u001b[0m\u001b[0;34m.\u001b[0m\u001b[0;34m\u001b[0m\u001b[0m\n\u001b[1;32m    575\u001b[0m         \"\"\"\n\u001b[0;32m--> 576\u001b[0;31m         \u001b[0my\u001b[0m \u001b[0;34m=\u001b[0m \u001b[0msuper\u001b[0m\u001b[0;34m(\u001b[0m\u001b[0mBaseSVC\u001b[0m\u001b[0;34m,\u001b[0m \u001b[0mself\u001b[0m\u001b[0;34m)\u001b[0m\u001b[0;34m.\u001b[0m\u001b[0mpredict\u001b[0m\u001b[0;34m(\u001b[0m\u001b[0mX\u001b[0m\u001b[0;34m)\u001b[0m\u001b[0;34m\u001b[0m\u001b[0m\n\u001b[0m\u001b[1;32m    577\u001b[0m         \u001b[0;32mreturn\u001b[0m \u001b[0mself\u001b[0m\u001b[0;34m.\u001b[0m\u001b[0mclasses_\u001b[0m\u001b[0;34m.\u001b[0m\u001b[0mtake\u001b[0m\u001b[0;34m(\u001b[0m\u001b[0mnp\u001b[0m\u001b[0;34m.\u001b[0m\u001b[0masarray\u001b[0m\u001b[0;34m(\u001b[0m\u001b[0my\u001b[0m\u001b[0;34m,\u001b[0m \u001b[0mdtype\u001b[0m\u001b[0;34m=\u001b[0m\u001b[0mnp\u001b[0m\u001b[0;34m.\u001b[0m\u001b[0mintp\u001b[0m\u001b[0;34m)\u001b[0m\u001b[0;34m)\u001b[0m\u001b[0;34m\u001b[0m\u001b[0m\n\u001b[1;32m    578\u001b[0m \u001b[0;34m\u001b[0m\u001b[0m\n",
      "\u001b[0;32m~/anaconda3/envs/learn-env/lib/python3.6/site-packages/sklearn/svm/base.py\u001b[0m in \u001b[0;36mpredict\u001b[0;34m(self, X)\u001b[0m\n\u001b[1;32m    325\u001b[0m         \u001b[0mX\u001b[0m \u001b[0;34m=\u001b[0m \u001b[0mself\u001b[0m\u001b[0;34m.\u001b[0m\u001b[0m_validate_for_predict\u001b[0m\u001b[0;34m(\u001b[0m\u001b[0mX\u001b[0m\u001b[0;34m)\u001b[0m\u001b[0;34m\u001b[0m\u001b[0m\n\u001b[1;32m    326\u001b[0m         \u001b[0mpredict\u001b[0m \u001b[0;34m=\u001b[0m \u001b[0mself\u001b[0m\u001b[0;34m.\u001b[0m\u001b[0m_sparse_predict\u001b[0m \u001b[0;32mif\u001b[0m \u001b[0mself\u001b[0m\u001b[0;34m.\u001b[0m\u001b[0m_sparse\u001b[0m \u001b[0;32melse\u001b[0m \u001b[0mself\u001b[0m\u001b[0;34m.\u001b[0m\u001b[0m_dense_predict\u001b[0m\u001b[0;34m\u001b[0m\u001b[0m\n\u001b[0;32m--> 327\u001b[0;31m         \u001b[0;32mreturn\u001b[0m \u001b[0mpredict\u001b[0m\u001b[0;34m(\u001b[0m\u001b[0mX\u001b[0m\u001b[0;34m)\u001b[0m\u001b[0;34m\u001b[0m\u001b[0m\n\u001b[0m\u001b[1;32m    328\u001b[0m \u001b[0;34m\u001b[0m\u001b[0m\n\u001b[1;32m    329\u001b[0m     \u001b[0;32mdef\u001b[0m \u001b[0m_dense_predict\u001b[0m\u001b[0;34m(\u001b[0m\u001b[0mself\u001b[0m\u001b[0;34m,\u001b[0m \u001b[0mX\u001b[0m\u001b[0;34m)\u001b[0m\u001b[0;34m:\u001b[0m\u001b[0;34m\u001b[0m\u001b[0m\n",
      "\u001b[0;32m~/anaconda3/envs/learn-env/lib/python3.6/site-packages/sklearn/svm/base.py\u001b[0m in \u001b[0;36m_dense_predict\u001b[0;34m(self, X)\u001b[0m\n\u001b[1;32m    348\u001b[0m             \u001b[0mself\u001b[0m\u001b[0;34m.\u001b[0m\u001b[0mprobA_\u001b[0m\u001b[0;34m,\u001b[0m \u001b[0mself\u001b[0m\u001b[0;34m.\u001b[0m\u001b[0mprobB_\u001b[0m\u001b[0;34m,\u001b[0m \u001b[0msvm_type\u001b[0m\u001b[0;34m=\u001b[0m\u001b[0msvm_type\u001b[0m\u001b[0;34m,\u001b[0m \u001b[0mkernel\u001b[0m\u001b[0;34m=\u001b[0m\u001b[0mkernel\u001b[0m\u001b[0;34m,\u001b[0m\u001b[0;34m\u001b[0m\u001b[0m\n\u001b[1;32m    349\u001b[0m             \u001b[0mdegree\u001b[0m\u001b[0;34m=\u001b[0m\u001b[0mself\u001b[0m\u001b[0;34m.\u001b[0m\u001b[0mdegree\u001b[0m\u001b[0;34m,\u001b[0m \u001b[0mcoef0\u001b[0m\u001b[0;34m=\u001b[0m\u001b[0mself\u001b[0m\u001b[0;34m.\u001b[0m\u001b[0mcoef0\u001b[0m\u001b[0;34m,\u001b[0m \u001b[0mgamma\u001b[0m\u001b[0;34m=\u001b[0m\u001b[0mself\u001b[0m\u001b[0;34m.\u001b[0m\u001b[0m_gamma\u001b[0m\u001b[0;34m,\u001b[0m\u001b[0;34m\u001b[0m\u001b[0m\n\u001b[0;32m--> 350\u001b[0;31m             cache_size=self.cache_size)\n\u001b[0m\u001b[1;32m    351\u001b[0m \u001b[0;34m\u001b[0m\u001b[0m\n\u001b[1;32m    352\u001b[0m     \u001b[0;32mdef\u001b[0m \u001b[0m_sparse_predict\u001b[0m\u001b[0;34m(\u001b[0m\u001b[0mself\u001b[0m\u001b[0;34m,\u001b[0m \u001b[0mX\u001b[0m\u001b[0;34m)\u001b[0m\u001b[0;34m:\u001b[0m\u001b[0;34m\u001b[0m\u001b[0m\n",
      "\u001b[0;31mKeyboardInterrupt\u001b[0m: "
     ]
    }
   ],
   "source": [
    "params = {'gamma': [0.1, 1.0, 100.0],\n",
    "          'C': [0.1, 1.0, 10.0]}\n",
    "\n",
    "grid_svc = GridSearchCV(svc, params, cv=3, scoring='accuracy')\n",
    "grid_svc.fit(X_train, y_train)\n",
    "\n",
    "\n",
    "print('Best score:', grid_svc.best_score_)\n",
    "print('Best params:', grid_svc.best_params_)"
   ]
  },
  {
   "cell_type": "code",
   "execution_count": 0,
   "metadata": {
    "colab": {},
    "colab_type": "code",
    "id": "UZB30SSrqkh-"
   },
   "outputs": [],
   "source": [
    "y_pred = grid_svc.predict(X_train)\n",
    "print_metrics(y_train, y_pred)"
   ]
  },
  {
   "cell_type": "code",
   "execution_count": 0,
   "metadata": {
    "colab": {},
    "colab_type": "code",
    "id": "qs3wIhxbqkh_"
   },
   "outputs": [],
   "source": [
    "grid_svc.score(X_val, y_val)"
   ]
  },
  {
   "cell_type": "markdown",
   "metadata": {
    "colab_type": "text",
    "id": "dkzbS7ltqkiB"
   },
   "source": [
    "### Evaluating the best Support Vector classifier"
   ]
  },
  {
   "cell_type": "code",
   "execution_count": 0,
   "metadata": {
    "colab": {},
    "colab_type": "code",
    "id": "mY1XD3KgqkiC"
   },
   "outputs": [],
   "source": [
    "# Build the optimized model\n",
    "# svc_best = SVC() # insert best params\n",
    "# svc_best.fit(X_train, y_train)"
   ]
  },
  {
   "cell_type": "code",
   "execution_count": 0,
   "metadata": {
    "colab": {},
    "colab_type": "code",
    "id": "AZA-UeZXqkiD"
   },
   "outputs": [],
   "source": [
    "# View metrics for the optimized model\n",
    "# y_pred = svc_best.predict(X_train)\n",
    "# print_metrics(y_train, y_pred)"
   ]
  },
  {
   "cell_type": "code",
   "execution_count": 0,
   "metadata": {
    "colab": {},
    "colab_type": "code",
    "id": "LXKg_Xv9qkiE"
   },
   "outputs": [],
   "source": [
    "# Score the model on the validation set\n",
    "# svc_best.score(X_val_trans, y_val)"
   ]
  },
  {
   "cell_type": "code",
   "execution_count": 0,
   "metadata": {
    "colab": {},
    "colab_type": "code",
    "id": "zREibo0LqkiG"
   },
   "outputs": [],
   "source": [
    "# View full metrics for the validation set\n",
    "# y_val_pred = svc_best.predict(X_val_trans)\n",
    "# print_metrics(y_val, y_val_pred)"
   ]
  },
  {
   "cell_type": "code",
   "execution_count": 0,
   "metadata": {
    "colab": {},
    "colab_type": "code",
    "id": "N_gHaZ5qqkiH"
   },
   "outputs": [],
   "source": [
    "# Find AUC and plot ROC curve\n",
    "# y_score_xg = svc_best.fit(X_train, y_train).decision_function(X_test)\n",
    "\n",
    "# roc_it(y_test, y_score_xg)"
   ]
  },
  {
   "cell_type": "markdown",
   "metadata": {
    "colab_type": "text",
    "id": "N71gTQx_qkiM"
   },
   "source": [
    "# With SMOTE"
   ]
  },
  {
   "cell_type": "code",
   "execution_count": 0,
   "metadata": {
    "ExecuteTime": {
     "end_time": "2019-11-20T00:14:17.108500Z",
     "start_time": "2019-11-20T00:14:16.839138Z"
    },
    "colab": {},
    "colab_type": "code",
    "id": "-_DjrssCqkiN"
   },
   "outputs": [],
   "source": [
    "# Use SMOTE to oversample the minority class\n",
    "from imblearn.over_sampling import SMOTE\n",
    "\n",
    "cover_4 = df[df.Cover_Type == 4]\n",
    "sample_up = pd.concat([sample, cover_4], axis=0, ignore_index=True)\n",
    "\n",
    "y_up = sample_up['Cover_Type']\n",
    "X_up = sample_up.drop('Cover_Type', axis=1)\n",
    "\n",
    "smote = SMOTE(random_state=1)\n",
    "X_res, y_res = smote.fit_resample(X_up, y_up)\n"
   ]
  },
  {
   "cell_type": "code",
   "execution_count": 0,
   "metadata": {
    "ExecuteTime": {
     "end_time": "2019-11-20T00:14:18.739683Z",
     "start_time": "2019-11-20T00:14:18.710990Z"
    },
    "colab": {},
    "colab_type": "code",
    "id": "qmtakS7GqkiO",
    "outputId": "249bbc63-f6f7-4b51-eb09-03d7fd801fe4"
   },
   "outputs": [
    {
     "data": {
      "text/plain": [
       "Counter({1: 9493, 2: 9493, 3: 9493, 5: 9493, 6: 9493, 7: 9493, 4: 9493})"
      ]
     },
     "execution_count": 54,
     "metadata": {
      "tags": []
     },
     "output_type": "execute_result"
    }
   ],
   "source": [
    "from collections import Counter\n",
    "Counter(y_res)"
   ]
  },
  {
   "cell_type": "code",
   "execution_count": 0,
   "metadata": {
    "ExecuteTime": {
     "end_time": "2019-11-20T00:21:12.641582Z",
     "start_time": "2019-11-20T00:17:14.125148Z"
    },
    "colab": {},
    "colab_type": "code",
    "id": "x5oPOwfaqkiQ",
    "outputId": "9ce30c61-b59e-4f51-be3c-3a58dd2a1c33"
   },
   "outputs": [
    {
     "data": {
      "text/plain": [
       "RandomForestClassifier(bootstrap=True, class_weight=None, criterion='gini',\n",
       "            max_depth=10, max_features=40, max_leaf_nodes=None,\n",
       "            min_impurity_decrease=0.0, min_impurity_split=None,\n",
       "            min_samples_leaf=1, min_samples_split=2,\n",
       "            min_weight_fraction_leaf=0.0, n_estimators=150, n_jobs=None,\n",
       "            oob_score=False, random_state=None, verbose=0,\n",
       "            warm_start=False)"
      ]
     },
     "execution_count": 56,
     "metadata": {
      "tags": []
     },
     "output_type": "execute_result"
    }
   ],
   "source": [
    "X_res_trans = pca.transform(X_res)\n",
    "\n",
    "X_train, X_test, y_train, y_test = train_test_split(X_res_trans, y_res, \n",
    "                                                    test_size=0.2,\n",
    "                                                    random_state=2)\n",
    "X_val, X_test, y_val, y_test = train_test_split(X_test, y_test,\n",
    "                                                test_size=0.5,\n",
    "                                                random_state=2)\n",
    "\n",
    "forest_best = RandomForestClassifier(max_depth=10, max_features=40, \n",
    "                                 n_estimators=150)\n",
    "forest_best.fit(X_train, y_train)"
   ]
  },
  {
   "cell_type": "code",
   "execution_count": 0,
   "metadata": {
    "ExecuteTime": {
     "end_time": "2019-11-20T00:23:48.340734Z",
     "start_time": "2019-11-20T00:23:46.888589Z"
    },
    "colab": {},
    "colab_type": "code",
    "id": "fe6RGblVqkiR",
    "outputId": "c81724b8-9c7d-470e-ae40-c81406b5fb65",
    "scrolled": false
   },
   "outputs": [
    {
     "name": "stdout",
     "output_type": "stream",
     "text": [
      "Training accuracy: 0.8557562076749435\n",
      "-------\n",
      "Confusion matrix:\n",
      "[[5435  831    9    0  293   15  981]\n",
      " [1168 4946  266    3  942  229  106]\n",
      " [   0   54 6114  376  116  868    0]\n",
      " [   0    0  119 7435    0   75    0]\n",
      " [   0   47  112    0 7365   67    0]\n",
      " [   0   29  416  262  138 6732    0]\n",
      " [ 133    9    0    0    4    0 7465]]\n",
      "-------\n",
      "Classification report:\n",
      "              precision    recall  f1-score   support\n",
      "\n",
      "           1       0.81      0.72      0.76      7564\n",
      "           2       0.84      0.65      0.73      7660\n",
      "           3       0.87      0.81      0.84      7528\n",
      "           4       0.92      0.97      0.95      7629\n",
      "           5       0.83      0.97      0.90      7591\n",
      "           6       0.84      0.89      0.87      7577\n",
      "           7       0.87      0.98      0.92      7611\n",
      "\n",
      "   micro avg       0.86      0.86      0.86     53160\n",
      "   macro avg       0.85      0.86      0.85     53160\n",
      "weighted avg       0.85      0.86      0.85     53160\n",
      "\n"
     ]
    }
   ],
   "source": [
    "y_pred = forest_best.predict(X_train)\n",
    "\n",
    "print_metrics(y_train, y_pred)"
   ]
  },
  {
   "cell_type": "code",
   "execution_count": 0,
   "metadata": {
    "ExecuteTime": {
     "end_time": "2019-11-20T00:24:08.757817Z",
     "start_time": "2019-11-20T00:24:08.561602Z"
    },
    "colab": {},
    "colab_type": "code",
    "id": "4MRZBixHqkiS",
    "outputId": "ade74704-efa1-4252-d49b-bc516226bd0f"
   },
   "outputs": [
    {
     "data": {
      "text/plain": [
       "0.8209179834462002"
      ]
     },
     "execution_count": 58,
     "metadata": {
      "tags": []
     },
     "output_type": "execute_result"
    }
   ],
   "source": [
    "forest_best.score(X_val, y_val)"
   ]
  },
  {
   "cell_type": "code",
   "execution_count": 0,
   "metadata": {
    "colab": {},
    "colab_type": "code",
    "id": "Fnb5M81oqkiU"
   },
   "outputs": [],
   "source": []
  },
  {
   "cell_type": "code",
   "execution_count": 0,
   "metadata": {
    "colab": {},
    "colab_type": "code",
    "id": "47hv1_90qkiV"
   },
   "outputs": [],
   "source": []
  },
  {
   "cell_type": "code",
   "execution_count": 0,
   "metadata": {
    "colab": {},
    "colab_type": "code",
    "id": "Hebxq-mhqkiX"
   },
   "outputs": [],
   "source": []
  },
  {
   "cell_type": "markdown",
   "metadata": {
    "colab_type": "text",
    "id": "cDot5z_tqkiY"
   },
   "source": [
    "# Interpretations and recommendations"
   ]
  },
  {
   "cell_type": "code",
   "execution_count": 0,
   "metadata": {
    "colab": {},
    "colab_type": "code",
    "id": "XjBaJwSFqkiZ"
   },
   "outputs": [],
   "source": []
  }
 ],
 "metadata": {
  "accelerator": "GPU",
  "colab": {
   "name": "trees.ipynb",
   "provenance": [],
   "toc_visible": true
  },
  "kernelspec": {
   "display_name": "Python 3",
   "language": "python",
   "name": "python3"
  },
  "language_info": {
   "codemirror_mode": {
    "name": "ipython",
    "version": 3
   },
   "file_extension": ".py",
   "mimetype": "text/x-python",
   "name": "python",
   "nbconvert_exporter": "python",
   "pygments_lexer": "ipython3",
   "version": "3.6.6"
  },
  "toc": {
   "base_numbering": 1,
   "nav_menu": {},
   "number_sections": true,
   "sideBar": true,
   "skip_h1_title": false,
   "title_cell": "Table of Contents",
   "title_sidebar": "Contents",
   "toc_cell": false,
   "toc_position": {},
   "toc_section_display": true,
   "toc_window_display": true
  }
 },
 "nbformat": 4,
 "nbformat_minor": 1
}
